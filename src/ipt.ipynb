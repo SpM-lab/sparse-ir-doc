{
 "cells": [
  {
   "cell_type": "code",
   "execution_count": null,
   "metadata": {},
   "outputs": [],
   "source": [
    "using OMEinsum\n",
    "using FastGaussQuadrature\n",
    "using SparseIR\n",
    "using LaTeXStrings\n",
    "using Plots"
   ]
  },
  {
   "cell_type": "markdown",
   "metadata": {},
   "source": [
    "### Non-interacting DOS"
   ]
  },
  {
   "cell_type": "code",
   "execution_count": null,
   "metadata": {},
   "outputs": [],
   "source": [
    "\"\"\"\n",
    "Compute spectral function rho(omega)\n",
    "\"\"\"\n",
    "function rho_omega(omega::Vector{Float64})\n",
    "    return sqrt.(4 .- omega.^2) ./ (2*pi)\n",
    "end\n",
    "\n",
    "num_omega = 100\n",
    "omegas = collect(range(-2, 2, length=num_omega))\n",
    "rho = rho_omega(omegas)\n",
    "p = plot(xlabel=\"\\$\\\\omega\\$\", ylabel = \"\\$\\\\rho(\\\\omega)\\$\", size=(400,300))\n",
    "plot!(omegas, rho, label=nothing)"
   ]
  },
  {
   "cell_type": "code",
   "execution_count": null,
   "metadata": {},
   "outputs": [],
   "source": [
    "\"\"\"\n",
    "Scale weights and node of quadrature to the interval [xmin, xmax]\n",
    "\"\"\"\n",
    "function scale_quad(x::Vector{Float64}, w::Vector{Float64}, xmin::Float64, xmax::Float64)\n",
    "    @assert xmin < xmax\n",
    "    dx = xmax - xmin\n",
    "    w_ = 0.5 * dx * w\n",
    "    x_ = (0.5 * dx) * (x .+ 1) .+ xmin\n",
    "    return x_, w_\n",
    "end"
   ]
  },
  {
   "cell_type": "code",
   "execution_count": null,
   "metadata": {},
   "outputs": [],
   "source": [
    "struct IPTSolver\n",
    "    U::Float64\n",
    "    basis::FiniteTempBasis{LogisticKernel{Float64}, Float64}\n",
    "    beta::Float64\n",
    "    rho_omega::Function\n",
    "    omega_range::Tuple{Float64,Float64}\n",
    "    quad_rule::Tuple{Vector{Float64}, Vector{Float64}}\n",
    "    smpl_matsu::MatsubaraSampling{Int64, FiniteTempBasis{LogisticKernel{Float64}, Float64}, ComplexF64, Float64}\n",
    "    smpl_tau::TauSampling{Float64, FiniteTempBasis{LogisticKernel{Float64}, Float64}, Float64, Float64}\n",
    "\n",
    "    function IPTSolver(U::Float64, basis, rho::Function,\n",
    "        omega_range::Tuple{Float64,Float64}, deg_leggaus::Int64=100)\n",
    "\n",
    "        @assert omega_range[1] < omega_range[2]\n",
    "        x_, w_ = gausslegendre(deg_leggaus)\n",
    "        quad_omega, quad_weight = scale_quad(x_, w_, omega_range[1], omega_range[2])\n",
    "        quad_rule = scale_quad(x_, w_, omega_range[1], omega_range[2])\n",
    "        smpl_matsu = MatsubaraSampling(basis)\n",
    "        smpl_tau = TauSampling(basis)\n",
    "\n",
    "        new(\n",
    "            U::Float64,\n",
    "            basis::FiniteTempBasis{LogisticKernel{Float64}, Float64},\n",
    "            SparseIR.getbeta(basis)::Float64,\n",
    "            rho_omega::Function,\n",
    "            omega_range::Tuple{Float64,Float64},\n",
    "            quad_rule::Tuple{Vector{Float64}, Vector{Float64}},\n",
    "            smpl_matsu::MatsubaraSampling{Int64, FiniteTempBasis{LogisticKernel{Float64}, Float64}, ComplexF64, Float64},\n",
    "            smpl_tau::TauSampling{Float64, FiniteTempBasis{LogisticKernel{Float64}, Float64}, Float64, Float64}\n",
    "        )\n",
    "    end\n",
    "end"
   ]
  },
  {
   "cell_type": "code",
   "execution_count": null,
   "metadata": {},
   "outputs": [],
   "source": [
    "\"\"\"\n",
    "Compute G_loc(iv) from Sigma_iv\n",
    "G_loc(iv) \\\\simeq \\\\sum_q w_q rho(x_q)/(iv - w_q - \\\\Sigma(iv))\n",
    "\"\"\"\n",
    "function compute_gloc_iv(solver::IPTSolver, sigma_iv::Vector{Complex{Float64}})\n",
    "    iv = 1im .* solver.smpl_matsu.sampling_points .* π / solver.beta\n",
    "    newaxis = [CartesianIndex()]\n",
    "    gloc_iv = ein\"q,q,wq->w\"(\n",
    "            solver.quad_rule[2],\n",
    "            solver.rho_omega(solver.quad_rule[1]),\n",
    "            1 ./ ((iv .- sigma_iv)[:, newaxis] .- solver.quad_rule[1][newaxis, :])\n",
    "        )\n",
    "    return gloc_iv\n",
    "end\n"
   ]
  },
  {
   "cell_type": "code",
   "execution_count": null,
   "metadata": {},
   "outputs": [],
   "source": [
    "\"\"\" Compute mathcal{G}(g0) \"\"\"\n",
    "function compute_g0_iv(gloc_iv::Vector{ComplexF64}, sigma_iv::Vector{Complex{Float64}}) \n",
    "    g0_iv = 1 ./ ((1 ./gloc_iv) .+ sigma_iv) \n",
    "    return g0_iv\n",
    "end\n"
   ]
  },
  {
   "cell_type": "code",
   "execution_count": null,
   "metadata": {},
   "outputs": [],
   "source": [
    "\"\"\" Compute IPT Sigma(iv) from mathcal{G}(iv)\"\"\"\n",
    "function compute_sigma_iv(solver::IPTSolver, g0_iv::Vector{ComplexF64})\n",
    "    g0_IR = fit(solver.smpl_matsu, g0_iv, dim=1)\n",
    "    g0_tau = evaluate(solver.smpl_tau, g0_IR)\n",
    "    sigma_tau = (solver.U)^2 .* (g0_tau).^2 .* g0_tau[end:-1:1]\n",
    "    sigma_IR = fit(solver.smpl_tau, sigma_tau)\n",
    "    return evaluate(solver.smpl_matsu, sigma_IR, dim=1)\n",
    "end"
   ]
  },
  {
   "cell_type": "code",
   "execution_count": null,
   "metadata": {},
   "outputs": [],
   "source": [
    "\"\"\" Compute new self-energy \"\"\"\n",
    "function make_new_sigma_iv(solver::IPTSolver, sigma_iv::Vector{Complex{Float64}})\n",
    "    gloc_iv = compute_gloc_iv(solver, sigma_iv)\n",
    "    g0_iv = compute_g0_iv(gloc_iv, sigma_iv)\n",
    "    return compute_sigma_iv(solver, g0_iv)\n",
    "end"
   ]
  },
  {
   "cell_type": "code",
   "execution_count": null,
   "metadata": {},
   "outputs": [],
   "source": [
    "function normalize_factor(solver::IPTSolver, sigma_history, nitr::Int, mixing::Float64)\n",
    "    \"\"\"\n",
    "    \n",
    "    \"\"\"\n",
    "    # initialize sigma_iv\n",
    "    if length(sigma_history) == 0\n",
    "        sigma_iv = zeros(ComplexF64,length(solver.smpl_matsu.sampling_points))\n",
    "    else \n",
    "        sigma_iv = sigma_history[end]\n",
    "    end\n",
    "   \n",
    "    # mixing sigma_iv with new_sigma_iv\n",
    "    for i in 1:nitr\n",
    "        new_sigma_iv = make_new_sigma_iv(solver,sigma_iv)\n",
    "        rdiff = maximum(abs.(new_sigma_iv .- sigma_iv)) / maximum(abs.(sigma_iv))\n",
    "        if rdiff < 1e-5\n",
    "            break\n",
    "        end\n",
    "        sigma_iv = mixing .* new_sigma_iv .+ (1-mixing) .* sigma_iv\n",
    "    end\n",
    "\n",
    "    center = Int(length(sigma_iv)/2) + 1 # julia \n",
    "    delta_sigma_iv = imag(sigma_iv[center]-sigma_iv[center-1])\n",
    "    delta_sampling_points = solver.smpl_matsu.sampling_points[center] - solver.smpl_matsu.sampling_points[center-1] \n",
    "    inv_z = 1 - delta_sigma_iv/delta_sampling_points\n",
    "\n",
    "    return 1/inv_z, sigma_iv\n",
    "end\n"
   ]
  },
  {
   "cell_type": "markdown",
   "metadata": {},
   "source": [
    "\n",
    "$$\n",
    "z = \\frac{1}{1-\\frac{\\partial \\Sigma}{\\partial \\omega}}\n",
    "$$\n",
    "Because a self-energy $\\Sigma$ contains an effect of an on-site interaction $U$, then $z$ meets\n",
    "$$\n",
    "z\\approx1 \\ (U\\ll1).\n",
    "$$"
   ]
  },
  {
   "cell_type": "code",
   "execution_count": null,
   "metadata": {},
   "outputs": [],
   "source": [
    "\n",
    "function exec(basis::FiniteTempBasis{LogisticKernel{Float64}, Float64}, D::Float64, U_range::Vector{Float64}, rho_omega::Function, omega_range::Tuple{Float64, Float64}, nitr::Int, mixing::Float64)\n",
    "    \"\"\"\n",
    "    \n",
    "    \"\"\"\n",
    "    Z = []\n",
    "    sigma_history = []\n",
    "    for iu in U_range\n",
    "        solver = IPTSolver(iu, basis, rho_omega, omega_range)\n",
    "        z, sigma_ = normalize_factor(solver, sigma_history, nitr, mixing) \n",
    "        push!(sigma_history, sigma_)\n",
    "        if abs(z) > 1e-10\n",
    "            push!(Z, z)\n",
    "        else \n",
    "            break\n",
    "        end\n",
    "    end\n",
    "\n",
    "    return Z, sigma_history\n",
    "end"
   ]
  },
  {
   "cell_type": "code",
   "execution_count": null,
   "metadata": {},
   "outputs": [],
   "source": [
    "#making basis\n",
    "D = 2.0\n",
    "temp = 0.1 / D\n",
    "beta = 1 / temp\n",
    "wmax = 10.0 * D\n",
    "lambda = beta * wmax\n",
    "eps = 1e-7\n",
    "wmax = lambda / beta\n",
    "basis = FiniteTempBasis(fermion, beta, wmax, eps)\n",
    "\n",
    "# perform exec\n",
    "num_U = 20\n",
    "U_min = 5 / D\n",
    "U_max = 6.5 / D\n",
    "U_range = 2 .* collect(range(U_min, U_max, num_U))\n",
    "omega_range = (-2.0, 2.0)\n",
    "nitr = 1000\n",
    "mixing = 0.1\n",
    "Z, sigma_history = exec(basis, D, U_range, rho_omega, omega_range, nitr, mixing);"
   ]
  },
  {
   "cell_type": "markdown",
   "metadata": {},
   "source": []
  },
  {
   "cell_type": "code",
   "execution_count": null,
   "metadata": {},
   "outputs": [],
   "source": [
    "Z"
   ]
  },
  {
   "cell_type": "code",
   "execution_count": null,
   "metadata": {},
   "outputs": [],
   "source": [
    "p = plot(xlabel=\"\\$U\\$\", ylabel = \"\\$z=(1-\\\\frac{\\\\partial \\\\Sigma}{\\\\partial \\\\omega})^{-1}\\$\",\n",
    "        title=latexstring(\"T=0.05\"), size=(400,300))\n",
    "plot!(U_range, Z, marker=:circle, label=nothing)\n"
   ]
  },
  {
   "cell_type": "code",
   "execution_count": null,
   "metadata": {},
   "outputs": [],
   "source": []
  }
 ],
 "metadata": {
  "kernelspec": {
   "display_name": "Julia 1.7.2",
   "language": "julia",
   "name": "julia-1.7"
  },
  "language_info": {
   "file_extension": ".jl",
   "mimetype": "application/julia",
   "name": "julia",
   "version": "1.7.2"
  },
  "orig_nbformat": 4
 },
 "nbformat": 4,
 "nbformat_minor": 2
}
