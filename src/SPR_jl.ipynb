{
 "cells": [
  {
   "cell_type": "markdown",
   "id": "3869259a",
   "metadata": {},
   "source": [
    "# Sparse-pole representation\n",
    "\n",
    "## Theory\n",
    "\n",
    "We explain how to transform expansion coefficients in IR to sparse-pole representation (SPR) [1,2].\n",
    "We model the spectral function as\n",
    "\n",
    "$$\n",
    "    \\rho(\\omega) = \\sum_{p=1}^L c_p \\delta(\\omega - \\bar{\\omega}_p),\n",
    "$$\n",
    "\n",
    "where sampling frequencies $\\{\\bar{\\omega}_1, \\cdots, \\bar{\\omega}_{L}\\}$ are chosen to the extrema of $V'_{L-1}(\\omega)$.\n",
    "This choice is heuristic but allows us a numerically stable transform between $\\rho_l$ and $c_p$ through the relation\n",
    "\n",
    "$$\n",
    "\\rho_l = \\sum_{p=1}^L \\boldsymbol{V}_{lp} c_p,\n",
    "$$\n",
    "\n",
    "where the matrix $\\boldsymbol{V}_{lp}~[\\equiv V_l(\\bar{\\omega}_p)]$ is well-conditioned.\n",
    "Notet that Discrete Lehmann Representation (DLR) [3] choose poles in a more systematic way.\n",
    "As a result, in SPR, the Green's function is represented as\n",
    "\n",
    "$$\n",
    "G(\\mathrm{i}\\omega_n) = \\sum_{p=1}^L \\frac{c_p}{\\mathrm{i}\\omega_n - \\bar{\\omega}_p}.\n",
    "$$\n",
    "\n",
    "[1] H. Shinaoka and Y. Nagai, Phys. Rev. B 103, 045120 (2021).<br>\n",
    "[2] H. Shinaoka et al., arXiv:2106.12685v2.<br>\n",
    "[3] J. Kaye, K. Chen, O. Parcollet, arXiv:2107.13094v2.<br>"
   ]
  },
  {
   "cell_type": "markdown",
   "id": "88cba742",
   "metadata": {},
   "source": [
    "We consider the semi circular DOS\n",
    "\n",
    "$$\n",
    "\\rho(\\omega) = \\sqrt{\\frac{2}{\\pi}} \\sqrt{1-\\omega^2}.\n",
    "$$\n",
    "\n",
    "The corresponding Green's function is given by\n",
    "\n",
    "$$\n",
    "G(\\mathrm{i}\\omega_n) = \\int_{-1}^1 \\mathrm{d}\\omega \\frac{\\rho(\\omega)}{\\mathrm{i}\\omega_n - \\omega}.\n",
    "$$\n",
    "\n",
    "The Green's function is expanded in IR as\n",
    "\n",
    "$$\n",
    "G_l = - S_l \\int_{-1}^1 \\mathrm{d}\\omega \\rho(\\omega) V_l(\\omega).\n",
    "$$\n",
    "\n",
    "Below, we demonstrate how to transform $G_l$ to the SPR coefficients $c_p$."
   ]
  },
  {
   "cell_type": "code",
   "execution_count": null,
   "id": "45814343",
   "metadata": {},
   "outputs": [],
   "source": [
    "using SparseIR\n",
    "using Plots\n",
    "gr() # USE GR backend\n",
    "#using OMEinsum\n",
    "using LaTeXStrings"
   ]
  },
  {
   "cell_type": "markdown",
   "id": "3f57a1b1",
   "metadata": {},
   "source": [
    "## Implementation\n",
    "\n",
    "### Create basis object"
   ]
  },
  {
   "cell_type": "code",
   "execution_count": null,
   "id": "c9bd2899",
   "metadata": {},
   "outputs": [],
   "source": [
    "wmax = 1.0\n",
    "lambda_ = 1e+4\n",
    "beta = lambda_/wmax\n",
    "\n",
    "basis = FiniteTempBasis(fermion, beta, wmax, 1e-15)\n",
    "print(length(basis))"
   ]
  },
  {
   "cell_type": "markdown",
   "id": "73b2b6d0",
   "metadata": {},
   "source": [
    "### Setup model"
   ]
  },
  {
   "cell_type": "code",
   "execution_count": null,
   "id": "cf1fd106",
   "metadata": {},
   "outputs": [],
   "source": [
    "rho(omega) = sqrt(1-omega^2)/sqrt(0.5*π)\n",
    "\n",
    "omega = LinRange(-wmax, wmax, 1000)\n",
    "plot(omega, rho.(omega), xlabel=latexstring(\"\\\\omega\"), ylabel=latexstring(\"\\\\rho(\\\\omega)\"))"
   ]
  },
  {
   "cell_type": "code",
   "execution_count": null,
   "id": "e6470803",
   "metadata": {},
   "outputs": [],
   "source": [
    "rhol = overlap(basis.v, rho)\n",
    "ls = collect(1:length(basis))\n",
    "plot(ls[1:2:end], abs.(rhol)[1:2:end], marker=:cross, yaxis=:log, ylims=(1e-5,1))"
   ]
  },
  {
   "cell_type": "code",
   "execution_count": null,
   "id": "0ab3dca0",
   "metadata": {},
   "outputs": [],
   "source": [
    "gl = - basis.s .* rhol\n",
    "plot(ls[1:2:end], abs.(gl)[1:2:end], marker=:cross, ylims=(1e-5,10), yaxis=:log)"
   ]
  },
  {
   "cell_type": "markdown",
   "id": "ff588443",
   "metadata": {},
   "source": [
    "### Create a SPR object and perform transformation"
   ]
  },
  {
   "cell_type": "code",
   "execution_count": null,
   "id": "d1952211",
   "metadata": {},
   "outputs": [],
   "source": [
    "spr = SparsePoleRepresentation(basis)\n",
    "\n",
    "# To SPR\n",
    "g_spr = from_IR(spr, gl)\n",
    "\n",
    "plot(spr.poles, g_spr, marker=:cross)"
   ]
  },
  {
   "cell_type": "code",
   "execution_count": null,
   "id": "7d574c0b",
   "metadata": {},
   "outputs": [],
   "source": [
    "# Transform back to IR from SPR\n",
    "gl_reconst = to_IR(spr, g_spr)\n",
    "\n",
    "plot(\n",
    "    [abs.(gl), abs.(gl_reconst), abs.(gl-gl_reconst)],\n",
    "    label=[\"Exact\" \"Reconstructed from SPR\" \"error\"],\n",
    "    marker=[:cross :x :circle], line=(nothing,nothing,nothing), yaxis=:log,\n",
    "    ylims=(1e-18,10)\n",
    ")"
   ]
  },
  {
   "cell_type": "markdown",
   "id": "341e26bc",
   "metadata": {},
   "source": [
    "### Evaluation on Matsubara frequencies"
   ]
  },
  {
   "cell_type": "code",
   "execution_count": null,
   "id": "cc51f4c9",
   "metadata": {},
   "outputs": [],
   "source": [
    "v = 2 .* collect(-1000:10:1000) .+ 1\n",
    "iv = (im * (π/beta)) .* v\n",
    "\n",
    "newaxis = [CartesianIndex()]\n",
    "transmat = 1 ./ (iv[:,newaxis] .- spr.poles[newaxis,:])\n",
    "giv = transmat * g_spr\n",
    "\n",
    "smpl = MatsubaraSampling(basis, v)\n",
    "giv_exact = evaluate(smpl, gl)\n",
    "\n",
    "plot(\n",
    "    imag.(iv), [imag.(giv_exact), imag.(giv)], marker=[:cross :x], line=(nothing,nothing),\n",
    "    xlabel=latexstring(\"\\\\nu\"),\n",
    "    ylabel=latexstring(\"G(\\\\mathrm{i}\\\\omega_n)\")\n",
    "    )"
   ]
  }
 ],
 "metadata": {
  "kernelspec": {
   "display_name": "Julia 1.7.2",
   "language": "julia",
   "name": "julia-1.7"
  }
 },
 "nbformat": 4,
 "nbformat_minor": 5
}
