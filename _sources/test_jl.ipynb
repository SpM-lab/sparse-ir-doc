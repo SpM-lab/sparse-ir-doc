{
 "cells": [
  {
   "cell_type": "code",
   "execution_count": 1,
   "id": "587b28c5",
   "metadata": {},
   "outputs": [
    {
     "name": "stdout",
     "output_type": "stream",
     "text": [
      "A\n"
     ]
    }
   ],
   "source": [
    "println(\"A\")"
   ]
  },
  {
   "cell_type": "code",
   "execution_count": null,
   "id": "b7d5a1fc",
   "metadata": {},
   "outputs": [],
   "source": []
  }
 ],
 "metadata": {
  "jupytext": {
   "formats": "ipynb,md:myst",
   "text_representation": {
    "extension": ".md",
    "format_name": "myst",
    "format_version": 0.13,
    "jupytext_version": "1.13.7"
   }
  },
  "kernelspec": {
   "display_name": "Julia 1.7.2",
   "language": "julia",
   "name": "julia-1.7"
  },
  "language_info": {
   "file_extension": ".jl",
   "mimetype": "application/julia",
   "name": "julia",
   "version": "1.7.2"
  },
  "source_map": [
   15,
   19
  ]
 },
 "nbformat": 4,
 "nbformat_minor": 5
}