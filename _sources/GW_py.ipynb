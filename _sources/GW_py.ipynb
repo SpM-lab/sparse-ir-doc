{
 "cells": [
  {
   "cell_type": "markdown",
   "id": "cultural-despite",
   "metadata": {},
   "source": [
    "# GW approximation"
   ]
  },
  {
   "cell_type": "markdown",
   "id": "instructional-version",
   "metadata": {},
   "source": [
    "## Single Particle Green's function\n",
    "------------------------"
   ]
  },
  {
   "cell_type": "markdown",
   "id": "silent-battle",
   "metadata": {},
   "source": [
    "In order to give a short introduction into Green's functions in the context of many-body physics and in particular the GW approximation we will take a look at the single particle Green's function. It offers a relatively easy to understand solution for problems similar to the one we will deal with within the GW approximation and is thus very helpful in understanding the concept and idea behind such approximations. \n",
    "\n",
    "Starting off with a standard problem of quantum mechanics, the propagation of a single particle, the time-dependant Schrödinger's Equation gives the well-known formula for a particles wave function.\n",
    "\n",
    "$$[i\\partial_t-\\mathcal{H}_0(r)-V(r)]\\Psi(r,t)=0  $$  \n",
    "\n",
    "It is now possible to define two (Green’s) functions, to which the following applies. \n",
    "\n",
    "$$\\mathcal{H}_0(r)G_0(r,r’;t,t’)=\\delta(r-r’)\\delta(t-t’)$$<br>\n",
    "$$[i\\partial_t-\\mathcal{H}_0(r)-V(r)]G_0(r,r';t,t')=\\delta(r-r')\\delta(t-t')$$\n",
    "\n",
    "As we will see soon this will allow to obtain a solution for both a non-interacting particle ($G_0$) and a particle of some pertubation V, which is interacting with the system ($G$). Taking this further and making use of the inverse of the Green’s functions the solution for $\\Psi$ can easily found to be \n",
    "\n",
    "$$\\Psi(r,t)=\\Psi^0(r,t)+\\int dr' \\int dt' G(r,r';t,t')V(r')\\Psi^0(r',t')$$\n",
    "\n",
    "for the full (interacting) Green's function and \n",
    "\n",
    "$$\\Psi(r,t)=\\Psi^0(r,t)+\\int dr' \\int dt' G_0(r,r';t,t')V(r')\\Psi^0(r',t')$$\n",
    "\n",
    "for a non-interacting particle. \n",
    "\n",
    "After iterating this solution for the wave function, it will lead to the so-called Dyson Equation with which we can write the full Green’s function $G$ as<br>\n",
    "\n",
    "$$G=G_0 +G_0VG $$\n",
    "\n",
    "[<sup id=\"fn1-back\">1</sup>](#fn1).The Dyson Equation will be used later on to connect the Green's function with the self-energy $\\Sigma$.\n",
    "\n",
    "If we interpret the Green’s function as a propagator of the wave function $\\Psi$, which is rather intuitiv since \n",
    "\n",
    "$$\\Psi(r,t)=\\int dr' G(r,r',t,t')\\Psi(r',t')=\\int dr' \\langle r|e^{-i\\mathcal{H}}(t-t')|r\\rangle \\langle r'|\\Psi| r \\rangle$$\n",
    "\n",
    "We can define a function:\n",
    "\n",
    "$$G(r,r',t-t’)= -i\\theta (t-t')\\langle r |e^ {-iH(t-t')} |r'\\rangle$$\n",
    "\n",
    "$G(r,r‘,t-t‘)$, often called retarded Green’s function[<sup id=\"fn2-back\">2</sup>](#fn2), is nothing else than the probability amplitude for a particle to enter state r at a time t if it was injected into the system in the state r’ at time t’. This becomes even more evident if we take notice of the fact that in the Dyson equation we are basically calculating $G$ as the sum of all possible paths a particle can take in the system with $G_0$ as a non-interacting propagator and $V$ as a scattering event of some sort.[1][3]\n",
    "\n",
    "\n",
    "There are of course higher order Green's functions to describe multi-particle-processes, these however will not be further explained as it would go beyond the scope.\n",
    " \n",
    "[<sup id=\"fn1\">1</sup>](#fn1-back) The solution is being obtained from $G=G_0 + G_0VG_0+ G_0VG_0VG_0+...=G_0 + G_0V(G_0+G_0VG)$.\n",
    "\n",
    "[<sup id=\"fn2\">2</sup>](#fn2-back)There is also a so-called advanced Green's function with $-i\\theta(t'-t)$, which is used to describe the propagation of a quasiparticle or hole."
   ]
  },
  {
   "cell_type": "markdown",
   "id": "verified-kentucky",
   "metadata": {},
   "source": [
    "## Matsubara Green's function\n",
    "------------------------"
   ]
  },
  {
   "cell_type": "markdown",
   "id": "aquatic-peeing",
   "metadata": {},
   "source": [
    "We now introduce a Green’s function with imaginary arguments in time and frequency. This has no physical meaning but is merely a mathematical trick and makes calculations easier (to give another example of this: in Minsowski spacetime we take advantage of a similiar substitution)\n",
    "\n",
    "The so called Matsubara Green's functions are defined as followed: \n",
    "\n",
    "$$G_{ij}(\\tau-\\tau')=-\\langle T_\\tau [c_i(\\tau){c}_j(\\tau')]\\rangle$$\n",
    "\n",
    "Here $\\tau$ represents a imaginary time unit $it$, while $c_i$ and $c_j$ are the annihilation and creation operators.[<sup id=\"fn3-back\">3</sup>](#fn3) With \n",
    "\n",
    "$$T_\\tau [c_i(\\tau)c_j(\\tau')]= \\theta(\\tau-\\tau')c_i(\\tau)c_j(\\tau')\\pm\\theta(\\tau'-\\tau)c_j(\\tau')c_i(\\tau)\n",
    "\\begin{cases}\n",
    "+ \\space for\\space bosons\\\\\n",
    "- \\space for\\space fermions\\\\\n",
    "\\end {cases}$$\n",
    "\n",
    "the operators are arranged according to the course of events, which is why $T$ is often being refered to as the time ordering symbol in imaginary time. To be more precise: the left operator represents the later in time (Note that $T$ is differently defined for fermions and bosons). Similarly to what the single particle Green's function represents $G_{ij}(\\tau-\\tau')$ describes an probability amplitude to find a particle in the state $i$ at the time $\\tau$ if it was in a state $j$ at time $\\tau'$, at least for $\\tau>\\tau'$. If $\\tau'>\\tau$ applies we are again looking at the propagation of a quasi-particle (hole). \n",
    "\n",
    "Taking a look at the Fourier Transformation of $G_{ij}(\\tau)$ (with $\\tau \\in [-\\beta,\\beta]$) it can be said that \n",
    "\n",
    "$$G_{ij}(i\\omega_n)=\\frac{1}{2}\\int_{-\\beta}^{\\beta} d\\tau  e^{i\\omega_n\\tau} G_{ij}(\\tau)$$\n",
    "\n",
    "and\n",
    "\n",
    "$$G_{ij}(\\tau) = \\frac{1}{\\beta}\\sum_{n=-\\infty}^\\infty e^{-i\\omega_n\\tau}G_{ij}(i\\omega_n).$$ \n",
    "\n",
    "As we can simplify this by separating the integral of $G_{ij}(i\\omega_n)$ and making use of the fact that $n$ is odd or even depending on $(1\\pm e^{-i\\pi n})$ being $0$ or $2$, we can write \n",
    "\n",
    "$$G_{ij}(i\\omega_n)=\\int_0^{\\beta} d\\tau e^{i\\omega_n\\tau}G_{ij}(\\tau)\\space\\space\n",
    "\\begin{cases}\n",
    "\\omega_n = \\frac{2\\pi n}{\\beta}\\space    for\\space fermions \\\\\n",
    "\\omega_n =\\frac{(2n+1)\\pi}{\\beta}\\space  for\\space bosons\n",
    "\\end{cases}$$\n",
    "\n",
    "Since the functions $G_{ij}$ are referred to as Matsubara Green's functions, the discrete frequencies $\\omega_n$ are called Matsubara frequencies. Because these frequencies contain $\\beta$, which is essentially $\\frac{1}{k_BT}$, information about the temperature is preserved.\n",
    "            \n",
    "The importance of the Matsubara Green's function in the context of many-body systems lies within its relation to the 'ordinary' retarded Green's function: If we imagine the complex plane, there exists a complex Green's function $G(z)$ whose imaginary part on the imaginary axis equals $G_{ij}(i\\omega_n)$ (Matsubara Green's function) and whose real part equals a function $G_{ij}(\\omega)$. As can be proven by the use of Lehmann's representation that function $G_{ij}(\\omega)$ happens to be the retarded Green's function for the system. This makes it possible to compute $G_{ij}(i\\omega_n)$ if the retarded Green's function is known and vice versa. That as well as analytic continuation allows us to state:\n",
    "\n",
    "$$G_{ij}^R(\\omega)=G_{ij}(i\\omega_n\\to\\omega+i0^{+})$$\n",
    "\n",
    "(for this $G_{ij}(z)$ has to be reduced to a rational function and be analytic, otherwise it will yield wrong results). An analog identity is true for the advanced Green's function.[1][2][3]\n",
    "\n",
    "[<sup id=\"fn3\">3</sup>](#fn3-back) $\\langle A\\rangle$ is the grand-canonical expectation value \n",
    "$$\\langle A\\rangle=\\frac{1}{Z}T_r(e^{-\\beta\\mathcal{H}})$$"
   ]
  },
  {
   "cell_type": "markdown",
   "id": "advanced-conversion",
   "metadata": {},
   "source": [
    "Singular Value Expansion\n",
    "------------------------"
   ]
  },
  {
   "cell_type": "markdown",
   "id": "affecting-intro",
   "metadata": {},
   "source": [
    "Let us now take a closer look at $G_{ij}(i\\omega_n)$. We can write our Matsubara Green's function as\n",
    "\n",
    "$$\\hat{G}^\\alpha (i\\omega)=\\int_0^{\\beta} d\\tau e^{i\\omega_n\\tau}G(\\tau)= \\int_0^\\beta d\\tau e^{i\\omega_n\\tau} \\langle T c_i(\\tau)c_j(0)\\rangle .$$\n",
    "\n",
    "$\\alpha$ denotes whether we are working with fermionic (F) or bosonic statistics (B). Another equivalent way of expressing $G_{ij}(i\\omega_n)$ is through the sprectral Lehmann representation:\n",
    "\n",
    "$$\\hat{G}(i\\omega) = \\int_{-\\omega_{max}}^{\\omega_{max}} d\\omega'\\underbrace{ \\frac{\\omega'^{\\delta_{\\alpha,B}}}{i\\omega-\\omega'}}_{K^{\\alpha}(i\\omega,\\omega')} \\rho^\\alpha (\\omega')$$\n",
    "\n",
    "Here $\\rho^\\alpha(\\omega')$ represents the associated spectral density function in the real frequency domain $\\omega_i \\in [-\\omega_{max},\\omega_{max}]$ (we recall that these are connected to the imaginary frequencies $i\\omega_n$ by analytic continuation). $\\omega'^{\\delta_{\\alpha,B}}$ evaluates to $1$ or $\\omega'$, depending on $\\alpha=F$ or $\\alpha=B$.\n",
    "\n",
    "Because we are looking at an integral of the form $\\int G(s,t)f(t)dt=u(s)$ (a so called Fredholm integral equation of the first kind) it is possible to perform a singular value expansion (SVE), so that $K^\\alpha(i\\omega,\\omega')$ satisfies: \n",
    "\n",
    "<br>\n",
    "$$K^\\alpha(i\\omega,\\omega')=\\sum_{l=0}^\\infty \\hat{U}_l^\\alpha(i\\omega)S_l^\\alpha V(\\omega')=\\sum_{l=0}^{\\infty}\\hat{U}_l^\\alpha(\\tau)S_l^\\alpha V_l^\\alpha(\\omega')$$\n",
    "\n",
    "\n",
    "Here the representational form for both the imaginary-frequency and imaginary time domain can be seen.[1][4][7] In order to go further into detail we will construct that kernel $K$ (for both fermionic and bosonic statistics) using [sparse_ir](https://github.com/SpM-lab/sparse-ir) with the following conditions for our system:"
   ]
  },
  {
   "cell_type": "code",
   "execution_count": 1,
   "id": "tough-anthony",
   "metadata": {},
   "outputs": [],
   "source": [
    "import numpy as np\n",
    "import matplotlib.pyplot as pl\n",
    "import sparse_ir\n",
    "import sys \n",
    "import math"
   ]
  },
  {
   "cell_type": "code",
   "execution_count": 2,
   "id": "aware-secondary",
   "metadata": {},
   "outputs": [],
   "source": [
    "T=0.1\n",
    "wmax =1\n",
    "\n",
    "beta = 1/T"
   ]
  },
  {
   "cell_type": "code",
   "execution_count": 3,
   "id": "liberal-steering",
   "metadata": {},
   "outputs": [],
   "source": [
    "#Fermionic Basis\n",
    "\n",
    "basisf = sparse_ir.FiniteTempBasis('F', beta, wmax)\n",
    "\n",
    "matsf=sparse_ir.MatsubaraSampling(basisf)\n",
    "tausf=sparse_ir.TauSampling(basisf)"
   ]
  },
  {
   "cell_type": "markdown",
   "id": "capable-patch",
   "metadata": {},
   "source": [
    "Intermediate Representation\n",
    "------------------------"
   ]
  },
  {
   "cell_type": "markdown",
   "id": "naval-cabinet",
   "metadata": {},
   "source": [
    "We have now created a kernel $K^F(i\\omega,\\omega')$ with $U_l^F$ and $V_l^F$ as left and right singular functions and $S_l$ as the singular values (with $S_0>S_1>S_2>...>0$). The two  singular functions $U$ and $V$ make up the basis functions of the so-called Intermediate Representation (IR), which depends on $\\beta$ and the cutoff $\\omega_{max}$ as well as statistical properties (in this case fermionic properties $F$). Some of the information regarding real-frequency properties of the system is often lost during transition into the imaginary-time domain, so that the Matsubara Green's function does hold less information than the real-frequency Green's function. The reason for using IR lies within its compactness and ability to display that information in imaginary quantities.[5][7]\n",
    "\n",
    "Additionally we calculated the positions of our sampling points for imaginary frequencies and imaginary time."
   ]
  },
  {
   "cell_type": "markdown",
   "id": "empty-complex",
   "metadata": {},
   "source": [
    "The basis functions $V_l^F(\\omega')$  (the right singular functions) form an orthonomal set on the real frequency axis."
   ]
  },
  {
   "cell_type": "code",
   "execution_count": 4,
   "id": "handmade-protest",
   "metadata": {},
   "outputs": [
    {
     "data": {
      "text/plain": [
       "Text(0.5, 1.0, '$V_l^F(\\\\omega)$ over $\\\\omega$ for different l')"
      ]
     },
     "execution_count": 4,
     "metadata": {},
     "output_type": "execute_result"
    }
   ],
   "source": [
    "wlins= np.linspace(-wmax, +wmax, 101)\n",
    "pl.plot(wlins,basisf.v[0](wlins))\n",
    "pl.plot(wlins,basisf.v[1](wlins))\n",
    "pl.plot(wlins,basisf.v[18](wlins))\n",
    "pl.legend(['l=0','l=1','l=18'])\n",
    "pl.xlabel('$\\omega$')\n",
    "pl.ylabel('$V_l^F(\\omega)$')\n",
    "pl.ylim(-2,2)\n",
    "pl.title('$V_l^F(\\omega)$ over $\\omega$ for different l')"
   ]
  },
  {
   "cell_type": "markdown",
   "id": "modified-wealth",
   "metadata": {},
   "source": [
    "On the other side we have $U_l^F(i\\omega)$ which exists on the imaginary axis."
   ]
  },
  {
   "cell_type": "code",
   "execution_count": 5,
   "id": "coated-testimony",
   "metadata": {},
   "outputs": [
    {
     "name": "stdout",
     "output_type": "stream",
     "text": [
      "Matsubara frequencies : [-131 -125  -33  -17  -13  -11   -9   -7   -5   -3   -1    1    3    5\n",
      "    7    9   11   13   17   33  125  131]\n"
     ]
    },
    {
     "data": {
      "text/plain": [
       "Text(0, 0.5, '$\\\\omega_n$')"
      ]
     },
     "execution_count": 5,
     "metadata": {},
     "output_type": "execute_result"
    }
   ],
   "source": [
    "print('Matsubara frequencies :',matsf.wn)\n",
    "\n",
    "pl.plot(matsf.wn,'+')\n",
    "pl.title('Matsubara frequencies')\n",
    "pl.xlabel('n')\n",
    "pl.ylabel('$\\omega_n$')"
   ]
  },
  {
   "cell_type": "code",
   "execution_count": 6,
   "id": "normal-marriage",
   "metadata": {},
   "outputs": [
    {
     "data": {
      "text/plain": [
       "Text(0, 0.5, '$U_l^F(i\\\\omega_n)$')"
      ]
     },
     "execution_count": 6,
     "metadata": {},
     "output_type": "execute_result"
    }
   ],
   "source": [
    "pl.plot(matsf.wn,basisf.uhat[0](matsf.wn).imag)\n",
    "pl.plot(matsf.wn,basisf.uhat[1](matsf.wn).imag)\n",
    "pl.plot(matsf.wn,basisf.uhat[18](matsf.wn).imag)\n",
    "pl.legend(['l=0','l=1','l=18'])\n",
    "pl.title('Imaginary part of $U_l^F(i\\omega_n)$ over $i\\omega_n$ for different l')\n",
    "pl.xlabel('$\\omega_n$')\n",
    "pl.ylabel('$U_l^F(i\\omega_n)$')"
   ]
  },
  {
   "cell_type": "markdown",
   "id": "written-christianity",
   "metadata": {},
   "source": [
    "As we can express $K$ in both, the frequency and time domain, there is also a need for $U_l^F(\\tau)$ (this will be further explained below)"
   ]
  },
  {
   "cell_type": "code",
   "execution_count": 7,
   "id": "proved-bulletin",
   "metadata": {},
   "outputs": [
    {
     "name": "stdout",
     "output_type": "stream",
     "text": [
      "Sampling points in tau: [0.05182878 0.10365757 0.34534882 0.71903101 1.21612875 1.82453471\n",
      " 2.52838108 3.30803861 4.14046722 5.         5.85953278 6.69196139\n",
      " 7.47161892 8.17546529 8.78387125 9.28096899 9.65465118 9.89634243\n",
      " 9.94817122]\n"
     ]
    },
    {
     "data": {
      "text/plain": [
       "Text(0.5, 1.0, 'Sampling points in tau')"
      ]
     },
     "execution_count": 7,
     "metadata": {},
     "output_type": "execute_result"
    }
   ],
   "source": [
    "print('Sampling points in tau:', tausf.tau)\n",
    "pl.plot(tausf.tau,'x')\n",
    "pl.title('Sampling points in tau')"
   ]
  },
  {
   "cell_type": "code",
   "execution_count": 8,
   "id": "passing-piano",
   "metadata": {},
   "outputs": [
    {
     "data": {
      "text/plain": [
       "Text(0.5, 1.0, '$U_l^F(tau)$')"
      ]
     },
     "execution_count": 8,
     "metadata": {},
     "output_type": "execute_result"
    }
   ],
   "source": [
    "pl.plot(tausf.tau,basisf.u[0](tausf.tau))\n",
    "pl.plot(tausf.tau,basisf.u[1](tausf.tau))\n",
    "pl.plot(tausf.tau,basisf.u[18](tausf.tau))\n",
    "pl.legend(['l=0','l=1','l=18'])\n",
    "pl.title('$U_l^F(tau)$')"
   ]
  },
  {
   "cell_type": "markdown",
   "id": "russian-huntington",
   "metadata": {},
   "source": [
    "In order to perform the GW approximation the same objects as above are also needed with regards to bosonic statistics."
   ]
  },
  {
   "cell_type": "code",
   "execution_count": 9,
   "id": "eastern-heart",
   "metadata": {},
   "outputs": [],
   "source": [
    "#Bosonic Basis\n",
    "\n",
    "basisb = sparse_ir.FiniteTempBasis('B', beta, wmax)\n",
    "      \n",
    "matsb=sparse_ir.MatsubaraSampling(basisb)\n",
    "tausb=sparse_ir.TauSampling(basisb)"
   ]
  },
  {
   "cell_type": "markdown",
   "id": "cultural-valuable",
   "metadata": {},
   "source": [
    "Interpreting $\\hat G$ (with 'hat' denoting frequency representations) in terms of basis functions and expansion coefficients leads us to the following: \n",
    "\n",
    "Since $\\hat{G}^\\alpha(i\\omega)$ has taken the form \n",
    "\n",
    "$$\\hat G(i\\omega)=\\int K(i\\omega,\\omega')\\rho(\\omega')d\\omega'$$\n",
    "\n",
    "we can write\n",
    "\n",
    "$$\\hat G^\\alpha(i\\omega)=\\sum_{l=0}^{N-1} \\hat{U}_l^\\alpha(i\\omega_n^\\alpha)\\underbrace{S_l^\\alpha \\int V_l^\\alpha(\\omega')\\rho(\\omega')d\\omega'}_{G_l^\\alpha}=\\sum_{l=0}^{N-1} \\hat{U}^\\alpha_l(i\\omega_n^\\alpha)G_l^\\alpha$$.\n",
    "\n",
    "Here we can see that $\\hat{U}_l(i\\omega_n)$ act as imaginary frequency basis functions with $G_l$ as the expansion coefficients. We can fourier transform $\\hat{U}_l(i\\omega)$  into imaginary time functions $U_l(\\tau)$. These will simply be the basis functions of $G(\\tau)$ in the imaginary time domain \n",
    "\n",
    "$$G^\\alpha(\\tau)=\\sum_{l=0}^{N-1} U_l^\\alpha(\\bar\\tau_k^\\alpha) G_l^\\alpha$$\n",
    "\n",
    "This essentially means that once the IR expansion coefficients are known we are able to evaluate data at any frequency and time and can easily switch back and forth between the time and the frequency domain.[5]\n",
    "\n",
    "In the following code we will assume $\\rho(\\omega)$ to be of the form:\n",
    "\n",
    "$$\\rho(\\omega)=\\frac{2}{\\pi}*\\sqrt{1-\\omega^2}$$\n",
    "\n",
    "with\n",
    "\n",
    "$$\\rho_l^F=\\int_{-\\omega_max}^{\\omega_max}V_l^F(\\omega')\\rho(\\omega')$$"
   ]
  },
  {
   "cell_type": "code",
   "execution_count": 10,
   "id": "simple-dimension",
   "metadata": {},
   "outputs": [],
   "source": [
    "def rho(x):\n",
    "    return 2/np.pi*np.sqrt(1-x*x)\n",
    "\n",
    "rho_l=basisf.v.overlap(rho)\n",
    "#evaluate overlap \\int dx p(x) f(x) using piecewise Gauss-Legendre quadrature\n",
    "#p(x) are the polynomials\n",
    "    "
   ]
  },
  {
   "cell_type": "markdown",
   "id": "cardiovascular-rotation",
   "metadata": {},
   "source": [
    "Once $\\rho_l^F$ is known the expansion coefficients $G_l^F$ can be calculated using the singular values $S_l$.\n",
    "\n",
    "$$G_l^F=S_l^F\\rho_l^F $$"
   ]
  },
  {
   "cell_type": "code",
   "execution_count": 11,
   "id": "brave-pilot",
   "metadata": {},
   "outputs": [],
   "source": [
    "G_l_0=basisf.s*rho_l   "
   ]
  },
  {
   "cell_type": "code",
   "execution_count": 12,
   "id": "interstate-karaoke",
   "metadata": {},
   "outputs": [
    {
     "data": {
      "text/plain": [
       "Text(0.5, 0, 'l')"
      ]
     },
     "execution_count": 12,
     "metadata": {},
     "output_type": "execute_result"
    }
   ],
   "source": [
    "pl.semilogy(np.abs(basisf.s), ':')\n",
    "pl.semilogy(np.abs(rho_l), '+-')\n",
    "pl.semilogy(np.abs(G_l_0),'+-')\n",
    "pl.legend(['basis S','rho_l','G_l'])\n",
    "pl.title('Comparison of rho_l and $G_l$ over l')\n",
    "pl.xticks(range(0,20))\n",
    "pl.xlabel('l')"
   ]
  },
  {
   "cell_type": "markdown",
   "id": "unusual-garden",
   "metadata": {},
   "source": [
    "It can be seen that $G_l$ is getting smaller with growing $l$. This agrees with the fact that $S_{l=0}$ is the greatest singular value and $S_l$ gets smaller with growing $l$."
   ]
  },
  {
   "cell_type": "markdown",
   "id": "cultural-curtis",
   "metadata": {},
   "source": [
    "We will now build $\\hat G^F (i\\bar{\\omega}_n^F)$ using the expansion coefficients we just computed as well as the basis functions $\\hat U_l^F(i\\bar{\\omega}_n^F)$ (we are still working in the fermionic basis).[5][7]\n",
    "\n",
    "\n",
    "$$\\hat G(i\\bar{{\\omega}}_n^F)=\\sum_{l=0}^{N-1}G_l^F\\hat U_l^F(i{\\omega}_n^F)$$"
   ]
  },
  {
   "cell_type": "code",
   "execution_count": 13,
   "id": "moved-hawaiian",
   "metadata": {},
   "outputs": [],
   "source": [
    "#We compute G_iw two times as we will need G_iw_0 as a constant later on\n",
    "\n",
    "G_iw_0=np.einsum('lv,l->v',basisf.uhat(matsf.wn),G_l_0)\n",
    "G_iw_f=np.einsum('lv,l->v',basisf.uhat(matsf.wn),G_l_0)"
   ]
  },
  {
   "cell_type": "code",
   "execution_count": 14,
   "id": "inclusive-friendly",
   "metadata": {},
   "outputs": [
    {
     "data": {
      "text/plain": [
       "Text(0.5, 1.0, 'Real part of $G(i\\\\omega)$')"
      ]
     },
     "execution_count": 14,
     "metadata": {},
     "output_type": "execute_result"
    }
   ],
   "source": [
    "fig, ax = pl.subplots(1,2, figsize=(12,5))\n",
    "ax[0].plot(matsf.wn,G_iw_f.imag)\n",
    "ax[0].set_title('Imaginary part of $G(i\\omega)$')\n",
    "ax[1].plot(matsf.wn,G_iw_f.real)\n",
    "ax[1].set_title('Real part of $G(i\\omega)$')"
   ]
  },
  {
   "cell_type": "markdown",
   "id": "smooth-pepper",
   "metadata": {},
   "source": [
    "As stated above transforming the Green's function from $\\hat{G}$ into its time domain form  can be done rather easily. First we need to obtain $G_l$ by fitting it with e.g. the Least-Square method such that \n",
    "\n",
    "$$G_l^F=\\underset{G_l}{\\arg\\min}   \\sum_{i\\bar{\\omega}\\in W^F}|\\hat{G}(i\\bar{{\\omega}}_n^F)-\\sum_{l=0}^{N-1}\\hat{U}_l^F(i\\bar{\\omega}_n^F)G_l|^2$$\n",
    "\n",
    "However, as we already computed $\\hat G$ from the coefficients $G_l$, fitting is not really needed here but will be done for the sake of completeness.[5][7]"
   ]
  },
  {
   "cell_type": "code",
   "execution_count": 15,
   "id": "naval-tongue",
   "metadata": {},
   "outputs": [],
   "source": [
    "#Calculation of G_l_f using Least-Squares Fitting\n",
    "\n",
    "G_l_f=matsf.fit(G_iw_f)"
   ]
  },
  {
   "cell_type": "markdown",
   "id": "involved-restriction",
   "metadata": {},
   "source": [
    "For the final step evaluation of $G_l^F$ on the (fermionic) $\\tau$-sampling points is necessary.\n",
    "\n",
    "$$G(\\bar{\\tau}_k^F)= \\Sigma_{l=0}^{L-1}G_l^F U_l^F(\\bar{\\tau}_k^F)  $$"
   ]
  },
  {
   "cell_type": "code",
   "execution_count": 16,
   "id": "planned-estimate",
   "metadata": {},
   "outputs": [],
   "source": [
    "#G_tau,fermionic   \n",
    "\n",
    "G_tau_f=np.einsum('lt,l->t',basisf.u(tausf.tau),G_l_f)"
   ]
  },
  {
   "cell_type": "code",
   "execution_count": 17,
   "id": "endless-tucson",
   "metadata": {},
   "outputs": [
    {
     "data": {
      "text/plain": [
       "Text(0.5, 1.0, 'Real part of $G(tau)$')"
      ]
     },
     "execution_count": 17,
     "metadata": {},
     "output_type": "execute_result"
    }
   ],
   "source": [
    "fig, ax = pl.subplots(1,2, figsize=(12,5) )\n",
    "ax[1].plot(tausf.tau,G_tau_f.imag,'+-')\n",
    "ax[1].set_title('Imaginary part of $G(tau)$')\n",
    "ax[0].plot(tausf.tau,G_tau_f.real,'+-')\n",
    "ax[0].set_title('Real part of $G(tau)$')"
   ]
  },
  {
   "cell_type": "markdown",
   "id": "accepted-trainer",
   "metadata": {},
   "source": [
    "The GF2 & GW method\n",
    "-----------"
   ]
  },
  {
   "cell_type": "markdown",
   "id": "studied-airport",
   "metadata": {},
   "source": [
    "Above we have successfully derived $G^F(\\bar{\\tau}_k^F)$ from $\\hat {G}^F(i\\bar{\\omega}_n^F)$ by first obtaining the Green's function's basis representation $G_l^F$ and secondly evaluating $G_l^F$ on the $\\tau$-sampling points, which are given by the computations of sparse_ir. Here, the self-consistent second order Green's function theory (GF2) and the self-consistent GW methodare are based this very mechanism (and the so called Hedin equations).[5][7]\n",
    "\n",
    "The following image should give an overview on their iterative schemes[5]:\n",
    "\n",
    "<br>\n",
    "\n",
    "![GF2_GW_pic.PNG](attachment:GF2_GW_pic.PNG)"
   ]
  },
  {
   "cell_type": "markdown",
   "id": "fossil-snowboard",
   "metadata": {},
   "source": [
    "Evaluation and transformation in GW and GF2 is done in the same way (fitting and evaluating) for the quantities $G,P,W$ and $\\Sigma$. The transition between these quantities is given by the Hedin equations. There are five Hedin equations in total. Because the vertex function (between $P$ and $W$) is approximated as $\\Gamma=1$, we will only deal with four of them here.[9]"
   ]
  },
  {
   "cell_type": "markdown",
   "id": "expected-disclaimer",
   "metadata": {},
   "source": [
    "As we already have computed $G_l^F$, the next step in order to perform a full iteration of GF2 & GW is the evaluation of the basis representation $G_l^F$ on the $\\tau$-sampling points.  Contrary to before were we computed $G(\\bar{\\tau}_k^F)$, these sampling point will be the bosonic sampling points $\\tau_k^B$. This allows us to switch to bosonic statistic and thus be able to calculate associated quantities like the Polarization $P$.[5]\n",
    "\n",
    "$$G(\\bar{\\tau}_k^B)= \\sum_{l=0}^{L-1}G_l^F  U_l^F(\\bar{\\tau}_k^B)$$"
   ]
  },
  {
   "cell_type": "code",
   "execution_count": 18,
   "id": "unexpected-switzerland",
   "metadata": {},
   "outputs": [],
   "source": [
    "#G_tau, bosonic\n",
    "\n",
    "G_tau_b=np.einsum('lt,l->t',basisb.u(tausb.tau),G_l_f)"
   ]
  },
  {
   "cell_type": "code",
   "execution_count": 19,
   "id": "veterinary-timber",
   "metadata": {},
   "outputs": [
    {
     "data": {
      "text/plain": [
       "Text(0.5, 1.0, 'Real part of $G(tau)$')"
      ]
     },
     "execution_count": 19,
     "metadata": {},
     "output_type": "execute_result"
    }
   ],
   "source": [
    "fig, ax = pl.subplots(1,2, figsize=(12,5) )\n",
    "ax[1].plot(tausb.tau,G_tau_b.imag)\n",
    "ax[1].set_title('Imaginary part of $G(tau)$')\n",
    "ax[0].plot(tausb.tau,G_tau_b.real)\n",
    "ax[0].set_title('Real part of $G(tau)$')"
   ]
  },
  {
   "cell_type": "markdown",
   "id": "prospective-munich",
   "metadata": {},
   "source": [
    "The so-called Polarization $P(\\bar\\tau_k^B)$ is given by the random phase approximation, a connection between two Green's functions:\n",
    "\n",
    "$$P(\\bar{\\tau}_k^B)=G(\\bar{\\tau}_k^B)*G(\\beta-\\bar{\\tau}_k^B)$$"
   ]
  },
  {
   "cell_type": "code",
   "execution_count": 20,
   "id": "united-october",
   "metadata": {},
   "outputs": [],
   "source": [
    "#Polarisation P, bosonic\n",
    "\n",
    "P_tau_b=G_tau_b*(basisf.u(beta-tausb.tau).T@G_l_f)\n",
    "\n",
    "#(basisf.u(beta-tausb.tau).T@G_l_f) describes the evaluation on of G_l_f\n",
    "#on sampling points (beta-tausb.tau)"
   ]
  },
  {
   "cell_type": "code",
   "execution_count": 21,
   "id": "amber-intention",
   "metadata": {},
   "outputs": [
    {
     "data": {
      "text/plain": [
       "Text(0.5, 1.0, 'Real part of $P(tau)$')"
      ]
     },
     "execution_count": 21,
     "metadata": {},
     "output_type": "execute_result"
    }
   ],
   "source": [
    "fig, ax = pl.subplots(1,2, figsize=(12,5) )\n",
    "ax[1].plot(tausb.tau,P_tau_b.imag)\n",
    "ax[1].set_title('Imaginary part of $P(tau)')\n",
    "ax[0].plot(tausb.tau,P_tau_b.real)\n",
    "ax[0].set_title('Real part of $P(tau)$')"
   ]
  },
  {
   "cell_type": "markdown",
   "id": "connected-endorsement",
   "metadata": {},
   "source": [
    "The same way we transformed $\\hat G^F(i\\bar{\\omega}_n^F)$ into $G^B(\\bar\\tau_k^B)$ we are now able to transform $P^B(\\bar\\tau_k^B)$ into $\\hat P^B(i\\bar{\\omega}_n^B)$ again using least Square fitting and evaluating $P_l^B$ on the given sampling points (Matsubara frequencies)."
   ]
  },
  {
   "cell_type": "markdown",
   "id": "searching-fellow",
   "metadata": {},
   "source": [
    "$$P_l^B$$"
   ]
  },
  {
   "cell_type": "code",
   "execution_count": 22,
   "id": "engaging-attempt",
   "metadata": {},
   "outputs": [],
   "source": [
    "#P_l, bosonic\n",
    "\n",
    "P_l_b=tausb.fit(P_tau_b)"
   ]
  },
  {
   "cell_type": "code",
   "execution_count": 23,
   "id": "soviet-island",
   "metadata": {},
   "outputs": [
    {
     "data": {
      "text/plain": [
       "Text(0.5, 0, 'l')"
      ]
     },
     "execution_count": 23,
     "metadata": {},
     "output_type": "execute_result"
    }
   ],
   "source": [
    "pl.semilogy(np.abs(P_l_b),'+-')\n",
    "pl.title('$P_l^B$ over l ')\n",
    "pl.xticks(range(0,20))\n",
    "pl.xlabel('l')"
   ]
  },
  {
   "cell_type": "markdown",
   "id": "homeless-wichita",
   "metadata": {},
   "source": [
    "$$\\hat{P}(i\\bar{\\omega}_k^B)= \\sum_{l=0}^{N-1} P_l^BU_l^B(i\\bar{\\omega}_n^B)$$"
   ]
  },
  {
   "cell_type": "code",
   "execution_count": 24,
   "id": "stable-platinum",
   "metadata": {},
   "outputs": [],
   "source": [
    "#P_iw, bosonic\n",
    "\n",
    "P_iw_b=np.einsum('lv,l->v', basisb.uhat(matsb.wn),P_l_b)"
   ]
  },
  {
   "cell_type": "code",
   "execution_count": 25,
   "id": "veterinary-hundred",
   "metadata": {},
   "outputs": [
    {
     "data": {
      "text/plain": [
       "Text(0.5, 1.0, 'Real part of $P(i\\\\omega)$')"
      ]
     },
     "execution_count": 25,
     "metadata": {},
     "output_type": "execute_result"
    }
   ],
   "source": [
    "fig, ax = pl.subplots(1,2, figsize=(12,5) )\n",
    "ax[1].plot(matsb.wn,P_iw_b.imag)\n",
    "ax[1].set_title('Imaginary part of $P(i\\omega)$')\n",
    "ax[0].plot(matsb.wn,P_iw_b.real)\n",
    "ax[0].set_title('Real part of $P(i\\omega)$')"
   ]
  },
  {
   "cell_type": "markdown",
   "id": "abroad-component",
   "metadata": {},
   "source": [
    "Following $P$ we will now calculate the Screened Interaction $W$ with the following formula: \n",
    " \n",
    "$$\\hat{{W}}(i\\bar{\\omega}_n^B)= U + U\\hat{P}(i\\bar{\\omega}_n^B)\\hat{{W}}(i\\bar{\\omega}_n^B)$$\n",
    "\n",
    "or\n",
    "\n",
    "$$\\hat{{W}}(i\\bar{\\omega}_n^B)= \\frac{U}{1-U\\hat{P}(i\\bar{\\omega}_n^B)}$$\n",
    "\n",
    "This equation has the exact same form as the Dyson equation but instead of connecting the Green's functions and the self energy it connects the Screened Coulomb Interaction $W$ and the polarization operator $P$. Because $U$ is the bare Coulomb interaction and $P$ is an object containing all irreducible processes (meaning in Feynmann diagrams cutting an interaction line U does not result in two sides) $W$ can be understood as the sum of all possible Feymann diagrams with an interaction U between its two parts.[5][11] This becomes quite intuitive if we look at \n",
    "\n",
    "$$W= U + UPW= U+UP(U+UP(U+UP(...)))=U+UPU+...$$"
   ]
  },
  {
   "cell_type": "code",
   "execution_count": 26,
   "id": "adolescent-final",
   "metadata": {},
   "outputs": [],
   "source": [
    "#W_iw, bosonic  \n",
    "\n",
    "U=1/10\n",
    "\n",
    "W_iw_b_U=U/(1-(U*P_iw_b))\n",
    "\n",
    "W_iw_b=W_iw_b_U-U\n",
    "\n",
    "#W_iw_b is the part depending on the frequency, any further calculations \n",
    "#will be done using this and not W_iw_b_U"
   ]
  },
  {
   "cell_type": "code",
   "execution_count": 27,
   "id": "permanent-mainland",
   "metadata": {},
   "outputs": [
    {
     "data": {
      "text/plain": [
       "Text(0.5, 1.0, 'Real part of $W(i\\\\omega)$')"
      ]
     },
     "execution_count": 27,
     "metadata": {},
     "output_type": "execute_result"
    }
   ],
   "source": [
    "fig, ax = pl.subplots(1,2, figsize=(12,5) )\n",
    "ax[1].plot(matsb.wn,W_iw_b.imag)\n",
    "ax[1].set_title('Imaginary part of $W(i\\omega)$')\n",
    "ax[0].plot(matsb.wn,W_iw_b.real)\n",
    "ax[0].set_title('Real part of $W(i\\omega)$')"
   ]
  },
  {
   "cell_type": "markdown",
   "id": "retained-disclaimer",
   "metadata": {},
   "source": [
    "$$W_l^B$$"
   ]
  },
  {
   "cell_type": "code",
   "execution_count": 28,
   "id": "becoming-investment",
   "metadata": {},
   "outputs": [],
   "source": [
    "#W_l, bosonic\n",
    "\n",
    "W_l_b=matsb.fit(W_iw_b)"
   ]
  },
  {
   "cell_type": "code",
   "execution_count": 29,
   "id": "inside-tucson",
   "metadata": {},
   "outputs": [
    {
     "data": {
      "text/plain": [
       "Text(0.5, 0, 'l')"
      ]
     },
     "execution_count": 29,
     "metadata": {},
     "output_type": "execute_result"
    }
   ],
   "source": [
    "pl.semilogy(np.abs(W_l_b),'+-')\n",
    "pl.title('$W_l^B$ over l ')\n",
    "pl.xticks(range(0,20))\n",
    "pl.xlabel('l')"
   ]
  },
  {
   "cell_type": "markdown",
   "id": "combined-surgery",
   "metadata": {},
   "source": [
    "In the next step we are changing back into fermionic statistics: \n",
    "\n",
    "$${W}(\\bar{\\tau}_k^F)= \\sum_{l=0}^{N-1} W_l ^BU_l^B(\\bar{\\tau}_k^F) $$"
   ]
  },
  {
   "cell_type": "code",
   "execution_count": 30,
   "id": "utility-representation",
   "metadata": {},
   "outputs": [],
   "source": [
    "#W_tau_f, fermionic\n",
    "\n",
    "W_tau_f=np.einsum('lt,l->t',basisb.u(tausf.tau),W_l_b)"
   ]
  },
  {
   "cell_type": "code",
   "execution_count": 31,
   "id": "surgical-municipality",
   "metadata": {},
   "outputs": [
    {
     "data": {
      "text/plain": [
       "Text(0.5, 1.0, 'Imaginary part of $W(tau)$')"
      ]
     },
     "execution_count": 31,
     "metadata": {},
     "output_type": "execute_result"
    }
   ],
   "source": [
    "fig, ax = pl.subplots(1,2, figsize=(12,5) )\n",
    "ax[1].plot(tausf.tau,W_tau_f.imag)\n",
    "ax[1].set_title('Real part of $W(tau)$')\n",
    "ax[0].plot(tausf.tau,W_tau_f.real)\n",
    "ax[0].set_title('Imaginary part of $W(tau)$')"
   ]
  },
  {
   "cell_type": "markdown",
   "id": "identical-edition",
   "metadata": {},
   "source": [
    "After changing back into fermionic statistics the next quantity that is being dealt with is the so-called self energy $\\Sigma$. When we first introduced the Dyson equation in the first chapter, we saw $V$ as some sort of pertubation. The self-energy is very much alike as it describes the correlation effects of a many-body system. Here we will calculate $\\tilde{\\Sigma}(\\bar{\\tau}_k^F)$ using $\\Sigma^{GW}$ so that\n",
    "\n",
    "$${\\Sigma}(\\bar{\\tau}_k^F)=-G(\\bar{\\tau}_k^F)*{W}(\\bar{\\tau}_k^F).$$\n",
    "\n",
    "This can again be rewritten into its equivalent form\n",
    "\n",
    "$$\\Sigma=-G(U+UP(U+UP(...)))= -(GU+GUPU+GUPUPU+...)$$"
   ]
  },
  {
   "cell_type": "code",
   "execution_count": 32,
   "id": "forbidden-veteran",
   "metadata": {},
   "outputs": [],
   "source": [
    "#E_tau , fermionic   \n",
    "\n",
    "E_tau_f=G_tau_f*W_tau_f"
   ]
  },
  {
   "cell_type": "code",
   "execution_count": 33,
   "id": "spiritual-measurement",
   "metadata": {},
   "outputs": [
    {
     "data": {
      "text/plain": [
       "Text(0.5, 1.0, 'Real part of $\\\\Sigma(tau)$')"
      ]
     },
     "execution_count": 33,
     "metadata": {},
     "output_type": "execute_result"
    }
   ],
   "source": [
    "fig, ax = pl.subplots(1,2, figsize=(12,5) )\n",
    "ax[1].plot(tausf.tau,E_tau_f.imag)\n",
    "ax[1].set_title('Imaginary part of $\\Sigma(tau)$')\n",
    "ax[0].plot(tausf.tau,E_tau_f.real)\n",
    "ax[0].set_title('Real part of $\\Sigma(tau)$')"
   ]
  },
  {
   "cell_type": "markdown",
   "id": "boring-correspondence",
   "metadata": {},
   "source": [
    "$${\\Sigma}_l^F$$"
   ]
  },
  {
   "cell_type": "code",
   "execution_count": 34,
   "id": "finnish-circle",
   "metadata": {},
   "outputs": [],
   "source": [
    "#E_l, fermionic\n",
    "\n",
    "E_l_f=tausf.fit(E_tau_f)"
   ]
  },
  {
   "cell_type": "code",
   "execution_count": 35,
   "id": "excess-london",
   "metadata": {},
   "outputs": [
    {
     "data": {
      "text/plain": [
       "Text(0.5, 0, 'l')"
      ]
     },
     "execution_count": 35,
     "metadata": {},
     "output_type": "execute_result"
    }
   ],
   "source": [
    "pl.semilogy(np.abs(E_l_f),'+-')\n",
    "pl.title('$\\Sigma_l^F$ over l ')\n",
    "pl.xticks(range(0,20))\n",
    "pl.xlabel('l')"
   ]
  },
  {
   "cell_type": "markdown",
   "id": "charming-policy",
   "metadata": {},
   "source": [
    "We will calculate\n",
    "\n",
    "$$\\hat{\\Sigma}(i\\bar{\\omega}_n^F)=-UG(\\beta)+\\sum_{l=0}^{N-1}{\\Sigma}_l^F \\hat{U}_l^F(i\\bar{\\omega}_n^F)$$\n",
    "\n",
    "with $UG(\\beta)$ as the so called Hartee Fock term."
   ]
  },
  {
   "cell_type": "code",
   "execution_count": 36,
   "id": "earned-singer",
   "metadata": {},
   "outputs": [],
   "source": [
    "#E_iw, fermionic\n",
    "\n",
    "E_iw_f=np.einsum('lw,l->w',basisf.uhat(matsf.wn),E_l_f)-U*(basisf.u(beta).T@G_l_f)"
   ]
  },
  {
   "cell_type": "code",
   "execution_count": 37,
   "id": "excessive-moscow",
   "metadata": {},
   "outputs": [
    {
     "data": {
      "text/plain": [
       "Text(0.5, 1.0, 'Real part of $\\\\Sigma(i\\\\omega)$')"
      ]
     },
     "execution_count": 37,
     "metadata": {},
     "output_type": "execute_result"
    }
   ],
   "source": [
    "fig, ax = pl.subplots(1,2, figsize=(12,5) )\n",
    "ax[0].plot(matsf.wn,E_iw_f.imag)\n",
    "ax[0].set_title('Imaginary part of $\\Sigma(i\\omega)$')\n",
    "ax[1].plot(matsf.wn,E_iw_f.real)\n",
    "ax[1].set_title('Real part of $\\Sigma(i\\omega)$')"
   ]
  },
  {
   "cell_type": "markdown",
   "id": "dimensional-source",
   "metadata": {},
   "source": [
    "Last but not least we will obtain $G^F(i\\bar{\\omega}_n^F)$ through the Dyson Equation of GW:\n",
    "\n",
    "$$\\hat{G}(i\\bar{\\omega}_k^F)=G_0(i\\bar{\\omega}_k^F)+G_0(i\\bar{\\omega}_k^F)\\hat{\\Sigma}(i\\bar{\\omega}_n^F)\\hat{G}(i\\bar{\\omega}_k^F)$$\n",
    "\n",
    "or\n",
    "\n",
    "$$\\hat{G}(i\\bar{\\omega}_k^F)=\\frac{1}{G_0(i\\bar{\\omega}_k^F)^{-1}-\\hat{\\Sigma}(i\\bar{\\omega}_n^F)}$$\n",
    "\n",
    "We have now calculated the full Green's function of the system with $\\Sigma$ as a set of (one-particle) irreducible processes connected by $G_0$.[11]"
   ]
  },
  {
   "cell_type": "code",
   "execution_count": 38,
   "id": "directed-background",
   "metadata": {},
   "outputs": [],
   "source": [
    "#G_iw, fermonic     -> Dyson Equation\n",
    "\n",
    "G_iw_f=((G_iw_0)**-1-E_iw_f)**-1        "
   ]
  },
  {
   "cell_type": "code",
   "execution_count": 39,
   "id": "relative-indonesian",
   "metadata": {},
   "outputs": [
    {
     "data": {
      "text/plain": [
       "Text(0.5, 1.0, 'Real part of $G(i\\\\omega)')"
      ]
     },
     "execution_count": 39,
     "metadata": {},
     "output_type": "execute_result"
    }
   ],
   "source": [
    "fig, ax = pl.subplots(1,2, figsize=(12,5) )\n",
    "ax[0].plot(matsf.wn,G_iw_f.imag)\n",
    "ax[0].set_title('Imaginary part of $G(i\\omega)')\n",
    "ax[1].plot(matsf.wn,G_iw_f.real)\n",
    "ax[1].set_title('Real part of $G(i\\omega)')"
   ]
  },
  {
   "cell_type": "code",
   "execution_count": 40,
   "id": "virtual-attitude",
   "metadata": {},
   "outputs": [
    {
     "name": "stdout",
     "output_type": "stream",
     "text": [
      "[2.95119245e-05-0.02429481j 3.24121101e-05-0.02546058j\n",
      " 4.63018501e-04-0.0962297j  1.72244694e-03-0.18559626j\n",
      " 2.90979923e-03-0.24122089j 4.01787292e-03-0.28344543j\n",
      " 5.88649102e-03-0.34306729j 9.37897805e-03-0.43300299j\n",
      " 1.69355046e-02-0.58174159j 3.71197296e-02-0.86082327j\n",
      " 1.06864153e-01-1.45803398j 1.06864153e-01+1.45803398j\n",
      " 3.71197296e-02+0.86082327j 1.69355046e-02+0.58174159j\n",
      " 9.37897805e-03+0.43300299j 5.88649102e-03+0.34306729j\n",
      " 4.01787292e-03+0.28344543j 2.90979923e-03+0.24122089j\n",
      " 1.72244694e-03+0.18559626j 4.63018501e-04+0.0962297j\n",
      " 3.24121101e-05+0.02546058j 2.95119245e-05+0.02429481j]\n"
     ]
    }
   ],
   "source": [
    "print(G_iw_f)"
   ]
  },
  {
   "cell_type": "markdown",
   "id": "aquatic-anthropology",
   "metadata": {},
   "source": [
    "With this we have completed one full iteration of GF2 & GW. Repeating this over and over again will show convergence and thus give the desired approximation to the self-energy."
   ]
  },
  {
   "cell_type": "markdown",
   "id": "alternate-rochester",
   "metadata": {},
   "source": [
    "Sources\n",
    "---------"
   ]
  },
  {
   "cell_type": "markdown",
   "id": "varying-poster",
   "metadata": {},
   "source": [
    "[1] H.Bruus, Karsten Flensberg,_Many-body Quantum Theory in Condensed    Matter  Physics_ (Oxford University Press Inc., New York, 2004)<br>\n",
    "[2] J.W.Negele, H.Orland, _Quantum Many-Particle Systems_ (Westview Press, 1998)<br>\n",
    "[3] G.D.Mahan,_Many-Particle Physics_ (Kluwer Academic/Plenum Publishers, New York, 2000)<br>\n",
    "[4] P.C.Hansen,_Dicrete Inverse Problems_(Society for Industrial and Applied Mathematics, Philadelphia,2010)<br>\n",
    "[5] J.Li, M.Wallerberger, N.Chikano, C.Yeh, E.Gull and H.Shinaoka, Sparse sampling approach to efficient ab initio calculations at finite temperature, Phys. Rev. B 101, 035144 (2020)<br>\n",
    "[6] M.Wallerberger, H. Shinaoka, A.Kauch, Solving the Bethe–Salpeter equation with exponential convergence, Phys. Rev. Research 3, 033168 (2021)<br>\n",
    "[7] H. Shinaoka, N. Chikano, E. Gull, J. Li, T. Nomoto, J. Otsuki, M. Wallerberger, T. Wang, K. Yoshimi, Efficient ab initio many-body calculations based on sparse modeling of Matsubara Green’s function (2021)<br>\n",
    "[8] F. Aryasetiawan and O. Gunnarsson, The GW method, Rep. Prog. Phys. 61 (1998) 237<br>\n",
    "[9] Matteo Gatti, _The GW approximation_, TDDFT school, Benasque (2014)<br>\n",
    "[10]C.Friedrich, _Many-Body Pertubation Theory;The GW approximation_, Peter Grünberg Institut and Institute for Advanced Simulation, Jülich <br>\n",
    "[11] K.. Held, C. Taranto, G. Rohringer, and A. Toschi, _Hedin Equations, GW, GW+DMFT, and All That_ (Modeling and Simulation Vol. 1, Forschungszentrum Jülich, 2011 )"
   ]
  },
  {
   "cell_type": "code",
   "execution_count": null,
   "id": "musical-tyler",
   "metadata": {},
   "outputs": [],
   "source": []
  }
 ],
 "metadata": {
  "jupytext": {
   "formats": "ipynb,md:myst",
   "text_representation": {
    "extension": ".md",
    "format_name": "myst",
    "format_version": 0.13,
    "jupytext_version": "1.11.5"
   }
  },
  "kernelspec": {
   "display_name": "Python 3",
   "language": "python",
   "name": "python3"
  },
  "language_info": {
   "codemirror_mode": {
    "name": "ipython",
    "version": 3
   },
   "file_extension": ".py",
   "mimetype": "text/x-python",
   "name": "python",
   "nbconvert_exporter": "python",
   "pygments_lexer": "ipython3",
   "version": "3.9.10"
  },
  "source_map": [
   13,
   17,
   22,
   68,
   73,
   118,
   123,
   143,
   151,
   158,
   165,
   170,
   176,
   180,
   190,
   194,
   203,
   211,
   215,
   221,
   227,
   231,
   238,
   264,
   272,
   278,
   282,
   290,
   294,
   301,
   308,
   314,
   322,
   326,
   332,
   338,
   344,
   349,
   359,
   363,
   369,
   375,
   381,
   387,
   396,
   402,
   406,
   410,
   416,
   421,
   425,
   431,
   437,
   451,
   464,
   470,
   474,
   480,
   485,
   491,
   497,
   503,
   513,
   519,
   525,
   529,
   535,
   540,
   548,
   554,
   560,
   572,
   578,
   586,
   588,
   592,
   597,
   611
  ]
 },
 "nbformat": 4,
 "nbformat_minor": 5
}