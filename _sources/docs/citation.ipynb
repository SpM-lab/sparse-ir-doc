{
 "cells": [
  {
   "cell_type": "markdown",
   "id": "e140fbb0",
   "metadata": {},
   "source": [
    "# Citation\n",
    "\n",
    "If you has used `sparse-ir` in your research, and you would like to acknowledge the project in your academic publication, please use the following:\n",
    "\n",
    "```\n",
    "We used the sparse-ir library based on the intermediate representation~\\cite{shinaoka2017} and the sparse sampling~\\cite{li2020}.\n",
    "```\n",
    "\n",
    "The bibtex entries are the following:\n",
    "\n",
    "```\n",
    "@article{shinaoka2017,\n",
    "  title = {Compressing Green's function using intermediate representation between imaginary-time and real-frequency domains},\n",
    "  author = {Shinaoka, Hiroshi and Otsuki, Junya and Ohzeki, Masayuki and Yoshimi, Kazuyoshi},\n",
    "  journal = {Phys. Rev. B},\n",
    "  volume = {96},\n",
    "  issue = {3},\n",
    "  pages = {035147},\n",
    "  numpages = {8},\n",
    "  year = {2017},\n",
    "  month = {Jul},\n",
    "  publisher = {American Physical Society},\n",
    "  doi = {10.1103/PhysRevB.96.035147},\n",
    "  url = {https://link.aps.org/doi/10.1103/PhysRevB.96.035147}\n",
    "}\n",
    "\n",
    "\n",
    "@article{li2020,\n",
    "  title = {Sparse sampling approach to efficient ab initio calculations at finite temperature},\n",
    "  author = {Li, Jia and Wallerberger, Markus and Chikano, Naoya and Yeh, Chia-Nan and Gull, Emanuel and Shinaoka, Hiroshi},\n",
    "  journal = {Phys. Rev. B},\n",
    "  volume = {101},\n",
    "  issue = {3},\n",
    "  pages = {035144},\n",
    "  numpages = {12},\n",
    "  year = {2020},\n",
    "  month = {Jan},\n",
    "  publisher = {American Physical Society},\n",
    "  doi = {10.1103/PhysRevB.101.035144},\n",
    "  url = {https://link.aps.org/doi/10.1103/PhysRevB.101.035144}\n",
    "}\n",
    "\n",
    "```"
   ]
  }
 ],
 "metadata": {
  "jupytext": {
   "cell_metadata_filter": "-all",
   "formats": "ipynb,md:myst",
   "main_language": "python",
   "text_representation": {
    "extension": ".md",
    "format_name": "myst",
    "format_version": 0.13,
    "jupytext_version": "1.13.7"
   }
  },
  "kernelspec": {
   "display_name": "Python 3.9.10 64-bit",
   "language": "python",
   "name": "python3910jvsc74a57bd0b0fa6594d8f4cbf19f97940f81e996739fb7646882a419484c72d19e05852a7e"
  },
  "language_info": {
   "codemirror_mode": {
    "name": "ipython",
    "version": 3
   },
   "file_extension": ".py",
   "mimetype": "text/x-python",
   "name": "python",
   "nbconvert_exporter": "python",
   "pygments_lexer": "ipython3",
   "version": "3.9.10"
  },
  "source_map": [
   15
  ]
 },
 "nbformat": 4,
 "nbformat_minor": 5
}