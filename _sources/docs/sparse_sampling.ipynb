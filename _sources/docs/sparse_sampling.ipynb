{
 "cells": [
  {
   "cell_type": "markdown",
   "id": "5117dadb",
   "metadata": {
    "tags": []
   },
   "source": [
    "# Sparse sampling\n",
    "\n",
    "$\\newcommand{\\wmax}{{\\omega_\\mathrm{max}}}$\n",
    "$\\newcommand{\\dd}{{\\mathrm{d}}}$"
   ]
  },
  {
   "cell_type": "markdown",
   "id": "f0d30e04",
   "metadata": {},
   "source": [
    "## Imaginary frequency"
   ]
  }
 ],
 "metadata": {
  "jupytext": {
   "formats": "ipynb,md:myst",
   "text_representation": {
    "extension": ".md",
    "format_name": "myst",
    "format_version": 0.13,
    "jupytext_version": "1.13.7"
   }
  },
  "kernelspec": {
   "display_name": "Python 3.9.10 64-bit",
   "language": "python",
   "name": "python3910jvsc74a57bd0b0fa6594d8f4cbf19f97940f81e996739fb7646882a419484c72d19e05852a7e"
  },
  "language_info": {
   "codemirror_mode": {
    "name": "ipython",
    "version": 3
   },
   "file_extension": ".py",
   "mimetype": "text/x-python",
   "name": "python",
   "nbconvert_exporter": "python",
   "pygments_lexer": "ipython3",
   "version": "3.9.10"
  },
  "source_map": [
   15,
   22
  ]
 },
 "nbformat": 4,
 "nbformat_minor": 5
}