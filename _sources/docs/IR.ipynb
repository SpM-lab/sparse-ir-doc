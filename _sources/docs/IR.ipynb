{
 "cells": [
  {
   "cell_type": "markdown",
   "id": "8542ad6c",
   "metadata": {
    "tags": []
   },
   "source": [
    "# Intermediate representation (IR)\n",
    "\n",
    "$$\n",
    "\\newcommand{\\iv}{{\\mathrm{i}\\nu}}\n",
    "\\newcommand{\\wmax}{{\\omega_\\mathrm{max}}}\n",
    "\\newcommand{\\dd}{{\\mathrm{d}}}\n",
    "$$"
   ]
  },
  {
   "cell_type": "markdown",
   "id": "5767ea86",
   "metadata": {},
   "source": [
    "## One-particle Green's function\n",
    "\n",
    "We introduce a Green’s function with imaginary arguments in time and frequency.\n",
    "This has no physical meaning but is merely a mathematical trick and makes calculations easier (to give another example of this: in Minsowski spacetime we take advantage of a similiar substitution)\n",
    "\n",
    "The so-called imaginary-frequency (Matsubara) Green's functions are defined as followed: \n",
    "\n",
    "$$\n",
    "G_{ij}(\\tau-\\tau') = -\\langle T_\\tau [c_i(\\tau){c}^\\dagger_j(\\tau')]\\rangle,\n",
    "$$\n",
    "\n",
    "where $i$ and $j$ denote spin/orbital/band and $T_\\tau$ is the time-ordering operator.\n",
    "Here $\\tau$ represents a imaginary time unit $\\mathrm{i}t$,\n",
    "while $c_i$/$c_j$ is a fermionic or bosonic annihilation/creation operator.\n",
    "\n",
    "The Fourier Transformation of $G_{ij}(\\tau)$ (with $\\tau \\in [0,\\beta]$) reads\n",
    "\n",
    "$$\n",
    "G_{ij}(\\iv_n) = \\int_0^{\\beta} \\dd \\tau e^{\\iv_n\\tau} G_{ij}(\\tau),\n",
    "$$\n",
    "\n",
    "where $\\nu_n = (2n+1)\\pi/\\beta$ (fermion) and $\\nu_n = 2n\\pi/\\beta$ (boson) with $n$ being an integer.\n",
    "The inverse temperature is denoted by $\\beta$ (We take $\\hbar=1$).\n",
    "The inverse transformation is given by\n",
    "\n",
    "$$\n",
    "G_{ij}(\\tau) = \\frac{1}{\\beta}\\sum_{n=-\\infty}^\\infty e^{-\\iv_n\\tau}G_{ij}(\\iv_n).\n",
    "$$ \n",
    "\n",
    "Continuing $G_{ij}(\\iv_n)$ to a holomorphic function in the upper half of the complex plane,\n",
    "the imaginary-frequency (Matsubara) Green's function can be related to the \"orginary\" retarded Green's function as\n",
    "\n",
    "$$\n",
    "G_{ij}^\\mathrm{R}(\\omega)=G_{ij}(z \\rightarrow \\omega+\\mathrm{i}0^{+}).\n",
    "$$\n",
    "\n",
    "In the following, we omit the symbols $i$, $j$, $n$ unless there is confusion."
   ]
  },
  {
   "cell_type": "markdown",
   "id": "c8274e18",
   "metadata": {},
   "source": [
    "## Lehmann representation\n",
    "\n",
    "In the imaginary-frequency domain, the Lehmann representation reads\n",
    "\n",
    "$$\n",
    "\\begin{align}\n",
    "    G(\\iv) &= \\int_{-\\infty}^\\infty \\dd\\omega \\underbrace{\\frac{1}{\\iv - \\omega}}_{\\equiv K(\\iv, \\omega)} A(\\omega),\n",
    "\\end{align}\n",
    "$$\n",
    "\n",
    "where $A(\\omega)$ is a spectral function.\n",
    "$K(\\iv, \\omega)$ is the so-called analytic continuation kernel.\n",
    "The Lehmann representation can be transformed to the imaginary-time domain as\n",
    "\n",
    "$$\n",
    "\\begin{align}\n",
    "    G(\\tau) &= - \\int_{-\\infty}^\\infty \\dd\\omega K(\\tau, \\omega) A(\\omega),\n",
    "\\end{align}\n",
    "$$ (lehmann-tau)\n",
    "\n",
    "where $0 < \\tau < \\beta$ and \n",
    "\n",
    "$$\n",
    "\\begin{align}\n",
    "    K(\\tau, \\omega) &\\equiv - \\frac{1}{\\beta} \\sum_{\\iv} e^{-\\iv \\tau} K(\\iv, \\omega) =\n",
    "    \\begin{cases}\n",
    "        \\frac{e^{-\\tau\\omega}}{1+e^{-\\beta\\omega}} & (\\mathrm{fermion}),\\\\\n",
    "        \\frac{e^{-\\tau\\omega}}{1-e^{-\\beta\\omega}} & (\\mathrm{boson})\n",
    "    \\end{cases}.\n",
    "\\end{align}\n",
    "$$\n",
    "\n",
    "The minus sign originates from our the convention $K(\\tau, \\omega) > 0$.\n",
    "To avoid the divergence of the bosonic kernel at $\\omega=0$, we reformulate Eq. {eq}`lehmann-tau` as\n",
    "\n",
    "$$\n",
    "\\begin{equation}\n",
    "    G(\\tau)= - \\int_{-\\infty}^\\infty\\dd{\\omega} K^\\mathrm{L}(\\tau,\\omega) \\rho(\\omega),\n",
    "\\end{equation}\n",
    "$$\n",
    "\n",
    "where $K^\\mathrm{L}(\\tau, \\omega)$ is the \"logistic kernel\" defined as\n",
    "\n",
    "$$\n",
    "K^\\mathrm{L}(\\tau, \\omega) =  \\frac{e^{-\\tau\\omega}}{1+e^{-\\beta\\omega}},\n",
    "$$ (KL)\n",
    "\n",
    "and $\\rho(\\omega)$ is the modified spectral function\n",
    "\n",
    "$$\n",
    "\\begin{align}\n",
    "    \\rho(\\omega) &\\equiv \n",
    "    \\begin{cases}\n",
    "        A(\\omega) & (\\mathrm{fermion}),\\\\\n",
    "        \\frac{A(\\omega)}{\\tanh(\\beta \\omega/2)} & (\\mathrm{boson}).\n",
    "    \\end{cases}\n",
    "\\end{align}\n",
    "$$"
   ]
  },
  {
   "cell_type": "markdown",
   "id": "108dc6a7",
   "metadata": {},
   "source": [
    "## Singular value expansion\n",
    "\n",
    "The singular value expnasion of the kernel {eq}`KL` reads {cite:p}`Shinaoka:2017ix`\n",
    "\n",
    "$$\n",
    "K^\\mathrm{L}(\\tau, \\omega) = \\sum_{l=0}^\\infty U_l(\\tau) S_l V_l(\\omega),\n",
    "$$\n",
    "\n",
    "for $\\omega \\in [-\\wmax, \\wmax]$ with $\\wmax$ (>0) being a cut-off frequency.\n",
    "$U_l(\\tau)$ and $V_l(\\omega)$ are left and right singular functions and $S_l$ as the singular values (with $S_0>S_1>S_2>...>0$).\n",
    "The two sets of singular functions $U$ and $V$ make up the basis functions of the so-called Intermediate Representation (IR), which depends on $\\beta$ and the cutoff $\\wmax$.\n",
    "For the peculiar choice of the regularization for the bosonic kernel using $K^\\mathrm{L}$, these basis functions do not depend on statistical properties.\n",
    "\n",
    "Some of the information regarding real-frequency properties of the system is often lost during transition into the imaginary-time domain, so that the imaginary-frequency Green's function does hold less information than the real-frequency Green's function. The reason for using IR lies within its compactness and ability to display that information in imaginary quantities."
   ]
  },
  {
   "cell_type": "markdown",
   "id": "e133c2fd",
   "metadata": {},
   "source": [
    "## Basis functions in imaginary frequency\n",
    "\n",
    "Transformation to frequency"
   ]
  },
  {
   "cell_type": "code",
   "execution_count": 1,
   "id": "5b7a9df1",
   "metadata": {},
   "outputs": [
    {
     "name": "stdout",
     "output_type": "stream",
     "text": [
      "1"
     ]
    },
    {
     "name": "stdout",
     "output_type": "stream",
     "text": [
      "\n"
     ]
    }
   ],
   "source": [
    "print(1)"
   ]
  },
  {
   "cell_type": "code",
   "execution_count": 2,
   "id": "c96c03c4",
   "metadata": {},
   "outputs": [
    {
     "name": "stdout",
     "output_type": "stream",
     "text": [
      "AAAA"
     ]
    },
    {
     "name": "stdout",
     "output_type": "stream",
     "text": [
      "\n"
     ]
    }
   ],
   "source": [
    "print(\"AAAA\")"
   ]
  },
  {
   "cell_type": "code",
   "execution_count": null,
   "id": "52061f7c",
   "metadata": {},
   "outputs": [],
   "source": []
  }
 ],
 "metadata": {
  "jupytext": {
   "formats": "ipynb,md:myst",
   "text_representation": {
    "extension": ".md",
    "format_name": "myst",
    "format_version": 0.13,
    "jupytext_version": "1.13.7"
   }
  },
  "kernelspec": {
   "display_name": "Python 3.9.10 64-bit",
   "language": "python",
   "name": "python3910jvsc74a57bd0b0fa6594d8f4cbf19f97940f81e996739fb7646882a419484c72d19e05852a7e"
  },
  "language_info": {
   "codemirror_mode": {
    "name": "ipython",
    "version": 3
   },
   "file_extension": ".py",
   "mimetype": "text/x-python",
   "name": "python",
   "nbconvert_exporter": "python",
   "pygments_lexer": "ipython3",
   "version": "3.9.10"
  },
  "source_map": [
   15,
   25,
   65,
   126,
   143,
   149,
   153,
   157
  ]
 },
 "nbformat": 4,
 "nbformat_minor": 5
}