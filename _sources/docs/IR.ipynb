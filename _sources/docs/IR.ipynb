{
 "cells": [
  {
   "cell_type": "markdown",
   "id": "9429ea63",
   "metadata": {
    "tags": []
   },
   "source": [
    "# Intermediate representation\n",
    "\n",
    "$\\newcommand{\\wmax}{{\\omega_\\mathrm{max}}}$\n",
    "$\\newcommand{\\dd}{{\\mathrm{d}}}$"
   ]
  },
  {
   "cell_type": "markdown",
   "id": "32e2ef23",
   "metadata": {},
   "source": [
    "## Lehmann representation\n",
    "\n",
    "In the imaginary-time domain, the Lehmann represenation reads\n",
    "\n",
    "$$\n",
    "\\begin{align}\n",
    "    G(\\tau) &= - \\int_{-\\wmax}^\\wmax \\dd\\omega K(\\tau, \\omega) A(\\omega),\n",
    "\\end{align}\n",
    "$$\n",
    "\n",
    "where $0 < \\tau < \\beta$, $A(\\omega)$ is a spectral function, $K(\\tau, \\omega)$ is a *kernel*.\n",
    "We take $\\hbar = 1$.\n",
    "\n",
    "The kernel is defined as\n",
    "\n",
    "$$\n",
    "\\begin{align}\n",
    "    K(\\tau, \\omega) &=\n",
    "    \\begin{cases}\n",
    "        \\frac{e^{-\\tau\\omega}}{1+e^{-\\beta\\omega}} & (\\mathrm{fermion}),\\\\\n",
    "        \\frac{e^{-\\tau\\omega}}{1-e^{-\\beta\\omega}} & (\\mathrm{boson})\n",
    "    \\end{cases}.\n",
    "\\end{align}\n",
    "$$\n",
    "\n",
    "To avoid the divergence of the bosonic kernel at $\\omega=0$, we reformulate the Lehmann representation as\n",
    "\n",
    "$$\n",
    "\\begin{equation}\n",
    "    G(\\tau)= - \\int_{-\\wmax}^\\wmax\\dd{\\omega'} K^\\mathrm{L}(\\tau,\\omega') \\rho(\\omega'),\\label{eq:friedholm2}\n",
    "\\end{equation}\n",
    "$$\n",
    "\n",
    "where $K^\\mathrm{L}(\\tau, \\omega)$ is the logistic kernel defined as\n",
    "\n",
    "$$\n",
    "K^\\mathrm{L}(\\tau, \\omega) =  \\frac{e^{-\\tau\\omega}}{1+e^{-\\beta\\omega}},\n",
    "$$\n",
    "\n",
    "and $\\rho(\\omega)$ is the modified spectral function\n",
    "\n",
    "$$\n",
    "\\begin{align}\n",
    "    \\rho(\\omega) &\\equiv \n",
    "    \\begin{cases}\n",
    "        A(\\omega) & (\\mathrm{fermion}),\\\\\n",
    "        \\frac{A(\\omega)}{\\tanh(\\beta \\omega/2)} & (\\mathrm{boson}).\n",
    "    \\end{cases}\n",
    "\\end{align}\n",
    "$$"
   ]
  },
  {
   "cell_type": "markdown",
   "id": "de4bdfbb",
   "metadata": {},
   "source": [
    "## Singular value expansion in imaginary time\n",
    "\n",
    "{cite:p}`Shinaoka:2017ix`\n",
    "\n",
    "{cite}`Shinaoka:2017ix`"
   ]
  },
  {
   "cell_type": "markdown",
   "id": "1a9ebb4f",
   "metadata": {},
   "source": [
    "## Basis functions in Matsubara frequency"
   ]
  }
 ],
 "metadata": {
  "jupytext": {
   "formats": "ipynb,md"
  },
  "kernelspec": {
   "display_name": "Python 3.9.10 64-bit",
   "language": "python",
   "name": "python3910jvsc74a57bd0b0fa6594d8f4cbf19f97940f81e996739fb7646882a419484c72d19e05852a7e"
  },
  "language_info": {
   "codemirror_mode": {
    "name": "ipython",
    "version": 3
   },
   "file_extension": ".py",
   "mimetype": "text/x-python",
   "name": "python",
   "nbconvert_exporter": "python",
   "pygments_lexer": "ipython3",
   "version": "3.9.10"
  }
 },
 "nbformat": 4,
 "nbformat_minor": 5
}
