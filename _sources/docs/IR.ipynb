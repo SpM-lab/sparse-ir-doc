{
 "cells": [
  {
   "cell_type": "markdown",
   "id": "b81a090b",
   "metadata": {
    "tags": []
   },
   "source": [
    "# Intermediate representation\n",
    "\n",
    "$\\newcommand{\\wmax}{{\\omega_\\mathrm{max}}}$\n",
    "$\\newcommand{\\dd}{{\\mathrm{d}}}$"
   ]
  },
  {
   "cell_type": "markdown",
   "id": "7cd26e9f",
   "metadata": {},
   "source": [
    "## Lehmann representation\n",
    "\n",
    "In the imaginary-time domain, the Lehmann represenation reads\n",
    "\n",
    "$$\n",
    "\\begin{align}\n",
    "    G(\\tau) &= - \\int_{-\\infty}^\\infty \\dd\\omega K(\\tau, \\omega) A(\\omega),\n",
    "\\end{align}\n",
    "$$\n",
    "\n",
    "where $0 < \\tau < \\beta$, $A(\\omega)$ is a spectral function, $K(\\tau, \\omega)$ is a *kernel*.\n",
    "We take $\\hbar = 1$.\n",
    "\n",
    "The kernel is defined as\n",
    "\n",
    "$$\n",
    "\\begin{align}\n",
    "    K(\\tau, \\omega) &=\n",
    "    \\begin{cases}\n",
    "        \\frac{e^{-\\tau\\omega}}{1+e^{-\\beta\\omega}} & (\\mathrm{fermion}),\\\\\n",
    "        \\frac{e^{-\\tau\\omega}}{1-e^{-\\beta\\omega}} & (\\mathrm{boson})\n",
    "    \\end{cases}.\n",
    "\\end{align}\n",
    "$$\n",
    "\n",
    "To avoid the divergence of the bosonic kernel at $\\omega=0$, we reformulate the Lehmann representation as\n",
    "\n",
    "$$\n",
    "\\begin{equation}\n",
    "    G(\\tau)= - \\int_{-\\infty}^\\infty\\dd{\\omega'} K^\\mathrm{L}(\\tau,\\omega') \\rho(\\omega'),\\label{eq:friedholm2}\n",
    "\\end{equation}\n",
    "$$\n",
    "\n",
    "where $K^\\mathrm{L}(\\tau, \\omega)$ is the logistic kernel defined as\n",
    "\n",
    "$$\n",
    "K^\\mathrm{L}(\\tau, \\omega) =  \\frac{e^{-\\tau\\omega}}{1+e^{-\\beta\\omega}},\n",
    "$$ (KL)\n",
    "\n",
    "and $\\rho(\\omega)$ is the modified spectral function\n",
    "\n",
    "$$\n",
    "\\begin{align}\n",
    "    \\rho(\\omega) &\\equiv \n",
    "    \\begin{cases}\n",
    "        A(\\omega) & (\\mathrm{fermion}),\\\\\n",
    "        \\frac{A(\\omega)}{\\tanh(\\beta \\omega/2)} & (\\mathrm{boson}).\n",
    "    \\end{cases}\n",
    "\\end{align}\n",
    "$$"
   ]
  },
  {
   "cell_type": "markdown",
   "id": "b2a27b18",
   "metadata": {},
   "source": [
    "## Singular value expansion\n",
    "\n",
    "{cite:p}`Shinaoka:2017ix`\n",
    "\n",
    "{cite}`Shinaoka:2017ix`\n",
    "\n",
    "The singular value expnasion of the kernel {eq}`KL` reads\n",
    "\n",
    "$$\n",
    "\\begin{align}\n",
    "    K^\\mathrm{L}(\\tau, \\omega) &= \\sum_{l=0}^\\infty U_l(\\tau) S_l V_l(\\omega),\n",
    "\\end{align}\n",
    "$$\n",
    "\n",
    "for $\\omega \\in [-\\wmax, \\wmax]$."
   ]
  },
  {
   "cell_type": "markdown",
   "id": "6e0c897a",
   "metadata": {},
   "source": [
    "## Basis functions in imaginary frequency\n",
    "\n",
    "Transformation to frequency"
   ]
  },
  {
   "cell_type": "code",
   "execution_count": 1,
   "id": "5412947d",
   "metadata": {},
   "outputs": [
    {
     "name": "stdout",
     "output_type": "stream",
     "text": [
      "1"
     ]
    },
    {
     "name": "stdout",
     "output_type": "stream",
     "text": [
      "\n"
     ]
    }
   ],
   "source": [
    "print(1)"
   ]
  },
  {
   "cell_type": "code",
   "execution_count": 2,
   "id": "640e955e",
   "metadata": {},
   "outputs": [
    {
     "name": "stdout",
     "output_type": "stream",
     "text": [
      "AAAA"
     ]
    },
    {
     "name": "stdout",
     "output_type": "stream",
     "text": [
      "\n"
     ]
    }
   ],
   "source": [
    "print(\"AAAA\")"
   ]
  },
  {
   "cell_type": "code",
   "execution_count": null,
   "id": "fba2d65c",
   "metadata": {},
   "outputs": [],
   "source": []
  }
 ],
 "metadata": {
  "jupytext": {
   "formats": "ipynb,md:myst",
   "text_representation": {
    "extension": ".md",
    "format_name": "myst",
    "format_version": 0.13,
    "jupytext_version": "1.13.7"
   }
  },
  "kernelspec": {
   "display_name": "Python 3.9.10 64-bit",
   "language": "python",
   "name": "python3910jvsc74a57bd0b0fa6594d8f4cbf19f97940f81e996739fb7646882a419484c72d19e05852a7e"
  },
  "language_info": {
   "codemirror_mode": {
    "name": "ipython",
    "version": 3
   },
   "file_extension": ".py",
   "mimetype": "text/x-python",
   "name": "python",
   "nbconvert_exporter": "python",
   "pygments_lexer": "ipython3",
   "version": "3.9.10"
  },
  "source_map": [
   15,
   22,
   75,
   93,
   99,
   103,
   107
  ]
 },
 "nbformat": 4,
 "nbformat_minor": 5
}