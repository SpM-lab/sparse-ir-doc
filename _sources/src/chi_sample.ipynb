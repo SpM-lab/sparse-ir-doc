{
  "cells": [
    {
      "cell_type": "markdown",
      "metadata": {
        "id": "xHOySqkK12f5"
      },
      "source": [
        "# Orbital magnetic susceptibility\n",
        "Author: [Soshun Ozaki], [Takashi Koretsune]\n",
        "\n",
        "## Theory of the orbital magnetism\n",
        "The orbital magnetism is the magnetism induced by a vector potential coupled with the momentum,\n",
        "and is one of fundamental thermodynamic properties of itenerant systems.\n",
        "A lot of efforts were dedicated to the formulation of the orbital magnetic susceptibility,\n",
        "and the simple but complete formula was derived by Fukuyama [1]. \n",
        "Recently, a new formula for the tight-binding model, which is based on Fukuyama's formula,\n",
        "has been derived and is applied to various lattice models[2,3,4].\n",
        "These formulas are written in terms of the thermal Green's functions and suitable for the demonstration \n",
        "of the Matsubara summation using the IR basis.\n",
        "We present codes for the computation of the orbital magnetic susceptibility using the newly developed formula for the tight-binding models on the two basic lattices, the square and honeycomb lattices.\n",
        "\n",
        "Ref:\n",
        "[1] H. Fukuyama, Prog. Theor. Phys. 45, 704 (1971).\n",
        "[2] G. Gómez-Santos and T. Stauber, Phys. Rev. Lett. 106, 045504 (2011).\n",
        "[3] A. Raoux, F. Piéchon, J. N. Fuchs, and G. Montambaux, Phys. Rev. B 91, 085120 (2015).\n",
        "[4] F. Piéchon, A. Raoux, J.-N. Fuchs, and G. Montambaux, Phys. Rev. B 94, 134423 (2016).\n",
        "\n",
        "## The orbital magnetic susceptibility formula\n",
        "The orbital magnetic susceptibility formula for tight-binding models is given by\n",
        "\\begin{align*}\n",
        "\\chi &= k_B T\\sum_n \\chi(i \\omega_n)\\\\\n",
        "\\chi(i \\omega_n) &= \\frac{e^2}{\\hbar^2} \\sum_{{\\boldsymbol k}} {\\rm Tr} \n",
        "[\\gamma_x G \\gamma_y G \\gamma_x G \\gamma_y G + \\frac{1}{2} (\\gamma_x G \\gamma_y G + \\gamma_y G \\gamma_x G)\\gamma_{xy} G]\n",
        "\\end{align*}\n",
        "where $G=G(i\\omega_n, {\\boldsymbol k})$ is the thermal Green's function, \n",
        "$\\gamma_i({\\boldsymbol k})=\\frac{\\partial H_{\\boldsymbol k}}{\\partial k_i}, (i=x,y)$ \n",
        "and $\\gamma_{xy}({\\boldsymbol k})= \\frac{\\partial^2 H_{\\boldsymbol k}}{\\partial k_x \\partial k_y}$ represent the derivative of \n",
        "the tight-binding Hamiltonian $H_{\\boldsymbol k}$,\n",
        "and $n$ summation represents the Matsubara summation.\n",
        "We evaluate the orbital magnetic susceptibility for the square and honeycomb lattice model with transfer integral $t$, lattice constant $a$.\n",
        "Note that these calculations for tight-binding models and continuum models are shown in \n",
        "Ref.[2,3] and Ref.[5,6], respectively.\n",
        "In our practical implementation, we perform the Matsubara summation using the 'sparse ir' package, \n",
        "and ${\\boldsymbol k}$ summation over the Brillouin zone is evaluated by  a simple discrete summation.\n",
        "We show the results as functions of the chemical potential.\n",
        "\n",
        "Ref:\n",
        "[5] M. Ogata, J. Phys. Soc. of Jpn. 85, 064709 (2016).\n",
        "[6] M. Ogata, J. Phys. Soc. of Jpn. 85, 104708 (2016).\n"
      ]
    },
    {
      "cell_type": "markdown",
      "metadata": {
        "id": "LPpdCRrd3KQR"
      },
      "source": [
        "## Code implementation\n",
        "We load basic modules used in the following."
      ]
    },
    {
      "cell_type": "code",
      "execution_count": 1,
      "metadata": {
        "colab": {
          "base_uri": "https://localhost:8080/"
        },
        "id": "oBMEiCceDeBA",
        "outputId": "0a2a88bc-6c72-473e-8644-de3b2d6a570d"
      },
      "outputs": [
        {
          "name": "stdout",
          "output_type": "stream",
          "text": [
            "\u001b[33mDEPRECATION: Configuring installation scheme with distutils config files is deprecated and will no longer work in the near future. If you are using a Homebrew or Linuxbrew Python, please see discussion at https://github.com/Homebrew/homebrew-core/issues/76621\u001b[0m\u001b[33m\n",
            "\u001b[0mRequirement already satisfied: sparse_ir in /opt/homebrew/lib/python3.9/site-packages (0.9.2)\n",
            "Requirement already satisfied: setuptools in /Users/hiroshi/Library/Python/3.9/lib/python/site-packages (from sparse_ir) (60.5.0)\n",
            "Requirement already satisfied: scipy in /Users/hiroshi/Library/Python/3.9/lib/python/site-packages (from sparse_ir) (1.7.3)\n",
            "Requirement already satisfied: numpy in /opt/homebrew/lib/python3.9/site-packages (from sparse_ir) (1.22.2)\n",
            "\u001b[33mDEPRECATION: Configuring installation scheme with distutils config files is deprecated and will no longer work in the near future. If you are using a Homebrew or Linuxbrew Python, please see discussion at https://github.com/Homebrew/homebrew-core/issues/76621\u001b[0m\u001b[33m\n",
            "\u001b[0m\u001b[33mWARNING: You are using pip version 22.0.2; however, version 22.0.4 is available.\n",
            "You should consider upgrading via the '/opt/homebrew/opt/python@3.9/bin/python3.9 -m pip install --upgrade pip' command.\u001b[0m\u001b[33m\n",
            "\u001b[0m"
          ]
        }
      ],
      "source": [
        "!pip install sparse_ir\n",
        "import numpy as np\n",
        "import scipy\n",
        "import itertools\n",
        "import matplotlib.pyplot as plt\n",
        "import sparse_ir"
      ]
    },
    {
      "cell_type": "markdown",
      "metadata": {
        "id": "LLmzKefa78uI"
      },
      "source": [
        "#### Parameter setting\n",
        "We use the units of $k_B=1$ in the following.\n",
        "We set $t=a=1$ and $T = 0.1$.\n"
      ]
    },
    {
      "cell_type": "code",
      "execution_count": 2,
      "metadata": {
        "id": "N7Dv8jhz78uK"
      },
      "outputs": [],
      "source": [
        "t = 1         # hopping amplitude\n",
        "a = 1         # lattice constant\n",
        "T = 0.1       # temperature\n",
        "beta = 1/T\n",
        "wmax = 10\n",
        "nk1 = 200\n",
        "nk2 = 200\n",
        "IR_tol = 1e-10\n",
        "mu_range = np.linspace(-4, 4, 81)"
      ]
    },
    {
      "cell_type": "markdown",
      "metadata": {
        "id": "l4EElZAC78uM"
      },
      "source": [
        "#### Function for the orbital magnetic susceptibility\n",
        "Here, we implement a function to calculate the orbital magnetic susceptibility from $H_{\\boldsymbol k}$, $\\gamma_x(\\boldsymbol k)$, $\\gamma_y(\\boldsymbol k)$, and $\\gamma_{xy}(\\boldsymbol k)$.\n",
        "First, we calculate $\\chi(i \\omega_n)$ for sampling Matsubara points and then obtain $k_B T\\sum_n \\chi(i \\omega_n)$ using the IR basis."
      ]
    },
    {
      "cell_type": "code",
      "execution_count": 3,
      "metadata": {
        "id": "ta6Zy4Vg78uP"
      },
      "outputs": [],
      "source": [
        "def orbital_chi(IR_basis_set, hkgk, klist, mu_range):\n",
        "    smpl_iwn = IR_basis_set.smpl_wn_f.wn\n",
        "    chi_iw = np.zeros((len(mu_range), len(smpl_iwn)), dtype=complex)\n",
        "    for k in klist:\n",
        "        hk, gx, gy, gxy = hkgk(k)\n",
        "        ek, v = np.linalg.eigh(hk)\n",
        "        vd = np.conj(v.T)\n",
        "        giw = 1/(1j * np.pi/IR_basis_set.beta * smpl_iwn[None,None,:] - (ek[:,None,None] - mu_range[None,:,None]))\n",
        "        gx = vd @ gx @ v\n",
        "        gy = vd @ gy @ v\n",
        "        gxy = vd @ gxy @ v\n",
        "        chi_iw += np.einsum(\"ab, bmn, bc, cmn, cd, dmn, da, amn->mn\", \n",
        "                            gx, giw, gy, giw, gx, giw, gy, giw, optimize=True)\n",
        "        chi_iw += (1/2) * np.einsum(\"ab, bmn, bc, cmn, ca, amn->mn\",\n",
        "                                    gx, giw, gy, giw, gxy, giw, optimize=True)\n",
        "        chi_iw += (1/2) * np.einsum(\"ab, bmn, bc, cmn, ca, amn->mn\",\n",
        "                                    gy, giw, gx, giw, gxy, giw, optimize=True)\n",
        "    chil = IR_basis_set.smpl_wn_f.fit(chi_iw, axis=1)\n",
        "    chi_tau = IR_basis_set.smpl_tau_f.evaluate(chil, axis=1)\n",
        "    return chi_tau[:,0].real / len(klist)"
      ]
    },
    {
      "cell_type": "markdown",
      "metadata": {
        "id": "wAHn85Ye78uR"
      },
      "source": [
        "We also implement a single band version of the function."
      ]
    },
    {
      "cell_type": "code",
      "execution_count": 4,
      "metadata": {
        "id": "jDxH6YSA78uV"
      },
      "outputs": [],
      "source": [
        "def orbital_chi1(IR_basis_set, hkgk, klist, mu_range):\n",
        "    smpl_iwn = IR_basis_set.smpl_wn_f.wn\n",
        "    chi_iw = np.zeros((len(mu_range), len(smpl_iwn)), dtype=complex)\n",
        "    for k in klist:\n",
        "        hk, gx, gy, gxy = hkgk(k)\n",
        "        giw = 1/(1j * np.pi/IR_basis_set.beta * smpl_iwn[None,:] - (hk - mu_range[:,None]))\n",
        "        chi_iw += gx**2 * gy**2 * giw**4\n",
        "        chi_iw += gx * gy * gxy * giw**3\n",
        "    chil = IR_basis_set.smpl_wn_f.fit(chi_iw, axis=1)\n",
        "    chi_tau = IR_basis_set.smpl_tau_f.evaluate(chil, axis=1)\n",
        "    return chi_tau[:,0].real / len(klist)"
      ]
    },
    {
      "cell_type": "markdown",
      "metadata": {
        "id": "s3KKNWxH3jXI"
      },
      "source": [
        "We set the IR basis set and $\\boldsymbol k$ mesh."
      ]
    },
    {
      "cell_type": "code",
      "execution_count": 5,
      "metadata": {
        "colab": {
          "base_uri": "https://localhost:8080/"
        },
        "id": "KGLTSItOD7Q2",
        "outputId": "66dcd578-4e50-4df8-8e7d-c581974569fe"
      },
      "outputs": [],
      "source": [
        "IR_basis_set = sparse_ir.FiniteTempBasisSet(beta=beta, wmax=wmax, eps=IR_tol)\n",
        "kx_list = np.arange(nk1)/nk1\n",
        "ky_list = np.arange(nk2)/nk2\n",
        "klist = np.array(list(itertools.product(kx_list, ky_list)))"
      ]
    },
    {
      "cell_type": "markdown",
      "metadata": {
        "id": "LgOBmRYX2YGH"
      },
      "source": [
        "#### Two-dimensional square lattice\n",
        "Now, we evaluate the orbital magnetic susceptibility as a function of chemical potential, $\\chi(\\mu)$, for the two-dimensional square lattice."
      ]
    },
    {
      "cell_type": "code",
      "execution_count": 6,
      "metadata": {
        "id": "tBO466iNDgkS"
      },
      "outputs": [],
      "source": [
        "def hkgk_square(k):\n",
        "    hk = -2 * t * (np.cos(2*np.pi*k[0]) + np.cos(2*np.pi*k[1]))\n",
        "    gx = 2 * t * a * np.sin(2*np.pi*k[0])\n",
        "    gy = 2 * t * a * np.sin(2*np.pi*k[1])\n",
        "    gxy = 0\n",
        "    return hk, gx, gy, gxy\n",
        "\n",
        "chi_mu = orbital_chi1(IR_basis_set, hkgk_square, klist, mu_range)"
      ]
    },
    {
      "cell_type": "markdown",
      "metadata": {
        "id": "pzDpz35p5_oV"
      },
      "source": [
        "For comparison, we calculate the analytic result at $T=0$ [3,5]."
      ]
    },
    {
      "cell_type": "code",
      "execution_count": 7,
      "metadata": {
        "colab": {
          "base_uri": "https://localhost:8080/",
          "height": 281
        },
        "id": "_BiVZUCtEAiU",
        "outputId": "f1fa1931-f210-437b-ac87-e13df85d66fa"
      },
      "outputs": [
        {
          "data": {
            "image/png": "[encoded data removed]",
            "text/plain": [
              "<Figure size 432x288 with 1 Axes>"
            ]
          },
          "metadata": {
            "needs_background": "light"
          },
          "output_type": "display_data"
        }
      ],
      "source": [
        "k = 1 - mu_range**2/16\n",
        "chi_anltc = -(scipy.special.ellipe(k)-scipy.special.ellipk(k)/2)*(2/3)/np.pi**2\n",
        "\n",
        "plt.plot(mu_range, chi_mu, label='IR Basis')\n",
        "plt.plot(mu_range, chi_anltc, label='Analitic (T=0)')\n",
        "plt.xlabel(\"$\\mu$\")\n",
        "plt.ylabel(\"$\\chi$\")\n",
        "plt.legend()\n",
        "plt.show()"
      ]
    },
    {
      "cell_type": "markdown",
      "metadata": {
        "id": "mHQSamXO6VSq"
      },
      "source": [
        "#### Graphene\n",
        "Next, we evaluate the orbital magnetic suscepitbility for graphene."
      ]
    },
    {
      "cell_type": "code",
      "execution_count": 8,
      "metadata": {
        "id": "KcrhxHmMbVxd"
      },
      "outputs": [],
      "source": [
        "sq3 = np.sqrt(3)\n",
        "def hkgk_graphene(k):\n",
        "    kx, ky = 2*np.pi*k[0]/a, 2*np.pi*(k[0] + 2*k[1])/(a*sq3)\n",
        "    h = -t * (np.exp(1j*ky*a/sq3) + 2 * np.cos(kx*a/2) * np.exp(-1j*ky*a/(2*sq3)))\n",
        "    hk = np.array([ [ 0, h ], [ np.conj(h), 0 ] ])\n",
        "    \n",
        "    hx =  t * a * np.sin(kx/2) * np.exp(-1j*ky/(2*sq3))\n",
        "    hy = -t * a * (1j/sq3 * (np.exp(1j*ky/sq3) - np.cos(kx/2) * np.exp(-1j*ky/(2*sq3))))\n",
        "    gx = np.array([ [ 0, hx ], [ np.conj(hx), 0 ] ])\n",
        "    gy = np.array([ [ 0, hy ], [ np.conj(hy), 0 ] ])\n",
        "    \n",
        "    hxy = -t * a * a * 1j/(2*sq3) * np.sin(kx/2) * np.exp(-1j*ky/(2*sq3))\n",
        "    gxy = np.array([ [ 0, hxy ], [ np.conj(hxy), 0 ] ])\n",
        "\n",
        "    return hk, gx, gy, gxy\n",
        "\n",
        "chi_mu = orbital_chi(IR_basis_set, hkgk_graphene, klist, mu_range)"
      ]
    },
    {
      "cell_type": "code",
      "execution_count": 9,
      "metadata": {
        "colab": {
          "base_uri": "https://localhost:8080/",
          "height": 281
        },
        "id": "E9CSNPAp78vH",
        "outputId": "5bef8a9f-739e-45e2-d0de-8b4a55126892"
      },
      "outputs": [
        {
          "data": {
            "image/png": "[encoded data removed]",
            "text/plain": [
              "<Figure size 432x288 with 1 Axes>"
            ]
          },
          "metadata": {
            "needs_background": "light"
          },
          "output_type": "display_data"
        }
      ],
      "source": [
        "plt.plot(mu_range, chi_mu, label='IR Basis')\n",
        "plt.xlabel(\"$\\mu$\")\n",
        "plt.ylabel(\"$\\chi$\")\n",
        "plt.legend()\n",
        "plt.show()"
      ]
    },
    {
      "cell_type": "code",
      "execution_count": 10,
      "metadata": {
        "id": "CacL7F-UiRKN"
      },
      "outputs": [],
      "source": [
        "#for i in range(len(chi_mu)):\n",
        "#  print(chi_mu[i])"
      ]
    },
    {
      "cell_type": "code",
      "execution_count": null,
      "metadata": {
        "id": "L9vbCtUJ9LbD"
      },
      "outputs": [],
      "source": []
    }
  ],
  "metadata": {
    "colab": {
      "name": "chi_sample_v3.ipynb",
      "provenance": []
    },
    "kernelspec": {
      "display_name": "Python 3",
      "language": "python",
      "name": "python3"
    },
    "language_info": {
      "codemirror_mode": {
        "name": "ipython",
        "version": 3
      },
      "file_extension": ".py",
      "mimetype": "text/x-python",
      "name": "python",
      "nbconvert_exporter": "python",
      "pygments_lexer": "ipython3",
      "version": "3.9.10"
    }
  },
  "nbformat": 4,
  "nbformat_minor": 0
}
