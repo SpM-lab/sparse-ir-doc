{
 "cells": [
  {
   "cell_type": "code",
   "execution_count": null,
   "id": "c69b0746",
   "metadata": {},
   "outputs": [],
   "source": []
  },
  {
   "cell_type": "markdown",
   "id": "e52f314f",
   "metadata": {},
   "source": [
    "# Solving Bogoliubov-de Gennes equations and Gap equations\n",
    "We consider two-dimensional s-wave superconductor. "
   ]
  },
  {
   "cell_type": "code",
   "execution_count": 1,
   "id": "7b10e5ac",
   "metadata": {},
   "outputs": [
    {
     "name": "stderr",
     "output_type": "stream",
     "text": [
      "\u001b[32m\u001b[1m     Cloning\u001b[22m\u001b[39m git-repo `https://github.com/cometscome/RSCG.jl.git`\n",
      "\u001b[32m\u001b[1m    Updating\u001b[22m\u001b[39m git-repo `https://github.com/cometscome/RSCG.jl.git`\n",
      "\u001b[32m\u001b[1m    Updating\u001b[22m\u001b[39m registry at `~/.julia/registries/General.toml`\n",
      "\u001b[32m\u001b[1m   Resolving\u001b[22m\u001b[39m package versions...\n",
      "\u001b[32m\u001b[1m   Installed\u001b[22m\u001b[39m LinearMaps ─ v3.6.1\n",
      "\u001b[32m\u001b[1m    Updating\u001b[22m\u001b[39m `~/.julia/environments/v1.7/Project.toml`\n",
      " \u001b[90m [4e41d8b6] \u001b[39m\u001b[92m+ RSCG v0.1.1 `https://github.com/cometscome/RSCG.jl.git#master`\u001b[39m\n",
      "\u001b[32m\u001b[1m    Updating\u001b[22m\u001b[39m `~/.julia/environments/v1.7/Manifest.toml`\n",
      " \u001b[90m [7a12625a] \u001b[39m\u001b[92m+ LinearMaps v3.6.1\u001b[39m\n",
      " \u001b[90m [4e41d8b6] \u001b[39m\u001b[92m+ RSCG v0.1.1 `https://github.com/cometscome/RSCG.jl.git#master`\u001b[39m\n",
      "\u001b[32m\u001b[1mPrecompiling\u001b[22m\u001b[39m project...\n",
      "\u001b[32m  ✓ \u001b[39m\u001b[90mLinearMaps\u001b[39m\n",
      "\u001b[32m  ✓ \u001b[39mRSCG\n",
      "  2 dependencies successfully precompiled in 1 seconds (294 already precompiled)\n"
     ]
    }
   ],
   "source": [
    "using Pkg\n",
    "Pkg.add(PackageSpec(name=\"RSCG\",rev = \"master\"))\n",
    "using RSCG"
   ]
  },
  {
   "cell_type": "markdown",
   "id": "4f505125",
   "metadata": {},
   "source": []
  },
  {
   "cell_type": "code",
   "execution_count": 2,
   "id": "20ce7a0e",
   "metadata": {},
   "outputs": [
    {
     "data": {
      "text/plain": [
       "make_hamiltonian (generic function with 1 method)"
      ]
     },
     "execution_count": 2,
     "metadata": {},
     "output_type": "execute_result"
    }
   ],
   "source": [
    "using SparseArrays\n",
    "\n",
    "function make_hamiltonian(Nx,Ny,Δ,μ)\n",
    "    N = Nx*Ny\n",
    "    H = spzeros(ComplexF64,2N,2N)\n",
    "    t = 1.0\n",
    "    ds = [(0,0),(1,0),(-1,0),(0,1),(0,-1)]\n",
    "    for ix=1:Nx\n",
    "        for iy=1:Ny\n",
    "            i = (iy-1)*Nx + ix\n",
    "            for d in ds\n",
    "                jx = ix + d[1]\n",
    "                jy = iy + d[2]\n",
    "                jx += ifelse(jx > Nx,-Nx,0)\n",
    "                jx += ifelse(jx < 1,Nx,0)\n",
    "                jy += ifelse(jy > Ny,-Ny,0)\n",
    "                jy += ifelse(jy < 1,Ny,0)\n",
    "                j = (jy-1)*Nx + jx\n",
    "                if jx == ix && jy == iy\n",
    "                    H[i,j] += -μ\n",
    "                else\n",
    "                    H[i,j] += -t\n",
    "                end\n",
    "                \n",
    "                H[i+N,j+N] += -conj(H[i,j])\n",
    "            end  \n",
    "            \n",
    "            jx = ix\n",
    "            jy = iy\n",
    "            j = (jy-1)*Nx + jx\n",
    "            \n",
    "            H[i,j+N] += Δ[ix,iy]\n",
    "            H[j+N,i] += conj(H[i,j+N])\n",
    "        end\n",
    "    end\n",
    "    return H\n",
    "end\n",
    "\n"
   ]
  },
  {
   "cell_type": "code",
   "execution_count": 3,
   "id": "30fbc8e1",
   "metadata": {},
   "outputs": [
    {
     "data": {
      "text/plain": [
       "update_H! (generic function with 1 method)"
      ]
     },
     "execution_count": 3,
     "metadata": {},
     "output_type": "execute_result"
    }
   ],
   "source": [
    "function update_H!(H,Δ)\n",
    "    Nx,Ny = size(Δ)\n",
    "    N = Nx*Ny\n",
    "    for ix=1:Nx\n",
    "        for iy=1:Ny\n",
    "            i = (iy-1)*Nx + ix\n",
    "            \n",
    "            jx = ix\n",
    "            jy = iy\n",
    "            j = (jy-1)*Nx + jx\n",
    "            \n",
    "            H[i,j+N] = Δ[ix,iy]\n",
    "            H[j+N,i] = conj(H[i,j+N])\n",
    "        end\n",
    "    end\n",
    "end\n",
    "\n"
   ]
  },
  {
   "cell_type": "code",
   "execution_count": 4,
   "id": "d4b498a0",
   "metadata": {},
   "outputs": [
    {
     "data": {
      "text/plain": [
       "calc_Δ_ir! (generic function with 1 method)"
      ]
     },
     "execution_count": 4,
     "metadata": {},
     "output_type": "execute_result"
    }
   ],
   "source": [
    "function fit_ir(Gij,smpl_Matsubara,smpl_beta)\n",
    "    gl = fit(smpl_Matsubara, Gij)\n",
    "    G0 = evaluate(smpl_beta, gl)\n",
    "    return -G0[1]\n",
    "end\n",
    "\n",
    "function calc_Δ_ir!(Δnew,H,Δold,T,U,ωn,smpl_Matsubara,smpl_beta,;mixratio = 0.5)\n",
    "\n",
    "    Nx,Ny = size(Δold)\n",
    "    N = Nx*Ny\n",
    "    for ix=1:Nx\n",
    "        for iy=1:Ny\n",
    "            i = (iy-1)*Nx + ix\n",
    "            j = i + N\n",
    "            Gij = greensfunctions(i,j,ωn,H) \n",
    "            G0 = fit_ir(Gij,smpl_Matsubara,smpl_beta)            \n",
    "            Δi = U*G0            \n",
    "            Δnew[ix,iy] = (1-mixratio)*Δold[ix,iy] + mixratio*Δi    \n",
    "        end\n",
    "    end\n",
    "end\n",
    "\n"
   ]
  },
  {
   "cell_type": "code",
   "execution_count": 5,
   "id": "e9b9894a",
   "metadata": {},
   "outputs": [
    {
     "data": {
      "text/plain": [
       "calc_Δ! (generic function with 1 method)"
      ]
     },
     "execution_count": 5,
     "metadata": {},
     "output_type": "execute_result"
    }
   ],
   "source": [
    "function calc_ωn(T,ωc)\n",
    "    M = Int((round(ωc/(T*π)))/2-1)\n",
    "    println(\"num. of Matsubara freq: \",2M)\n",
    "    ωn = zeros(ComplexF64,2M)\n",
    "    for n=1:2M\n",
    "        ωn[n] = π*T*(2.0*(n-M-1)+1)*im\n",
    "    end\n",
    "    return ωn\n",
    "end\n",
    "\n",
    "function calc_Δ!(Δnew,H,Δold,T,U,ωn;mixratio = 0.5)\n",
    "    Nx,Ny = size(Δold)\n",
    "    N = Nx*Ny\n",
    "    for ix=1:Nx\n",
    "        for iy=1:Ny\n",
    "            i = (iy-1)*Nx + ix\n",
    "            j = i + N\n",
    "            Gij = greensfunctions(i,j,ωn,H) \n",
    "            Δi = U*T*sum(Gij)\n",
    "            Δnew[ix,iy] = (1-mixratio)*Δold[ix,iy] + mixratio*Δi    \n",
    "        end\n",
    "    end\n",
    "end"
   ]
  },
  {
   "cell_type": "code",
   "execution_count": 6,
   "id": "eb3abdc9",
   "metadata": {},
   "outputs": [
    {
     "name": "stdout",
     "output_type": "stream",
     "text": [
      "num. of Matsubara freqs. 30\n",
      "1 0.1970941450229605 0.8029058549770395 - 5.46104727332768e-15im\n",
      "2 0.15787367222268378 0.6761481592026459 - 1.0513376894487245e-14im\n",
      "3 0.12565203071793377 0.5911887699349736 - 1.0760666815909707e-14im\n",
      "4 0.09961174945406608 0.5322994230445646 - 1.6635198636794365e-14im\n",
      "5 0.07878716855818718 0.490361053714108 - 2.401474822531295e-14im\n",
      "6 0.062242811851004116 0.4598396046836746 - 2.805531451728743e-14im\n",
      "7 0.049149947261247856 0.4372385164288109 - 3.1486331328943926e-14im\n",
      "8 0.038810120863390314 0.4202692369248294 - 3.311562050639408e-14im\n",
      "9 0.030651990847311596 0.4073871392882944 - 3.521147629584446e-14im\n",
      "10 0.02421659433752495 0.39752159159263234 - 3.823416035490349e-14im\n",
      "11 0.019139211630043965 0.3899133636348928 - 4.1658289754626066e-14im\n",
      "12 0.015131780526092434 0.3840132801609512 - 4.485629622360031e-14im\n",
      "13 0.01196728148108836 0.37941768478677174 - 4.957879725049447e-14im\n",
      "14 0.009467253058406507 0.3758256333312678 - 5.509730080218671e-14im\n",
      "15 0.007491320988853261 0.3730102102142351 - 5.857127669070016e-14im\n",
      "16 0.00592899940744596 0.37079863129055474 - 6.136905187766966e-14im\n",
      "17 0.004693292006957131 0.3690583759287121 - 6.557941952712651e-14im\n",
      "18 0.003715663688872137 0.3676870749237798 - 6.908197157094218e-14im\n",
      "19 0.0029419817770606057 0.3666053467878797 - 7.39619288441564e-14im\n",
      "20 0.0023296102903317037 0.3657512977987024 - 7.890312447617606e-14im\n",
      "21 0.0018448413898686916 0.3650765427997974 - 8.121431245664408e-14im\n",
      "22 0.0014610326199799666 0.36454315845712326 - 8.672835106967825e-14im\n",
      "23 0.0011571242776616773 0.3641213322240538 - 9.017885423083469e-14im\n",
      "24 0.0009164688790817398 0.3637876223271519 - 9.517683790397757e-14im\n",
      "25 0.0007258876236435201 0.3635235631355088 - 9.968431285497615e-14im\n",
      "26 0.0005749481684185946 0.36331455833360904 - 1.0585730842744671e-13im\n",
      "27 0.00045540494138107825 0.36314909750785795 - 1.1021929827833374e-13im\n",
      "28 0.0003607244286038637 0.3630181021752525 - 1.1434439561328805e-13im\n",
      "29 0.0002857292553096472 0.36291437834586326 - 1.1796556731352106e-13im\n",
      "30 0.00022632912466106095 0.36283223496705186 - 1.2158856853069225e-13im\n",
      "31 0.0001792750437730078 0.36276718394127094 - 1.2474536982131355e-13im\n",
      "32 0.00014201200812349323 0.3627156697530361 - 1.279105984764419e-13im\n",
      "33 0.00011248391202801015 0.3626748643357829 - 1.3453616466003703e-13im\n",
      "34 8.910893856639702e-5 0.36264254620890196 - 1.403087337527856e-13im\n",
      "35 7.058766231565883e-5 0.3626169483586016 - 1.4560332556744005e-13im\n",
      "36 5.5914781525335075e-5 0.3625966735254339 - 1.4974276582031712e-13im\n",
      "37 4.4283232086839414e-5 0.36258061602811964 - 1.5438745262350742e-13im\n",
      "38 3.508498880780286e-5 0.362567895200266 - 1.5970277640651542e-13im\n",
      "39 2.777876671650025e-5 0.3625578192248323 - 1.6371426713207676e-13im\n",
      "40 2.2006765175116e-5 0.3625498385678193 - 1.6826010443914376e-13im\n",
      "41 1.744473014873198e-5 0.3625435198363104 - 1.7176305880048678e-13im\n",
      "42 1.3817774866640726e-5 0.3625385107436149 - 1.764813379777795e-13im\n",
      "43 1.0945791180162566e-5 0.36253454272092556 - 1.795251613930634e-13im\n",
      "44 8.6664662152746e-6 0.36253140739415035 - 1.8374663514285163e-13im\n",
      "45 6.858114327306502e-6 0.36252891519222963 - 1.8805436610325371e-13im\n",
      "46 5.443467299781667e-6 0.36252694456726925 - 1.9100801059955297e-13im\n",
      "47 4.3052155108034095e-6 0.3625253802561851 - 1.9737356689746418e-13im\n",
      "48 3.413855320777579e-6 0.3625241416586544 - 2.0225237962684822e-13im\n",
      "49 2.707721232151782e-6 0.3625231608163686 - 2.0564559488895967e-13im\n",
      "50 2.1463306751772333e-6 0.36252238394063796 - 2.096123235187261e-13im\n",
      "51 1.6959775077812176e-6 0.36252176977258777 - 2.1379312697589313e-13im\n",
      "52 1.3448171466321023e-6 0.36252129022082724 - 2.2032599053091238e-13im\n",
      "53 1.065868449523225e-6 0.3625209007957263 - 2.2434899646676574e-13im\n",
      "54 8.413785444220588e-7 0.36252060278632836 - 2.2772977035336385e-13im\n"
     ]
    }
   ],
   "source": [
    "using SparseIR\n",
    "T = 0.05\n",
    "\n",
    "beta = 1/T\n",
    "wmax = 10.0\n",
    "\n",
    "basis = FiniteTempBasis(fermion, beta, wmax, 1e-7)\n",
    "smpl = MatsubaraSampling(basis)\n",
    "ωn = smpl.sampling_points .* (im * π/beta)\n",
    "println(\"num. of Matsubara freqs. \", length(ωn))\n",
    "smpl_beta = TauSampling(basis, [beta])\n",
    "\n",
    "U  =-2\n",
    "itemax = 1000\n",
    "μ = -0.2\n",
    "\n",
    "Nx = 20\n",
    "Ny = 20\n",
    "Δ = ones(ComplexF64,Nx,Ny)\n",
    "Δold = copy(Δ)\n",
    "Δnew = zero(Δ)\n",
    "H = make_hamiltonian(Nx,Ny,Δold,μ)\n",
    "\n",
    "ix = Nx ÷ 2\n",
    "iy = Ny ÷ 2\n",
    "i = (iy-1)*Nx + ix\n",
    "j = i\n",
    "\n",
    "\n",
    "for ite = 1:itemax\n",
    "    calc_Δ_ir!(Δnew,H,Δold,T,U,ωn,smpl,smpl_beta)\n",
    "    #calc_Δ!(Δnew,H,Δold,T,U,ωn2)\n",
    "    update_H!(H,Δnew)\n",
    "    eps = sum(abs.(Δnew-Δold))/sum(abs.(Δold))\n",
    "    println(\"$ite $eps \",Δnew[ix,iy])\n",
    "    Δold .= Δnew\n",
    "    if eps < 1e-6\n",
    "        break\n",
    "    end\n",
    "end"
   ]
  },
  {
   "cell_type": "code",
   "execution_count": 7,
   "id": "1ff042a5",
   "metadata": {},
   "outputs": [
    {
     "data": {
      "image/svg+xml": "<?xml version=\"1.0\" encoding=\"utf-8\"?>\n<svg xmlns=\"http://www.w3.org/2000/svg\" xmlns:xlink=\"http://www.w3.org/1999/xlink\" width=\"600\" height=\"400\" viewBox=\"0 0 2400 1600\">\n<defs>\n  <clipPath id=\"clip640\">\n    <rect x=\"0\" y=\"0\" width=\"2400\" height=\"1600\"/>\n  </clipPath>\n</defs>\n<path clip-path=\"url(#clip640)\" d=\"\nM0 1600 L2400 1600 L2400 0 L0 0  Z\n  \" fill=\"#ffffff\" fill-rule=\"evenodd\" fill-opacity=\"1\"/>\n<defs>\n  <clipPath id=\"clip641\">\n    <rect x=\"480\" y=\"0\" width=\"1681\" height=\"1600\"/>\n  </clipPath>\n</defs>\n<path clip-path=\"url(#clip640)\" d=\"\nM156.598 1486.45 L2352.76 1486.45 L2352.76 47.2441 L156.598 47.2441  Z\n  \" fill=\"#ffffff\" fill-rule=\"evenodd\" fill-opacity=\"1\"/>\n<defs>\n  <clipPath id=\"clip642\">\n    <rect x=\"156\" y=\"47\" width=\"2197\" height=\"1440\"/>\n  </clipPath>\n</defs>\n<polyline clip-path=\"url(#clip642)\" style=\"stroke:#000000; stroke-linecap:butt; stroke-linejoin:round; stroke-width:2; stroke-opacity:0.1; fill:none\" points=\"\n  218.754,1486.45 218.754,47.2441 \n  \"/>\n<polyline clip-path=\"url(#clip642)\" style=\"stroke:#000000; stroke-linecap:butt; stroke-linejoin:round; stroke-width:2; stroke-opacity:0.1; fill:none\" points=\"\n  736.715,1486.45 736.715,47.2441 \n  \"/>\n<polyline clip-path=\"url(#clip642)\" style=\"stroke:#000000; stroke-linecap:butt; stroke-linejoin:round; stroke-width:2; stroke-opacity:0.1; fill:none\" points=\"\n  1254.68,1486.45 1254.68,47.2441 \n  \"/>\n<polyline clip-path=\"url(#clip642)\" style=\"stroke:#000000; stroke-linecap:butt; stroke-linejoin:round; stroke-width:2; stroke-opacity:0.1; fill:none\" points=\"\n  1772.64,1486.45 1772.64,47.2441 \n  \"/>\n<polyline clip-path=\"url(#clip642)\" style=\"stroke:#000000; stroke-linecap:butt; stroke-linejoin:round; stroke-width:2; stroke-opacity:0.1; fill:none\" points=\"\n  2290.6,1486.45 2290.6,47.2441 \n  \"/>\n<polyline clip-path=\"url(#clip640)\" style=\"stroke:#000000; stroke-linecap:butt; stroke-linejoin:round; stroke-width:4; stroke-opacity:1; fill:none\" points=\"\n  156.598,1486.45 2352.76,1486.45 \n  \"/>\n<polyline clip-path=\"url(#clip640)\" style=\"stroke:#000000; stroke-linecap:butt; stroke-linejoin:round; stroke-width:4; stroke-opacity:1; fill:none\" points=\"\n  218.754,1486.45 218.754,1467.55 \n  \"/>\n<polyline clip-path=\"url(#clip640)\" style=\"stroke:#000000; stroke-linecap:butt; stroke-linejoin:round; stroke-width:4; stroke-opacity:1; fill:none\" points=\"\n  736.715,1486.45 736.715,1467.55 \n  \"/>\n<polyline clip-path=\"url(#clip640)\" style=\"stroke:#000000; stroke-linecap:butt; stroke-linejoin:round; stroke-width:4; stroke-opacity:1; fill:none\" points=\"\n  1254.68,1486.45 1254.68,1467.55 \n  \"/>\n<polyline clip-path=\"url(#clip640)\" style=\"stroke:#000000; stroke-linecap:butt; stroke-linejoin:round; stroke-width:4; stroke-opacity:1; fill:none\" points=\"\n  1772.64,1486.45 1772.64,1467.55 \n  \"/>\n<polyline clip-path=\"url(#clip640)\" style=\"stroke:#000000; stroke-linecap:butt; stroke-linejoin:round; stroke-width:4; stroke-opacity:1; fill:none\" points=\"\n  2290.6,1486.45 2290.6,1467.55 \n  \"/>\n<path clip-path=\"url(#clip640)\" d=\"M187.654 1532.02 L217.33 1532.02 L217.33 1535.95 L187.654 1535.95 L187.654 1532.02 Z\" fill=\"#000000\" fill-rule=\"evenodd\" fill-opacity=\"1\" /><path clip-path=\"url(#clip640)\" d=\"M240.27 1518.36 L228.464 1536.81 L240.27 1536.81 L240.27 1518.36 M239.043 1514.29 L244.922 1514.29 L244.922 1536.81 L249.853 1536.81 L249.853 1540.7 L244.922 1540.7 L244.922 1548.85 L240.27 1548.85 L240.27 1540.7 L224.668 1540.7 L224.668 1536.19 L239.043 1514.29 Z\" fill=\"#000000\" fill-rule=\"evenodd\" fill-opacity=\"1\" /><path clip-path=\"url(#clip640)\" d=\"M706.658 1532.02 L736.333 1532.02 L736.333 1535.95 L706.658 1535.95 L706.658 1532.02 Z\" fill=\"#000000\" fill-rule=\"evenodd\" fill-opacity=\"1\" /><path clip-path=\"url(#clip640)\" d=\"M750.454 1544.91 L766.773 1544.91 L766.773 1548.85 L744.829 1548.85 L744.829 1544.91 Q747.491 1542.16 752.074 1537.53 Q756.681 1532.88 757.861 1531.53 Q760.106 1529.01 760.986 1527.27 Q761.889 1525.51 761.889 1523.82 Q761.889 1521.07 759.944 1519.33 Q758.023 1517.6 754.921 1517.6 Q752.722 1517.6 750.269 1518.36 Q747.838 1519.13 745.06 1520.68 L745.06 1515.95 Q747.884 1514.82 750.338 1514.24 Q752.792 1513.66 754.829 1513.66 Q760.199 1513.66 763.393 1516.35 Q766.588 1519.03 766.588 1523.52 Q766.588 1525.65 765.778 1527.57 Q764.991 1529.47 762.884 1532.07 Q762.305 1532.74 759.204 1535.95 Q756.102 1539.15 750.454 1544.91 Z\" fill=\"#000000\" fill-rule=\"evenodd\" fill-opacity=\"1\" /><path clip-path=\"url(#clip640)\" d=\"M1254.68 1517.37 Q1251.07 1517.37 1249.24 1520.93 Q1247.43 1524.47 1247.43 1531.6 Q1247.43 1538.71 1249.24 1542.27 Q1251.07 1545.82 1254.68 1545.82 Q1258.31 1545.82 1260.12 1542.27 Q1261.95 1538.71 1261.95 1531.6 Q1261.95 1524.47 1260.12 1520.93 Q1258.31 1517.37 1254.68 1517.37 M1254.68 1513.66 Q1260.49 1513.66 1263.54 1518.27 Q1266.62 1522.85 1266.62 1531.6 Q1266.62 1540.33 1263.54 1544.94 Q1260.49 1549.52 1254.68 1549.52 Q1248.87 1549.52 1245.79 1544.94 Q1242.73 1540.33 1242.73 1531.6 Q1242.73 1522.85 1245.79 1518.27 Q1248.87 1513.66 1254.68 1513.66 Z\" fill=\"#000000\" fill-rule=\"evenodd\" fill-opacity=\"1\" /><path clip-path=\"url(#clip640)\" d=\"M1767.29 1544.91 L1783.61 1544.91 L1783.61 1548.85 L1761.67 1548.85 L1761.67 1544.91 Q1764.33 1542.16 1768.91 1537.53 Q1773.52 1532.88 1774.7 1531.53 Q1776.94 1529.01 1777.82 1527.27 Q1778.73 1525.51 1778.73 1523.82 Q1778.73 1521.07 1776.78 1519.33 Q1774.86 1517.6 1771.76 1517.6 Q1769.56 1517.6 1767.11 1518.36 Q1764.68 1519.13 1761.9 1520.68 L1761.9 1515.95 Q1764.72 1514.82 1767.18 1514.24 Q1769.63 1513.66 1771.67 1513.66 Q1777.04 1513.66 1780.23 1516.35 Q1783.43 1519.03 1783.43 1523.52 Q1783.43 1525.65 1782.62 1527.57 Q1781.83 1529.47 1779.72 1532.07 Q1779.14 1532.74 1776.04 1535.95 Q1772.94 1539.15 1767.29 1544.91 Z\" fill=\"#000000\" fill-rule=\"evenodd\" fill-opacity=\"1\" /><path clip-path=\"url(#clip640)\" d=\"M2293.61 1518.36 L2281.8 1536.81 L2293.61 1536.81 L2293.61 1518.36 M2292.38 1514.29 L2298.26 1514.29 L2298.26 1536.81 L2303.19 1536.81 L2303.19 1540.7 L2298.26 1540.7 L2298.26 1548.85 L2293.61 1548.85 L2293.61 1540.7 L2278.01 1540.7 L2278.01 1536.19 L2292.38 1514.29 Z\" fill=\"#000000\" fill-rule=\"evenodd\" fill-opacity=\"1\" /><polyline clip-path=\"url(#clip642)\" style=\"stroke:#000000; stroke-linecap:butt; stroke-linejoin:round; stroke-width:2; stroke-opacity:0.1; fill:none\" points=\"\n  156.598,1467.32 2352.76,1467.32 \n  \"/>\n<polyline clip-path=\"url(#clip642)\" style=\"stroke:#000000; stroke-linecap:butt; stroke-linejoin:round; stroke-width:2; stroke-opacity:0.1; fill:none\" points=\"\n  156.598,1176.91 2352.76,1176.91 \n  \"/>\n<polyline clip-path=\"url(#clip642)\" style=\"stroke:#000000; stroke-linecap:butt; stroke-linejoin:round; stroke-width:2; stroke-opacity:0.1; fill:none\" points=\"\n  156.598,886.496 2352.76,886.496 \n  \"/>\n<polyline clip-path=\"url(#clip642)\" style=\"stroke:#000000; stroke-linecap:butt; stroke-linejoin:round; stroke-width:2; stroke-opacity:0.1; fill:none\" points=\"\n  156.598,596.085 2352.76,596.085 \n  \"/>\n<polyline clip-path=\"url(#clip642)\" style=\"stroke:#000000; stroke-linecap:butt; stroke-linejoin:round; stroke-width:2; stroke-opacity:0.1; fill:none\" points=\"\n  156.598,305.674 2352.76,305.674 \n  \"/>\n<polyline clip-path=\"url(#clip640)\" style=\"stroke:#000000; stroke-linecap:butt; stroke-linejoin:round; stroke-width:4; stroke-opacity:1; fill:none\" points=\"\n  156.598,1486.45 156.598,47.2441 \n  \"/>\n<polyline clip-path=\"url(#clip640)\" style=\"stroke:#000000; stroke-linecap:butt; stroke-linejoin:round; stroke-width:4; stroke-opacity:1; fill:none\" points=\"\n  156.598,1467.32 175.496,1467.32 \n  \"/>\n<polyline clip-path=\"url(#clip640)\" style=\"stroke:#000000; stroke-linecap:butt; stroke-linejoin:round; stroke-width:4; stroke-opacity:1; fill:none\" points=\"\n  156.598,1176.91 175.496,1176.91 \n  \"/>\n<polyline clip-path=\"url(#clip640)\" style=\"stroke:#000000; stroke-linecap:butt; stroke-linejoin:round; stroke-width:4; stroke-opacity:1; fill:none\" points=\"\n  156.598,886.496 175.496,886.496 \n  \"/>\n<polyline clip-path=\"url(#clip640)\" style=\"stroke:#000000; stroke-linecap:butt; stroke-linejoin:round; stroke-width:4; stroke-opacity:1; fill:none\" points=\"\n  156.598,596.085 175.496,596.085 \n  \"/>\n<polyline clip-path=\"url(#clip640)\" style=\"stroke:#000000; stroke-linecap:butt; stroke-linejoin:round; stroke-width:4; stroke-opacity:1; fill:none\" points=\"\n  156.598,305.674 175.496,305.674 \n  \"/>\n<path clip-path=\"url(#clip640)\" d=\"M63.4226 1453.12 Q59.8115 1453.12 57.9828 1456.68 Q56.1773 1460.22 56.1773 1467.35 Q56.1773 1474.46 57.9828 1478.02 Q59.8115 1481.57 63.4226 1481.57 Q67.0569 1481.57 68.8624 1478.02 Q70.6911 1474.46 70.6911 1467.35 Q70.6911 1460.22 68.8624 1456.68 Q67.0569 1453.12 63.4226 1453.12 M63.4226 1449.41 Q69.2328 1449.41 72.2883 1454.02 Q75.367 1458.6 75.367 1467.35 Q75.367 1476.08 72.2883 1480.69 Q69.2328 1485.27 63.4226 1485.27 Q57.6125 1485.27 54.5338 1480.69 Q51.4782 1476.08 51.4782 1467.35 Q51.4782 1458.6 54.5338 1454.02 Q57.6125 1449.41 63.4226 1449.41 Z\" fill=\"#000000\" fill-rule=\"evenodd\" fill-opacity=\"1\" /><path clip-path=\"url(#clip640)\" d=\"M83.5845 1478.72 L88.4688 1478.72 L88.4688 1484.6 L83.5845 1484.6 L83.5845 1478.72 Z\" fill=\"#000000\" fill-rule=\"evenodd\" fill-opacity=\"1\" /><path clip-path=\"url(#clip640)\" d=\"M108.654 1453.12 Q105.043 1453.12 103.214 1456.68 Q101.409 1460.22 101.409 1467.35 Q101.409 1474.46 103.214 1478.02 Q105.043 1481.57 108.654 1481.57 Q112.288 1481.57 114.094 1478.02 Q115.922 1474.46 115.922 1467.35 Q115.922 1460.22 114.094 1456.68 Q112.288 1453.12 108.654 1453.12 M108.654 1449.41 Q114.464 1449.41 117.52 1454.02 Q120.598 1458.6 120.598 1467.35 Q120.598 1476.08 117.52 1480.69 Q114.464 1485.27 108.654 1485.27 Q102.844 1485.27 99.765 1480.69 Q96.7095 1476.08 96.7095 1467.35 Q96.7095 1458.6 99.765 1454.02 Q102.844 1449.41 108.654 1449.41 Z\" fill=\"#000000\" fill-rule=\"evenodd\" fill-opacity=\"1\" /><path clip-path=\"url(#clip640)\" d=\"M64.6495 1162.71 Q61.0384 1162.71 59.2097 1166.27 Q57.4041 1169.81 57.4041 1176.94 Q57.4041 1184.05 59.2097 1187.61 Q61.0384 1191.15 64.6495 1191.15 Q68.2837 1191.15 70.0892 1187.61 Q71.9179 1184.05 71.9179 1176.94 Q71.9179 1169.81 70.0892 1166.27 Q68.2837 1162.71 64.6495 1162.71 M64.6495 1159 Q70.4596 1159 73.5152 1163.61 Q76.5938 1168.19 76.5938 1176.94 Q76.5938 1185.67 73.5152 1190.27 Q70.4596 1194.86 64.6495 1194.86 Q58.8393 1194.86 55.7606 1190.27 Q52.7051 1185.67 52.7051 1176.94 Q52.7051 1168.19 55.7606 1163.61 Q58.8393 1159 64.6495 1159 Z\" fill=\"#000000\" fill-rule=\"evenodd\" fill-opacity=\"1\" /><path clip-path=\"url(#clip640)\" d=\"M84.8114 1188.31 L89.6956 1188.31 L89.6956 1194.19 L84.8114 1194.19 L84.8114 1188.31 Z\" fill=\"#000000\" fill-rule=\"evenodd\" fill-opacity=\"1\" /><path clip-path=\"url(#clip640)\" d=\"M100.691 1190.25 L108.33 1190.25 L108.33 1163.89 L100.02 1165.55 L100.02 1161.29 L108.283 1159.63 L112.959 1159.63 L112.959 1190.25 L120.598 1190.25 L120.598 1194.19 L100.691 1194.19 L100.691 1190.25 Z\" fill=\"#000000\" fill-rule=\"evenodd\" fill-opacity=\"1\" /><path clip-path=\"url(#clip640)\" d=\"M65.0198 872.294 Q61.4087 872.294 59.58 875.859 Q57.7745 879.401 57.7745 886.53 Q57.7745 893.637 59.58 897.202 Q61.4087 900.743 65.0198 900.743 Q68.6541 900.743 70.4596 897.202 Q72.2883 893.637 72.2883 886.53 Q72.2883 879.401 70.4596 875.859 Q68.6541 872.294 65.0198 872.294 M65.0198 868.591 Q70.83 868.591 73.8855 873.197 Q76.9642 877.78 76.9642 886.53 Q76.9642 895.257 73.8855 899.864 Q70.83 904.447 65.0198 904.447 Q59.2097 904.447 56.131 899.864 Q53.0754 895.257 53.0754 886.53 Q53.0754 877.78 56.131 873.197 Q59.2097 868.591 65.0198 868.591 Z\" fill=\"#000000\" fill-rule=\"evenodd\" fill-opacity=\"1\" /><path clip-path=\"url(#clip640)\" d=\"M85.1818 897.896 L90.066 897.896 L90.066 903.776 L85.1818 903.776 L85.1818 897.896 Z\" fill=\"#000000\" fill-rule=\"evenodd\" fill-opacity=\"1\" /><path clip-path=\"url(#clip640)\" d=\"M104.279 899.84 L120.598 899.84 L120.598 903.776 L98.6539 903.776 L98.6539 899.84 Q101.316 897.086 105.899 892.456 Q110.506 887.804 111.686 886.461 Q113.932 883.938 114.811 882.202 Q115.714 880.442 115.714 878.753 Q115.714 875.998 113.77 874.262 Q111.848 872.526 108.746 872.526 Q106.547 872.526 104.094 873.29 Q101.663 874.054 98.8854 875.605 L98.8854 870.882 Q101.709 869.748 104.163 869.169 Q106.617 868.591 108.654 868.591 Q114.024 868.591 117.219 871.276 Q120.413 873.961 120.413 878.452 Q120.413 880.581 119.603 882.503 Q118.816 884.401 116.709 886.993 Q116.131 887.665 113.029 890.882 Q109.927 894.077 104.279 899.84 Z\" fill=\"#000000\" fill-rule=\"evenodd\" fill-opacity=\"1\" /><path clip-path=\"url(#clip640)\" d=\"M64.0708 581.883 Q60.4597 581.883 58.631 585.448 Q56.8254 588.99 56.8254 596.119 Q56.8254 603.226 58.631 606.791 Q60.4597 610.332 64.0708 610.332 Q67.705 610.332 69.5105 606.791 Q71.3392 603.226 71.3392 596.119 Q71.3392 588.99 69.5105 585.448 Q67.705 581.883 64.0708 581.883 M64.0708 578.18 Q69.8809 578.18 72.9365 582.786 Q76.0151 587.369 76.0151 596.119 Q76.0151 604.846 72.9365 609.453 Q69.8809 614.036 64.0708 614.036 Q58.2606 614.036 55.1819 609.453 Q52.1264 604.846 52.1264 596.119 Q52.1264 587.369 55.1819 582.786 Q58.2606 578.18 64.0708 578.18 Z\" fill=\"#000000\" fill-rule=\"evenodd\" fill-opacity=\"1\" /><path clip-path=\"url(#clip640)\" d=\"M84.2327 607.485 L89.1169 607.485 L89.1169 613.365 L84.2327 613.365 L84.2327 607.485 Z\" fill=\"#000000\" fill-rule=\"evenodd\" fill-opacity=\"1\" /><path clip-path=\"url(#clip640)\" d=\"M113.469 594.731 Q116.825 595.448 118.7 597.717 Q120.598 599.985 120.598 603.318 Q120.598 608.434 117.08 611.235 Q113.561 614.036 107.08 614.036 Q104.904 614.036 102.589 613.596 Q100.297 613.179 97.8437 612.323 L97.8437 607.809 Q99.7882 608.943 102.103 609.522 Q104.418 610.101 106.941 610.101 Q111.339 610.101 113.631 608.365 Q115.945 606.629 115.945 603.318 Q115.945 600.263 113.793 598.55 Q111.663 596.814 107.844 596.814 L103.816 596.814 L103.816 592.971 L108.029 592.971 Q111.478 592.971 113.307 591.606 Q115.135 590.217 115.135 587.624 Q115.135 584.962 113.237 583.55 Q111.362 582.115 107.844 582.115 Q105.922 582.115 103.723 582.532 Q101.524 582.948 98.8854 583.828 L98.8854 579.661 Q101.547 578.92 103.862 578.55 Q106.2 578.18 108.26 578.18 Q113.584 578.18 116.686 580.61 Q119.788 583.018 119.788 587.138 Q119.788 590.008 118.145 591.999 Q116.501 593.967 113.469 594.731 Z\" fill=\"#000000\" fill-rule=\"evenodd\" fill-opacity=\"1\" /><path clip-path=\"url(#clip640)\" d=\"M62.9365 291.472 Q59.3254 291.472 57.4967 295.037 Q55.6912 298.579 55.6912 305.708 Q55.6912 312.815 57.4967 316.38 Q59.3254 319.921 62.9365 319.921 Q66.5707 319.921 68.3763 316.38 Q70.205 312.815 70.205 305.708 Q70.205 298.579 68.3763 295.037 Q66.5707 291.472 62.9365 291.472 M62.9365 287.769 Q68.7467 287.769 71.8022 292.375 Q74.8809 296.958 74.8809 305.708 Q74.8809 314.435 71.8022 319.042 Q68.7467 323.625 62.9365 323.625 Q57.1264 323.625 54.0477 319.042 Q50.9921 314.435 50.9921 305.708 Q50.9921 296.958 54.0477 292.375 Q57.1264 287.769 62.9365 287.769 Z\" fill=\"#000000\" fill-rule=\"evenodd\" fill-opacity=\"1\" /><path clip-path=\"url(#clip640)\" d=\"M83.0984 317.074 L87.9827 317.074 L87.9827 322.954 L83.0984 322.954 L83.0984 317.074 Z\" fill=\"#000000\" fill-rule=\"evenodd\" fill-opacity=\"1\" /><path clip-path=\"url(#clip640)\" d=\"M111.015 292.468 L99.2095 310.917 L111.015 310.917 L111.015 292.468 M109.788 288.394 L115.668 288.394 L115.668 310.917 L120.598 310.917 L120.598 314.806 L115.668 314.806 L115.668 322.954 L111.015 322.954 L111.015 314.806 L95.4132 314.806 L95.4132 310.292 L109.788 288.394 Z\" fill=\"#000000\" fill-rule=\"evenodd\" fill-opacity=\"1\" /><polyline clip-path=\"url(#clip642)\" style=\"stroke:#009af9; stroke-linecap:butt; stroke-linejoin:round; stroke-width:4; stroke-opacity:1; fill:none\" points=\"\n  218.754,1445.72 239.681,1431.3 260.609,1377.01 281.537,1290.41 302.465,1246.74 323.392,1254.35 344.32,1328.37 365.248,1167.8 386.176,1043.79 407.103,1282.04 \n  428.031,1362.66 448.959,1294.77 469.887,1117.75 490.814,1121.04 511.742,1132.17 532.67,1336.12 553.598,1315.66 574.525,1047.52 595.453,1259.99 616.381,1181.41 \n  637.309,1093.25 658.236,1171.94 679.164,1232.26 700.092,1178.58 721.02,1024.54 741.947,1295.31 762.875,1286.52 783.803,1124.39 804.731,949.874 825.658,995.567 \n  846.586,1176 867.514,1095.75 888.442,1188.84 909.369,1296.31 930.297,1138.12 951.225,968.778 972.152,850.818 993.08,1001.93 1014.01,1116.65 1034.94,1041.94 \n  1055.86,1146.05 1076.79,982.478 1097.72,827.953 1118.65,617.95 1139.57,415.845 1160.5,684.188 1181.43,1229.3 1202.36,1348.36 1223.29,1383.84 1244.21,1394.64 \n  1265.14,1391.98 1286.07,1374.51 1307,1326.31 1327.92,1170.36 1348.85,426.375 1369.78,87.9763 1390.71,873.35 1411.64,812.892 1432.56,856.238 1453.49,881.339 \n  1474.42,738.508 1495.35,901.552 1516.27,918.043 1537.2,1077.86 1558.13,1208.32 1579.06,980.752 1599.98,1181.21 1620.91,903.166 1641.84,843.207 1662.77,1053.14 \n  1683.7,1199.96 1704.62,1300.19 1725.55,1137.98 1746.48,1156.61 1767.41,1144.53 1788.33,1030.53 1809.26,961.836 1830.19,1129.5 1851.12,1301.79 1872.05,1282.81 \n  1892.97,1015.17 1913.9,1177.56 1934.83,1246.91 1955.76,1138.72 1976.68,1117.02 1997.61,1203.8 2018.54,1248.25 2039.47,1069.71 2060.4,1325.62 2081.32,1332.3 \n  2102.25,1097.78 2123.18,1127.51 2144.11,1122 2165.03,1308.22 2185.96,1362.16 2206.89,1265.68 2227.82,1063.19 2248.75,1175.56 2269.67,1332.33 2290.6,1240.45 \n  \n  \"/>\n<path clip-path=\"url(#clip640)\" d=\"\nM1983.1 198.898 L2279.55 198.898 L2279.55 95.2176 L1983.1 95.2176  Z\n  \" fill=\"#ffffff\" fill-rule=\"evenodd\" fill-opacity=\"1\"/>\n<polyline clip-path=\"url(#clip640)\" style=\"stroke:#000000; stroke-linecap:butt; stroke-linejoin:round; stroke-width:4; stroke-opacity:1; fill:none\" points=\"\n  1983.1,198.898 2279.55,198.898 2279.55,95.2176 1983.1,95.2176 1983.1,198.898 \n  \"/>\n<polyline clip-path=\"url(#clip640)\" style=\"stroke:#009af9; stroke-linecap:butt; stroke-linejoin:round; stroke-width:4; stroke-opacity:1; fill:none\" points=\"\n  2007.5,147.058 2153.92,147.058 \n  \"/>\n<path clip-path=\"url(#clip640)\" d=\"M2192.16 166.745 Q2190.35 171.375 2188.64 172.787 Q2186.93 174.199 2184.06 174.199 L2180.65 174.199 L2180.65 170.634 L2183.15 170.634 Q2184.91 170.634 2185.89 169.8 Q2186.86 168.967 2188.04 165.865 L2188.8 163.921 L2178.32 138.412 L2182.83 138.412 L2190.93 158.689 L2199.03 138.412 L2203.55 138.412 L2192.16 166.745 Z\" fill=\"#000000\" fill-rule=\"evenodd\" fill-opacity=\"1\" /><path clip-path=\"url(#clip640)\" d=\"M2210.84 160.402 L2218.48 160.402 L2218.48 134.037 L2210.17 135.703 L2210.17 131.444 L2218.43 129.778 L2223.11 129.778 L2223.11 160.402 L2230.75 160.402 L2230.75 164.338 L2210.84 164.338 L2210.84 160.402 Z\" fill=\"#000000\" fill-rule=\"evenodd\" fill-opacity=\"1\" /></svg>\n"
     },
     "execution_count": 7,
     "metadata": {},
     "output_type": "execute_result"
    }
   ],
   "source": [
    "using Plots\n",
    "M = 100\n",
    "σ = zeros(ComplexF64,M)\n",
    "η = 0.05\n",
    "σmin = -4.0 + im*η\n",
    "σmax = 4.0+ im*η\n",
    "for i=1:M\n",
    "    σ[i] = (i-1)*(σmax-σmin)/(M-1) + σmin\n",
    "end\n",
    "\n",
    "Gij1 = greensfunctions(i,j,σ,H) \n",
    "plot(real.(σ),(-1/π)*imag.(Gij1))\n",
    "\n"
   ]
  },
  {
   "cell_type": "code",
   "execution_count": null,
   "id": "7f6bc133",
   "metadata": {},
   "outputs": [],
   "source": []
  }
 ],
 "metadata": {
  "kernelspec": {
   "display_name": "Julia 1.7.2",
   "language": "julia",
   "name": "julia-1.7"
  },
  "language_info": {
   "file_extension": ".jl",
   "mimetype": "application/julia",
   "name": "julia",
   "version": "1.7.2"
  }
 },
 "nbformat": 4,
 "nbformat_minor": 5
}
