{
 "cells": [
  {
   "cell_type": "markdown",
   "id": "eb606cac",
   "metadata": {
    "tags": []
   },
   "source": [
    "# Transformation from/to IR"
   ]
  },
  {
   "cell_type": "markdown",
   "id": "b7c8b387",
   "metadata": {},
   "source": [
    "## Poles"
   ]
  },
  {
   "cell_type": "code",
   "execution_count": null,
   "id": "50971dbd",
   "metadata": {},
   "outputs": [],
   "source": [
    "using SparseIR\n",
    "#ENV[\"MPLBACKEND\"]=\"tkagg\"\n",
    "using PyPlot\n",
    "using OMEinsum\n",
    "\n",
    "\n",
    "beta = 15\n",
    "wmax = 10\n",
    "basis_b = FiniteTempBasis(boson, beta, wmax, 1e-7)\n",
    "\n",
    "coeff = [1.0]\n",
    "omega_p = [0.1]\n",
    "\n",
    "rhol_pole = ein\"lp,p->l\"(\n",
    "    basis_b.v(omega_p),\n",
    "    coeff ./ tanh.(0.5*beta*omega_p)\n",
    ")\n",
    "gl_pole = - basis_b.s .* rhol_pole\n",
    "\n",
    "plt.semilogy(abs.(rhol_pole), marker=\"o\", label=L\"|\\rho_l|\")\n",
    "plt.semilogy(abs.(gl_pole), marker=\"x\", label=L\"|g_l|\")\n",
    "\n",
    "plt.xlabel(L\"$l$\")\n",
    "plt.ylim([1e-5, 1e+1])\n",
    "plt.legend()\n",
    ";"
   ]
  },
  {
   "cell_type": "code",
   "execution_count": null,
   "id": "c28585e8",
   "metadata": {},
   "outputs": [],
   "source": [
    "sp = SparsePoleRepresentation(basis_b, omega_p)\n",
    "gl_pole2 = to_IR(sp, coeff)\n",
    "\n",
    "plt.semilogy(abs.(gl_pole2), marker=\"x\", label=L\"$|g_l|$ from SPR\")\n",
    "plt.semilogy(abs.(gl_pole), marker=\"x\", label=L\"$|g_l|$\")\n",
    "\n",
    "plt.xlabel(L\"$l$\")\n",
    "plt.ylim([1e-5, 1e+1])\n",
    "plt.legend()\n",
    "#plt.show()\n",
    ";"
   ]
  },
  {
   "cell_type": "markdown",
   "id": "724b1e44",
   "metadata": {},
   "source": [
    "## From smooth spectral function"
   ]
  },
  {
   "cell_type": "code",
   "execution_count": null,
   "id": "fad6f7e4",
   "metadata": {},
   "outputs": [],
   "source": [
    "# Three Gaussian peaks (normalized to 1)\n",
    "gaussian(x, mu, sigma) = exp(-((x-mu)/sigma)^2)/(sqrt(π)*sigma)\n",
    "\n",
    "rho(omega) = 0.2*gaussian(omega, 0.0, 0.15) + \n",
    "    0.4*gaussian(omega, 1.0, 0.8) + 0.4*gaussian(omega, -1.0, 0.8)\n",
    "\n",
    "omegas = LinRange(-5, 5, 1000)\n",
    "plt.xlabel(L\"\\omega\")\n",
    "plt.ylabel(L\"\\rho(\\omega)\")\n",
    "plt.plot(omegas, rho.(omegas))\n",
    "#plt.show()\n",
    ";\n",
    ";"
   ]
  },
  {
   "cell_type": "code",
   "execution_count": null,
   "id": "13b2aee7",
   "metadata": {},
   "outputs": [],
   "source": [
    "beta = 10\n",
    "wmax = 10\n",
    "basis = FiniteTempBasis(fermion, beta, wmax, 1e-7)\n",
    "\n",
    "rhol = [overlap(basis.v[l], rho) for l in 1:size(basis)]\n",
    "gl = - basis.s .* rhol\n",
    "\n",
    "plt.semilogy(abs.(rhol), marker=\"o\", label=L\"|\\rho_l|\")\n",
    "plt.semilogy(abs.(gl), marker=\"x\", label=L\"|g_l|\")\n",
    "plt.xlabel(L\"l\")\n",
    "plt.ylim([1e-5, 1])\n",
    "plt.legend()\n",
    "#plt.show()\n",
    ";"
   ]
  },
  {
   "cell_type": "code",
   "execution_count": null,
   "id": "a61063b4",
   "metadata": {},
   "outputs": [],
   "source": [
    "rho_omgea_reconst = transpose(basis.v(omegas)) * rhol\n",
    "\n",
    "plt.xlabel(L\"\\omega\")\n",
    "plt.ylabel(L\"\\rho(\\omega)\")\n",
    "plt.plot(omegas, rho.(omegas))\n",
    "#plt.show()\n",
    ";"
   ]
  },
  {
   "cell_type": "markdown",
   "id": "70e95f28",
   "metadata": {},
   "source": [
    "## From IR to imaginary time"
   ]
  },
  {
   "cell_type": "code",
   "execution_count": null,
   "id": "450367a5",
   "metadata": {},
   "outputs": [],
   "source": [
    "taus = collect(LinRange(0, beta, 1000))\n",
    "gtau1 = transpose(basis.u(taus)) * gl\n",
    "plt.plot(taus, gtau1)\n",
    "plt.xlabel(L\"\\tau\")\n",
    "plt.ylabel(L\"G(\\tau)\")\n",
    "#plt.show()\n",
    ";"
   ]
  },
  {
   "cell_type": "code",
   "execution_count": null,
   "id": "dfea1d57",
   "metadata": {},
   "outputs": [],
   "source": [
    "smpl = TauSampling(basis, taus)\n",
    "gtau2 = evaluate(smpl, gl)\n",
    "plt.plot(taus, gtau1)\n",
    "plt.xlabel(L\"\\tau\")\n",
    "plt.ylabel(L\"G(\\tau)\")\n",
    "#plt.show()\n",
    ";"
   ]
  },
  {
   "cell_type": "markdown",
   "id": "62398197",
   "metadata": {},
   "source": [
    "## From full imaginary-time data"
   ]
  },
  {
   "cell_type": "code",
   "execution_count": null,
   "id": "e68f5cbf",
   "metadata": {},
   "outputs": [],
   "source": [
    "function eval_gtau(taus)\n",
    "    uval = basis.u(taus) #(nl, ntau)\n",
    "    return transpose(uval) * gl\n",
    "end\n",
    "\n",
    "gl_reconst = [overlap(basis.u[l], eval_gtau) for l in 1:size(basis)]\n",
    "\n",
    "plt.semilogy(abs.(gl_reconst), label=\"reconstructed\", marker=\"o\")\n",
    "plt.semilogy(abs.(gl), label=\"exact\", marker=\"x\")\n",
    "plt.semilogy(abs.(gl_reconst - gl), label=\"error\", marker=\"\")\n",
    "plt.xlabel(L\"l\")\n",
    "plt.ylabel(L\"|g_l|\")\n",
    "plt.ylim([1e-20, 1])\n",
    "plt.legend()\n",
    "#plt.show()\n",
    ";"
   ]
  },
  {
   "cell_type": "code",
   "execution_count": null,
   "id": "a759a77b",
   "metadata": {},
   "outputs": [],
   "source": []
  }
 ],
 "metadata": {
  "jupytext": {
   "formats": "ipynb,md:myst",
   "text_representation": {
    "extension": ".md",
    "format_name": "myst"
   }
  },
  "kernelspec": {
   "display_name": "Julia 1.7",
   "language": "julia",
   "name": "julia-1.7"
  },
  "source_map": [
   13,
   17,
   21,
   50,
   62,
   66,
   82,
   99,
   107,
   111,
   121,
   129,
   133,
   152
  ]
 },
 "nbformat": 4,
 "nbformat_minor": 5
}