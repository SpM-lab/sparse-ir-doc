{
 "cells": [
  {
   "cell_type": "markdown",
   "id": "5c42df0b",
   "metadata": {},
   "source": [
    "# Eliashberg theory for Holstein-Hubbard model\n",
    "\n",
    "Author: [Shintaro Hoshino](mailto:shintaro.hoshino@gmail.com) and [Hiroshi Shinaoka](mailto:h.shinaoka@gmail.com)\n",
    "\n",
    "### Equations\n",
    "\n",
    "The (multiorbital) Hubbard model coupled to local phonons describes a simplest case where the electrons and phonons are correlated.\n",
    "Such situation can be realized in a molecular-based systems such as fullerides.\n",
    "While the DMFT approach to electron-phonon coupled systems is still technically challenging, the Eliashberg approach [1,2] is a powerful method in the weakly correlated regime and provides an intuitive understanding for the underlying physics.\n",
    "\n",
    "\n",
    "The single-orbital case is known as a Holstein-Hubbard model whose Hamiltonian is given by\n",
    "\n",
    "$$\n",
    "\\begin{align}\n",
    "    \\mathscr H &= \\mathscr H_{e0} + \n",
    "    \\frac{U}{2}\\sum_i :n_{i}^2:\n",
    "    + \\omega_0 \\sum_i a_i^\\dagger a_i\n",
    "    + g \\sum_i (a_i+a_i^\\dagger) n_i\n",
    "\\end{align}\n",
    "$$\n",
    "\n",
    "where $n_i=\\sum_{\\sigma} n_{i\\sigma} = \\sum_{\\sigma} c^\\dagger_{i\\sigma} c_{i\\sigma}$ is the local number operator, and the colon represents a normal ordering.\n",
    "\n",
    "\n",
    "We generalize it so as to deal with the three-orbital case relevant to fulleride superconductors (the Jahn-Teller-Hubbard model).\n",
    "The details for the three-orbital model are provided in Ref [3], and here we explain the outline of the approach.\n",
    "We begin with the Hamiltonian $\\mathscr H = \\mathscr H_{e} + \\mathscr H_{ee} + \\mathscr H_p + \\mathscr H_{ep}$\n",
    "where\n",
    "\n",
    "$$\n",
    "\\begin{align}\n",
    "    \\mathscr H_{ee}  &= \\sum_{i\\eta} I_\\eta : T_{i\\eta}^2:\n",
    "    \\hspace{10mm}\n",
    "    \\Big( T_{i\\eta} = \\sum_{\\gamma\\gamma'\\sigma} c^\\dagger_{i\\gamma\\sigma} \\lambda^\\eta_{\\gamma\\gamma'} c_{\\gamma'\\sigma}  \\Big)\n",
    "    \\\\\n",
    "    \\mathscr H_{p}  &= \\sum_{i\\eta} \\omega_\\eta a_{i\\eta}^\\dagger a_{i\\eta} = \\sum_{i\\eta} \\frac{\\omega_\\eta}{4} (p_{i\\eta}^2 + \\phi_{i\\eta}^2)\n",
    "    \\equiv \\mathscr H_{p,{\\rm kin}} + \\mathscr H_{p,{\\rm pot}}\n",
    "    \\\\\n",
    "    \\mathscr H_{ep}  &= \\sum_{i\\eta} g_\\eta \n",
    "    \\phi_{i\\eta}\n",
    "    T_{i\\eta}\n",
    "\\end{align}\n",
    "$$\n",
    "\n",
    "$\\gamma$ is an orbital index. The $\\eta$ distinguish the types of charge-orbital moments for electrons and vibration modes for phonons, respectively,\n",
    "where $M=\\sum_\\gamma 1$, ${\\rm Tr}(\\hat \\lambda^\\eta)^2=2$, $\\sum_\\eta 1 = \\frac{M(M+1)}{2}$.\n",
    "We may use $M=1$ (single-orbital) or $M=3$ (three-orbital).\n",
    "For examples, the charge operator is given by $T_{i,\\eta=0} = \\sqrt 2 \\sum_\\sigma n_{i\\sigma}$ for $M=1$ and $T_{i,\\eta=0} = \\sqrt{\\tfrac 2 3} \\sum_\\sigma (n_{i1\\sigma}+n_{i2\\sigma}+n_{i3\\sigma})$ for $M=3$.\n",
    "\n",
    "\n",
    "We have introduced displacement and momentum operators by $\\phi_{i\\eta} = a_{i\\eta}+ a_{i\\eta}^\\dagger$ and $p_{i\\eta} = (a_{i\\eta} - a_{i\\eta}^\\dagger)/{\\rm i}$, which satisfy the canonical commutation relation $[\\phi_{i\\eta},p_{j\\eta'}] = 2{\\rm i} \\delta_{ij} \\delta_{\\eta\\eta'}$.\n",
    "Equation~\\eqref{eq:ee} shows a compact multipole representation for the Hubbard or Slater-Kanamori interactions [4].\n",
    "More specifically, $I_0 = U/4$ for the single-orbital case, and $I_0 = 3U/4 -J$, $I_{\\eta\\neq 0} = J/2$ for the three-orbital case with the Hund's coupling $J$ [3].\n",
    "\n",
    "\n",
    "\n",
    "We assume that there is no $\\eta$-dependence, i.e., we write $g_\\eta = g_0$ and $\\omega_\\eta = \\omega_0$.\n",
    "Assuming also that the self-energy is local as in DMFT, we obtain the Eliashberg equations\n",
    "\n",
    "$$\n",
    "\\begin{align}\n",
    "    \\Sigma(\\tau) &= -U_{\\rm eff}(\\tau) G(\\tau)\n",
    "    \\\\\n",
    "    \\Delta(\\tau) &= U_{\\rm eff}(\\tau) F(\\tau)\n",
    "    \\\\\n",
    "    U_{\\rm eff}(\\tau) &= (U+2J)\\delta(\\tau) + (M+1)  g_0^2 D (\\tau)\n",
    "    \\\\\n",
    "    \\Pi  (\\tau) &=  4g_0^2 [ G(\\tau) G(-\\tau) - F(\\tau)^2 ]\n",
    "\\end{align}\n",
    "$$\n",
    "\n",
    "where the local Green functions are defined by \n",
    "$G(\\tau) = - \\langle \\mathcal T c_{i\\gamma\\sigma}(\\tau) c^\\dagger_{i\\gamma\\sigma} \\rangle$,\n",
    "$F(\\tau) = - \\langle \\mathcal T c_{i\\gamma\\uparrow}(\\tau) c_{i\\gamma\\downarrow} \\rangle$\n",
    "for electrons, and \n",
    "$D(\\tau) = - \\langle \\mathcal T \\phi_{i\\eta}(\\tau) \\phi_{i\\eta} \\rangle$ for phonons.\n",
    "We have simplified the equations using the cubic symmetry.\n",
    "The phase of the superconducting order parameter is fixed as $\\Delta\\in \\mathbb R$.\n",
    "If we take $M=1$ and correspondingly $J=0$, it reproduces the single-orbital Holstein-Hubbard model.\n",
    "\n",
    "\n",
    "The internal energy may be evaluated through the single-particle Green functions.\n",
    "In a manner similar to Ref. [5], \n",
    "we have the following relations\n",
    "\n",
    "$$\n",
    "\\begin{align}\n",
    "    2MT\\sum_{n}{\\rm i}\\omega_n G({\\rm i}\\omega_n) {\\rm e}^{{\\rm i} \\omega_n 0^+}\n",
    "    &= \\langle \\mathscr H_{e0} \\rangle + 2\\langle \\mathscr H_{ee} \\rangle\n",
    "    + \\langle \\mathscr H_{ep} \\rangle\n",
    "    \\\\\n",
    "    \\frac{M(M+1)}{2} T\\sum_m \\frac{({\\rm i}\\nu_m)^2}{2\\omega_0} D({\\rm i}\\nu_m) {\\rm e}^{{\\rm i} \\nu_m 0^+}\n",
    "    &= - 2\\langle \\mathscr H_{p,{\\rm pot}}\\rangle\n",
    "    - \\langle \\mathscr H_{ep}\\rangle\n",
    "    = - 2\\langle \\mathscr H_{p,{\\rm kin}}\\rangle\n",
    "    \\\\\n",
    "    2M T\\sum_n \\Sigma({\\rm i}\\omega_n) G({\\rm i}\\omega_n) {\\rm e}^{{\\rm i} \\omega_n 0^+}\n",
    "    &= 2\\langle \\mathscr H_{ee} \\rangle\n",
    "    + \\langle \\mathscr H_{ep} \\rangle\n",
    "    \\\\\n",
    "    \\frac{M(M+1)}{2} T\\sum_m \\Pi({\\rm i}\\nu_m) D({\\rm i}\\nu_m) {\\rm e}^{{\\rm i} \\nu_m 0^+}&= - \\langle \\mathscr H_{ep} \\rangle\n",
    "\\end{align}\n",
    "$$\n",
    "\n",
    "Thus the internal energy $\\langle \\mathscr H \\rangle = \\langle \\mathscr H_{e0} + \\mathscr H_{ee} + \\mathscr H_{p,{\\rm kin}} + \\mathscr H_{p,{\\rm pot}} + \\mathscr H_{ep} \\rangle$ is obtained.\n",
    "The specific heat is then calculated numerically through differentiating it by temperature.\n",
    "\n",
    "\n",
    "In addition to the above Eliashberg equations, the Dyson equation completes a closed set of the self-consistent equations.\n",
    "The Green functions are given in the Fourier domain:\n",
    "\n",
    "$$\n",
    "\\begin{align}\n",
    "    G({\\rm i}\\omega_n) &= \\int {\\rm d} \\varepsilon \\rho(\\varepsilon)\n",
    "    \\frac{\\zeta ({\\rm i}\\omega_n) + \\varepsilon}{\\zeta({\\rm i}\\omega_n)^2- \\Delta({\\rm i}\\omega_n)^2 - \\varepsilon^2}\n",
    "    \\\\\n",
    "    F({\\rm i}\\omega_n) &= \\int {\\rm d} \\varepsilon \\rho(\\varepsilon)\n",
    "    \\frac{\\Delta ({\\rm i}\\omega_n)}{\\zeta({\\rm i}\\omega_n)^2- \\Delta({\\rm i}\\omega_n)^2 - \\varepsilon^2}\n",
    "    \\\\\n",
    "    \\zeta({\\rm i}\\omega_n) &=  {\\rm i}\\omega_n+\\mu-\\Sigma({\\rm i}\\omega_n)\n",
    "\\end{align}\n",
    "$$\n",
    "\n",
    "for electrons, and \n",
    "\n",
    "$$\n",
    "\\begin{align}\n",
    "    D({\\rm i}\\nu_m)^{-1} &= D_0({\\rm i}\\nu_m)^{-1} - \\Pi({\\rm i}\\nu_m)\n",
    "    \\\\\n",
    "    D_0({\\rm i}\\nu_m) &= \\frac{2\\omega_0}{({\\rm i}\\nu_m)^2 - \\omega_0^2}\n",
    "\\end{align}\n",
    "$$\n",
    "\n",
    "for phonons.\n",
    "We take the semi-circular density of states $\\rho(\\varepsilon) = \\frac{2}{\\pi D^2} \\sqrt{D^2-\\varepsilon^2}$ for electron parts."
   ]
  },
  {
   "cell_type": "code",
   "execution_count": 1,
   "id": "c5a8cffc",
   "metadata": {
    "id": "TKeCOaRVlBRv",
    "vscode": {
     "languageId": "python"
    }
   },
   "outputs": [],
   "source": [
    "## Implementation: Eliashberg solver"
   ]
  },
  {
   "cell_type": "code",
   "execution_count": 2,
   "id": "9885bfd3",
   "metadata": {
    "id": "gqzztjs3lBRw",
    "vscode": {
     "languageId": "python"
    }
   },
   "outputs": [],
   "source": [
    "import numpy as np\n",
    "%matplotlib inline\n",
    "import matplotlib.pyplot as plt\n",
    "import sparse_ir\n",
    "\n",
    "plt.rcParams.update({\n",
    "    \"font.family\": \"serif\",\n",
    "    \"font.size\": 16,\n",
    "})"
   ]
  },
  {
   "cell_type": "code",
   "execution_count": 3,
   "id": "1e18eb02",
   "metadata": {
    "id": "Lg31SRXclBRw",
    "vscode": {
     "languageId": "python"
    }
   },
   "outputs": [],
   "source": [
    "from numpy.polynomial.legendre import leggauss\n",
    "\n",
    "def scale_quad(x, w, xmin, xmax):\n",
    "    \"\"\" Scale weights and notes of quadrature to the interval [xmin, xmax] \"\"\"\n",
    "    assert xmin < xmax\n",
    "    dx = xmax - xmin\n",
    "    w_ = 0.5 * dx * w\n",
    "    x_ = (0.5 * dx) * (x + 1) + xmin\n",
    "    return x_, w_\n",
    "\n",
    "\n",
    "class Eliashberg:\n",
    "    def __init__(self, bset: sparse_ir.FiniteTempBasisSet, rho_omega, omega_range, U, J, omega0, g, deg_leggauss=100):\n",
    "        assert isinstance(omega_range, tuple)\n",
    "        assert omega_range[0] < omega_range[1]\n",
    "        self.U = U\n",
    "        self.J = J\n",
    "        self.bset = bset\n",
    "        self.beta = bset.beta\n",
    "        self.rho_omega = rho_omega\n",
    "        self.omega0 = omega0\n",
    "        self.g = g\n",
    "\n",
    "        x_, w_ = leggauss(deg_leggauss)\n",
    "        self.quad_rule = scale_quad(x_, w_, omega_range[0], omega_range[1])\n",
    "        self.omega = self.quad_rule[0]\n",
    "        self.omega_coeff = rho_omega(self.omega) * self.quad_rule[1]\n",
    "\n",
    "        # Sparse sampling in Matsubara frequencies\n",
    "        self.iv_f = self.bset.wn_f * (1j * np.pi/self.beta)\n",
    "        self.iv_b = self.bset.wn_b * (1j * np.pi/self.beta)\n",
    "\n",
    "        # Phonon propagator\n",
    "        self.d0_iv = 2 * omega0/(self.iv_b**2 - omega0**2) \n",
    "\n",
    "    def xi_iv(self, mu, sigma_iv):\n",
    "        \"\"\"\n",
    "        Compute xi(iv)\n",
    "        \"\"\"\n",
    "        return self.iv_f + mu - sigma_iv\n",
    "\n",
    "    def g_f_iv(self, mu, sigma_iv, delta_iv):\n",
    "        \"\"\"\n",
    "        Compute G(iv) and F(iv) from sigma(iv), Delta(iv)\n",
    "        \"\"\"\n",
    "\n",
    "        xi_iv = self.xi_iv(mu, sigma_iv)\n",
    "        denominator = (xi_iv**2 - delta_iv**2)[:, None] - (self.omega**2)[None, :]\n",
    "        numerator_G = xi_iv[:, None] + self.omega[None, :]\n",
    "        numerator_F = delta_iv[:, None]\n",
    "        g_iv = np.einsum('q,wq->w', self.omega_coeff, numerator_G/denominator,\n",
    "                        optimize=True)\n",
    "        f_iv = np.einsum('q,wq->w', self.omega_coeff, numerator_F/denominator,\n",
    "                        optimize=True)\n",
    "        return g_iv, f_iv\n",
    "\n",
    "    def pi_tau(self, g_tau, f_tau):\n",
    "        \"\"\"\n",
    "        Compute Pi(tau)\n",
    "        \"\"\"\n",
    "        return - 4 * (self.g**2) * (g_tau * g_tau[::-1] + f_tau**2)\n",
    "  \n",
    "    def d_iv(self, phi_iv):\n",
    "        \"\"\"\n",
    "        Compute D(iv)\n",
    "        \"\"\"\n",
    "        return 1/(1/self.d0_iv - phi_iv)\n",
    "  \n",
    "    def sigma(self, g_tau, d_tau):\n",
    "        \"\"\"\n",
    "        Compute Sigma(tau) and Sigma(iv)\n",
    "        \"\"\"\n",
    "        sigma_tau = - 4 * (self.g**2) * d_tau * g_tau\n",
    "        sigma_iv = self.to_matsu(sigma_tau, \"F\")\n",
    "        return sigma_tau, sigma_iv\n",
    "\n",
    "    def delta_iv(self, f_tau, d_tau):\n",
    "        \"\"\"\n",
    "        Compute Delta(iv)\n",
    "        \"\"\"\n",
    "        tl_delta_tau = (4 * self.g**2) * d_tau * f_tau\n",
    "        tl_delta_iv = self.to_matsu(tl_delta_tau, \"F\")\n",
    "        return tl_delta_iv + (self.U + 2*self.J) * f_tau[0]\n",
    "    \n",
    "    def _smpl_tau(self, stat):\n",
    "        return {\"F\": self.bset.smpl_tau_f, \"B\": self.bset.smpl_tau_b}[stat]\n",
    "\n",
    "    def _smpl_wn(self, stat):\n",
    "        return {\"F\": self.bset.smpl_wn_f, \"B\": self.bset.smpl_wn_b}[stat]\n",
    "\n",
    "    def to_tau(self, obj_iv, stat):\n",
    "        \"\"\"\n",
    "        Transform to tau\n",
    "        \"\"\"\n",
    "        return self._smpl_tau(stat).evaluate(self._smpl_wn(stat).fit(obj_iv))\n",
    "\n",
    "    def to_matsu(self, obj_tau, stat):\n",
    "        \"\"\"\n",
    "        Transform to Matsubara\n",
    "        \"\"\"\n",
    "        return self._smpl_wn(stat).evaluate(self._smpl_tau(stat).fit(obj_tau))\n",
    "    \n",
    "    def internal_energy(self, sigma_iv=None, delta_iv=None, g_iv=None, d_iv=None, tau=0.0):\n",
    "        \"\"\"\n",
    "        Compute internal energy\n",
    "        \"\"\"\n",
    "        stat_sign = {0.0: 1, self.beta: -1}[tau]\n",
    "        smpl_tau0 = [sparse_ir.TauSampling(b, [tau]) for b in [self.bset.basis_f, self.bset.basis_b]]\n",
    "\n",
    "        e1 = stat_sign * smpl_tau0[0].evaluate(self.bset.smpl_wn_f.fit(self.iv_f * g_iv - 1))\n",
    "        e2 = stat_sign * smpl_tau0[0].evaluate(\n",
    "                self.bset.smpl_wn_f.fit(\n",
    "                    g_iv * ((self.iv_f - sigma_iv)**2 - delta_iv**2)/(self.iv_f - sigma_iv) - 1\n",
    "                )\n",
    "            )\n",
    "        f2 = self.bset.smpl_tau_b.evaluate(\n",
    "            self.bset.smpl_wn_b.fit(\n",
    "                (self.omega0**-2) * ( (self.iv_b**2) * d_iv - 2 * self.omega0)\n",
    "            )\n",
    "        )\n",
    "        return (3 * (e1 + e2  - self.omega0 * f2))[0]"
   ]
  },
  {
   "cell_type": "code",
   "execution_count": 4,
   "id": "ad03c9bc",
   "metadata": {
    "id": "_Ao6y2AClBRx",
    "vscode": {
     "languageId": "python"
    }
   },
   "outputs": [],
   "source": [
    "def solve(elsh, sigma_iv, delta_iv, niter, mixing, verbose=False, ph=False, atol=1e-10):\n",
    "    \"\"\"\n",
    "    Solve the self-consistent equation\n",
    "\n",
    "    ph: Force ph symmetry\n",
    "    \"\"\"\n",
    "    sigma_iv_prev = None\n",
    "    delta_iv_prev = None\n",
    "    converged = False\n",
    "    for iter in range(niter):\n",
    "        # Update G and F\n",
    "        g_iv, f_iv = elsh.g_f_iv(mu, sigma_iv, delta_iv)\n",
    "        g_tau = elsh.to_tau(g_iv, \"F\")\n",
    "        f_tau = elsh.to_tau(f_iv, \"F\")\n",
    "        if ph:\n",
    "            g_tau = 0.5 * (g_tau + g_tau[::-1])\n",
    "        g_tau[g_tau > 0] = 0\n",
    "        \n",
    "        # Update Phi\n",
    "        phi_tau = elsh.pi_tau(g_tau, f_tau)\n",
    "        phi_iv = elsh.to_matsu(phi_tau, \"B\")\n",
    "        phi_iv.imag = 0\n",
    "    \n",
    "        # Update D\n",
    "        d_iv = elsh.d_iv(phi_iv)\n",
    "        d_tau = elsh.to_tau(d_iv, \"B\")\n",
    "    \n",
    "        # Update Sigma\n",
    "        sigma_tau, sigma_iv_new = elsh.sigma(g_tau, d_tau)\n",
    "        sigma_iv_prev = sigma_iv.copy()\n",
    "        sigma_iv = (1-mixing) * sigma_iv + mixing * sigma_iv_new\n",
    "    \n",
    "        # Update Delta\n",
    "        delta_iv_new = elsh.delta_iv(f_tau, d_tau)\n",
    "        delta_iv_prev = delta_iv.copy()\n",
    "        delta_iv = (1-mixing) * delta_iv + mixing * delta_iv_new\n",
    "        delta_iv.imag = 0.0\n",
    "        delta_iv = 0.5 * (delta_iv + delta_iv[::-1])\n",
    "\n",
    "        diff_sigma = np.abs(sigma_iv_new - sigma_iv_prev).max()\n",
    "        diff_delta = np.abs(delta_iv_new - delta_iv_prev).max()\n",
    "        if verbose and iter % 100 == 0:\n",
    "            print(f\"iter= {iter} : diff_sigma= {diff_sigma}, diff_delta={diff_delta}\")\n",
    "        \n",
    "        #print(max(diff_sigma, diff_delta), atol)\n",
    "        if atol is not None and max(diff_sigma, diff_delta) < atol:\n",
    "            converged = True\n",
    "            break\n",
    "\n",
    "    if not converged:\n",
    "        print(\"Not converged!\")\n",
    "\n",
    "    # Internal energy\n",
    "    u = elsh.internal_energy(\n",
    "        sigma_iv=sigma_iv,\n",
    "        delta_iv=delta_iv,\n",
    "        g_iv=g_iv, d_iv=d_iv,\n",
    "        tau=0.0)\n",
    "\n",
    "    others = {\n",
    "        'sigma_tau': sigma_tau,\n",
    "        'phi_iv': phi_iv,\n",
    "        'g_iv': g_iv,\n",
    "        'f_iv': f_iv,\n",
    "        'd_iv': d_iv,\n",
    "        'd_tau': d_tau,\n",
    "        'f_tau': f_tau,\n",
    "        'g_tau': g_tau,\n",
    "        'u' : u\n",
    "        }\n",
    "    return sigma_iv, delta_iv, others"
   ]
  },
  {
   "cell_type": "code",
   "execution_count": 5,
   "id": "c92407d6",
   "metadata": {
    "id": "edkPwYn6lBRy",
    "vscode": {
     "languageId": "python"
    }
   },
   "outputs": [],
   "source": [
    "def add_noise(arr, noise):\n",
    "    \"\"\"\n",
    "    Add Gaussian noise to an array\n",
    "    \"\"\"\n",
    "    arr += noise*np.random.randn(*arr.shape)\n",
    "    arr += noise*1j*np.random.randn(*arr.shape)\n",
    "    return arr"
   ]
  },
  {
   "cell_type": "markdown",
   "id": "dfe1a7f8",
   "metadata": {
    "id": "bbnN_XEUlBRy"
   },
   "source": [
    "## Self-consistent calculation"
   ]
  },
  {
   "cell_type": "markdown",
   "id": "15e4159f",
   "metadata": {
    "id": "n9UpuKDUlBRz"
   },
   "source": [
    "### Paramaters\n",
    "\n",
    "We now reproduce the results for $\\lambda_0 = 0.125$ shown in Fig. 1 of Ref. [3].\n",
    "The parameter $g_0$ is related to $\\lambda_0$ as\n",
    "\n",
    "$$\n",
    "g_0 = \\sqrt{\\frac{3 \\lambda_0 \\omega_0}{4}}.\n",
    "$$\n",
    "\n",
    "(In the code, we drop the suffix 0 for simplicity.)\n",
    "We consider a semicircular density of state with a half bandwidth of $1/2$, $T=0.002$, $U=2$, $J/U = 0.03$ and half filling."
   ]
  },
  {
   "cell_type": "code",
   "execution_count": 6,
   "id": "2c921ec9",
   "metadata": {
    "id": "W4_hSqKOlBRz",
    "vscode": {
     "languageId": "python"
    }
   },
   "outputs": [],
   "source": [
    "beta = 500.0\n",
    "\n",
    "D = 0.5\n",
    "rho_omega = lambda omega: np.sqrt(D**2 - omega**2) / (0.5 * D**2 * np.pi)\n",
    "\n",
    "U = 2.0\n",
    "J = 0.03 * U\n",
    "omega0 = 0.15\n",
    "lambda0 = 0.125\n",
    "mu = 0.0"
   ]
  },
  {
   "cell_type": "markdown",
   "id": "db440d7d",
   "metadata": {
    "id": "tCZP_p5GlBRz"
   },
   "source": [
    "### Setup IR basis"
   ]
  },
  {
   "cell_type": "code",
   "execution_count": 7,
   "id": "2b780407",
   "metadata": {
    "id": "jk8-i7TolBR1",
    "vscode": {
     "languageId": "python"
    }
   },
   "outputs": [],
   "source": [
    "eps = 1e-7\n",
    "wmax = 10*D\n",
    "bset = sparse_ir.FiniteTempBasisSet(beta, wmax, eps)"
   ]
  },
  {
   "cell_type": "markdown",
   "id": "0b952248",
   "metadata": {
    "id": "Hmt96VdGlBR1"
   },
   "source": [
    "### Solve the equation"
   ]
  },
  {
   "cell_type": "code",
   "execution_count": 8,
   "id": "2819e95b",
   "metadata": {
    "id": "qUpSeHLMlBR1",
    "outputId": "00bc85c9-5a68-4c1e-d1a4-1c669ca03fdf",
    "tags": [
     "output_scroll"
    ],
    "vscode": {
     "languageId": "python"
    }
   },
   "outputs": [
    {
     "name": "stdout",
     "output_type": "stream",
     "text": [
      "iter= 0 : diff_sigma= 0.052510798139970616, diff_delta=1.9940825470787\n",
      "iter= 100 : diff_sigma= 0.00037021719999579396, diff_delta=0.0008671884947800207\n",
      "iter= 200 : diff_sigma= 8.590904248001495e-06, diff_delta=2.0049921824555908e-05\n",
      "iter= 300 : diff_sigma= 1.9540311914367783e-07, diff_delta=4.555013663337659e-07\n",
      "iter= 400 : diff_sigma= 4.434504430328445e-09, diff_delta=1.0336542496936009e-08\n",
      "iter= 500 : diff_sigma= 1.006252581259305e-10, diff_delta=2.3455185016753784e-10\n"
     ]
    }
   ],
   "source": [
    "# Number of fermionic sampling frequencies\n",
    "nw_f = bset.wn_f.size\n",
    "\n",
    "# Initial guess\n",
    "noise = 1e-2\n",
    "sigma_iv0 = add_noise(np.zeros(nw_f, dtype=np.complex128), noise)\n",
    "delta_iv0 = np.full(nw_f, 1.0, dtype=np.complex128)\n",
    "\n",
    "max_niter = 10000\n",
    "mixing = 0.1\n",
    "deg_leggauss = 100 # Degree of Gauss quadrature for DOS integration\n",
    "\n",
    "# Construct a solver\n",
    "g = np.sqrt(3 * lambda0 * omega0/4)\n",
    "elsh = Eliashberg(bset, rho_omega, (-D,D), U, J, omega0, g, deg_leggauss=deg_leggauss)\n",
    "\n",
    "# Solve the equation\n",
    "sigma_iv, delta_iv, others = solve(elsh, sigma_iv0, delta_iv0, max_niter, mixing, verbose=True, ph=True)\n",
    "\n",
    "# Result\n",
    "res = {\"bset\": bset, \"sigma_iv\": sigma_iv, \"delta_iv\": delta_iv, **others}"
   ]
  },
  {
   "cell_type": "code",
   "execution_count": 9,
   "id": "9aa53768",
   "metadata": {
    "id": "PDEuUmFqlBR2",
    "outputId": "b9086ef3-0f54-4dd3-fa2b-500cb047f310",
    "vscode": {
     "languageId": "python"
    }
   },
   "outputs": [
    {
     "data": {
      "image/png": "[encoded data removed]",
      "text/plain": [
       "<Figure size 432x288 with 1 Axes>"
      ]
     },
     "metadata": {
      "filenames": {
       "image/png": "/workspaces/sparse-ir-tutorial/_build/jupyter_execute/src/eliashberg_holstein_py_13_0.png"
      },
      "needs_background": "light"
     },
     "output_type": "display_data"
    }
   ],
   "source": [
    "# Let us check `F` is represented compactly in IR\n",
    "f_l = bset.smpl_wn_f.fit(res['f_iv'])\n",
    "plt.semilogy(np.abs(f_l), label=r\"$|F_l|$\", marker=\"o\", ls=\"\")\n",
    "plt.semilogy(bset.basis_f.s/bset.basis_f.s[0], label=r\"$S_l/S_0$\")\n",
    "plt.ylim([1e-8, 10])\n",
    "plt.legend(frameon=False)\n",
    "plt.show()"
   ]
  },
  {
   "cell_type": "markdown",
   "id": "a357c116",
   "metadata": {
    "id": "rLCRj5BzlBR2"
   },
   "source": [
    "### Plot results"
   ]
  },
  {
   "cell_type": "code",
   "execution_count": 10,
   "id": "a4ecec11",
   "metadata": {
    "id": "GPObxMyLlBR2",
    "outputId": "cc1ace67-2596-4343-ea17-ae85f5443bdb",
    "vscode": {
     "languageId": "python"
    }
   },
   "outputs": [
    {
     "data": {
      "image/png": "[encoded data removed]",
      "text/plain": [
       "<Figure size 432x288 with 1 Axes>"
      ]
     },
     "metadata": {
      "filenames": {
       "image/png": "/workspaces/sparse-ir-tutorial/_build/jupyter_execute/src/eliashberg_holstein_py_15_0.png"
      },
      "needs_background": "light"
     },
     "output_type": "display_data"
    },
    {
     "data": {
      "image/png": "[encoded data removed]",
      "text/plain": [
       "<Figure size 432x288 with 1 Axes>"
      ]
     },
     "metadata": {
      "filenames": {
       "image/png": "/workspaces/sparse-ir-tutorial/_build/jupyter_execute/src/eliashberg_holstein_py_15_1.png"
      },
      "needs_background": "light"
     },
     "output_type": "display_data"
    },
    {
     "data": {
      "image/png": "[encoded data removed]",
      "text/plain": [
       "<Figure size 432x288 with 1 Axes>"
      ]
     },
     "metadata": {
      "filenames": {
       "image/png": "/workspaces/sparse-ir-tutorial/_build/jupyter_execute/src/eliashberg_holstein_py_15_2.png"
      },
      "needs_background": "light"
     },
     "output_type": "display_data"
    },
    {
     "data": {
      "image/png": "[encoded data removed]",
      "text/plain": [
       "<Figure size 432x288 with 1 Axes>"
      ]
     },
     "metadata": {
      "filenames": {
       "image/png": "/workspaces/sparse-ir-tutorial/_build/jupyter_execute/src/eliashberg_holstein_py_15_3.png"
      },
      "needs_background": "light"
     },
     "output_type": "display_data"
    },
    {
     "data": {
      "image/png": "[encoded data removed]",
      "text/plain": [
       "<Figure size 432x288 with 1 Axes>"
      ]
     },
     "metadata": {
      "filenames": {
       "image/png": "/workspaces/sparse-ir-tutorial/_build/jupyter_execute/src/eliashberg_holstein_py_15_4.png"
      },
      "needs_background": "light"
     },
     "output_type": "display_data"
    },
    {
     "data": {
      "image/png": "[encoded data removed]",
      "text/plain": [
       "<Figure size 432x288 with 1 Axes>"
      ]
     },
     "metadata": {
      "filenames": {
       "image/png": "/workspaces/sparse-ir-tutorial/_build/jupyter_execute/src/eliashberg_holstein_py_15_5.png"
      },
      "needs_background": "light"
     },
     "output_type": "display_data"
    }
   ],
   "source": [
    "def plot_res(res):\n",
    "    \"\"\" For plotting results \"\"\"\n",
    "    beta = res[\"bset\"].beta\n",
    "    iv_f = res[\"bset\"].wn_f * (1j*np.pi/beta)\n",
    "    iv_b = res[\"bset\"].wn_b * (1j*np.pi/beta)\n",
    "\n",
    "    plt.plot(iv_f.imag, res['sigma_iv'].imag, marker=\"x\")\n",
    "    plt.xlabel(r\"$\\omega_n$\")\n",
    "    plt.ylabel(r\"Im $\\Sigma(\\mathrm{i}\\omega_n)$\")\n",
    "    plt.xlim([-0.8, 0.8])\n",
    "    plt.xticks([-0.8, -0.6, -0.4, -0.2, 0, 0.2, 0.4, 0.6, 0.8])\n",
    "    plt.grid()\n",
    "    plt.show()\n",
    "\n",
    "    plt.plot(iv_b.imag, res['d_iv'].real, marker=\"x\")\n",
    "    plt.xlabel(r\"$\\nu_m$\")\n",
    "    plt.ylabel(r\"Re $D(\\mathrm{i}\\nu_m)$\")\n",
    "    plt.xlim([-0.8, 0.8])\n",
    "    plt.xticks([-0.8, -0.6, -0.4, -0.2, 0, 0.2, 0.4, 0.6, 0.8])\n",
    "    #plt.ylim([-0.1, 0.1])\n",
    "    plt.grid()\n",
    "    plt.show()\n",
    "\n",
    "    plt.plot(bset.tau, res['d_tau'].real, marker=\"x\")\n",
    "    plt.xlabel(r\"$\\tau$\")\n",
    "    plt.ylabel(r\"Re $D(\\tau)$\")\n",
    "    plt.grid()\n",
    "    plt.show()\n",
    "\n",
    "    plt.plot(iv_f.imag, res['delta_iv'].real, marker=\"x\")\n",
    "    plt.xlabel(r\"$\\nu_m$\")\n",
    "    plt.ylabel(r\"Re $\\Delta(\\mathrm{i}\\nu_m)$\")\n",
    "    plt.xlim([-0.8, 0.8])\n",
    "    plt.xticks([-0.8, -0.6, -0.4, -0.2, 0, 0.2, 0.4, 0.6, 0.8])\n",
    "    plt.ylim([-0.05, 0.3])\n",
    "    plt.grid()\n",
    "    plt.show()\n",
    "\n",
    "    plt.plot(iv_f.imag, res['f_iv'].real, marker=\"x\")\n",
    "    plt.xlabel(r\"$\\omega_n$\")\n",
    "    plt.ylabel(r\"Re $F(\\mathrm{i}\\omega_n)$\")\n",
    "    plt.xlim([-0.8, 0.8])\n",
    "    plt.xticks([-0.8, -0.6, -0.4, -0.2, 0, 0.2, 0.4, 0.6, 0.8])\n",
    "    plt.grid()\n",
    "    plt.show()\n",
    "\n",
    "    plt.plot(elsh.iv_b.imag, res['phi_iv'].real, marker=\"x\")\n",
    "    plt.xlabel(r\"$\\nu_m$\")\n",
    "    plt.ylabel(r\"Re $\\Pi(\\mathrm{i}\\nu_m)$\")\n",
    "    plt.xlim([-0.8, 0.8])\n",
    "    plt.grid()\n",
    "    plt.show()\n",
    "\n",
    "plot_res(res)"
   ]
  },
  {
   "cell_type": "markdown",
   "id": "abc8ca89",
   "metadata": {
    "id": "8XbkZOtblBR3"
   },
   "source": [
    "## Second calculation on temperature dependence\n",
    "\n",
    "We now compute the temperature dependence of the specific heat for $\\lambda_0=0.175$ shown in Fig. 5 of Ref. [1]."
   ]
  },
  {
   "cell_type": "code",
   "execution_count": 11,
   "id": "d3a4f5a8",
   "metadata": {
    "id": "6MmWde_WlBR3",
    "vscode": {
     "languageId": "python"
    }
   },
   "outputs": [],
   "source": [
    "lambda0 = 0.175\n",
    "g = np.sqrt(3 * lambda0 * omega0/4)"
   ]
  },
  {
   "cell_type": "markdown",
   "id": "b202deb2",
   "metadata": {
    "id": "LbYYybDOlBR3"
   },
   "source": [
    "We now compute solutions by changing the temperature gradually. To use the same number of IR functions all the temperatures, we fix the UV cutoff $\\Lambda$ to a common value."
   ]
  },
  {
   "cell_type": "code",
   "execution_count": 12,
   "id": "ae533a6c",
   "metadata": {
    "id": "vVbBsh9AlBR3",
    "vscode": {
     "languageId": "python"
    }
   },
   "outputs": [],
   "source": [
    "res_temp = {}\n",
    "temps = np.linspace(0.009, 0.013, 10)\n",
    "\n",
    "# Set Lambda to a large enough value for the lowest temperature\n",
    "Lambda_common = (10 * D)/temps.min()\n",
    "\n",
    "# Shift the mesh points by dt, which doubles the mesh size,\n",
    "# to compute the specific heat\n",
    "dt = 1e-5\n",
    "temps_all = np.unique(np.hstack((temps, temps + dt)))\n",
    "\n",
    "bset = None\n",
    "sigma_iv0 = None\n",
    "elta_iv0  = None\n",
    "\n",
    "for temp in temps_all:\n",
    "    beta = 1/temp\n",
    "\n",
    "    if bset is None:\n",
    "        bset = sparse_ir.FiniteTempBasisSet(beta, Lambda_common/beta, eps)\n",
    "    else:\n",
    "        # Reuse the SVE results\n",
    "        bset = sparse_ir.FiniteTempBasisSet(beta, Lambda_common/beta, eps, sve_result=bset.sve_result)\n",
    "\n",
    "    elsh = Eliashberg(bset, rho_omega, (-D, D), U, J, omega0, g, deg_leggauss=deg_leggauss)\n",
    "    \n",
    "    # Initial guess\n",
    "    if sigma_iv0 is None:\n",
    "        noise = 1e-5\n",
    "        sigma_iv0 = add_noise(np.zeros(bset.wn_f.size, dtype=np.complex128), noise)\n",
    "        delta_iv0 = np.full(bset.wn_f.size, 1.0, dtype=np.complex128)\n",
    "    \n",
    "    # Solve!\n",
    "    #sigma_iv, delta_iv, others = solve(elsh, sigma_iv0, delta_iv0, niter, mixing, verbose=True, ph=True)\n",
    "    max_iter = 1000000\n",
    "    sigma_iv, delta_iv, others = solve(elsh, sigma_iv0, delta_iv0, max_iter, mixing, verbose=False, ph=True)\n",
    "    res = {\"sigma_iv\": sigma_iv, \"delta_iv\": delta_iv}\n",
    "    for k, v in others.items():\n",
    "        res[k] = v\n",
    "    res_temp[temp] = res\n",
    "\n",
    "    # Use the converged result for an initial guess for the next temperature\n",
    "    sigma_iv0 = res[\"sigma_iv\"].copy()\n",
    "    delta_iv0 = res[\"delta_iv\"].copy()"
   ]
  },
  {
   "cell_type": "code",
   "execution_count": 13,
   "id": "9ec4660e",
   "metadata": {
    "id": "SpNV13PilBR3",
    "outputId": "05ff830b-9b48-4e92-d572-1baa8772e953",
    "vscode": {
     "languageId": "python"
    }
   },
   "outputs": [
    {
     "data": {
      "image/png": "[encoded data removed]",
      "text/plain": [
       "<Figure size 432x288 with 1 Axes>"
      ]
     },
     "metadata": {
      "filenames": {
       "image/png": "/workspaces/sparse-ir-tutorial/_build/jupyter_execute/src/eliashberg_holstein_py_20_0.png"
      },
      "needs_background": "light"
     },
     "output_type": "display_data"
    }
   ],
   "source": [
    "u_temps = np.array([res_temp[temp][\"u\"].real for temp in temps_all])\n",
    "plt.plot(temps_all, u_temps, marker=\"x\")\n",
    "plt.xlabel(r\"$T$\")\n",
    "plt.ylabel(r\"$E(T)$\")\n",
    "plt.show()"
   ]
  },
  {
   "cell_type": "code",
   "execution_count": 14,
   "id": "4740a75d",
   "metadata": {
    "id": "lWck_VXqlBR4",
    "outputId": "482b7aa3-ef92-48bd-90f4-4c69753b0082",
    "vscode": {
     "languageId": "python"
    }
   },
   "outputs": [
    {
     "data": {
      "image/png": "[encoded data removed]",
      "text/plain": [
       "<Figure size 432x288 with 1 Axes>"
      ]
     },
     "metadata": {
      "filenames": {
       "image/png": "/workspaces/sparse-ir-tutorial/_build/jupyter_execute/src/eliashberg_holstein_py_21_0.png"
      },
      "needs_background": "light"
     },
     "output_type": "display_data"
    }
   ],
   "source": [
    "u_dict = {temp: res_temp[temp][\"u\"].real for temp in temps_all}\n",
    "specific_heat = np.array([u_dict[temp+dt] - u_dict[temp] for temp in temps])/dt\n",
    "plt.plot(temps, specific_heat/temps, marker=\"o\")\n",
    "plt.ylim([0, 1200])\n",
    "plt.xlabel(r\"$T$\")\n",
    "plt.ylabel(r\"$C(T)$\")\n",
    "plt.show()"
   ]
  },
  {
   "cell_type": "markdown",
   "id": "e3dbcb53",
   "metadata": {
    "id": "G4bMASdklBR4"
   },
   "source": [
    "<!-- [1] Y. Kaga, P. Werner and S. Hoshino arXiv:2203.06946. -->\n",
    "\n",
    "[1] G. M. Eliashberg, Zh. Eksperim. Teor. Fiz. **38**, 966\n",
    "(1960) [Sov. Phys. JETP **11**, 696 (1960)].\n",
    "\n",
    "[2] G. M. Eliashberg, Zh. Eksperim. Teor. Fiz. **43**, 1005\n",
    "(1962) [Sov. Phys. JETP **16**, 780 (1963)].\n",
    "\n",
    "[3] Y. Kaga, P. Werner, and S. Hoshino,  arXiv:2203.06946 (2022).\n",
    "\n",
    "[4] S. Iimura, M. Hirayama, and S. Hoshino, Phys. Rev. B **104**, L081108 (2021).\n",
    "\n",
    "[5] Y. Wada, Phys. Rev. **135**, A1481 (1964)."
   ]
  }
 ],
 "metadata": {
  "jupytext": {
   "formats": "ipynb,md:myst",
   "text_representation": {
    "extension": ".md",
    "format_name": "myst"
   }
  },
  "kernelspec": {
   "display_name": "Python 3",
   "language": "python",
   "name": "python3"
  },
  "language_info": {
   "codemirror_mode": {
    "name": "ipython",
    "version": 3
   },
   "file_extension": ".py",
   "mimetype": "text/x-python",
   "name": "python",
   "nbconvert_exporter": "python",
   "pygments_lexer": "ipython3",
   "version": "3.9.2"
  },
  "source_map": [
   11,
   150,
   159,
   176,
   305,
   384,
   399,
   403,
   417,
   435,
   439,
   450,
   454,
   485,
   501,
   505,
   568,
   574,
   584,
   588,
   640,
   654,
   670
  ]
 },
 "nbformat": 4,
 "nbformat_minor": 5
}