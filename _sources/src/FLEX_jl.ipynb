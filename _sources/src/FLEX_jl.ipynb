{
 "cells": [
  {
   "cell_type": "markdown",
   "id": "08feef03",
   "metadata": {},
   "source": [
    "# FLEX approximation\n",
    "Author: [Kosuke Nogaki](mailto:nogaki.kosuke.83v@st.kyoto-u.ac.jp)\n",
    "\n",
    "## Theory of FLEX in the paramagnetic state"
   ]
  },
  {
   "cell_type": "markdown",
   "id": "d5937e14",
   "metadata": {},
   "source": [
    "## Code implementation"
   ]
  },
  {
   "cell_type": "code",
   "execution_count": 1,
   "id": "61791e8e",
   "metadata": {},
   "outputs": [
    {
     "data": {
      "text/plain": [
       "typestable (generic function with 1 method)"
      ]
     },
     "execution_count": 1,
     "metadata": {},
     "output_type": "execute_result"
    }
   ],
   "source": [
    "using PyPlot\n",
    "rcParams = PyPlot.PyDict(PyPlot.matplotlib.\"rcParams\")\n",
    "rcParams[\"text.usetex\"] = true\n",
    "rcParams[\"font.family\"] = \"serif\"\n",
    "rcParams[\"font.size\"] = 16\n",
    "rcParams[\"text.latex.preamble\"] = raw\"\\usepackage{amsmath}\"\n",
    "\n",
    "using Revise\n",
    "using FFTW\n",
    "using LinearAlgebra\n",
    "using Roots\n",
    "using SparseIR\n",
    "import SparseIR: Statistics\n",
    "#using JET\n",
    "\n",
    "# Check if a given function called with given types is type stable\n",
    "function typestable(@nospecialize(f), @nospecialize(t))\n",
    "    v = code_typed(f, t)\n",
    "    stable = true\n",
    "    for vi in v\n",
    "        for (name, ty) in zip(vi[1].slotnames, vi[1].slottypes)\n",
    "            !(ty isa Type) && continue\n",
    "            if ty === Any\n",
    "                stable = false\n",
    "                println(\"Type instability is detected! the variable is $(name) ::$ty\")\n",
    "            end\n",
    "        end\n",
    "    end\n",
    "    return stable\n",
    "end"
   ]
  },
  {
   "cell_type": "markdown",
   "id": "0f52cce8",
   "metadata": {},
   "source": [
    "#### Parameter setting"
   ]
  },
  {
   "cell_type": "code",
   "execution_count": 2,
   "id": "02a4e6e2",
   "metadata": {},
   "outputs": [],
   "source": [
    "### System parameters\n",
    "t    = 1      # hopping amplitude\n",
    "W    = 8*t    # bandwidth\n",
    "wmax = 10     # set wmax >= W\n",
    "\n",
    "T    = 0.1    # temperature\n",
    "beta = 1/T    # inverse temperature\n",
    "n    = 0.85   # electron filling, here per spin per lattice site (n=1: half filling)\n",
    "U    = 4.0    # Hubbard interaction\n",
    "\n",
    "### Numerical parameters\n",
    "nk1, nk2  = 24, 24    # number of k_points along one repiprocal crystal lattice direction k1 = kx, k2 = ky\n",
    "nk        = nk1*nk2\n",
    "IR_tol    = 1e-10     # accuary for l-cutoff of IR basis functions\n",
    "sfc_tol   = 1e-4      # accuracy for self-consistent iteration\n",
    "maxiter   = 30        # maximal number of iterations in self-consistent cycle\n",
    "mix       = 0.2       # mixing parameter for new \n",
    "U_maxiter = 50        # maximal number of iteration steps in U renormalization loop\n",
    ";"
   ]
  },
  {
   "cell_type": "markdown",
   "id": "c996cc10",
   "metadata": {},
   "source": [
    "#### Generating meshes"
   ]
  },
  {
   "cell_type": "code",
   "execution_count": 3,
   "id": "7bdecbee",
   "metadata": {},
   "outputs": [],
   "source": [
    "\"\"\"\n",
    "Holding struct for k-mesh and sparsely sampled imaginary time 'tau' / Matsubara frequency 'iw_n' grids.\n",
    "Additionally we defines the Fourier transform routines 'r <-> k'  and 'tau <-> l <-> wn'.\n",
    " \"\"\"\n",
    "struct Mesh\n",
    "    nk1         ::Int64\n",
    "    nk2         ::Int64\n",
    "    nk          ::Int64\n",
    "    ek          ::Array{Float64,2} \n",
    "    iw0_f       ::Int64\n",
    "    iw0_b       ::Int64\n",
    "    fnw         ::Int64\n",
    "    fntau       ::Int64\n",
    "    bnw         ::Int64\n",
    "    bntau       ::Int64\n",
    "    IR_basis_set::FiniteTempBasisSet\n",
    "end\n",
    "\n",
    "\"\"\"Initiarize function\"\"\"\n",
    "function Mesh(\n",
    "        nk1         ::Int64,\n",
    "        nk2         ::Int64,\n",
    "        IR_basis_set::FiniteTempBasisSet,\n",
    "        )::Mesh\n",
    "    \n",
    "    nk::Int64 = nk1*nk2\n",
    "\n",
    "    # Compute Hamiltonian\n",
    "    ek = Array{ComplexF64,2}(undef, nk1, nk2)\n",
    "    for iy in 1:nk2, ix in 1:nk1\n",
    "        kx::Float64 = (2*π*(ix-1))/nk1\n",
    "        ky::Float64 = (2*π*(iy-1))/nk2\n",
    "        ek[ix, iy] = -2.0*(cos(kx)+cos(ky)) \n",
    "    end\n",
    "    \n",
    "    # lowest Matsubara frequency index\n",
    "    iw0_f = findall(x->x==1,IR_basis_set.smpl_wn_f.sampling_points)[1]\n",
    "    iw0_b = findall(x->x==0,IR_basis_set.smpl_wn_b.sampling_points)[1]\n",
    "    \n",
    "    # the number of sampling point for fermion and boson\n",
    "    fnw   = length(IR_basis_set.smpl_wn_f.sampling_points)\n",
    "    fntau = length(IR_basis_set.smpl_tau_f.sampling_points)\n",
    "    bnw   = length(IR_basis_set.smpl_wn_b.sampling_points)\n",
    "    bntau = length(IR_basis_set.smpl_tau_b.sampling_points)\n",
    "\n",
    "    # Return\n",
    "    Mesh(nk1, nk2, nk, ek, iw0_f, iw0_b, fnw, fntau, bnw, bntau, IR_basis_set)\n",
    "end\n",
    "\n",
    "function smpl_obj(mesh::Mesh, statistics::SparseIR.Statistics)\n",
    "    \"\"\" Return sampling object for given statistic \"\"\"\n",
    "    if statistics == fermion\n",
    "        smpl_tau = mesh.IR_basis_set.smpl_tau_f\n",
    "        smpl_wn  = mesh.IR_basis_set.smpl_wn_f\n",
    "    elseif statistics == boson\n",
    "        smpl_tau = mesh.IR_basis_set.smpl_tau_b\n",
    "        smpl_wn  = mesh.IR_basis_set.smpl_wn_b\n",
    "    end    \n",
    "    return smpl_tau, smpl_wn\n",
    "end\n",
    "\n",
    "\"\"\"Fourier transformation\"\"\"    \n",
    "function tau_to_wn(mesh::Mesh, statistics, obj_tau) where {T <: SparseIR.Statistics}\n",
    "    \"\"\" Fourier transform from tau to iw_n via IR basis \"\"\"\n",
    "    smpl_tau, smpl_wn = smpl_obj(mesh, statistics)\n",
    "\n",
    "    obj_l = fit(smpl_tau, obj_tau, dim=1)\n",
    "    obj_wn = evaluate(smpl_wn, obj_l, dim=1)\n",
    "    return obj_wn\n",
    "end\n",
    "\n",
    "function wn_to_tau(mesh::Mesh, statistics::Statistics, obj_wn)\n",
    "    \"\"\" Fourier transform from iw_n to tau via IR basis \"\"\"\n",
    "    smpl_tau, smpl_wn = smpl_obj(mesh, statistics)\n",
    "\n",
    "    obj_l   = fit(smpl_wn, obj_wn, dim=1)\n",
    "    obj_tau = evaluate(smpl_tau, obj_l, dim=1)\n",
    "    return obj_tau\n",
    "end\n",
    " \n",
    "function k_to_r(mesh::Mesh, obj_k)\n",
    "    \"\"\" Fourier transform from k-space to real space \"\"\"\n",
    "    obj_r = fft(obj_k,[2,3])\n",
    "    return obj_r\n",
    "end\n",
    "\n",
    "function r_to_k(mesh::Mesh, obj_r)\n",
    "    \"\"\" Fourier transform from real space to k-space \"\"\"\n",
    "    obj_k = ifft(obj_r,[2,3])/mesh.nk\n",
    "    return obj_k\n",
    "end\n",
    "\n",
    "@assert typestable(tau_to_wn, (Mesh, SparseIR.Statistics, Array{ComplexF64,4}))\n",
    "@assert typestable(wn_to_tau, (Mesh, SparseIR.Statistics, Array{ComplexF64,4}))"
   ]
  },
  {
   "cell_type": "markdown",
   "id": "62d11c09",
   "metadata": {},
   "source": [
    "#### FLEX loop solver"
   ]
  },
  {
   "cell_type": "code",
   "execution_count": 4,
   "id": "93755c80",
   "metadata": {},
   "outputs": [],
   "source": [
    "\"\"\"\n",
    "Solver struct to calculate the FLEX loop self-consistently.\n",
    "After initializing the Solver by `solver = FLEXSolver(mesh, beta, U, n, sigma_init, sfc_tol, maxiter, U_maxiter, mix)'\n",
    "it can be run by `solve(solver)`.\n",
    " \"\"\"\n",
    "mutable struct FLEXSolver\n",
    "    mesh     ::Mesh\n",
    "    beta     ::Float64\n",
    "    U        ::Float64\n",
    "    n        ::Float64\n",
    "    sfc_tol  ::Float64\n",
    "    maxiter  ::Int64\n",
    "    U_maxiter::Int64\n",
    "    mix      ::Float64\n",
    "    verbose  ::Bool\n",
    "    mu       ::Float64\n",
    "    gkio     ::Array{ComplexF64,3}\n",
    "    grit     ::Array{ComplexF64,3}\n",
    "    ckio     ::Array{ComplexF64,3}\n",
    "    V        ::Array{ComplexF64,3}\n",
    "    sigma    ::Array{ComplexF64,3}\n",
    "end\n",
    "\n",
    "\"\"\"Initiarize function\"\"\"\n",
    "function FLEXSolver(\n",
    "        mesh      ::Mesh,\n",
    "        beta      ::Float64,\n",
    "        U         ::Float64,\n",
    "        n         ::Float64,\n",
    "        sigma_init::Array{ComplexF64,3};\n",
    "        sfc_tol   ::Float64=1e-4,\n",
    "        maxiter   ::Int64  =100,\n",
    "        U_maxiter ::Int64  =10,\n",
    "        mix       ::Float64=0.2,\n",
    "        verbose   ::Bool   =true\n",
    "        )::FLEXSolver\n",
    "    \n",
    "        mu::Float64 = 0.0\n",
    "    \n",
    "        gkio  = Array{ComplexF64}(undef, mesh.fnw,   mesh.nk1, mesh.nk2)\n",
    "        grit  = Array{ComplexF64}(undef, mesh.fntau, mesh.nk1, mesh.nk2)\n",
    "        ckio  = Array{ComplexF64}(undef, mesh.bnw,   mesh.nk1, mesh.nk2)\n",
    "        V     = Array{ComplexF64}(undef, mesh.bntau, mesh.nk1, mesh.nk2)\n",
    "        sigma = sigma_init\n",
    "    \n",
    "        solver = FLEXSolver(mesh, beta, U, n, sfc_tol, maxiter, U_maxiter, mix, verbose, mu, gkio, grit, ckio, V, sigma)\n",
    "    \n",
    "        solver.mu = mu_calc(solver)\n",
    "        gkio_calc(solver,solver.mu)\n",
    "        grit_calc(solver)\n",
    "        ckio_calc(solver)\n",
    "        return solver\n",
    "end\n",
    "\n",
    "#%%%%%%%%%%% Loop solving instance\n",
    "function solve(solver::FLEXSolver)\n",
    "    \"\"\" FLEXSolver.solve() executes FLEX loop until convergence \"\"\"\n",
    "    # check whether U < U_crit! Otherwise, U needs to be renormalized.\n",
    "    if maximum(abs, solver.ckio) * solver.U >= 1\n",
    "        U_renormalization(solver)\n",
    "    end\n",
    "            \n",
    "    # perform loop until convergence is reached:\n",
    "    for it in 1:solver.maxiter\n",
    "        sigma_old = copy(solver.sigma)\n",
    "        loop(solver)\n",
    "        \n",
    "        # check whether solution is converged.\n",
    "        sfc_check = sum(abs.(solver.sigma-sigma_old))/sum(abs.(solver.sigma))\n",
    "\n",
    "        if solver.verbose\n",
    "            println(it, '\\t', sfc_check)\n",
    "        end\n",
    "        if sfc_check < solver.sfc_tol\n",
    "            println(\"FLEX loop converged at desired accuracy\")\n",
    "            break\n",
    "        end\n",
    "    end\n",
    "end\n",
    "    \n",
    "function loop(solver::FLEXSolver)\n",
    "    \"\"\" FLEX loop \"\"\"\n",
    "    #t1 = time_ns()\n",
    "    gkio_old = copy(solver.gkio)\n",
    "    \n",
    "    #t2 = time_ns()\n",
    "\n",
    "    V_calc(solver)\n",
    "    sigma_calc(solver)\n",
    "    \n",
    "    #t3 = time_ns()\n",
    "        \n",
    "    solver.mu = mu_calc(solver)\n",
    "    #t4 = time_ns()\n",
    "    gkio_calc(solver,solver.mu)\n",
    "    #t5 = time_ns()\n",
    "    \n",
    "    solver.gkio .= solver.mix*solver.gkio .+ (1-solver.mix)*gkio_old\n",
    "        \n",
    "    grit_calc(solver)\n",
    "    ckio_calc(solver)\n",
    "    #t6 = time_ns()\n",
    "    #println(\"debug \", (t2-t1)*1e-9, \" \", (t3-t2)*1e-9, (t4-t3)*1e-9, \" \", (t5-t4)*1e-9, \" \", (t6-t5)*1e-9)\n",
    "end\n",
    "\n",
    "\n",
    "#%%%%%%%%%%% U renormalization loop instance\n",
    "function U_renormalization(solver::FLEXSolver)\n",
    "    \"\"\" Loop for renormalizing U if Stoner enhancement U*max{chi0} >= 1. \"\"\"\n",
    "    println(\"WARNING: U is too large and the spin susceptibility denominator will diverge/turn unphysical!\")\n",
    "    println(\"Initiate U renormalization loop.\")\n",
    "    \n",
    "    # save old U for later\n",
    "    U_old::Float64 = solver.U\n",
    "    # renormalization loop may run infinitely! Insert break condition after U_it_max steps\n",
    "    U_it::Int64 = 0\n",
    "    \n",
    "    while U_old*maximum(abs, solver.ckio) >= 1.0\n",
    "        U_it += 1\n",
    "        \n",
    "        # remormalize U such that U*chi0 < 1\n",
    "        solver.U = solver.U / (maximum(abs, solver.ckio)*solver.U + 0.01)\n",
    "        println(U_it, '\\t', solver.U, '\\t', U_old)\n",
    "        \n",
    "        # perform one shot FLEX loop\n",
    "        loop(solver)\n",
    "        \n",
    "        # reset U\n",
    "        solver.U = U_old\n",
    "        \n",
    "        # break condition for too many steps\n",
    "        if U_it == solver.U_maxiter\n",
    "            println(\"U renormalization reached breaking point\")\n",
    "            break\n",
    "        end\n",
    "    end\n",
    "    println(\"Leaving U renormalization...\")\n",
    "end\n",
    "\n",
    "#%%%%%%%%%%% Calculation steps\n",
    "function gkio_calc(solver::FLEXSolver, mu::Float64)\n",
    "    \"\"\" calculate Green function G(iw,k) \"\"\"\n",
    "    for iy in 1:solver.mesh.nk2, ix in 1:solver.mesh.nk1, iw in 1:solver.mesh.fnw\n",
    "        iv::ComplexF64 = (im * π/solver.beta) * solver.mesh.IR_basis_set.smpl_wn_f.sampling_points[iw]\n",
    "        solver.gkio[iw,ix,iy] = 1.0/(iv - solver.mesh.ek[ix, iy] + mu - solver.sigma[iw,ix,iy])\n",
    "    end\n",
    "end\n",
    "\n",
    "function grit_calc(solver::FLEXSolver)\n",
    "    \"\"\" Calculate real space Green function G(tau,r) [for calculating chi0 and sigma] \"\"\"\n",
    "    # Fourier transform\n",
    "    grio = k_to_r(solver.mesh, solver.gkio)\n",
    "    solver.grit .= wn_to_tau(solver.mesh, fermion, grio)\n",
    "end\n",
    "\n",
    "function ckio_calc(solver::FLEXSolver)\n",
    "    \"\"\" Calculate irreducible susciptibility chi0(iv,q) \"\"\"\n",
    "    crit = Array{ComplexF64}(undef, solver.mesh.bntau, solver.mesh.nk1, solver.mesh.nk2)\n",
    "    for iy in 1:solver.mesh.nk2, ix in 1:solver.mesh.nk1, it in 1:solver.mesh.bntau\n",
    "        crit[it,ix,iy] = solver.grit[it,ix,iy] * solver.grit[solver.mesh.bntau-it+1,ix,iy]\n",
    "    end\n",
    "\n",
    "    # Fourier transform\n",
    "    ckit = r_to_k(solver.mesh, crit)\n",
    "    solver.ckio .= tau_to_wn(solver.mesh, boson, ckit)\n",
    "end\n",
    "\n",
    "function V_calc(solver::FLEXSolver)\n",
    "    \"\"\" Calculate interaction V(tau,r) from RPA-like spin and charge susceptibility for calculating sigma \"\"\"\n",
    "    # check whether U is too large and give warning\n",
    "    if maximum(abs.(solver.ckio))*solver.U >= 1\n",
    "        error(\"U*max(chi0) >= 1! Paramagnetic phase is left and calculations will turn unstable!\")\n",
    "    end\n",
    "        \n",
    "    # spin and charge susceptibility\n",
    "    chi_spin   = solver.ckio ./ (1 .- solver.U .* solver.ckio)\n",
    "    chi_charge = solver.ckio ./ (1 .+ solver.U .* solver.ckio)\n",
    "\n",
    "    Vkio = (1.5*solver.U^2) .* chi_spin .+ (0.5*solver.U^2) .* chi_charge .- (solver.U^2) .* solver.ckio\n",
    "    # Constant Hartree Term V ~ U needs to be treated extra, since they cannot be modeled by the IR basis.\n",
    "    # In the single-band case, the Hartree term can be absorbed into the chemical potential.\n",
    "\n",
    "    # Fourier transform\n",
    "    Vrio = k_to_r(solver.mesh, Vkio)\n",
    "    solver.V .= wn_to_tau(solver.mesh, boson, Vrio)\n",
    "end\n",
    "\n",
    "function sigma_calc(solver::FLEXSolver)\n",
    "    \"\"\" Calculate self-energy Sigma(iw,k) \"\"\"\n",
    "    sigmarit = solver.V .* solver.grit\n",
    "    \n",
    "    # Fourier transform\n",
    "    sigmakit = r_to_k(solver.mesh, sigmarit)\n",
    "    solver.sigma .= tau_to_wn(solver.mesh, fermion, sigmakit)\n",
    "end\n",
    "    \n",
    "    \n",
    "#%%%%%%%%%%% Setting chemical potential mu\n",
    "function calc_electron_density(solver::FLEXSolver,mu::Float64)::Float64\n",
    "    \"\"\" Calculate electron density from Green function \"\"\"\n",
    "    #t1 = time_ns()\n",
    "    gkio_calc(solver,mu)\n",
    "    gio = dropdims(sum(solver.gkio,dims=(2,3)),dims=(2,3))/solver.mesh.nk\n",
    "    #t2 = time_ns()\n",
    "    \n",
    "    g_l = fit(solver.mesh.IR_basis_set.smpl_wn_f,gio, dim=1)\n",
    "    #t3 = time_ns()\n",
    "    g_tau0 = dot(solver.mesh.IR_basis_set.basis_f.u(0), g_l)\n",
    "    #t4 = time_ns()\n",
    "    #println(\"timing \", 1e-9*(t2-t1),  \" \", 1e-9*(t3-t2), \" \", 1e-9*(t4-t3))\n",
    "    \n",
    "    n  = 1.0 + real(g_tau0)\n",
    "    n  = 2.0 * n #for spin\n",
    "end\n",
    "\n",
    "function mu_calc(solver::FLEXSolver)::Float64\n",
    "    \"\"\" Find chemical potential for a given filling n0 via brent's root finding algorithm \"\"\"\n",
    "    f  = x -> calc_electron_density(solver,x) - solver.n\n",
    "        \n",
    "    mu = find_zero(f, (3*minimum(solver.mesh.ek), 3*maximum(solver.mesh.ek)), Roots.Brent()) \n",
    "end\n",
    "@assert typestable(U_renormalization, FLEXSolver)\n",
    "@assert typestable(solve, FLEXSolver)"
   ]
  },
  {
   "cell_type": "markdown",
   "id": "ea6bdf5d",
   "metadata": {},
   "source": [
    "### Execute FLEX loop"
   ]
  },
  {
   "cell_type": "code",
   "execution_count": 5,
   "id": "f8ac3b7c",
   "metadata": {},
   "outputs": [
    {
     "name": "stdout",
     "output_type": "stream",
     "text": [
      "WARNING: U is too large and the spin susceptibility denominator will diverge/turn unphysical!\n",
      "Initiate U renormalization loop.\n",
      "1\t2.3679802693785788\t4.0\n",
      "2\t2.6631530511910912\t4.0\n",
      "3\t2.9528432020092623\t4.0\n",
      "4\t3.2372665069550157\t4.0\n",
      "5\t3.517535371127647\t4.0\n",
      "6\t3.79507477895955\t4.0\n",
      "Leaving U renormalization...\n",
      "1\t0.08757050701864856\n",
      "2\t0.14458517806200294\n",
      "3\t0.022496516962658107\n",
      "4\t0.011826075022108758\n",
      "5\t0.007576749380720617\n",
      "6\t0.005298268436700145\n",
      "7\t0.003862726087968354\n",
      "8\t0.0028737816636819433\n",
      "9\t0.0021584597622662394\n",
      "10\t0.001628450793362897\n",
      "11\t0.0012315292636350679\n",
      "12\t0.0009331890337810224\n",
      "13\t0.0007086077737028581\n",
      "14\t0.0005394112523373278\n",
      "15\t0.00041186893612726866\n",
      "16\t0.00031563153400449126\n",
      "17\t0.00024290673623504839\n",
      "18\t0.00018780238679033128\n",
      "19\t0.00014592983405742698\n",
      "20\t0.00011401152358124192\n",
      "21\t8.956735421933879e-5\n",
      "FLEX loop converged at desired accuracy\n"
     ]
    },
    {
     "name": "stderr",
     "output_type": "stream",
     "text": [
      "┌ Warning: Basis cutoff is 1.0e-10, which is below sqrt(eps) with eps = 2.220446049250313e-16.\n",
      "│ Expect singular values and basis functions for large l to have lower precision\n",
      "│ than the cutoff.\n",
      "└ @ SparseIR /Users/hiroshi/.julia/packages/SparseIR/YPNFs/src/sve.jl:297\n"
     ]
    }
   ],
   "source": [
    "# initialize calculation\n",
    "#t1 = time_ns()\n",
    "IR_basis_set = FiniteTempBasisSet(beta, wmax, IR_tol)\n",
    "#t2 = time_ns()\n",
    "mesh = Mesh(nk1, nk2, IR_basis_set)\n",
    "sigma_init = zeros(ComplexF64,(mesh.fnw, nk1, nk2))\n",
    "solver = FLEXSolver(mesh, beta, U, n, sigma_init, sfc_tol=sfc_tol, maxiter=maxiter, U_maxiter=U_maxiter, mix=mix)\n",
    "#t3 = time_ns()\n",
    "\n",
    "# perform FLEX loop\n",
    "solve(solver)\n",
    "#t4 = time_ns()\n",
    "#println((t2-t1)*1e-9)\n",
    "#println((t3-t2)*1e-9)\n",
    "#println((t4-t3)*1e-9)"
   ]
  },
  {
   "cell_type": "code",
   "execution_count": 6,
   "id": "12cb1077",
   "metadata": {},
   "outputs": [],
   "source": [
    "#using BenchmarkTools\n",
    "#@benchmark loop(solver)"
   ]
  },
  {
   "cell_type": "code",
   "execution_count": 7,
   "id": "0b96c29b",
   "metadata": {},
   "outputs": [],
   "source": [
    "#@benchmark gkio_calc(solver, 0.0)\n",
    "#@code_warntype gkio_calc(solver, 0.0)"
   ]
  },
  {
   "cell_type": "code",
   "execution_count": 8,
   "id": "c4ac862c",
   "metadata": {},
   "outputs": [],
   "source": [
    "#@benchmark calc_electron_density(solver, 0.0)"
   ]
  },
  {
   "cell_type": "code",
   "execution_count": 9,
   "id": "7cdd352c",
   "metadata": {},
   "outputs": [],
   "source": [
    "#@report_opt target_modules=(@__MODULE__,)  U_renormalization(solver)\n",
    "#using BenchmarkTools\n",
    "#@benchmark loop(solver)\n",
    "#@benchmark V_calc(solver)"
   ]
  },
  {
   "cell_type": "code",
   "execution_count": 10,
   "id": "3fd7ca93",
   "metadata": {},
   "outputs": [],
   "source": [
    "#@benchmark sigma_calc(solver)"
   ]
  },
  {
   "cell_type": "code",
   "execution_count": 11,
   "id": "c4125b8a",
   "metadata": {},
   "outputs": [],
   "source": [
    "#@benchmark mu_calc(solver)"
   ]
  },
  {
   "cell_type": "markdown",
   "id": "ad53b7f1",
   "metadata": {},
   "source": [
    "#### Visualize results"
   ]
  },
  {
   "cell_type": "code",
   "execution_count": 12,
   "id": "1ba1a9d3",
   "metadata": {},
   "outputs": [
    {
     "name": "stderr",
     "output_type": "stream",
     "text": [
      "sys:1: UserWarning: Matplotlib is currently using agg, which is a non-GUI backend, so cannot show the figure.\n"
     ]
    },
    {
     "data": {
      "image/png": "[encoded data removed]",
      "text/plain": [
       "Figure(PyObject <Figure size 370x300 with 2 Axes>)"
      ]
     },
     "metadata": {
      "filenames": {
       "image/png": "/Users/hiroshi/git/papers/sparse-ir-tutorial/_build/jupyter_execute/src/FLEX_jl_18_1.png"
      }
     },
     "output_type": "display_data"
    }
   ],
   "source": [
    "# plot 2D k-dependence of lowest Matsubara frequency of e.g. green function\n",
    "myx = (2 .* collect(1:nk1) .- 1) ./ nk1\n",
    "myy = (2 .* collect(1:nk1) .- 1) ./ nk2\n",
    "plt.figure(figsize=(3.7,3))\n",
    "plt.pcolormesh(myx, myy, real.(solver.gkio[solver.mesh.iw0_f,:,:]'), shading=\"auto\")\n",
    "ax = plt.gca()\n",
    "ax.set_xlabel(L\"k_x/\\pi\")\n",
    "ax.set_xlim([0,2])\n",
    "ax.set_ylabel(L\"k_y/\\pi\")\n",
    "ax.set_ylim([0,2])\n",
    "ax.set_aspect(\"equal\")\n",
    "plt.colorbar()\n",
    "plt.show()"
   ]
  },
  {
   "cell_type": "code",
   "execution_count": 13,
   "id": "9d3ddc6b",
   "metadata": {},
   "outputs": [
    {
     "name": "stderr",
     "output_type": "stream",
     "text": [
      "sys:1: UserWarning: Matplotlib is currently using agg, which is a non-GUI backend, so cannot show the figure.\n"
     ]
    },
    {
     "data": {
      "image/png": "[encoded data removed]",
      "text/plain": [
       "Figure(PyObject <Figure size 370x300 with 2 Axes>)"
      ]
     },
     "metadata": {
      "filenames": {
       "image/png": "/Users/hiroshi/git/papers/sparse-ir-tutorial/_build/jupyter_execute/src/FLEX_jl_19_1.png"
      }
     },
     "output_type": "display_data"
    }
   ],
   "source": [
    "# plot 2D k-dependence of lowest Matsubara frequency of e.g. chi0\n",
    "plt.figure(figsize=(3.7,3))\n",
    "plt.pcolormesh(myx, myy, real.(solver.ckio[solver.mesh.iw0_b,:,:]'), shading=\"auto\")\n",
    "ax = plt.gca()\n",
    "ax.set_xlabel(L\"k_x/\\pi\")\n",
    "ax.set_xlim([0,2])\n",
    "ax.set_ylabel(L\"k_y/\\pi\")\n",
    "ax.set_ylim([0,2])\n",
    "ax.set_aspect(\"equal\")\n",
    "plt.colorbar()\n",
    "plt.show()"
   ]
  },
  {
   "cell_type": "markdown",
   "id": "8c2a769e",
   "metadata": {},
   "source": [
    "## Linearized Eliashberg equation"
   ]
  },
  {
   "cell_type": "markdown",
   "id": "3bfd38ee",
   "metadata": {},
   "source": [
    "### Code implementation\n",
    "\n",
    "#### Linearized Eliashberg solver"
   ]
  },
  {
   "cell_type": "code",
   "execution_count": 14,
   "id": "bab0a0ea",
   "metadata": {},
   "outputs": [
    {
     "data": {
      "text/plain": [
       "frit_calc (generic function with 1 method)"
      ]
     },
     "execution_count": 14,
     "metadata": {},
     "output_type": "execute_result"
    }
   ],
   "source": [
    "\"\"\"\n",
    "Solver struct for solving the linearized gap equation using the power method.\n",
    "It takes FLEX results as an input.\n",
    "\"\"\"\n",
    "mutable struct LinearizedGapSolver\n",
    "    mesh      ::Mesh\n",
    "    gkio      ::Array{ComplexF64,3}\n",
    "    V_singlet ::Array{ComplexF64,3}\n",
    "    delta     ::Array{ComplexF64,3}\n",
    "    frit      ::Array{ComplexF64,3}\n",
    "    U         ::Float64\n",
    "    maxiter   ::Int64\n",
    "    sfc_tol   ::Float64\n",
    "    verbose   ::Bool\n",
    "    lam       ::Float64\n",
    "end\n",
    "\n",
    "function LinearizedGapSolver(\n",
    "        FLEX_solver::FLEXSolver;\n",
    "        maxiter    ::Int64  =50,\n",
    "        sfc_tol    ::Float64=1e-4,\n",
    "        verbose    ::Bool   =true\n",
    "        )::LinearizedGapSolver\n",
    "        \n",
    "    ## Initialize necessary quantities from FLEX loop\n",
    "    mesh       = FLEX_solver.mesh\n",
    "    gkio       = FLEX_solver.gkio\n",
    "    U          = FLEX_solver.U\n",
    "        \n",
    "    maxiter = maxiter\n",
    "    sfc_tol = sfc_tol\n",
    "    verbose = verbose\n",
    "        \n",
    "    ## Initialize trial gap function\n",
    "    # Here we focus on a d-wave symmetric solution\n",
    "    delta = Array{ComplexF64}(undef, FLEX_solver.mesh.fnw,   FLEX_solver.mesh.nk1, FLEX_solver.mesh.nk2)\n",
    "    frit  = Array{ComplexF64}(undef, FLEX_solver.mesh.fntau, FLEX_solver.mesh.nk1, FLEX_solver.mesh.nk2)\n",
    "    for iy in 1:FLEX_solver.mesh.nk2, ix in 1:FLEX_solver.mesh.nk1, iw in 1:FLEX_solver.mesh.fnw\n",
    "        kx::Float64 = (2*π*(ix-1))/FLEX_solver.mesh.nk1\n",
    "        ky::Float64 = (2*π*(iy-1))/FLEX_solver.mesh.nk2\n",
    "        delta[iw,ix,iy] = cos(kx) - cos(ky) \n",
    "    end\n",
    "    \n",
    "    #normalize initial guess\n",
    "    normalize!(delta)   \n",
    "        \n",
    "    # Initialize interaction\n",
    "    V_singlet = V_singlet_calc(FLEX_solver)\n",
    "        \n",
    "    ## Initialize eigenvalue\n",
    "    lam::Float64 = 0.0\n",
    "    gap_solver = LinearizedGapSolver(mesh, gkio, V_singlet, delta, frit, U, maxiter, sfc_tol, verbose, lam)\n",
    "end\n",
    "\n",
    "function solve(gap_solver::LinearizedGapSolver)\n",
    "    \"\"\" Solving instance to find eigenvalue from power method \"\"\"\n",
    "    for it in 1:gap_solver.maxiter\n",
    "        lam_old = gap_solver.lam\n",
    "        delta_old = copy(gap_solver.delta)\n",
    "    \n",
    "        frit_calc(gap_solver)\n",
    "        deltarit = gap_solver.V_singlet .* gap_solver.frit\n",
    "    \n",
    "        # Fourier transform to momentum space\n",
    "        deltakit = r_to_k(gap_solver.mesh, deltarit)\n",
    "        gap_solver.delta .= tau_to_wn(gap_solver.mesh, fermion, deltakit)\n",
    "    \n",
    "        # calculate eigenvalue\n",
    "        gap_solver.lam = sum(real.(conj.(gap_solver.delta).* delta_old))\n",
    "        \n",
    "        normalize!(gap_solver.delta) \n",
    "    \n",
    "        if gap_solver.verbose\n",
    "            println(it, '\\t', gap_solver.lam, '\\t', abs(gap_solver.lam-lam_old))\n",
    "        end\n",
    "        if abs(gap_solver.lam-lam_old) < gap_solver.sfc_tol\n",
    "            break   \n",
    "        end\n",
    "    end\n",
    "end\n",
    "\n",
    "    \n",
    "#%%%%%%%%%%% Calculation steps\n",
    "function V_singlet_calc(solver::FLEXSolver)::Array{ComplexF64,3}\n",
    "    \"\"\" Set up interaction in real space and imaginary time \"\"\"\n",
    "    chi_spin   = solver.ckio ./ (1 .- solver.U*solver.ckio)\n",
    "    chi_charge = solver.ckio ./ (1 .+ solver.U*solver.ckio)\n",
    "    \n",
    "    Vkio = 1.5*solver.U^2 * chi_spin .- 0.5*solver.U^2 * chi_charge\n",
    "    # Constant Hartree Term V ~ U needs to be treated extra, since they cannot be modeled by the IR basis.\n",
    "    # In the special case of d-wave symmetry, it can be neglected.\n",
    "    \n",
    "    # Fourier transform\n",
    "    Vrio = k_to_r(solver.mesh, Vkio)\n",
    "    V_singlet = wn_to_tau(solver.mesh, boson, Vrio)\n",
    "    return V_singlet\n",
    "end\n",
    "\n",
    "function frit_calc(gap_solver::LinearizedGapSolver)\n",
    "    \"\"\" Calculate (linearized) anomalous Green function F = |G|^2 * delta for evaluating the gap equation \"\"\"\n",
    "    fkio = - gap_solver.gkio.*conj(gap_solver.gkio).*gap_solver.delta\n",
    "        \n",
    "    # Fourier transform\n",
    "    frit = k_to_r(gap_solver.mesh, fkio)\n",
    "    gap_solver.frit = wn_to_tau(gap_solver.mesh, fermion, frit)\n",
    "end"
   ]
  },
  {
   "cell_type": "markdown",
   "id": "0428abb8",
   "metadata": {},
   "source": [
    "#### Executing the gap equation solver"
   ]
  },
  {
   "cell_type": "code",
   "execution_count": 15,
   "id": "407c2911",
   "metadata": {},
   "outputs": [
    {
     "name": "stdout",
     "output_type": "stream",
     "text": [
      "1\t0.108858469098243\t0.108858469098243\n",
      "2\t0.4058444924163219\t0.29698602331807894\n",
      "3\t0.44941824911237166\t0.04357375669604974\n",
      "4\t0.45617269034314467\t0.006754441230773012\n",
      "5\t0.4577756243131005\t0.001602933969955811\n",
      "6\t0.45815514021764925\t0.00037951590454876616\n",
      "7\t0.4582572040968229\t0.00010206387917366389\n",
      "8\t0.45828371844525057\t2.65143484276531e-5\n",
      "The superconducting eigenvalue at T=0.1 is lambda_d=0.45828371844525057\n"
     ]
    }
   ],
   "source": [
    "gap_solver = LinearizedGapSolver(solver, maxiter=maxiter, sfc_tol=sfc_tol)\n",
    "solve(gap_solver)\n",
    "println(\"The superconducting eigenvalue at T=\",T,\" is lambda_d=\",gap_solver.lam)"
   ]
  },
  {
   "cell_type": "markdown",
   "id": "ac44777b",
   "metadata": {},
   "source": [
    "#### Visualize results"
   ]
  },
  {
   "cell_type": "code",
   "execution_count": 16,
   "id": "bb82df74",
   "metadata": {},
   "outputs": [
    {
     "data": {
      "image/png": "[encoded data removed]",
      "text/plain": [
       "Figure(PyObject <Figure size 370x300 with 2 Axes>)"
      ]
     },
     "metadata": {
      "filenames": {
       "image/png": "/Users/hiroshi/git/papers/sparse-ir-tutorial/_build/jupyter_execute/src/FLEX_jl_26_0.png"
      }
     },
     "output_type": "display_data"
    },
    {
     "data": {
      "image/png": "[encoded data removed]",
      "text/plain": [
       "Figure(PyObject <Figure size 370x300 with 2 Axes>)"
      ]
     },
     "metadata": {
      "filenames": {
       "image/png": "/Users/hiroshi/git/papers/sparse-ir-tutorial/_build/jupyter_execute/src/FLEX_jl_26_1.png"
      }
     },
     "output_type": "display_data"
    }
   ],
   "source": [
    "# plot 2D k-dependence of lowest Matsubara frequency of the gap vs. initial guess\n",
    "delta0 = Array{ComplexF64}(undef, gap_solver.mesh.nk1, gap_solver.mesh.nk2)\n",
    "for iy in 1:gap_solver.mesh.nk2, ix in 1:gap_solver.mesh.nk1\n",
    "    kx::Float64 = (2*π*(ix-1))/nk1\n",
    "    ky::Float64 = (2*π*(iy-1))/nk2\n",
    "    delta0[ix,iy] = cos(kx) - cos(ky) \n",
    "end\n",
    "normalize!(delta0)\n",
    "\n",
    "plt.figure(figsize=(3.7,3))\n",
    "plt.pcolormesh(myx, myy, real.(delta0[:,:]'), cmap=\"RdBu\", shading=\"auto\")\n",
    "ax = plt.gca()\n",
    "#plt.pcolormesh(myx, myy, real.(gap_solver.delta[gap_solver.mesh.iw0_f,:,:]'))\n",
    "ax.set_xlabel(L\"k_x/\\pi\")\n",
    "ax.set_xlim([0,2])\n",
    "ax.set_ylabel(L\"k_y/\\pi\")\n",
    "ax.set_ylim([0,2])\n",
    "ax.set_aspect(\"equal\")\n",
    "ax.set_title(L\"\\Delta^0_d(k)\")\n",
    "plt.colorbar()\n",
    "\n",
    "\n",
    "plt.figure(figsize=(3.7,3))\n",
    "plt.pcolormesh(myx, myy, real.(gap_solver.delta[gap_solver.mesh.iw0_f,:,:]'), cmap=\"RdBu\", shading=\"auto\")\n",
    "ax = plt.gca()\n",
    "ax.set_xlabel(L\"k_x/\\pi\")\n",
    "ax.set_xlim([0,2])\n",
    "ax.set_ylabel(L\"k_y/\\pi\")\n",
    "ax.set_ylim([0,2])\n",
    "ax.set_aspect(\"equal\")\n",
    "ax.set_title(L\"\\Delta_d(k)\")\n",
    "plt.colorbar()\n",
    "plt.show()"
   ]
  },
  {
   "cell_type": "code",
   "execution_count": 17,
   "id": "83d904cf",
   "metadata": {},
   "outputs": [
    {
     "data": {
      "image/png": "[encoded data removed]",
      "text/plain": [
       "Figure(PyObject <Figure size 370x300 with 2 Axes>)"
      ]
     },
     "metadata": {
      "filenames": {
       "image/png": "/Users/hiroshi/git/papers/sparse-ir-tutorial/_build/jupyter_execute/src/FLEX_jl_27_0.png"
      }
     },
     "output_type": "display_data"
    }
   ],
   "source": [
    "# plot 2D k-dependence of lowest Matsubara frequency of the anomalous Green function\n",
    "fkio = - gap_solver.gkio.*conj(gap_solver.gkio).*gap_solver.delta\n",
    "plt.figure(figsize=(3.7,3))\n",
    "plt.pcolormesh(myx, myy, real.(fkio[mesh.iw0_f,:,:]'), cmap=\"RdBu\", shading=\"auto\")\n",
    "ax = plt.gca()\n",
    "ax.set_xlabel(L\"k_x/\\pi\")\n",
    "ax.set_xlim([0,2])\n",
    "ax.set_ylabel(L\"k_y/\\pi\")\n",
    "ax.set_ylim([0,2])\n",
    "ax.set_aspect(\"equal\")\n",
    "ax.set_title(L\"\\Delta_d(k)\")\n",
    "plt.colorbar()\n",
    "plt.show()"
   ]
  },
  {
   "cell_type": "markdown",
   "id": "97f5d7e8",
   "metadata": {},
   "source": [
    "## Example: Antiferromagnetic fluctuations and $d$-wave superconductivity in the square-lattice Hubbard model"
   ]
  },
  {
   "cell_type": "code",
   "execution_count": 18,
   "id": "0d13ab8d",
   "metadata": {},
   "outputs": [
    {
     "name": "stdout",
     "output_type": "stream",
     "text": [
      "Initialization...\n",
      "Now: T = 0.08\n",
      "WARNING: U is too large and the spin susceptibility denominator will diverge/turn unphysical!\n",
      "Initiate U renormalization loop.\n",
      "1\t2.2871468488449826\t4.0\n",
      "2\t2.48568477922781\t4.0\n",
      "3\t2.6890780722932384\t4.0\n",
      "4\t2.8952476523538317\t4.0\n",
      "5\t3.1004196148212637\t4.0\n",
      "6\t3.3068380779990867\t4.0\n",
      "7\t3.515637120656906\t4.0\n",
      "8\t3.7272845421155405\t4.0\n",
      "9\t3.9417174850410563\t4.0\n",
      "Leaving U renormalization...\n",
      "FLEX loop converged at desired accuracy\n",
      "Now: T = 0.07\n",
      "FLEX loop converged at desired accuracy\n",
      "Now: T = 0.06\n",
      "FLEX loop converged at desired accuracy\n",
      "Now: T = 0.05\n",
      "FLEX loop converged at desired accuracy\n",
      "Now: T = 0.04\n",
      "FLEX loop converged at desired accuracy\n",
      "Now: T = 0.03\n",
      "FLEX loop converged at desired accuracy\n",
      "Now: T = 0.025\n",
      "FLEX loop converged at desired accuracy\n"
     ]
    }
   ],
   "source": [
    "#%%%%%%%%%%%%%%% Parameter settings\n",
    "println(\"Initialization...\")\n",
    "# system parameters\n",
    "t    = 1      # hopping amplitude\n",
    "n    = 0.85   # electron filling, here per spin per lattice site (n=1: half filling)\n",
    "U    = 4.0    # Hubbard interaction\n",
    "\n",
    "W    = 8*t    # bandwidth\n",
    "wmax = 10     # set wmax >= W\n",
    "T_values = [0.08, 0.07, 0.06, 0.05, 0.04, 0.03, 0.025]# temperature\n",
    "\n",
    "# numerical parameters\n",
    "nk1, nk2  = 64, 64    # k-mesh sufficiently dense!\n",
    "nk        = nk1*nk2\n",
    "IR_Lambda = 10^3      # dimensionless IR parameter >= w_max * beta_min = 400\n",
    "IR_tol    = 1e-7      # accuary for l-cutoff of IR basis functions\n",
    "sfc_tol   = 1e-4      # accuracy for self-consistent iteration\n",
    "it_max    = 30        # maximal number of iterations in self-consistent cycle\n",
    "mix       = 0.2       # mixing parameter for new \n",
    "U_it_max  = 50        # maximal number of iteration steps in U renormalization loop\n",
    "\n",
    "# initialize first IR basis set (no recalculation afterwrds)\n",
    "beta_init = 1.0/T_values[1]\n",
    "IR_basis_set = FiniteTempBasisSet(beta_init, IR_Lambda/beta_init, IR_tol)\n",
    "\n",
    "# set initial self_energy - will be set to previous calculation step afterwards\n",
    "sigma_init = zeros(ComplexF64,(length(IR_basis_set.smpl_wn_f.sampling_points), nk1, nk2))\n",
    "\n",
    "# empty arrays for results\n",
    "lam_T     = Array{Float64}(undef,length(T_values))\n",
    "chiSmax_T = Array{Float64}(undef,length(T_values))\n",
    "chi_s_plt = Array{Float64}(undef,nk1,nk2)\n",
    "\n",
    "#%%%%%%%%%%%%%%% Calculations for different T values\n",
    "for T_it in 1:length(T_values)\n",
    "    T = T_values[T_it]\n",
    "    println(\"Now: T = \", T)\n",
    "    beta = 1/T\n",
    "\n",
    "    # initialize meshes\n",
    "    IR_basis_set = FiniteTempBasisSet(beta, IR_Lambda/beta, IR_tol, sve_result=IR_basis_set.basis_f.sve_result)\n",
    "    mesh = Mesh(nk1, nk2, IR_basis_set)\n",
    "    \n",
    "    # calculate FLEX loop\n",
    "    solver = FLEXSolver(mesh, beta, U, n, sigma_init, sfc_tol=sfc_tol, maxiter=it_max, U_maxiter=U_it_max, mix=mix, verbose=false)\n",
    "    solve(solver)\n",
    "    \n",
    "    sigma_init = copy(solver.sigma)\n",
    "    \n",
    "    # calculate linearized gap equation\n",
    "    gap_solver = LinearizedGapSolver(solver, maxiter=it_max, sfc_tol=sfc_tol, verbose=false)\n",
    "    solve(gap_solver)\n",
    "    \n",
    "    # save data for plotting\n",
    "    lam_T[T_it] = gap_solver.lam\n",
    "    chi_spin   = solver.ckio ./ (1 .- solver.U*solver.ckio)\n",
    "    chiSmax_T[T_it] = real(findmax(abs.(chi_spin))[1])\n",
    "    \n",
    "    if T == 0.03\n",
    "        chi_s_plt .= real.(chi_spin[solver.mesh.iw0_b,:,:])\n",
    "    end\n",
    "\n",
    "end"
   ]
  },
  {
   "cell_type": "code",
   "execution_count": 19,
   "id": "f1ffa632",
   "metadata": {},
   "outputs": [
    {
     "name": "stderr",
     "output_type": "stream",
     "text": [
      "sys:1: UserWarning: Matplotlib is currently using agg, which is a non-GUI backend, so cannot show the figure.\n"
     ]
    },
    {
     "data": {
      "image/png": "[encoded data removed]",
      "text/plain": [
       "Figure(PyObject <Figure size 1000x400 with 2 Axes>)"
      ]
     },
     "metadata": {
      "filenames": {
       "image/png": "/Users/hiroshi/git/papers/sparse-ir-tutorial/_build/jupyter_execute/src/FLEX_jl_30_1.png"
      }
     },
     "output_type": "display_data"
    }
   ],
   "source": [
    "fig   = plt.figure(figsize=(10,4),constrained_layout=true)\n",
    "spec  = PyPlot.matplotlib.gridspec.GridSpec(ncols=2, nrows=1, figure=fig)\n",
    "f_ax1 = fig.add_subplot(spec[0, 1])\n",
    "f_ax2 = fig.add_subplot(spec[0, 0])\n",
    "\n",
    "# first panel with momentum dependence of static spin susceptibility\n",
    "chi_s_HSP= Array{Float64}(undef,Int64(3*(solver.mesh.nk1/2)))\n",
    "for i in 1:Int64(solver.mesh.nk1/2)\n",
    "    chi_s_HSP[i] = chi_s_plt[1,i]\n",
    "    chi_s_HSP[Int64(solver.mesh.nk1/2)+i] = chi_s_plt[i,Int64(solver.mesh.nk1/2)+1]\n",
    "    chi_s_HSP[solver.mesh.nk1+i] = chi_s_plt[Int64(solver.mesh.nk1/2)-i+2,Int64(solver.mesh.nk1/2)-i+2]\n",
    "end\n",
    "\n",
    "k_HSP= Array{Float64}(undef,Int64(3*(solver.mesh.nk1/2)))\n",
    "for i in 1:solver.mesh.nk1\n",
    "    k_HSP[i] = 2*(i-1)/nk1\n",
    "end\n",
    "for i in 1:Int64(solver.mesh.nk1/2)\n",
    "    k_HSP[solver.mesh.nk1+i] = 2*(solver.mesh.nk1-1)/solver.mesh.nk1 + sqrt(2)*2*(i-1)/solver.mesh.nk1\n",
    "end\n",
    "\n",
    "f_ax1.plot(k_HSP, chi_s_HSP,\"-\")\n",
    "f_ax1.set_xlim([0,2+sqrt(2)])\n",
    "f_ax1.set_xticks([0,1,2,2+sqrt(2)])\n",
    "f_ax1.set_xticklabels([L\"\\Gamma\",L\"X\",L\"M\",L\"\\Gamma\"])\n",
    "f_ax1.set_ylim([0,26])\n",
    "f_ax1.set_xlabel(\"\")\n",
    "f_ax1.set_ylabel(L\"\\chi_{\\mathrm{s}}(i\\nu=0,{\\bf{q}})\", fontsize=14)\n",
    "f_ax1.grid()\n",
    "\n",
    "Ones      = ones(Int,length(T_values))\n",
    "# second panel with T-dependence of lambda_d and 1/chi_s,max\n",
    "f_ax2.plot(T_values, lam_T, \"-x\", label=L\"\\lambda_d\")\n",
    "f_ax2.plot(T_values, Ones./chiSmax_T, marker=\"x\", label=L\"1/\\chi_{\\mathrm{s},\\mathrm{max}}\")\n",
    "f_ax2.set_xlim([0.01,0.08])\n",
    "f_ax2.set_ylim([0,1])\n",
    "f_ax2.set_xlabel(L\"T/t\", fontsize=14)\n",
    "f_ax2.set_ylabel(L\"\\lambda_d, 1/\\chi_{\\mathrm{s},\\mathrm{max}}\", fontsize=14)\n",
    "f_ax2.legend()\n",
    "f_ax2.grid()\n",
    "plt.show()"
   ]
  },
  {
   "cell_type": "code",
   "execution_count": null,
   "id": "dab31594",
   "metadata": {},
   "outputs": [],
   "source": []
  },
  {
   "cell_type": "code",
   "execution_count": null,
   "id": "670b90fb",
   "metadata": {},
   "outputs": [],
   "source": []
  }
 ],
 "metadata": {
  "jupytext": {
   "formats": "ipynb,md:myst",
   "text_representation": {
    "extension": ".md",
    "format_name": "myst"
   }
  },
  "kernelspec": {
   "display_name": "Julia 1.7",
   "language": "julia",
   "name": "julia-1.7"
  },
  "language_info": {
   "file_extension": ".jl",
   "mimetype": "application/julia",
   "name": "julia",
   "version": "1.7.2"
  },
  "source_map": [
   11,
   18,
   22,
   53,
   57,
   77,
   81,
   176,
   180,
   404,
   408,
   426,
   431,
   436,
   440,
   447,
   451,
   453,
   457,
   473,
   485,
   489,
   495,
   602,
   606,
   610,
   614,
   650,
   664,
   668,
   734,
   778,
   782
  ]
 },
 "nbformat": 4,
 "nbformat_minor": 5
}