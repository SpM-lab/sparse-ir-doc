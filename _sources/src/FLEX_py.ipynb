{
 "cells": [
  {
   "cell_type": "markdown",
   "id": "65e1ac9b",
   "metadata": {},
   "source": [
    "# FLEX approximation\n",
    "## Theory of FLEX in the paramagnetic state\n",
    "\n",
    "The Fluctuation Exchange (FLEX) approximation is a perturbative diagrammatic method that was first introduced by Bickers et al. {cite:p}`Bickers89a,Bickers89b`. It can be derived from a Luttinger-Ward functional {cite:p}`Luttinger60` containing an infinite series of closed bubble and ladder diagrams. Physically, this means that in FLEX the exchange of spin- and charge fluctuatiosn is treated self-consistently. As such, it is suitable for studying systems with strong spin fluctuations, e.g., in Fermi liquids or near quantum critical points. Here, we want to give a code example of the single-orbital limit of FLEX with a local Hubbard interaction $U$ to illustrate the practical implementation of the Sparse-ir package for diagrammatic methods.\n",
    "\n",
    "For the implementation of a multi-orbital code, please have a look at {cite:p}`Witt21` and [FLEX_IR package](https://github.com/nikwitt/FLEX_IR).\n",
    "\n",
    "#### Set of FLEX equations\n",
    "We review the set of equations that need to be solved self-consistently in the FLEX approximation. The goal is to solve the Dyson equation\n",
    "\n",
    "$$\n",
    "\\begin{align}\n",
    "G(i\\omega_n,\\boldsymbol{k}) &= [G_0^{-1}(i\\omega_n,\\boldsymbol{k}) - \\Sigma(i\\omega_n,\\boldsymbol{k})]^{-1} \\\\\n",
    "& = [i\\omega_n - (\\varepsilon_{\\boldsymbol{k}}-\\mu)) - \\Sigma(i\\omega_n,\\boldsymbol{k})]^{-1}.\n",
    "\\end{align}\n",
    "$$\n",
    "\n",
    "for the interacting Green function $G$ from the non-interacting Greenfunction $G_0(i\\omega_n,\\boldsymbol{k}) = [i\\omega_n - (\\varepsilon_{\\boldsymbol{k}}-\\mu]^{-1}$ with single-particle dispersion $\\varepsilon_{\\boldsymbol{k}}$ and chemical potential $\\mu$ as well as self-energy $\\Sigma$ as a function of Matsubara frequencies $i\\omega_n=(2n+1)\\pi T$ and momentum $\\boldsymbol{k}$. Using the Green function, we calculate the irreducible susceptibility (\"bubble diagram\") as\n",
    "\n",
    "$$ \\chi_0(i\\nu_m, \\boldsymbol{q}) = - \\frac{T}{N_{\\boldsymbol{k}}} \\sum_{n,\\boldsymbol{k}} G(i\\omega_n + i\\nu_m, \\boldsymbol{k} + \\boldsymbol{q})G(i\\omega_n, \\boldsymbol{k})\\;.$$\n",
    "\n",
    "$N_{\\boldsymbol{k}}$ denotes the number of $\\boldsymbol{k}$-points. This equation is convolution typical in diagrammatic methods. It can be easily evaluated by Fourier transforming to imaginary time and real space, resulting in a simple multiplication\n",
    "\n",
    "$$ \\chi_0(\\tau, \\boldsymbol{r}) = - G(\\tau, \\boldsymbol{r})G(-\\tau,-\\boldsymbol{r}) = G(\\tau, \\boldsymbol{r})G(\\beta-\\tau,\\boldsymbol{r})\\;.$$\n",
    "\n",
    "In our practical implementation, we will perform this step using the sparse-ir package. The infinite sum of bubble and ladder diagrams can be resummed to yeald a Berk-Shrieffer type interaction []\n",
    "\n",
    "$$ V(i\\nu_m, \\boldsymbol{q}) = \\frac{3}{2} U^2 \\chi_{\\mathrm{s}}(i\\nu_m, \\boldsymbol{q}) + \\frac{1}{2} U^2 \\chi_{\\mathrm{c}}(i\\nu_m, \\boldsymbol{q}) - U^2 \\chi_0(i\\nu_m, \\boldsymbol{q}) + U $$\n",
    "\n",
    "with spin and charge susceptibility like in the Random-Phase-Approximation (RPA) \n",
    "\n",
    "$$ \\chi_{\\mathrm{s}}(i\\nu_m, \\boldsymbol{q}) = \\frac{\\chi_0(i\\nu_m, \\boldsymbol{q})}{1-U\\chi_0(i\\nu_m, \\boldsymbol{q})} \\quad , \\quad \\chi_{\\mathrm{c}}(i\\nu_m, \\boldsymbol{q}) = \\frac{\\chi_0(i\\nu_m, \\boldsymbol{q})}{1+U\\chi_0(i\\nu_m, \\boldsymbol{q})}\\;. $$\n",
    "\n",
    "The self-energy can be calculated from the convolution\n",
    "\n",
    "$$ \\Sigma(i\\omega_n, \\boldsymbol{k}) = \\frac{T}{N_{\\boldsymbol{k}}} \\sum_{m,\\boldsymbol{q}} V(i\\nu_m, \\boldsymbol{q}) G(i\\omega_n - i\\nu_m, \\boldsymbol{k} - \\boldsymbol{q}) $$\n",
    "\n",
    "which Fourier transformed to real space takes the form\n",
    "\n",
    "$$ \\Sigma(\\tau, \\boldsymbol{r}) = V(\\tau, \\boldsymbol{r}) G(\\tau, \\boldsymbol{r})\\;. $$\n",
    "\n",
    "Thus, we have the set of self-consistent equations complete. In every iteration, the chemical potential $\\mu$ needs to be adjusted to keep the electron density $n$ fixed. It can be calculated via solving\n",
    "\n",
    "$$ n = 2n_{\\sigma} = 2 - \\frac{2}{N_{\\boldsymbol{k}}} \\sum_{\\boldsymbol{k}} G(\\tau=0^+, \\boldsymbol{k}) $$\n",
    "\n",
    "with a factor 2 from spin degeneracy and $0^+ = \\lim_{\\eta\\to 0+} \\eta$ by using some root finding algorithm like bisection method or Brent's method.\n",
    "\n",
    "#### Practical implementation\n",
    "When implementing the fully self-consistent FLEX loop, a few points need to be treated carefully which we discuss in the following.\n",
    "\n",
    "* The constant Hartree term $V_{\\mathrm{H}} = U$ in the interaction $V$ and respective self-energy term $\\Sigma_H = U\\frac{n}{2}$ can be absorbed into the definition of the chemical potential $\\mu$.\n",
    "* We include a mixing $p<1$ in each iteration step, such that the Green function of step $n+1$ is partially constructed from the old and new Green function: $$G^{n+1} = p\\,G^{n+1} + (1-p)\\,G^{n}$$ This smoothes down too strong oscillations of the solution.\n",
    "* A bottleneck of the FLEX approximation is the case of too strong interactions. The solution turns numerically unstable, if the denominator of $\\chi_{\\mathrm{s}}$ approaches zero, i.e., $U\\max\\!\\{\\chi_{0}\\} \\to 1$. Typically, this can be solved by starting with a smaller $U$ value and slowly turning it up. We call this \"$U$ renormalization\"."
   ]
  },
  {
   "cell_type": "markdown",
   "id": "25cec523",
   "metadata": {},
   "source": [
    "## Code implementation\n",
    "We are implementing the FLEX method for the simple case of a square lattice model with dispersion $\\varepsilon_{\\boldsymbol{k}} = -2t\\,[\\cos(k_x) + \\cos(k_y)]$ with nearest-neighbor hopping $t$ which sets the energy scale of our system (bandwith $W = 8t$). First, we load all necessary basic modules that we are going to need in implementing FLEX and visualizing results:"
   ]
  },
  {
   "cell_type": "code",
   "execution_count": 1,
   "id": "99d41b99",
   "metadata": {},
   "outputs": [],
   "source": [
    "import numpy as np\n",
    "import scipy as sc\n",
    "import scipy.optimize\n",
    "import sparse_ir\n",
    "%matplotlib inline\n",
    "import matplotlib.pyplot as plt"
   ]
  },
  {
   "cell_type": "markdown",
   "id": "cc635be7",
   "metadata": {},
   "source": [
    "#### Parameter setting"
   ]
  },
  {
   "cell_type": "code",
   "execution_count": 2,
   "id": "7ad06462",
   "metadata": {},
   "outputs": [],
   "source": [
    "### System parameters\n",
    "t    = 1      # hopping amplitude\n",
    "W    = 8*t    # bandwith\n",
    "wmax = 10     # set wmax >= W\n",
    "\n",
    "T    = 0.1   # temperature\n",
    "beta = 1/T    # inverse temperature\n",
    "n    = 0.85   # electron filling, here per spin per lattice site (n=1: half filling)\n",
    "U    = 4      # Hubbard interaction\n",
    "\n",
    "### Numerical parameters\n",
    "nk1, nk2  = 24, 24    # number of k_points along one repiprocal crystal lattice direction k1 = kx, k2 = ky\n",
    "nk        = nk1*nk2\n",
    "IR_tol    = 1e-10     # accuary for l-cutoff of IR basis functions\n",
    "sfc_tol   = 1e-4      # accuracy for self-consistent iteration\n",
    "it_max    = 30        # maximal number of iterations in self-consistent cycle\n",
    "mix       = 0.2       # mixing parameter for new \n",
    "U_it_max  = 50        # maximal number of iteration steps in U renormalization loop"
   ]
  },
  {
   "cell_type": "markdown",
   "id": "adda474f",
   "metadata": {},
   "source": [
    "#### Generating meshes\n",
    "We need to generate a $\\boldsymbol{k}$-mesh as well as set up the IR basis functions on a sparse $\\tau$ and $i\\omega_n$ grid. Then we can calculate the dispersion on this mesh."
   ]
  },
  {
   "cell_type": "code",
   "execution_count": 3,
   "id": "ffe2daa0",
   "metadata": {},
   "outputs": [],
   "source": [
    "### Generating k-mesh and dispersion\n",
    "k1, k2 = np.meshgrid(np.arange(nk1)/nk1, np.arange(nk2)/nk2)\n",
    "ek     = -2*t*( np.cos(2*np.pi*k1) + np.cos(2*np.pi*k2) ).reshape(nk)\n",
    "\n",
    "#### Initiate fermionic and bosonic IR basis objects\n",
    "basis_f = sparse_ir.FiniteTempBasis(\"F\", beta, wmax, eps=IR_tol)\n",
    "basis_b = sparse_ir.FiniteTempBasis(\"B\", beta, wmax, eps=IR_tol)\n",
    "\n",
    "\n",
    "# generate instances for sparse sampling grids (we use the default mesh here)\n",
    "tauSparse_f = sparse_ir.TauSampling(basis_f)\n",
    "iwnSparse_f = sparse_ir.MatsubaraSampling(basis_f)\n",
    "\n",
    "tauSparse_b = sparse_ir.TauSampling(basis_b)\n",
    "iwnSparse_b = sparse_ir.MatsubaraSampling(basis_b)\n",
    "\n",
    "# lowest Matsubara frequency index\n",
    "iw0_f = np.where(iwnSparse_f.wn == 1)[0][0]\n",
    "iw0_b = np.where(iwnSparse_b.wn == 0)[0][0]\n",
    "\n",
    "\n",
    "### Generate a frequency-momentum grid for iwn and ek (in preparation for calculating the Green function)\n",
    "# frequency mesh (for Green function)\n",
    "iwn_f = 1j * iwnSparse_f.wn * np.pi * T\n",
    "iwn_f_ = np.tensordot(iwn_f, np.ones(nk), axes=0)\n",
    "\n",
    "# ek mesh\n",
    "ek_ = np.tensordot(np.ones(len(iwn_f)), ek, axes=0)"
   ]
  },
  {
   "cell_type": "markdown",
   "id": "af0d8e7f",
   "metadata": {},
   "source": [
    "#### FLEX calculation steps\n",
    "We write functions to calculate each step of the FLEX loop individually (so that we only need to link them later)."
   ]
  },
  {
   "cell_type": "code",
   "execution_count": 4,
   "id": "4d845760",
   "metadata": {},
   "outputs": [],
   "source": [
    "### Calculate Green function G(iw,k)\n",
    "def gkio_calc(iwn, ek, mu, sigma):\n",
    "    ''' Expects iwn, ek to be of same shape'''\n",
    "    gkio = (iwn - (ek - mu) - sigma )**(-1)\n",
    "    return gkio\n",
    "\n",
    "### Calculate real space Green function G(tau,r) [for calculating chi0 and sigma]\n",
    "def grit_calc(gkio):\n",
    "    grit = gkio.reshape(len(iwnSparse_f.wn), nk1, nk2)\n",
    "    \n",
    "    # Fourier transform to real space\n",
    "    grit = np.fft.fftn(grit,axes=(1,2))\n",
    "    grit = grit.reshape(len(iwnSparse_f.wn), nk)\n",
    "    \n",
    "    # Fourier transform to imaginary time via IR basis fit for G_l\n",
    "    # both G(tau_F) and G(tau_B) are neeced for calculating sigma and chi0, respectively\n",
    "    grit_l = iwnSparse_f.fit(grit)\n",
    "    grit_f = tauSparse_f.evaluate(grit_l)\n",
    "    grit_b = tauSparse_b.evaluate(grit_l)\n",
    "    \n",
    "    return grit_f, grit_b\n",
    "\n",
    "### Calculate irreducible susciptibility chi0(iv,q)\n",
    "def ckio_calc(grit_b):\n",
    "    ckio = grit_b * grit_b[::-1, :]\n",
    "    \n",
    "    # Fourier transform of momentum\n",
    "    ckio = ckio.reshape(len(tauSparse_b.tau), nk1, nk2)\n",
    "    ckio = np.fft.ifftn(ckio,axes=(1,2))/nk\n",
    "    ckio = ckio.reshape(len(tauSparse_b.tau), nk)\n",
    "    \n",
    "    # Fourier transform to Matsubara frequency via IR basis fit for chi0_l\n",
    "    ckio_l = tauSparse_b.fit(ckio)\n",
    "    ckio = iwnSparse_b.evaluate(ckio_l)\n",
    "    \n",
    "    return ckio\n",
    "\n",
    "### Calculate interaction V(tau,r) from RPA-like spin and charge susceptibility for calculating sigma\n",
    "def V_calc(ckio, U):\n",
    "    # spin and charge susceptibility\n",
    "    chi_spin   = ckio / (1 - U*ckio)\n",
    "    chi_charge = ckio / (1 + U*ckio)\n",
    "    \n",
    "    V = 3/2*U**2 * chi_spin + 1/2*U**2 * chi_charge - U**2 * ckio\n",
    "    # Constant Hartree Term V ~ U needs to be treated extra, since they cannot be modeled by the IR basis.\n",
    "    # In the single-band case, the Hartree term can be absorbed into the chemical potential.\n",
    "    \n",
    "    # Fourier transform to real space\n",
    "    V = V.reshape(len(iwnSparse_b.wn),nk1,nk2)\n",
    "    V = np.fft.fftn(V,axes=(1,2))\n",
    "    V = V.reshape(len(iwnSparse_b.wn), nk)\n",
    "    \n",
    "    # Fourier transform to imaginary time via IR basis fit for V_l on tau_F!\n",
    "    V_l = iwnSparse_b.fit(V)\n",
    "    V = tauSparse_f.evaluate(V_l)\n",
    "    \n",
    "    return V\n",
    "\n",
    "### Calculate self-energy Sigma(iwn,k)\n",
    "def sigma_calc(grit_f, V):\n",
    "    sigma = V * grit_f\n",
    "    \n",
    "    # Fourier transform to momentum space\n",
    "    sigma = sigma.reshape(len(tauSparse_f.tau),nk1,nk2)\n",
    "    sigma = np.fft.ifftn(sigma,axes=(1,2))/nk\n",
    "    sigma = sigma.reshape(len(tauSparse_f.tau), nk)\n",
    "    \n",
    "    # Fourier transform to Matsubara frequency via IR basis fit for sigma_l\n",
    "    sigma_l = tauSparse_f.fit(sigma)\n",
    "    sigma   = iwnSparse_f.evaluate(sigma_l)\n",
    "    \n",
    "    return sigma"
   ]
  },
  {
   "cell_type": "markdown",
   "id": "579af9a3",
   "metadata": {},
   "source": [
    "##### Setting the chemical potential"
   ]
  },
  {
   "cell_type": "code",
   "execution_count": 5,
   "id": "27da2f53",
   "metadata": {},
   "outputs": [],
   "source": [
    "### Calculate chemical potential mu from Green function    \n",
    "def calc_electron_density(iwn, ek, mu, sigma):\n",
    "    gkio = gkio_calc(iwn, ek, mu, sigma)\n",
    "    gio  = np.sum(gkio,axis=1)/nk\n",
    "    g_l  = iwnSparse_f.fit(gio)\n",
    "    g_tau0 = basis_f.u(0)@g_l\n",
    "    \n",
    "    n  = 1 + np.real(g_tau0)\n",
    "    n  = 2*n #for spin\n",
    "    return n\n",
    "\n",
    "# Find chemical potential for a given filling n0 via brentq root finding algorithm\n",
    "def mu_calc(n0, iwn, ek, sigma):\n",
    "    n = calc_electron_density\n",
    "    f = lambda mu : n(iwn, ek, mu, sigma) - n0\n",
    "\n",
    "    mu = sc.optimize.brentq(f, np.amax(ek)*3, np.amin(ek)*3)\n",
    "    return mu"
   ]
  },
  {
   "cell_type": "markdown",
   "id": "19455442",
   "metadata": {},
   "source": [
    "### Execute FLEX loop"
   ]
  },
  {
   "cell_type": "code",
   "execution_count": 6,
   "id": "cac80857",
   "metadata": {},
   "outputs": [
    {
     "name": "stdout",
     "output_type": "stream",
     "text": [
      "WARNING: U is too large and the spin susceptibility denominator will diverge/turn unphysical!"
     ]
    },
    {
     "name": "stdout",
     "output_type": "stream",
     "text": [
      "\n"
     ]
    },
    {
     "name": "stdout",
     "output_type": "stream",
     "text": [
      "Initiate renormalization loop."
     ]
    },
    {
     "name": "stdout",
     "output_type": "stream",
     "text": [
      "\n"
     ]
    },
    {
     "name": "stdout",
     "output_type": "stream",
     "text": [
      "0"
     ]
    },
    {
     "name": "stdout",
     "output_type": "stream",
     "text": [
      " "
     ]
    },
    {
     "name": "stdout",
     "output_type": "stream",
     "text": [
      "0.08757050701882461"
     ]
    },
    {
     "name": "stdout",
     "output_type": "stream",
     "text": [
      "\n"
     ]
    },
    {
     "name": "stdout",
     "output_type": "stream",
     "text": [
      "1"
     ]
    },
    {
     "name": "stdout",
     "output_type": "stream",
     "text": [
      " "
     ]
    },
    {
     "name": "stdout",
     "output_type": "stream",
     "text": [
      "0.14458517806196805"
     ]
    },
    {
     "name": "stdout",
     "output_type": "stream",
     "text": [
      "\n"
     ]
    },
    {
     "name": "stdout",
     "output_type": "stream",
     "text": [
      "2"
     ]
    },
    {
     "name": "stdout",
     "output_type": "stream",
     "text": [
      " "
     ]
    },
    {
     "name": "stdout",
     "output_type": "stream",
     "text": [
      "0.022496516962789898"
     ]
    },
    {
     "name": "stdout",
     "output_type": "stream",
     "text": [
      "\n"
     ]
    },
    {
     "name": "stdout",
     "output_type": "stream",
     "text": [
      "3"
     ]
    },
    {
     "name": "stdout",
     "output_type": "stream",
     "text": [
      " "
     ]
    },
    {
     "name": "stdout",
     "output_type": "stream",
     "text": [
      "0.01182607502223439"
     ]
    },
    {
     "name": "stdout",
     "output_type": "stream",
     "text": [
      "\n"
     ]
    },
    {
     "name": "stdout",
     "output_type": "stream",
     "text": [
      "4"
     ]
    },
    {
     "name": "stdout",
     "output_type": "stream",
     "text": [
      " "
     ]
    },
    {
     "name": "stdout",
     "output_type": "stream",
     "text": [
      "0.007576749380836261"
     ]
    },
    {
     "name": "stdout",
     "output_type": "stream",
     "text": [
      "\n"
     ]
    },
    {
     "name": "stdout",
     "output_type": "stream",
     "text": [
      "5"
     ]
    },
    {
     "name": "stdout",
     "output_type": "stream",
     "text": [
      " "
     ]
    },
    {
     "name": "stdout",
     "output_type": "stream",
     "text": [
      "0.005298268436796728"
     ]
    },
    {
     "name": "stdout",
     "output_type": "stream",
     "text": [
      "\n"
     ]
    },
    {
     "name": "stdout",
     "output_type": "stream",
     "text": [
      "6"
     ]
    },
    {
     "name": "stdout",
     "output_type": "stream",
     "text": [
      " "
     ]
    },
    {
     "name": "stdout",
     "output_type": "stream",
     "text": [
      "0.003862726088047783"
     ]
    },
    {
     "name": "stdout",
     "output_type": "stream",
     "text": [
      "\n"
     ]
    },
    {
     "name": "stdout",
     "output_type": "stream",
     "text": [
      "7"
     ]
    },
    {
     "name": "stdout",
     "output_type": "stream",
     "text": [
      " "
     ]
    },
    {
     "name": "stdout",
     "output_type": "stream",
     "text": [
      "0.002873781663750474"
     ]
    },
    {
     "name": "stdout",
     "output_type": "stream",
     "text": [
      "\n"
     ]
    },
    {
     "name": "stdout",
     "output_type": "stream",
     "text": [
      "8"
     ]
    },
    {
     "name": "stdout",
     "output_type": "stream",
     "text": [
      " "
     ]
    },
    {
     "name": "stdout",
     "output_type": "stream",
     "text": [
      "0.0021584597623225295"
     ]
    },
    {
     "name": "stdout",
     "output_type": "stream",
     "text": [
      "\n"
     ]
    },
    {
     "name": "stdout",
     "output_type": "stream",
     "text": [
      "9"
     ]
    },
    {
     "name": "stdout",
     "output_type": "stream",
     "text": [
      " "
     ]
    },
    {
     "name": "stdout",
     "output_type": "stream",
     "text": [
      "0.0016284507934084416"
     ]
    },
    {
     "name": "stdout",
     "output_type": "stream",
     "text": [
      "\n"
     ]
    },
    {
     "name": "stdout",
     "output_type": "stream",
     "text": [
      "10"
     ]
    },
    {
     "name": "stdout",
     "output_type": "stream",
     "text": [
      " "
     ]
    },
    {
     "name": "stdout",
     "output_type": "stream",
     "text": [
      "0.0012315292636754921"
     ]
    },
    {
     "name": "stdout",
     "output_type": "stream",
     "text": [
      "\n"
     ]
    },
    {
     "name": "stdout",
     "output_type": "stream",
     "text": [
      "11"
     ]
    },
    {
     "name": "stdout",
     "output_type": "stream",
     "text": [
      " "
     ]
    },
    {
     "name": "stdout",
     "output_type": "stream",
     "text": [
      "0.0009331890338140588"
     ]
    },
    {
     "name": "stdout",
     "output_type": "stream",
     "text": [
      "\n"
     ]
    },
    {
     "name": "stdout",
     "output_type": "stream",
     "text": [
      "12"
     ]
    },
    {
     "name": "stdout",
     "output_type": "stream",
     "text": [
      " "
     ]
    },
    {
     "name": "stdout",
     "output_type": "stream",
     "text": [
      "0.0007086077737272701"
     ]
    },
    {
     "name": "stdout",
     "output_type": "stream",
     "text": [
      "\n"
     ]
    },
    {
     "name": "stdout",
     "output_type": "stream",
     "text": [
      "13"
     ]
    },
    {
     "name": "stdout",
     "output_type": "stream",
     "text": [
      " "
     ]
    },
    {
     "name": "stdout",
     "output_type": "stream",
     "text": [
      "0.0005394112523598685"
     ]
    },
    {
     "name": "stdout",
     "output_type": "stream",
     "text": [
      "\n"
     ]
    },
    {
     "name": "stdout",
     "output_type": "stream",
     "text": [
      "14"
     ]
    },
    {
     "name": "stdout",
     "output_type": "stream",
     "text": [
      " "
     ]
    },
    {
     "name": "stdout",
     "output_type": "stream",
     "text": [
      "0.0004118689361408585"
     ]
    },
    {
     "name": "stdout",
     "output_type": "stream",
     "text": [
      "\n"
     ]
    },
    {
     "name": "stdout",
     "output_type": "stream",
     "text": [
      "15"
     ]
    },
    {
     "name": "stdout",
     "output_type": "stream",
     "text": [
      " "
     ]
    },
    {
     "name": "stdout",
     "output_type": "stream",
     "text": [
      "0.00031563153401797554"
     ]
    },
    {
     "name": "stdout",
     "output_type": "stream",
     "text": [
      "\n"
     ]
    },
    {
     "name": "stdout",
     "output_type": "stream",
     "text": [
      "16"
     ]
    },
    {
     "name": "stdout",
     "output_type": "stream",
     "text": [
      " "
     ]
    },
    {
     "name": "stdout",
     "output_type": "stream",
     "text": [
      "0.00024290673624857852"
     ]
    },
    {
     "name": "stdout",
     "output_type": "stream",
     "text": [
      "\n"
     ]
    },
    {
     "name": "stdout",
     "output_type": "stream",
     "text": [
      "17"
     ]
    },
    {
     "name": "stdout",
     "output_type": "stream",
     "text": [
      " "
     ]
    },
    {
     "name": "stdout",
     "output_type": "stream",
     "text": [
      "0.00018780238679926622"
     ]
    },
    {
     "name": "stdout",
     "output_type": "stream",
     "text": [
      "\n"
     ]
    },
    {
     "name": "stdout",
     "output_type": "stream",
     "text": [
      "18"
     ]
    },
    {
     "name": "stdout",
     "output_type": "stream",
     "text": [
      " "
     ]
    },
    {
     "name": "stdout",
     "output_type": "stream",
     "text": [
      "0.00014592983406539405"
     ]
    },
    {
     "name": "stdout",
     "output_type": "stream",
     "text": [
      "\n"
     ]
    },
    {
     "name": "stdout",
     "output_type": "stream",
     "text": [
      "19"
     ]
    },
    {
     "name": "stdout",
     "output_type": "stream",
     "text": [
      " "
     ]
    },
    {
     "name": "stdout",
     "output_type": "stream",
     "text": [
      "0.00011401152358553455"
     ]
    },
    {
     "name": "stdout",
     "output_type": "stream",
     "text": [
      "\n"
     ]
    },
    {
     "name": "stdout",
     "output_type": "stream",
     "text": [
      "20"
     ]
    },
    {
     "name": "stdout",
     "output_type": "stream",
     "text": [
      " "
     ]
    },
    {
     "name": "stdout",
     "output_type": "stream",
     "text": [
      "8.956735422398304e-05"
     ]
    },
    {
     "name": "stdout",
     "output_type": "stream",
     "text": [
      "\n"
     ]
    }
   ],
   "source": [
    "# Initialize calculation\n",
    "sigma = 0\n",
    "mu    = 0\n",
    "\n",
    "# Start 0th round - corresponds to RPA\n",
    "mu   = mu_calc(n, iwn_f_, ek_, sigma)\n",
    "gkio = gkio_calc(iwn_f_, ek_, mu, sigma)\n",
    "grit_f, grit_b = grit_calc(gkio)\n",
    "ckio  = ckio_calc(grit_b)\n",
    "\n",
    "# Check whether U < U_crit! Otherwise, U needs to be renormalized.\n",
    "if np.amax(np.abs(ckio))*U >= 1:\n",
    "    print('WARNING: U is too large and the spin susceptibility denominator will diverge/turn unphysical!')\n",
    "    print('Initiate renormalization loop.')\n",
    "    \n",
    "    # Save old U for later\n",
    "    U_old = U\n",
    "    # Renormalization loop may run infinitely! Insert break condition after U_it_max steps\n",
    "    U_it = 0\n",
    "    \n",
    "    while U_old*np.amax(np.abs(ckio)) >= 1:\n",
    "        U_it += 1\n",
    "        \n",
    "        # remormalize U such that U*chi0 < 1\n",
    "        U = U / (np.amax(np.abs(ckio))*U + 0.01)\n",
    "        \n",
    "        # perform one shot FLEX loop\n",
    "        sigma_old = sigma\n",
    "        gkio_old  = gkio\n",
    "        V     = V_calc(ckio, U)\n",
    "        sigma = sigma_calc(grit_f, V)\n",
    "    \n",
    "        mu   = mu_calc(n, iwn_f_, ek_, sigma)\n",
    "        gkio = gkio_calc(iwn_f_, ek_, mu, sigma)\n",
    "        gkio = mix*gkio + (1-mix)*gkio_old\n",
    "    \n",
    "        grit_f, grit_b = grit_calc(gkio)\n",
    "        ckio  = ckio_calc(grit_b)\n",
    "        \n",
    "        # reset U\n",
    "        U = U_old\n",
    "        \n",
    "        # break condition for too many steps\n",
    "        if U_it == U_it_max:\n",
    "            print('U renormalization reached breaking point')\n",
    "            break\n",
    "\n",
    "# Do self-consistent iteration until convergence\n",
    "for it in range(it_max):\n",
    "    sigma_old = sigma\n",
    "    gkio_old  = gkio\n",
    "    V     = V_calc(ckio, U)\n",
    "    sigma = sigma_calc(grit_f, V)\n",
    "    \n",
    "    mu   = mu_calc(n, iwn_f_, ek_, sigma)\n",
    "    gkio = gkio_calc(iwn_f_, ek_, mu, sigma)\n",
    "    gkio = mix*gkio + (1-mix)*gkio_old\n",
    "    \n",
    "    grit_f, grit_b = grit_calc(gkio)\n",
    "    ckio  = ckio_calc(grit_b)\n",
    "    \n",
    "    # Check whether solution is converged.\n",
    "    sfc_check = np.sum(abs(sigma-sigma_old))/np.sum(abs(sigma))\n",
    "    print(it, sfc_check)\n",
    "    if sfc_check < sfc_tol:\n",
    "        break"
   ]
  },
  {
   "cell_type": "markdown",
   "id": "3a3bf1af",
   "metadata": {
    "tags": []
   },
   "source": [
    "#### Visualize results"
   ]
  },
  {
   "cell_type": "code",
   "execution_count": 7,
   "id": "68cacef2",
   "metadata": {},
   "outputs": [
    {
     "data": {
      "image/png": "[encoded data removed]",
      "text/plain": [
       "<Figure size 432x288 with 2 Axes>"
      ]
     },
     "metadata": {
      "filenames": {
       "image/png": "/Users/hiroshi/git/papers/sparse-ir-doc/_build/jupyter_execute/src/FLEX_py_14_0.png"
      },
      "needs_background": "light"
     },
     "output_type": "display_data"
    }
   ],
   "source": [
    "# plot 2D k-dependence of lowest Matsubara frequency of e.g. green function\n",
    "plt.pcolormesh(2*k1.reshape(nk1,nk2), 2*k2.reshape(nk1,nk2), np.real(gkio[iw0_f].reshape(nk1,nk2)), shading='auto')\n",
    "ax = plt.gca()\n",
    "ax.set_xlabel('$k_x/\\pi$')\n",
    "ax.set_xlim([0,2])\n",
    "ax.set_ylabel('$k_y/\\pi$')\n",
    "ax.set_ylim([0,2])\n",
    "ax.set_aspect('equal')\n",
    "plt.colorbar()\n",
    "plt.show()"
   ]
  },
  {
   "cell_type": "code",
   "execution_count": 8,
   "id": "f1e0ca30",
   "metadata": {},
   "outputs": [
    {
     "data": {
      "image/png": "[encoded data removed]",
      "text/plain": [
       "<Figure size 432x288 with 2 Axes>"
      ]
     },
     "metadata": {
      "filenames": {
       "image/png": "/Users/hiroshi/git/papers/sparse-ir-doc/_build/jupyter_execute/src/FLEX_py_15_0.png"
      },
      "needs_background": "light"
     },
     "output_type": "display_data"
    }
   ],
   "source": [
    "# plot 2D k-dependence of lowest Matsubara frequency of e.g. chi0\n",
    "plt.pcolormesh(2*k1.reshape(nk1,nk2), 2*k2.reshape(nk1,nk2), np.real(ckio[iw0_b].reshape(nk1,nk2)), shading='auto')\n",
    "ax = plt.gca()\n",
    "ax.set_xlabel('$k_x/\\pi$')\n",
    "ax.set_xlim([0,2])\n",
    "ax.set_ylabel('$k_y/\\pi$')\n",
    "ax.set_ylim([0,2])\n",
    "ax.set_aspect('equal')\n",
    "plt.colorbar()\n",
    "plt.show()"
   ]
  },
  {
   "cell_type": "markdown",
   "id": "5dbacb0e",
   "metadata": {},
   "source": [
    "## Linearized Eliashberg equation\n",
    "One example for which FLEX can be used, is the description of superconductivity arising from spin-fluctuation-mediated pairing. While it is possible to perform FLEX calculations in the symmetry-broken state (Nambu phase), we will here focus on determining the superconducting critical temperature $T_{\\mathrm{c}}$ by solving the linearized Eliashberg equation\n",
    "\n",
    "$$\n",
    "\\begin{align}\n",
    "\\Delta^{(\\xi)}(i\\omega_n, \\boldsymbol{k}) &= \\frac{T}{N_{\\boldsymbol{k}}} \\sum_{m,\\boldsymbol{q}} V^{(\\xi)}(i\\nu_m, \\boldsymbol{q})F^{(\\xi)}(i\\omega_n - i\\nu_m, \\boldsymbol{k}-\\boldsymbol{q}) \\\\\n",
    " &= -\\frac{T}{N_{\\boldsymbol{k}}} \\sum_{m,\\boldsymbol{q}} V^{(\\xi)}(i\\nu_m, \\boldsymbol{q}) |G(i\\omega_n - i\\nu_m, \\boldsymbol{k} - \\boldsymbol{q})|^2 \\Delta^{(\\xi)}(i\\omega_n - i\\nu_m, \\boldsymbol{k}-\\boldsymbol{q})\n",
    "\\end{align}\n",
    " $$\n",
    "\n",
    "for the gap function $\\Delta$ ('order parameter') in either the spin singlet ($\\xi=\\mathrm{S}$) or spin triplet ($\\xi=\\mathrm{T}$) pairing channel. $F^{(\\xi)} = -|G|^2\\Delta^{(\\xi)}$ is the anomalous Green function. In each case, the interaction is given by\n",
    "\n",
    "$$\n",
    "\\begin{align}\n",
    "    V^{(\\xi=\\mathrm{S})}(i\\nu_m, \\boldsymbol{q}) &= \\frac{3}{2}U^2\\chi_{\\mathrm{s}}(i\\nu_m, \\boldsymbol{q}) - \\frac{1}{2}U^2\\chi_{\\mathrm{c}}(i\\nu_m, \\boldsymbol{q}) + U,\\\\\n",
    "    V^{(\\xi=\\mathrm{T})}(i\\nu_m, \\boldsymbol{q}) &= -\\frac{1}{2}U^2\\chi_{\\mathrm{s}}(i\\nu_m, \\boldsymbol{q}) - \\frac{1}{2}U^2\\chi_{\\mathrm{c}}(i\\nu_m, \\boldsymbol{q}).\n",
    "\\end{align}\n",
    "$$\n",
    "\n",
    "The gap equation is effectively an eigenvalue problem with $\\Delta$ being the eigenvector and $\\mathcal{K}\\sim V |G|^2$ the matrix. Since we are only interested in the phase transition of the dominant symmetry pairing channel, we can solve for the largest eigenvalue $\\lambda$ via the power method.\n",
    "\n",
    "In this tutorial, we want to calculate the superconducting transition line for the dominant singlet $d\\equiv d_{x^2-y^2}$-wave symmetric gap function. We initialize the calculation with a generic function of this symmetry (constant in frequency space):\n",
    "\n",
    "$$\n",
    "\\Delta_{d}^0(\\boldsymbol{k}) = \\cos(k_x) - \\cos(k_y)\n",
    "$$"
   ]
  },
  {
   "cell_type": "markdown",
   "id": "ea5fccd2",
   "metadata": {},
   "source": [
    "### Code implementation"
   ]
  },
  {
   "cell_type": "code",
   "execution_count": 9,
   "id": "3cad5245",
   "metadata": {},
   "outputs": [],
   "source": [
    "### Set up interaction in real space and imaginary time\n",
    "def V_singlet_calc(ckio, U):\n",
    "    chi_spin   = ckio / (1 - U*ckio)\n",
    "    chi_charge = ckio / (1 + U*ckio)\n",
    "    \n",
    "    V = 3/2*U**2 * chi_spin - 1/2*U**2 * chi_charge\n",
    "    # Constant Hartree Term V ~ U needs to be treated extra, since they cannot be modeled by the IR basis.\n",
    "    # In the special case of d-wave symmetry, it can be neglected.\n",
    "    \n",
    "    # Fourier transform to real space\n",
    "    V = V.reshape(len(iwnSparse_b.wn),nk1,nk2)\n",
    "    V = np.fft.fftn(V,axes=(1,2))\n",
    "    V = V.reshape(len(iwnSparse_b.wn), nk)\n",
    "    \n",
    "    # Fourier transform to imaginary time via IR basis fit for V_l on tau_F!\n",
    "    V_l = iwnSparse_b.fit(V)\n",
    "    V = tauSparse_f.evaluate(V_l)\n",
    "    return V\n",
    "\n",
    "### Calc (linearized) anomalous Green function F = |G|^2 * delta for evaluating the gap equation\n",
    "def F_calc(gkio, delta):\n",
    "    F = - gkio*np.conj(gkio)*delta\n",
    "    F = F.reshape(len(iwnSparse_f.wn), nk1, nk2)\n",
    "    \n",
    "    # Fourier transform to real space\n",
    "    F = np.fft.fftn(F,axes=(1,2))\n",
    "    F = F.reshape(len(iwnSparse_f.wn), nk)\n",
    "    \n",
    "    # Fourier transform to imaginary time via IR basis fit for G_l\n",
    "    # both G(tau_F) and G(tau_B) are neeced for calculating sigma and chi0, respectively\n",
    "    F_l = iwnSparse_f.fit(F)\n",
    "    F = tauSparse_f.evaluate(F_l)\n",
    "    return F"
   ]
  },
  {
   "cell_type": "code",
   "execution_count": 10,
   "id": "da858d8c",
   "metadata": {},
   "outputs": [
    {
     "name": "stdout",
     "output_type": "stream",
     "text": [
      "0"
     ]
    },
    {
     "name": "stdout",
     "output_type": "stream",
     "text": [
      " "
     ]
    },
    {
     "name": "stdout",
     "output_type": "stream",
     "text": [
      "0.10885846909777742"
     ]
    },
    {
     "name": "stdout",
     "output_type": "stream",
     "text": [
      " "
     ]
    },
    {
     "name": "stdout",
     "output_type": "stream",
     "text": [
      "0.10885846909777742"
     ]
    },
    {
     "name": "stdout",
     "output_type": "stream",
     "text": [
      "\n"
     ]
    },
    {
     "name": "stdout",
     "output_type": "stream",
     "text": [
      "1"
     ]
    },
    {
     "name": "stdout",
     "output_type": "stream",
     "text": [
      " "
     ]
    },
    {
     "name": "stdout",
     "output_type": "stream",
     "text": [
      "0.40584449241290865"
     ]
    },
    {
     "name": "stdout",
     "output_type": "stream",
     "text": [
      " "
     ]
    },
    {
     "name": "stdout",
     "output_type": "stream",
     "text": [
      "0.29698602331513124"
     ]
    },
    {
     "name": "stdout",
     "output_type": "stream",
     "text": [
      "\n"
     ]
    },
    {
     "name": "stdout",
     "output_type": "stream",
     "text": [
      "2"
     ]
    },
    {
     "name": "stdout",
     "output_type": "stream",
     "text": [
      " "
     ]
    },
    {
     "name": "stdout",
     "output_type": "stream",
     "text": [
      "0.4494182491085299"
     ]
    },
    {
     "name": "stdout",
     "output_type": "stream",
     "text": [
      " "
     ]
    },
    {
     "name": "stdout",
     "output_type": "stream",
     "text": [
      "0.043573756695621246"
     ]
    },
    {
     "name": "stdout",
     "output_type": "stream",
     "text": [
      "\n"
     ]
    },
    {
     "name": "stdout",
     "output_type": "stream",
     "text": [
      "3"
     ]
    },
    {
     "name": "stdout",
     "output_type": "stream",
     "text": [
      " "
     ]
    },
    {
     "name": "stdout",
     "output_type": "stream",
     "text": [
      "0.45617269033927926"
     ]
    },
    {
     "name": "stdout",
     "output_type": "stream",
     "text": [
      " "
     ]
    },
    {
     "name": "stdout",
     "output_type": "stream",
     "text": [
      "0.006754441230749364"
     ]
    },
    {
     "name": "stdout",
     "output_type": "stream",
     "text": [
      "\n"
     ]
    },
    {
     "name": "stdout",
     "output_type": "stream",
     "text": [
      "4"
     ]
    },
    {
     "name": "stdout",
     "output_type": "stream",
     "text": [
      " "
     ]
    },
    {
     "name": "stdout",
     "output_type": "stream",
     "text": [
      "0.4577756243092219"
     ]
    },
    {
     "name": "stdout",
     "output_type": "stream",
     "text": [
      " "
     ]
    },
    {
     "name": "stdout",
     "output_type": "stream",
     "text": [
      "0.0016029339699426548"
     ]
    },
    {
     "name": "stdout",
     "output_type": "stream",
     "text": [
      "\n"
     ]
    },
    {
     "name": "stdout",
     "output_type": "stream",
     "text": [
      "5"
     ]
    },
    {
     "name": "stdout",
     "output_type": "stream",
     "text": [
      " "
     ]
    },
    {
     "name": "stdout",
     "output_type": "stream",
     "text": [
      "0.4581551402137718"
     ]
    },
    {
     "name": "stdout",
     "output_type": "stream",
     "text": [
      " "
     ]
    },
    {
     "name": "stdout",
     "output_type": "stream",
     "text": [
      "0.0003795159045498764"
     ]
    },
    {
     "name": "stdout",
     "output_type": "stream",
     "text": [
      "\n"
     ]
    },
    {
     "name": "stdout",
     "output_type": "stream",
     "text": [
      "6"
     ]
    },
    {
     "name": "stdout",
     "output_type": "stream",
     "text": [
      " "
     ]
    },
    {
     "name": "stdout",
     "output_type": "stream",
     "text": [
      "0.45825720409295384"
     ]
    },
    {
     "name": "stdout",
     "output_type": "stream",
     "text": [
      " "
     ]
    },
    {
     "name": "stdout",
     "output_type": "stream",
     "text": [
      "0.00010206387918204607"
     ]
    },
    {
     "name": "stdout",
     "output_type": "stream",
     "text": [
      "\n"
     ]
    },
    {
     "name": "stdout",
     "output_type": "stream",
     "text": [
      "7"
     ]
    },
    {
     "name": "stdout",
     "output_type": "stream",
     "text": [
      " "
     ]
    },
    {
     "name": "stdout",
     "output_type": "stream",
     "text": [
      "0.45828371844136684"
     ]
    },
    {
     "name": "stdout",
     "output_type": "stream",
     "text": [
      " "
     ]
    },
    {
     "name": "stdout",
     "output_type": "stream",
     "text": [
      "2.6514348412998157e-05"
     ]
    },
    {
     "name": "stdout",
     "output_type": "stream",
     "text": [
      "\n"
     ]
    },
    {
     "name": "stdout",
     "output_type": "stream",
     "text": [
      "The superconducting eigenvalue is lambda_d = 0.45828371844136684"
     ]
    },
    {
     "name": "stdout",
     "output_type": "stream",
     "text": [
      "\n"
     ]
    }
   ],
   "source": [
    "### Start power method loop\n",
    "# Set initial gap function\n",
    "delta_k = np.cos(2*np.pi*k1) - np.cos(2*np.pi*k2)\n",
    "delta_k = delta_k.reshape(nk)\n",
    "delta = np.tensordot(np.ones(len(iwn_f)), delta_k, axes=0)\n",
    "delta = delta / np.linalg.norm(delta) # normalize initial guess\n",
    "\n",
    "# Start self-consistency loop\n",
    "V_singlet = V_singlet_calc(ckio, U)\n",
    "\n",
    "lam = 0\n",
    "for it in range(it_max):\n",
    "    delta_old = delta\n",
    "    lam_old = lam\n",
    "    \n",
    "    F = F_calc(gkio, delta)\n",
    "    delta = V_singlet * F\n",
    "    \n",
    "    # Fourier transform to momentum space\n",
    "    delta = delta.reshape(len(tauSparse_f.tau),nk1,nk2)\n",
    "    delta = np.fft.ifftn(delta,axes=(1,2))/nk\n",
    "    delta = delta.reshape(len(tauSparse_f.tau), nk)\n",
    "    \n",
    "    # Fourier transform to Matsubara frequency via IR basis fit for sigma_l\n",
    "    delta_l = tauSparse_f.fit(delta)\n",
    "    delta   = iwnSparse_f.evaluate(delta_l)\n",
    "    \n",
    "    # Calcualte eigenvalue\n",
    "    lam = np.real( np.sum(np.conj(delta)*delta_old) )\n",
    "    delta = delta / np.linalg.norm(delta)\n",
    "    \n",
    "    print(it, lam, abs(lam-lam_old))\n",
    "    if abs(lam-lam_old) < sfc_tol:\n",
    "        break\n",
    "\n",
    "print(\"The superconducting eigenvalue is lambda_d = {}\".format(lam))"
   ]
  },
  {
   "cell_type": "markdown",
   "id": "c00719b1",
   "metadata": {},
   "source": [
    "#### Visualize results"
   ]
  },
  {
   "cell_type": "code",
   "execution_count": 11,
   "id": "f10c036c",
   "metadata": {},
   "outputs": [
    {
     "data": {
      "image/png": "[encoded data removed]",
      "text/plain": [
       "<Figure size 432x288 with 2 Axes>"
      ]
     },
     "metadata": {
      "filenames": {
       "image/png": "/Users/hiroshi/git/papers/sparse-ir-doc/_build/jupyter_execute/src/FLEX_py_21_0.png"
      },
      "needs_background": "light"
     },
     "output_type": "display_data"
    },
    {
     "data": {
      "image/png": "[encoded data removed]",
      "text/plain": [
       "<Figure size 432x288 with 2 Axes>"
      ]
     },
     "metadata": {
      "filenames": {
       "image/png": "/Users/hiroshi/git/papers/sparse-ir-doc/_build/jupyter_execute/src/FLEX_py_21_1.png"
      },
      "needs_background": "light"
     },
     "output_type": "display_data"
    }
   ],
   "source": [
    "# plot 2D k-dependence of lowest Matsubara frequency of the gap vs. initial guess\n",
    "plt.figure()\n",
    "plt.pcolormesh(2*k1.reshape(nk1,nk2), 2*k2.reshape(nk1,nk2), np.real(delta_k.reshape(nk1,nk2)) / np.linalg.norm(delta_k), cmap='RdBu', shading='auto')\n",
    "ax = plt.gca()\n",
    "ax.set_xlabel('$k_x/\\pi$')\n",
    "ax.set_xlim([0,2])\n",
    "ax.set_ylabel('$k_y/\\pi$')\n",
    "ax.set_ylim([0,2])\n",
    "ax.set_aspect('equal')\n",
    "ax.set_title('$\\\\Delta^0_d(k)$')\n",
    "plt.colorbar()\n",
    "\n",
    "plt.figure()\n",
    "plt.pcolormesh(2*k1.reshape(nk1,nk2), 2*k2.reshape(nk1,nk2), np.real(delta[iw0_f].reshape(nk1,nk2)), cmap='RdBu', shading='auto')\n",
    "ax = plt.gca()\n",
    "ax.set_xlabel('$k_x/\\pi$')\n",
    "ax.set_xlim([0,2])\n",
    "ax.set_ylabel('$k_y/\\pi$')\n",
    "ax.set_ylim([0,2])\n",
    "ax.set_aspect('equal')\n",
    "ax.set_title('$\\\\Delta_d(k)$')\n",
    "plt.colorbar()\n",
    "plt.show()"
   ]
  },
  {
   "cell_type": "markdown",
   "id": "e763738d",
   "metadata": {},
   "source": [
    "## Example: $d$-wave superconductivity in the square-lattice Hubbard model\n",
    "In this section, we will reproduce Figs. 3(b) and 4 of {cite:p}`Arita00` or respective Fig. 2(a) of {cite:p}`Witt21` using the SparseIR FLEX code developed above. It shows (i) the momemtum dependence of the static spin susceptibility and (ii) the temperature dependence of the superconducting eigenvalue $\\lambda_d$ (as calculated above) and the inverse maximal spin susceptibility $1/\\chi_{\\mathrm{s,max}}$, which indicates tendency towards magnetic ordering.\n",
    "\n",
    "In order to perform calcualtions for different $T$, we will initiate the IR basis with a $\\Lambda = \\beta_{\\mathrm{max}}\\omega_{\\mathrm{max}}$ that is sufficient for the lowest temperature $T_{\\mathrm{min}} = 1/\\beta_{\\mathrm{max}}$ we plan to do calculations for. Since $T$ changes, we have to use the dimensionless basis and when Fourier transforming account for a factor $\\sqrt{2}T$ from prefactors $U_l(\\tau) = \\sqrt{2T}u_l(x)$ and $U_l(i\\omega_n) = \\sqrt{1/T}u_{ln}$ accordingly. We start from high $T$ and lower its value. Each new $T$ calculation is initiated using the previously converged solution, since it does not change drastically.\n",
    "\n",
    "You can simply execute the following code block which will generate a Figure like in the references above."
   ]
  },
  {
   "cell_type": "code",
   "execution_count": 12,
   "id": "3dc2a6fc",
   "metadata": {},
   "outputs": [
    {
     "name": "stdout",
     "output_type": "stream",
     "text": [
      "Initialization..."
     ]
    },
    {
     "name": "stdout",
     "output_type": "stream",
     "text": [
      "\n"
     ]
    },
    {
     "name": "stdout",
     "output_type": "stream",
     "text": [
      "\n",
      "Entering FLEX calculation loop:"
     ]
    },
    {
     "name": "stdout",
     "output_type": "stream",
     "text": [
      "\n"
     ]
    },
    {
     "name": "stdout",
     "output_type": "stream",
     "text": [
      "Now: T = 0.08"
     ]
    },
    {
     "name": "stdout",
     "output_type": "stream",
     "text": [
      "\n"
     ]
    },
    {
     "name": "stdout",
     "output_type": "stream",
     "text": [
      "WARNING: U is too large and the spin susceptibility denominator will diverge/turn unphysical!"
     ]
    },
    {
     "name": "stdout",
     "output_type": "stream",
     "text": [
      "\n"
     ]
    },
    {
     "name": "stdout",
     "output_type": "stream",
     "text": [
      "Initiate renormalization loop."
     ]
    },
    {
     "name": "stdout",
     "output_type": "stream",
     "text": [
      "\n"
     ]
    },
    {
     "name": "stdout",
     "output_type": "stream",
     "text": [
      "The superconducting eigenvalue is lambda_d = 0.5344740819597865"
     ]
    },
    {
     "name": "stdout",
     "output_type": "stream",
     "text": [
      "\n"
     ]
    },
    {
     "name": "stdout",
     "output_type": "stream",
     "text": [
      "Now: T = 0.07"
     ]
    },
    {
     "name": "stdout",
     "output_type": "stream",
     "text": [
      "\n"
     ]
    },
    {
     "name": "stdout",
     "output_type": "stream",
     "text": [
      "The superconducting eigenvalue is lambda_d = 0.5781805472821936"
     ]
    },
    {
     "name": "stdout",
     "output_type": "stream",
     "text": [
      "\n"
     ]
    },
    {
     "name": "stdout",
     "output_type": "stream",
     "text": [
      "Now: T = 0.06"
     ]
    },
    {
     "name": "stdout",
     "output_type": "stream",
     "text": [
      "\n"
     ]
    },
    {
     "name": "stdout",
     "output_type": "stream",
     "text": [
      "The superconducting eigenvalue is lambda_d = 0.633023261101833"
     ]
    },
    {
     "name": "stdout",
     "output_type": "stream",
     "text": [
      "\n"
     ]
    },
    {
     "name": "stdout",
     "output_type": "stream",
     "text": [
      "Now: T = 0.05"
     ]
    },
    {
     "name": "stdout",
     "output_type": "stream",
     "text": [
      "\n"
     ]
    },
    {
     "name": "stdout",
     "output_type": "stream",
     "text": [
      "The superconducting eigenvalue is lambda_d = 0.6987759570720455"
     ]
    },
    {
     "name": "stdout",
     "output_type": "stream",
     "text": [
      "\n"
     ]
    },
    {
     "name": "stdout",
     "output_type": "stream",
     "text": [
      "Now: T = 0.04"
     ]
    },
    {
     "name": "stdout",
     "output_type": "stream",
     "text": [
      "\n"
     ]
    },
    {
     "name": "stdout",
     "output_type": "stream",
     "text": [
      "The superconducting eigenvalue is lambda_d = 0.7805599817812404"
     ]
    },
    {
     "name": "stdout",
     "output_type": "stream",
     "text": [
      "\n"
     ]
    },
    {
     "name": "stdout",
     "output_type": "stream",
     "text": [
      "Now: T = 0.03"
     ]
    },
    {
     "name": "stdout",
     "output_type": "stream",
     "text": [
      "\n"
     ]
    },
    {
     "name": "stdout",
     "output_type": "stream",
     "text": [
      "The superconducting eigenvalue is lambda_d = 0.8864247039081055"
     ]
    },
    {
     "name": "stdout",
     "output_type": "stream",
     "text": [
      "\n"
     ]
    },
    {
     "name": "stdout",
     "output_type": "stream",
     "text": [
      "Now: T = 0.025"
     ]
    },
    {
     "name": "stdout",
     "output_type": "stream",
     "text": [
      "\n"
     ]
    },
    {
     "name": "stdout",
     "output_type": "stream",
     "text": [
      "The superconducting eigenvalue is lambda_d = 0.9525764224346484"
     ]
    },
    {
     "name": "stdout",
     "output_type": "stream",
     "text": [
      "\n"
     ]
    },
    {
     "name": "stdout",
     "output_type": "stream",
     "text": [
      "\n",
      "Plotting the results...\n"
     ]
    },
    {
     "name": "stdout",
     "output_type": "stream",
     "text": [
      "\n"
     ]
    },
    {
     "data": {
      "image/png": "[encoded data removed]",
      "text/plain": [
       "<Figure size 720x288 with 2 Axes>"
      ]
     },
     "metadata": {
      "filenames": {
       "image/png": "/Users/hiroshi/git/papers/sparse-ir-doc/_build/jupyter_execute/src/FLEX_py_23_38.png"
      },
      "needs_background": "light"
     },
     "output_type": "display_data"
    }
   ],
   "source": [
    "#%%%%%%%%%%%%%%% Parameter settings\n",
    "print('Initialization...')\n",
    "# System parameters\n",
    "t    = 1      # hopping amplitude\n",
    "n    = 0.85   # electron filling, here per spin per lattice site (n=1: half filling)\n",
    "U    = 4      # Hubbard interaction\n",
    "\n",
    "W    = 8*t    # bandwith\n",
    "wmax = 10     # set wmax >= W\n",
    "T_values = np.array([0.08,0.07,0.06,0.05,0.04,0.03,0.025])   # temperature\n",
    "\n",
    "# empty arrays for results later\n",
    "lam_T     = np.empty((len(T_values)))\n",
    "chiSmax_T = np.empty((len(T_values)))\n",
    "\n",
    "# Numerical parameters\n",
    "nk1, nk2  = 64, 64    # k-mesh sufficiently dense!\n",
    "nk        = nk1*nk2\n",
    "IR_Lambda = 10**3     # dimensionless IR parameter >= w_max * beta_min = 400\n",
    "IR_tol    = 1e-8      # accuary for l-cutoff of IR basis functions\n",
    "sfc_tol   = 1e-4      # accuracy for self-consistent iteration\n",
    "it_max    = 30        # maximal number of iterations in self-consistent cycle\n",
    "mix       = 0.2       # mixing parameter for new \n",
    "U_it_max  = 50        # maximal number of iteration steps in U renormalization loop\n",
    "\n",
    "\n",
    "#%%%%%%%%%%%%%%%% Mesh generation and IR basis initialization\n",
    "# fermionic and bosonic IR basis objects (dimensionless)\n",
    "basis_f = sparse_ir.IRBasis(statistics='F', lambda_=IR_Lambda, eps=IR_tol)\n",
    "basis_b = sparse_ir.IRBasis(statistics='B', lambda_=IR_Lambda, eps=IR_tol)\n",
    "\n",
    "# sparse sampling grids (we use the default mesh here)\n",
    "tauSparse_f = sparse_ir.TauSampling(basis_f)\n",
    "iwnSparse_f = sparse_ir.MatsubaraSampling(basis_f)\n",
    "\n",
    "tauSparse_b = sparse_ir.TauSampling(basis_b)\n",
    "iwnSparse_b = sparse_ir.MatsubaraSampling(basis_b)\n",
    "\n",
    "# lowest Matsubara frequency index\n",
    "iw0_f = np.where(iwnSparse_f.wn == 1)[0][0]\n",
    "iw0_b = np.where(iwnSparse_b.wn == 0)[0][0]\n",
    "\n",
    "# k-mesh and dispersion\n",
    "k1, k2 = np.meshgrid(np.arange(nk1)/nk1, np.arange(nk2)/nk2)\n",
    "ek  = -2*t*( np.cos(2*np.pi*k1) + np.cos(2*np.pi*k2) ).reshape(nk)\n",
    "ek_ = np.tensordot(np.ones(len(iwnSparse_f.wn)), ek, axes=0)\n",
    "\n",
    "\n",
    "#%%%%%%%%%%%%%%%% Function definition for calculation\n",
    "### Necessary to reiterate here, so that parameters from above are applied\n",
    "### Calculate Green function G(iw,k)\n",
    "def gkio_calc(iwn, ek, mu, sigma):\n",
    "    ''' Expects iwn, ek to be of same shape'''\n",
    "    gkio = (iwn - (ek - mu) - sigma )**(-1)\n",
    "    return gkio\n",
    "\n",
    "### Calculate real space Green function G(tau,r) [for calculating chi0 and sigma]\n",
    "def grit_calc(gkio, T):\n",
    "    grit = gkio.reshape(len(iwn_f), nk1, nk2)\n",
    "    \n",
    "    # Fourier transform to real space\n",
    "    grit = np.fft.fftn(grit,axes=(1,2))\n",
    "    grit = grit.reshape(len(iwnSparse_f.wn), nk)\n",
    "    \n",
    "    # Fourier transform to imaginary time via IR basis fit for G_l\n",
    "    # both G(tau_F) and G(tau_B) are neeced for calculating sigma and chi0, respectively\n",
    "    grit_l = iwnSparse_f.fit(grit)\n",
    "    grit_f = tauSparse_f.evaluate(grit_l) * np.sqrt(2)*T\n",
    "    grit_b = tauSparse_b.evaluate(grit_l) * np.sqrt(2)*T\n",
    "    \n",
    "    return grit_f, grit_b\n",
    "\n",
    "### Calculate irreducible susciptibility chi0(iv,q)\n",
    "def ckio_calc(grit_b, T):\n",
    "    ckio = grit_b * grit_b[::-1, :]\n",
    "    \n",
    "    # Fourier transform of momentum\n",
    "    ckio = ckio.reshape(len(tauSparse_b.tau), nk1, nk2)\n",
    "    ckio = np.fft.ifftn(ckio,axes=(1,2))/nk\n",
    "    ckio = ckio.reshape(len(tauSparse_b.tau), nk)\n",
    "    \n",
    "    # Fourier transform to Matsubara frequency via IR basis fit for chi0_l\n",
    "    ckio_l = tauSparse_b.fit(ckio)\n",
    "    ckio = iwnSparse_b.evaluate(ckio_l) * 1/(np.sqrt(2)*T)\n",
    "    \n",
    "    return ckio\n",
    "\n",
    "### Calculate interaction V(tau,r) from RPA-like spin and charge susceptibility for calculating sigma\n",
    "def V_calc(ckio, U, T):\n",
    "    # spin and charge susceptibility\n",
    "    chi_spin   = ckio / (1 - U*ckio)\n",
    "    chi_charge = ckio / (1 + U*ckio)\n",
    "    \n",
    "    V = 3/2*U**2 * chi_spin + 1/2*U**2 * chi_charge - U**2 * ckio\n",
    "    # Constant Hartree Term V ~ U needs to be treated extra, since they cannot be modeled by the IR basis.\n",
    "    # In the single-band case, the Hartree term can be absorbed into the chemical potential.\n",
    "    \n",
    "    # Fourier transform to real space\n",
    "    V = V.reshape(len(iwnSparse_b.wn),nk1,nk2)\n",
    "    V = np.fft.fftn(V,axes=(1,2))\n",
    "    V = V.reshape(len(iwnSparse_b.wn), nk)\n",
    "    \n",
    "    # Fourier transform to imaginary time via IR basis fit for V_l on tau_F!\n",
    "    V_l = iwnSparse_b.fit(V)\n",
    "    V = tauSparse_f.evaluate(V_l) * np.sqrt(2)*T\n",
    "    \n",
    "    return V\n",
    "\n",
    "### Calculate self-energy Sigma(iwn,k)\n",
    "def sigma_calc(grit_f, V, T):\n",
    "    sigma = V * grit_f\n",
    "    \n",
    "    # Fourier transform to momentum space\n",
    "    sigma = sigma.reshape(len(tauSparse_f.tau),nk1,nk2)\n",
    "    sigma = np.fft.ifftn(sigma,axes=(1,2))/nk\n",
    "    sigma = sigma.reshape(len(tauSparse_f.tau), nk)\n",
    "    \n",
    "    # Fourier transform to Matsubara frequency via IR basis fit for sigma_l\n",
    "    sigma_l = tauSparse_f.fit(sigma)\n",
    "    sigma   = iwnSparse_f.evaluate(sigma_l) * 1/(np.sqrt(2)*T)\n",
    "    \n",
    "    return sigma\n",
    "\n",
    "### Calculate chemical potential mu from Green function    \n",
    "def calc_electron_density(iwn, ek, mu, sigma, T):\n",
    "    gkio = gkio_calc(iwn, ek, mu, sigma)\n",
    "    gio  = np.sum(gkio,axis=1)/nk\n",
    "    g_l  = iwnSparse_f.fit(gio)\n",
    "    g_tau0 = basis_f.u(-1)@g_l * np.sqrt(2)*T\n",
    "    \n",
    "    n  = 1 + np.real(g_tau0)\n",
    "    n  = 2*n #for spin\n",
    "    return n\n",
    "\n",
    "# Find chemical potential for a given filling n0 via brentq root finding algorithm\n",
    "def mu_calc(n0, iwn, ek, sigma, T):\n",
    "    n = calc_electron_density\n",
    "    f = lambda mu : n(iwn, ek, mu, sigma, T) - n0\n",
    "\n",
    "    mu = sc.optimize.brentq(f, np.amax(ek)*3, np.amin(ek)*3)\n",
    "    return mu\n",
    "\n",
    "### Set up interaction in real space and imaginary time\n",
    "def V_singlet_calc(ckio, U, T):\n",
    "    chi_spin   = ckio / (1 - U*ckio)\n",
    "    chi_charge = ckio / (1 + U*ckio)\n",
    "    \n",
    "    V = 3/2*U**2 * chi_spin - 1/2*U**2 * chi_charge\n",
    "    # Constant Hartree Term V ~ U needs to be treated extra, since they cannot be modeled by the IR basis.\n",
    "    # In the special case of d-wave symmetry, it can be neglected.\n",
    "    \n",
    "    # Fourier transform to real space\n",
    "    V = V.reshape(len(iwnSparse_b.wn),nk1,nk2)\n",
    "    V = np.fft.fftn(V,axes=(1,2))\n",
    "    V = V.reshape(len(iwnSparse_b.wn), nk)\n",
    "    \n",
    "    # Fourier transform to imaginary time via IR basis fit for V_l on tau_F!\n",
    "    V_l = iwnSparse_b.fit(V)\n",
    "    V = tauSparse_f.evaluate(V_l) * np.sqrt(2)*T\n",
    "    return V\n",
    "\n",
    "### Calc (linearized) anomalous Green function F = |G|^2 * delta for evaluating the gap equation\n",
    "def F_calc(gkio, delta, T):\n",
    "    F = - gkio*np.conj(gkio)*delta\n",
    "    F = F.reshape(len(iwnSparse_f.wn), nk1, nk2)\n",
    "    \n",
    "    # Fourier transform to real space\n",
    "    F = np.fft.fftn(F,axes=(1,2))\n",
    "    F = F.reshape(len(iwnSparse_f.wn), nk)\n",
    "    \n",
    "    # Fourier transform to imaginary time via IR basis fit for G_l\n",
    "    # both G(tau_F) and G(tau_B) are neeced for calculating sigma and chi0, respectively\n",
    "    F_l = iwnSparse_f.fit(F)\n",
    "    F = tauSparse_f.evaluate(F_l) * 1/(np.sqrt(2)*T)\n",
    "    return F\n",
    "\n",
    "#%%%%%%%%%%%%%%%% Do FLEX loop + linearized Eliashberg equation\n",
    "print('\\nEntering FLEX calculation loop:')\n",
    "# Initialize calculation\n",
    "sigma = 0\n",
    "mu    = 0\n",
    "\n",
    "for T_it, T in enumerate(T_values):\n",
    "    print(\"Now: T = {}\".format(T))\n",
    "    iwn_f = 1j * iwnSparse_f.wn * np.pi * T\n",
    "    iwn_f_ = np.tensordot(iwn_f, np.ones(nk), axes=0)\n",
    "\n",
    "\n",
    "    # Start 0th round - corresponds to RPA\n",
    "    mu   = mu_calc(n, iwn_f_, ek_, sigma, T)\n",
    "    gkio = gkio_calc(iwn_f_, ek_, mu, sigma)\n",
    "    grit_f, grit_b = grit_calc(gkio, T)\n",
    "    ckio  = ckio_calc(grit_b, T)\n",
    "\n",
    "    # Check whether U < U_crit! Otherwise, U needs to be renormalized.\n",
    "    if np.amax(np.abs(ckio))*U >= 1:\n",
    "        print('WARNING: U is too large and the spin susceptibility denominator will diverge/turn unphysical!')\n",
    "        print('Initiate renormalization loop.')\n",
    "    \n",
    "        # Save old U for later\n",
    "        U_old = U\n",
    "        # Renormalization loop may run infinitely! Insert break condition after U_it_max steps\n",
    "        U_it = 0\n",
    "    \n",
    "        while U_old*np.amax(np.abs(ckio)) >= 1:\n",
    "            U_it += 1\n",
    "        \n",
    "            # remormalize U such that U*chi0 < 1\n",
    "            U = U / (np.amax(np.abs(ckio))*U + 0.01)\n",
    "        \n",
    "            # perform one shot FLEX loop\n",
    "            sigma_old = sigma\n",
    "            gkio_old  = gkio\n",
    "            V     = V_calc(ckio, U, T)\n",
    "            sigma = sigma_calc(grit_f, V, T)\n",
    "    \n",
    "            mu   = mu_calc(n, iwn_f_, ek_, sigma, T)\n",
    "            gkio = gkio_calc(iwn_f_, ek_, mu, sigma)\n",
    "            gkio = mix*gkio + (1-mix)*gkio_old\n",
    "    \n",
    "            grit_f, grit_b = grit_calc(gkio, T)\n",
    "            ckio  = ckio_calc(grit_b, T)\n",
    "        \n",
    "            # reset U\n",
    "            U = U_old\n",
    "        \n",
    "            # break condition for too many steps\n",
    "            if U_it == U_it_max:\n",
    "                print('U renormalization reached breaking point')\n",
    "                break\n",
    "    \n",
    "    # Do self-consistent iteration until convergence\n",
    "    for it in range(it_max):\n",
    "        sigma_old = sigma\n",
    "        gkio_old  = gkio\n",
    "        V     = V_calc(ckio, U, T)\n",
    "        sigma = sigma_calc(grit_f, V,T)\n",
    "    \n",
    "        mu   = mu_calc(n, iwn_f_, ek_, sigma, T)\n",
    "        gkio = gkio_calc(iwn_f_, ek_, mu, sigma)\n",
    "        gkio = mix*gkio + (1-mix)*gkio_old\n",
    "    \n",
    "        grit_f, grit_b = grit_calc(gkio, T)\n",
    "        ckio  = ckio_calc(grit_b, T)\n",
    "        \n",
    "        # Check whether solution is converged.\n",
    "        sfc_check = np.sum(abs(sigma-sigma_old))/np.sum(abs(sigma))\n",
    "        #print(it, sfc_check)\n",
    "        if sfc_check < sfc_tol:\n",
    "            break\n",
    "   \n",
    "\n",
    "    ### Solve linearized Eliashberg equation\n",
    "    # Set initial gap function\n",
    "    delta_k = np.cos(2*np.pi*k1) - np.cos(2*np.pi*k2)\n",
    "    delta_k = delta_k.reshape(nk)\n",
    "    delta = np.tensordot(np.ones(len(iwn_f)), delta_k, axes=0)\n",
    "    delta = delta / np.linalg.norm(delta) # normalize initial guess\n",
    "\n",
    "    # Start self-consistency loop\n",
    "    V_singlet = V_singlet_calc(ckio, U, T)\n",
    "\n",
    "    lam = 0\n",
    "    for it in range(it_max):\n",
    "        delta_old = delta\n",
    "        lam_old = lam\n",
    "    \n",
    "        F = F_calc(gkio, delta, T)\n",
    "        delta = V_singlet * F\n",
    "    \n",
    "        # Fourier transform to momentum space\n",
    "        delta = delta.reshape(len(tauSparse_f.tau),nk1,nk2)\n",
    "        delta = np.fft.ifftn(delta,axes=(1,2))/nk\n",
    "        delta = delta.reshape(len(tauSparse_f.tau), nk)\n",
    "    \n",
    "        # Fourier transform to Matsubara frequency via IR basis fit for sigma_l\n",
    "        delta_l = tauSparse_f.fit(delta)\n",
    "        delta   = iwnSparse_f.evaluate(delta_l) * np.sqrt(2)*T\n",
    "    \n",
    "        # Calcualte eigenvalue\n",
    "        lam = np.real( np.sum(np.conj(delta)*delta_old) )\n",
    "        delta = delta / np.linalg.norm(delta)\n",
    "    \n",
    "        #print(it, lam, abs(lam-lam_old))\n",
    "        if abs(lam-lam_old) < sfc_tol:\n",
    "            break\n",
    "\n",
    "    print(\"The superconducting eigenvalue is lambda_d = {}\".format(lam))\n",
    "    \n",
    "    ### Extract values for plotting results\n",
    "    lam_T[T_it] = lam\n",
    "    chiSmax_T[T_it] = np.real(np.amax(ckio / (1 - U*ckio)))\n",
    "    \n",
    "    if T == 0.03:\n",
    "        chi_s_plt = ckio / (1 - U*ckio)\n",
    "\n",
    "\n",
    "#%%%%%%%%%%%%%%%% Plot results in a combined figure\n",
    "print('\\nPlotting the results...\\n')\n",
    "\n",
    "import matplotlib.gridspec as gridspec\n",
    "\n",
    "fig   = plt.figure(figsize=(10,4),constrained_layout=True)\n",
    "spec  = gridspec.GridSpec(ncols=2, nrows=1, figure=fig)\n",
    "f_ax1 = fig.add_subplot(spec[0, 0])\n",
    "f_ax2 = fig.add_subplot(spec[0, 1])\n",
    "\n",
    "# First panel with momentum dependence of static spin susceptibility\n",
    "chi_s_plt = np.real(chi_s_plt[iw0_b].reshape(nk1,nk2))\n",
    "k_HSP = np.concatenate((np.linspace(0,1,nk1//2),\n",
    "                        np.linspace(1,2,nk2//2),\n",
    "                        np.linspace(2,2+np.sqrt(2),nk1//2)))\n",
    "chi_s_HSP = np.concatenate((chi_s_plt[:nk1//2, 0],\n",
    "                          chi_s_plt[nk1//2, :nk2//2],\n",
    "                          [chi_s_plt[it,it] for it in range(nk1//2)][::-1]))\n",
    "\n",
    "f_ax1.plot(k_HSP, chi_s_HSP,'-')\n",
    "f_ax1.set_xlim([0,2+np.sqrt(2)])\n",
    "f_ax1.set_xticks([0,1,2,2+np.sqrt(2)])\n",
    "f_ax1.set_xticklabels(['$\\Gamma$','X','M','$\\Gamma$'])\n",
    "f_ax1.set_ylim([0,26])\n",
    "f_ax1.set_xlabel('')\n",
    "f_ax1.set_ylabel('$\\\\chi_{\\\\mathrm{s}}(i\\\\nu=0,{\\\\bf{q}})$', fontsize=14)\n",
    "f_ax1.grid()\n",
    "\n",
    "# Second panel with T-dependence of lambda_d and 1/chi_s,max\n",
    "f_ax2.plot(T_values, lam_T, '-x')\n",
    "f_ax2.plot(T_values, 1/chiSmax_T, '-x')\n",
    "f_ax2.set_xlim([0.01,0.08])\n",
    "f_ax2.set_ylim([0,1])\n",
    "f_ax2.set_xlabel('$T/t$', fontsize=14)\n",
    "f_ax2.set_ylabel('$\\lambda_d$, $1/\\chi_{\\mathrm{s},\\mathrm{max}}$', fontsize=14)\n",
    "f_ax2.grid()\n",
    "plt.show()"
   ]
  }
 ],
 "metadata": {
  "jupytext": {
   "formats": "ipynb,md:myst",
   "text_representation": {
    "extension": ".md",
    "format_name": "myst",
    "format_version": 0.13,
    "jupytext_version": "1.11.5"
   }
  },
  "kernelspec": {
   "display_name": "Python 3 (ipykernel)",
   "language": "python",
   "name": "python3"
  },
  "language_info": {
   "codemirror_mode": {
    "name": "ipython",
    "version": 3
   },
   "file_extension": ".py",
   "mimetype": "text/x-python",
   "name": "python",
   "nbconvert_exporter": "python",
   "pygments_lexer": "ipython3",
   "version": "3.9.10"
  },
  "source_map": [
   13,
   69,
   74,
   81,
   85,
   104,
   109,
   138,
   143,
   216,
   220,
   239,
   243,
   312,
   316,
   329,
   340,
   369,
   373,
   409,
   446,
   450,
   474,
   483
  ]
 },
 "nbformat": 4,
 "nbformat_minor": 5
}