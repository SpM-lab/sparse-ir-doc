{
 "cells": [
  {
   "cell_type": "markdown",
   "id": "d619289e",
   "metadata": {},
   "source": [
    "# FLEX approximation\n",
    "Author: [Niklas Witt](mailto:niklas.witt@physik.uni-hamburg.de)\n",
    "\n",
    "## Theory of FLEX in the paramagnetic state\n",
    "\n",
    "The Fluctuation Exchange (FLEX) approximation is a perturbative diagrammatic method that was first introduced by Bickers et al. {cite:p}`Bickers89a,Bickers89b`. It can be derived from a Luttinger-Ward functional {cite:p}`Luttinger60` containing an infinite series of closed bubble and ladder diagrams. Physically, this means that in FLEX the exchange of spin and charge fluctuations is treated self-consistently. As such, it is suitable for studying systems with strong spin fluctuations, e.g., in Fermi liquids or near quantum critical points. Here, we want to give a code example of the single-orbital limit of FLEX with a local Hubbard interaction $U$ to illustrate the practical implementation of the `sparse-ir` package for diagrammatic methods.\n",
    "\n",
    "For the implementation of a multi-orbital code, please have a look at {cite:p}`Witt21` and [FLEX_IR package](https://github.com/nikwitt/FLEX_IR).\n",
    "\n",
    "#### Set of FLEX equations\n",
    "We review the set of equations that need to be solved self-consistently in the FLEX approximation. The goal is to solve the Dyson equation\n",
    "\n",
    "$$\n",
    "\\begin{align}\n",
    "G(i\\omega_n,\\boldsymbol{k}) &= [G_0^{-1}(i\\omega_n,\\boldsymbol{k}) - \\Sigma(i\\omega_n,\\boldsymbol{k})]^{-1} \\\\\n",
    "& = [i\\omega_n - (\\varepsilon_{\\boldsymbol{k}}-\\mu) - \\Sigma(i\\omega_n,\\boldsymbol{k})]^{-1}\\;.\n",
    "\\end{align}\n",
    "$$\n",
    "\n",
    "for the interacting Green function $G$ from the non-interacting Green function $G_0(i\\omega_n,\\boldsymbol{k}) = [i\\omega_n - (\\varepsilon_{\\boldsymbol{k}}-\\mu)]^{-1}$ with single-particle dispersion $\\varepsilon_{\\boldsymbol{k}}$ and chemical potential $\\mu$ as well as self-energy $\\Sigma$ as a function of Matsubara frequencies $\\omega_n=(2n+1)\\pi T$ and momentum $\\boldsymbol{k}$. Using the Green function, we calculate the irreducible susceptibility (\"bubble diagram\") as\n",
    "\n",
    "$$ \\chi_0(i\\nu_m, \\boldsymbol{q}) = - \\frac{T}{N_{\\boldsymbol{k}}} \\sum_{n,\\boldsymbol{k}} G(i\\omega_n + i\\nu_m, \\boldsymbol{k} + \\boldsymbol{q})G(i\\omega_n, \\boldsymbol{k})\\;.$$\n",
    "\n",
    "$N_{\\boldsymbol{k}}$ denotes the number of $\\boldsymbol{k}$-points. This equation is a convolution typical in diagrammatic methods. It can be easily evaluated by Fourier transforming to imaginary-time and real space, resulting in a simple multiplication\n",
    "\n",
    "$$ \\chi_0(\\tau, \\boldsymbol{r}) = - G(\\tau, \\boldsymbol{r})G(-\\tau,-\\boldsymbol{r}) = G(\\tau, \\boldsymbol{r})G(\\beta-\\tau,\\boldsymbol{r})\\;.$$\n",
    "\n",
    "In our practical implementation, we will perform this step using the `sparse-ir` package. The infinite sum of bubble and ladder diagrams can be resummed to yield a Berk-Shrieffer type interaction {cite:p}`Berk1966`\n",
    "\n",
    "$$ V(i\\nu_m, \\boldsymbol{q}) = \\frac{3}{2} U^2 \\chi_{\\mathrm{s}}(i\\nu_m, \\boldsymbol{q}) + \\frac{1}{2} U^2 \\chi_{\\mathrm{c}}(i\\nu_m, \\boldsymbol{q}) - U^2 \\chi_0(i\\nu_m, \\boldsymbol{q}) + U $$\n",
    "\n",
    "with spin and charge susceptibility like in the Random-Phase-Approximation (RPA) \n",
    "\n",
    "$$ \\chi_{\\mathrm{s}}(i\\nu_m, \\boldsymbol{q}) = \\frac{\\chi_0(i\\nu_m, \\boldsymbol{q})}{1-U\\chi_0(i\\nu_m, \\boldsymbol{q})} \\quad , \\quad \\chi_{\\mathrm{c}}(i\\nu_m, \\boldsymbol{q}) = \\frac{\\chi_0(i\\nu_m, \\boldsymbol{q})}{1+U\\chi_0(i\\nu_m, \\boldsymbol{q})}\\;. $$\n",
    "\n",
    "The self-energy can be calculated from the convolution\n",
    "\n",
    "$$ \\Sigma(i\\omega_n, \\boldsymbol{k}) = \\frac{T}{N_{\\boldsymbol{k}}} \\sum_{m,\\boldsymbol{q}} V(i\\nu_m, \\boldsymbol{q}) G(i\\omega_n - i\\nu_m, \\boldsymbol{k} - \\boldsymbol{q}) $$\n",
    "\n",
    "which Fourier transformed to real space and imaginary-times takes the form\n",
    "\n",
    "$$ \\Sigma(\\tau, \\boldsymbol{r}) = V(\\tau, \\boldsymbol{r}) G(\\tau, \\boldsymbol{r})\\;. $$\n",
    "\n",
    "Thus, we have the set of self-consistent equations complete. In every iteration, the chemical potential $\\mu$ needs to be adjusted to keep the electron density $n$ fixed. It can be calculated via solving\n",
    "\n",
    "$$ n = 2n_{\\sigma} = 2 - \\frac{2}{N_{\\boldsymbol{k}}} \\sum_{\\boldsymbol{k}} G(\\tau=0^+, \\boldsymbol{k}) $$\n",
    "\n",
    "with a factor 2 from spin degeneracy and $0^+ = \\lim_{\\eta\\to 0+} \\eta$ by using some root finding algorithm like bisection method or Brent's method.\n",
    "\n",
    "#### Notes on practical implementation\n",
    "When implementing the fully self-consistent FLEX loop, a few points need to be treated carefully which we adress in the following:\n",
    "\n",
    "* The constant Hartree term $V_{\\mathrm{H}} = U$ in the interaction $V$ and respective self-energy term $\\Sigma_H = U\\frac{n}{2}$ can be absorbed into the definition of the chemical potential $\\mu$. Otherwise we would have to treat them separately.\n",
    "* We include a mixing $p<1$ in each iteration step, such that the Green function of step $n+1$ is partially constructed from the old and new Green function as $G^{n+1} = p\\,G^{n+1} + (1-p)\\,G^{n}$. This smoothes too strong oscillations of the solution.\n",
    "* A bottleneck of the FLEX approximation is the case of too strong interactions. The solution turns numerically unstable, if the denominator of $\\chi_{\\mathrm{s}}$ approaches zero, i.e., $U\\max\\!\\{\\chi_{0}\\} \\to 1$. Typically, this can be solved by starting with a smaller $U$ value and slowly turning it up. We call this \"$U$ renormalization\"."
   ]
  },
  {
   "cell_type": "markdown",
   "id": "f8e93f1d",
   "metadata": {},
   "source": [
    "## Code implementation\n",
    "We implement the FLEX method for the simple case of a square lattice Hubbard model with dispersion $\\varepsilon_{\\boldsymbol{k}} = -2t\\,[\\cos(k_x) + \\cos(k_y)]$ with nearest-neighbor hopping $t$ which sets the energy scale of our system (bandwidth $W = 8t$). First, we load all necessary basic modules that we are going to need in implementing FLEX and visualizing results:"
   ]
  },
  {
   "cell_type": "code",
   "execution_count": 1,
   "id": "f0a28c9f",
   "metadata": {},
   "outputs": [],
   "source": [
    "import numpy as np\n",
    "import scipy as sc\n",
    "import scipy.optimize\n",
    "from warnings import warn\n",
    "import sparse_ir\n",
    "%matplotlib inline\n",
    "import matplotlib.pyplot as plt"
   ]
  },
  {
   "cell_type": "markdown",
   "id": "9bba3daf",
   "metadata": {},
   "source": [
    "#### Parameter setting"
   ]
  },
  {
   "cell_type": "code",
   "execution_count": 2,
   "id": "b3173a00",
   "metadata": {},
   "outputs": [],
   "source": [
    "### System parameters\n",
    "t    = 1      # hopping amplitude\n",
    "W    = 8*t    # bandwidth\n",
    "wmax = 10     # set wmax >= W\n",
    "\n",
    "T    = 0.1    # temperature\n",
    "beta = 1/T    # inverse temperature\n",
    "n    = 0.85   # electron filling, here per spin per lattice site (n=1: half filling)\n",
    "U    = 4      # Hubbard interaction\n",
    "\n",
    "### Numerical parameters\n",
    "nk1, nk2  = 24, 24    # number of k_points along one repiprocal crystal lattice direction k1 = kx, k2 = ky\n",
    "nk        = nk1*nk2\n",
    "IR_tol    = 1e-10     # accuary for l-cutoff of IR basis functions\n",
    "sfc_tol   = 1e-4      # accuracy for self-consistent iteration\n",
    "maxiter   = 30        # maximal number of iterations in self-consistent cycle\n",
    "mix       = 0.2       # mixing parameter for new \n",
    "U_maxiter = 50        # maximal number of iteration steps in U renormalization loop"
   ]
  },
  {
   "cell_type": "markdown",
   "id": "2bb132e5",
   "metadata": {},
   "source": [
    "#### Generating meshes\n",
    "We need to generate a $\\boldsymbol{k}$-mesh as well as set up the IR basis functions on a sparse $\\tau$ and $i\\omega_n$ grid. Then we can calculate the dispersion on this mesh.\n",
    "In addition, we set calculation routines to Fourier transform $k\\leftrightarrow r$ and $\\tau\\leftrightarrow i\\omega_n$ (via IR basis)."
   ]
  },
  {
   "cell_type": "code",
   "execution_count": 3,
   "id": "5099bc17",
   "metadata": {},
   "outputs": [],
   "source": [
    "#### Initiate fermionic and bosonic IR basis objects\n",
    "IR_basis_set = sparse_ir.FiniteTempBasisSet(beta, wmax, eps=IR_tol)\n",
    "\n",
    "class Mesh:\n",
    "    \"\"\"\n",
    "    Holding class for k-mesh and sparsely sampled imaginary time 'tau' / Matsubara frequency 'iw_n' grids.\n",
    "    Additionally it defines the Fourier transform routines 'r <-> k'  and 'tau <-> l <-> wn'.\n",
    "    \"\"\"\n",
    "    def __init__(self,IR_basis_set,nk1,nk2):\n",
    "        self.IR_basis_set = IR_basis_set\n",
    "\n",
    "        # generate k-mesh and dispersion\n",
    "        self.nk1, self.nk2, self.nk = nk1, nk2, nk1*nk2\n",
    "        self.k1, self.k2 = np.meshgrid(np.arange(self.nk1)/self.nk1, np.arange(self.nk2)/self.nk2)\n",
    "        self.ek = -2*t*( np.cos(2*np.pi*self.k1) + np.cos(2*np.pi*self.k2) ).reshape(nk)\n",
    "\n",
    "        # lowest Matsubara frequency index\n",
    "        self.iw0_f = np.where(self.IR_basis_set.wn_f == 1)[0][0]\n",
    "        self.iw0_b = np.where(self.IR_basis_set.wn_b == 0)[0][0]\n",
    "\n",
    "        ### Generate a frequency-momentum grid for iwn and ek (in preparation for calculating the Green function)\n",
    "        # frequency mesh (for Green function)\n",
    "        self.iwn_f = 1j * self.IR_basis_set.wn_f * np.pi * T\n",
    "        self.iwn_f_ = np.tensordot(self.iwn_f, np.ones(nk), axes=0)\n",
    "\n",
    "        # ek mesh\n",
    "        self.ek_ = np.tensordot(np.ones(len(self.iwn_f)), self.ek, axes=0)\n",
    "\n",
    "    def smpl_obj(self, statistics):\n",
    "        \"\"\" Return sampling object for given statistic \"\"\"\n",
    "        smpl_tau = {'F': self.IR_basis_set.smpl_tau_f, 'B': self.IR_basis_set.smpl_tau_b}[statistics]\n",
    "        smpl_wn  = {'F': self.IR_basis_set.smpl_wn_f,  'B': self.IR_basis_set.smpl_wn_b }[statistics]\n",
    "        return smpl_tau, smpl_wn\n",
    "\n",
    "    \n",
    "    def tau_to_wn(self, statistics, obj_tau):\n",
    "        \"\"\" Fourier transform from tau to iw_n via IR basis \"\"\"\n",
    "        smpl_tau, smpl_wn = self.smpl_obj(statistics)\n",
    "\n",
    "        obj_tau = obj_tau.reshape((smpl_tau.tau.size, self.nk1, self.nk2))\n",
    "        obj_l   = smpl_tau.fit(obj_tau, axis=0)\n",
    "        obj_wn  = smpl_wn.evaluate(obj_l, axis=0).reshape((smpl_wn.wn.size, self.nk))\n",
    "        return obj_wn\n",
    "\n",
    "    def wn_to_tau(self, statistics, obj_wn):\n",
    "        \"\"\" Fourier transform from iw_n to tau via IR basis \"\"\"\n",
    "        smpl_tau, smpl_wn = self.smpl_obj(statistics)\n",
    "\n",
    "        obj_wn  = obj_wn.reshape((smpl_wn.wn.size, self.nk1, self.nk2))\n",
    "        obj_l   = smpl_wn.fit(obj_wn, axis=0)\n",
    "        obj_tau = smpl_tau.evaluate(obj_l, axis=0).reshape((smpl_tau.tau.size, self.nk))\n",
    "        return obj_tau\n",
    "\n",
    "    \n",
    "    def k_to_r(self,obj_k):\n",
    "        \"\"\" Fourier transform from k-space to real space \"\"\"\n",
    "        obj_k = obj_k.reshape(-1, self.nk1, self.nk2)\n",
    "        obj_r = np.fft.fftn(obj_k,axes=(1,2))\n",
    "        obj_r = obj_r.reshape(-1, self.nk)\n",
    "        return obj_r\n",
    "\n",
    "    def r_to_k(self,obj_r):\n",
    "        \"\"\" Fourier transform from real space to k-space \"\"\"\n",
    "        obj_r = obj_r.reshape(-1, self.nk1, self.nk2)\n",
    "        obj_k = np.fft.ifftn(obj_r,axes=(1,2))/self.nk\n",
    "        obj_k = obj_k.reshape(-1, self.nk)\n",
    "        return obj_k"
   ]
  },
  {
   "cell_type": "markdown",
   "id": "aa161a2f",
   "metadata": {},
   "source": [
    "#### FLEX loop solver\n",
    "We wrap the calculation steps of the FLEX loop in the `FLEXSolver` class. We use the `Mesh` class defined above to perform calculation steps."
   ]
  },
  {
   "cell_type": "code",
   "execution_count": 4,
   "id": "c0f492db",
   "metadata": {},
   "outputs": [],
   "source": [
    "class FLEXSolver:\n",
    "    def __init__(self, mesh, U, n, sigma_init=0, sfc_tol=1e-4, \n",
    "                 maxiter=100, U_maxiter=10, mix=0.2, verbose=True):\n",
    "        \"\"\"\n",
    "        Solver class to calculate the FLEX loop self-consistently.\n",
    "        After initializing the Solver by `solver = FLEXSolver(mesh, U, n, **kwargs)` \n",
    "        it can be run by `solver.solve()`.\n",
    "        \"\"\"\n",
    "        ## Set internal parameters for the solve \n",
    "        self.U = U\n",
    "        self.n = n\n",
    "        self.mesh = mesh\n",
    "        self.sigma = sigma_init\n",
    "        self.sfc_tol = sfc_tol\n",
    "        self.maxiter = maxiter\n",
    "        self.U_maxiter = U_maxiter\n",
    "        self.mix = mix\n",
    "        self.verbose = verbose\n",
    "        \n",
    "        ## Set initial Green function and irreducible susceptibility\n",
    "        # NOT running the FLEXSolver.solve instance corresponds to staying on RPA level\n",
    "        self.mu = 0\n",
    "        self.mu_calc()\n",
    "        \n",
    "        self.gkio_calc(self.mu)\n",
    "        self.grit_calc()\n",
    "        self.ckio_calc()\n",
    "    \n",
    "    \n",
    "    #%%%%%%%%%%% Loop solving instance\n",
    "    def solve(self):\n",
    "        \"\"\" FLEXSolver.solve() executes FLEX loop until convergence \"\"\"\n",
    "        # check whether U < U_crit! Otherwise, U needs to be renormalized.\n",
    "        if np.amax(np.abs(self.ckio))*self.U >= 1:\n",
    "            self.U_renormalization()\n",
    "            \n",
    "        # perform loop until convergence is reached:\n",
    "        for it in range(self.maxiter):\n",
    "            sigma_old = self.sigma\n",
    "            self.loop()\n",
    "\n",
    "            # check whether solution is converged.\n",
    "            sfc_check = np.sum(abs(self.sigma-sigma_old))/np.sum(abs(self.sigma))\n",
    "\n",
    "            if self.verbose:\n",
    "                print(it, sfc_check)\n",
    "            if sfc_check < self.sfc_tol:\n",
    "                print(\"FLEX loop converged at desired accuracy\")\n",
    "                break\n",
    "    \n",
    "    def loop(self):\n",
    "        \"\"\" FLEX loop \"\"\"\n",
    "        gkio_old = self.gkio\n",
    "        \n",
    "        self.V_calc()\n",
    "        self.sigma_calc()\n",
    "        \n",
    "        self.mu_calc()\n",
    "        self.gkio_calc(self.mu)\n",
    "        self.gkio = self.mix*self.gkio + (1-self.mix)*gkio_old\n",
    "        \n",
    "        self.grit_calc()\n",
    "        self.ckio_calc()\n",
    "\n",
    "\n",
    "    #%%%%%%%%%%% U renormalization loop instance\n",
    "    def U_renormalization(self):\n",
    "        \"\"\" Loop for renormalizing U if Stoner enhancement U*max{chi0} >= 1. \"\"\"\n",
    "        print('WARNING: U is too large and the spin susceptibility denominator will diverge/turn unphysical!')\n",
    "        print('Initiate U renormalization loop.')\n",
    "    \n",
    "        # save old U for later\n",
    "        U_old = self.U\n",
    "        # renormalization loop may run infinitely! Insert break condition after U_it_max steps\n",
    "        U_it = 0\n",
    "    \n",
    "        while U_old*np.amax(np.abs(self.ckio)) >= 1:\n",
    "            U_it += 1\n",
    "        \n",
    "            # remormalize U such that U*chi0 < 1\n",
    "            self.U = self.U / (np.amax(np.abs(self.ckio))*self.U + 0.01)\n",
    "            print(U_it, self.U, U_old)\n",
    "        \n",
    "            # perform one shot FLEX loop\n",
    "            self.loop()\n",
    "        \n",
    "            # reset U\n",
    "            self.U = U_old\n",
    "        \n",
    "            # break condition for too many steps\n",
    "            if U_it == self.U_maxiter:\n",
    "                print('U renormalization reached breaking point')\n",
    "                break\n",
    "        print('Leaving U renormalization...')\n",
    "    \n",
    "    \n",
    "    #%%%%%%%%%%% Calculation steps\n",
    "    def gkio_calc(self, mu):\n",
    "        \"\"\" calculate Green function G(iw,k) \"\"\"\n",
    "        self.gkio = (self.mesh.iwn_f_ - (self.mesh.ek_ - mu) - self.sigma)**(-1)\n",
    "\n",
    "    def grit_calc(self):\n",
    "        \"\"\" Calculate real space Green function G(tau,r) [for calculating chi0 and sigma] \"\"\"\n",
    "        # Fourier transform\n",
    "        grit = self.mesh.k_to_r(self.gkio)\n",
    "        self.grit = self.mesh.wn_to_tau('F', grit)\n",
    "\n",
    "    def ckio_calc(self):\n",
    "        \"\"\" Calculate irreducible susciptibility chi0(iv,q) \"\"\"\n",
    "        ckio = self.grit * self.grit[::-1, :]\n",
    "\n",
    "        # Fourier transform\n",
    "        ckio = self.mesh.r_to_k(ckio)\n",
    "        self.ckio = self.mesh.tau_to_wn('B', ckio)\n",
    "\n",
    "    def V_calc(self):\n",
    "        \"\"\" Calculate interaction V(tau,r) from RPA-like spin and charge susceptibility for calculating sigma \"\"\"\n",
    "        # check whether U is too large and give warning\n",
    "        if np.amax(np.abs(self.ckio))*self.U >= 1:\n",
    "            warn(\"U*max(chi0) >= 1! Paramagnetic phase is left and calculations will turn unstable!\")\n",
    "        \n",
    "        # spin and charge susceptibility\n",
    "        self.chi_spin   = self.ckio / (1 - self.U*self.ckio)\n",
    "        self.chi_charge = self.ckio / (1 + self.U*self.ckio)\n",
    "\n",
    "        V = 3/2*self.U**2 * self.chi_spin + 1/2*self.U**2 * self.chi_charge - self.U**2 * self.ckio\n",
    "        # Constant Hartree Term V ~ U needs to be treated extra, since they cannot be modeled by the IR basis.\n",
    "        # In the single-band case, the Hartree term can be absorbed into the chemical potential.\n",
    "\n",
    "        # Fourier transform\n",
    "        V = self.mesh.k_to_r(V)\n",
    "        self.V = self.mesh.wn_to_tau('B', V)\n",
    "\n",
    "    def sigma_calc(self):\n",
    "        \"\"\" Calculate self-energy Sigma(iw,k) \"\"\"\n",
    "        sigma = self.V * self.grit\n",
    "    \n",
    "        # Fourier transform\n",
    "        sigma = self.mesh.r_to_k(sigma)\n",
    "        self.sigma = self.mesh.tau_to_wn('F', sigma)\n",
    "    \n",
    "    \n",
    "    #%%%%%%%%%%% Setting chemical potential mu\n",
    "    def calc_electron_density(self, mu):\n",
    "        \"\"\" Calculate electron density from Green function \"\"\"\n",
    "        self.gkio_calc(mu)\n",
    "        gio  = np.sum(self.gkio,axis=1)/self.mesh.nk\n",
    "        g_l  = self.mesh.IR_basis_set.smpl_wn_f.fit(gio)\n",
    "        g_tau0 = self.mesh.IR_basis_set.basis_f.u(0)@g_l\n",
    "    \n",
    "        n  = 1 + np.real(g_tau0)\n",
    "        n  = 2*n #for spin\n",
    "        return n\n",
    "\n",
    "    def mu_calc(self):\n",
    "        \"\"\" Find chemical potential for a given filling n0 via brent's root finding algorithm \"\"\"\n",
    "        n_calc = self.calc_electron_density\n",
    "        n0 = self.n\n",
    "        f  = lambda mu : n_calc(mu) - n0\n",
    "\n",
    "        self.mu = sc.optimize.brentq(f, np.amax(self.mesh.ek)*3, np.amin(self.mesh.ek)*3)"
   ]
  },
  {
   "cell_type": "markdown",
   "id": "c5f645fc",
   "metadata": {},
   "source": [
    "### Execute FLEX loop"
   ]
  },
  {
   "cell_type": "code",
   "execution_count": 5,
   "id": "cf8f38e7",
   "metadata": {
    "tags": [
     "output_scroll"
    ]
   },
   "outputs": [
    {
     "name": "stdout",
     "output_type": "stream",
     "text": [
      "WARNING: U is too large and the spin susceptibility denominator will diverge/turn unphysical!"
     ]
    },
    {
     "name": "stdout",
     "output_type": "stream",
     "text": [
      "\n"
     ]
    },
    {
     "name": "stdout",
     "output_type": "stream",
     "text": [
      "Initiate U renormalization loop."
     ]
    },
    {
     "name": "stdout",
     "output_type": "stream",
     "text": [
      "\n"
     ]
    },
    {
     "name": "stdout",
     "output_type": "stream",
     "text": [
      "1"
     ]
    },
    {
     "name": "stdout",
     "output_type": "stream",
     "text": [
      " "
     ]
    },
    {
     "name": "stdout",
     "output_type": "stream",
     "text": [
      "2.3679802693786747"
     ]
    },
    {
     "name": "stdout",
     "output_type": "stream",
     "text": [
      " "
     ]
    },
    {
     "name": "stdout",
     "output_type": "stream",
     "text": [
      "4"
     ]
    },
    {
     "name": "stdout",
     "output_type": "stream",
     "text": [
      "\n"
     ]
    },
    {
     "name": "stdout",
     "output_type": "stream",
     "text": [
      "2"
     ]
    },
    {
     "name": "stdout",
     "output_type": "stream",
     "text": [
      " "
     ]
    },
    {
     "name": "stdout",
     "output_type": "stream",
     "text": [
      "2.6631530511912014"
     ]
    },
    {
     "name": "stdout",
     "output_type": "stream",
     "text": [
      " "
     ]
    },
    {
     "name": "stdout",
     "output_type": "stream",
     "text": [
      "4"
     ]
    },
    {
     "name": "stdout",
     "output_type": "stream",
     "text": [
      "\n"
     ]
    },
    {
     "name": "stdout",
     "output_type": "stream",
     "text": [
      "3"
     ]
    },
    {
     "name": "stdout",
     "output_type": "stream",
     "text": [
      " "
     ]
    },
    {
     "name": "stdout",
     "output_type": "stream",
     "text": [
      "2.952843202009376"
     ]
    },
    {
     "name": "stdout",
     "output_type": "stream",
     "text": [
      " "
     ]
    },
    {
     "name": "stdout",
     "output_type": "stream",
     "text": [
      "4"
     ]
    },
    {
     "name": "stdout",
     "output_type": "stream",
     "text": [
      "\n"
     ]
    },
    {
     "name": "stdout",
     "output_type": "stream",
     "text": [
      "4"
     ]
    },
    {
     "name": "stdout",
     "output_type": "stream",
     "text": [
      " "
     ]
    },
    {
     "name": "stdout",
     "output_type": "stream",
     "text": [
      "3.2372665069551347"
     ]
    },
    {
     "name": "stdout",
     "output_type": "stream",
     "text": [
      " "
     ]
    },
    {
     "name": "stdout",
     "output_type": "stream",
     "text": [
      "4"
     ]
    },
    {
     "name": "stdout",
     "output_type": "stream",
     "text": [
      "\n"
     ]
    },
    {
     "name": "stdout",
     "output_type": "stream",
     "text": [
      "5"
     ]
    },
    {
     "name": "stdout",
     "output_type": "stream",
     "text": [
      " "
     ]
    },
    {
     "name": "stdout",
     "output_type": "stream",
     "text": [
      "3.517535371127767"
     ]
    },
    {
     "name": "stdout",
     "output_type": "stream",
     "text": [
      " "
     ]
    },
    {
     "name": "stdout",
     "output_type": "stream",
     "text": [
      "4"
     ]
    },
    {
     "name": "stdout",
     "output_type": "stream",
     "text": [
      "\n"
     ]
    },
    {
     "name": "stdout",
     "output_type": "stream",
     "text": [
      "6"
     ]
    },
    {
     "name": "stdout",
     "output_type": "stream",
     "text": [
      " "
     ]
    },
    {
     "name": "stdout",
     "output_type": "stream",
     "text": [
      "3.795074778959665"
     ]
    },
    {
     "name": "stdout",
     "output_type": "stream",
     "text": [
      " "
     ]
    },
    {
     "name": "stdout",
     "output_type": "stream",
     "text": [
      "4"
     ]
    },
    {
     "name": "stdout",
     "output_type": "stream",
     "text": [
      "\n"
     ]
    },
    {
     "name": "stdout",
     "output_type": "stream",
     "text": [
      "Leaving U renormalization..."
     ]
    },
    {
     "name": "stdout",
     "output_type": "stream",
     "text": [
      "\n"
     ]
    },
    {
     "name": "stdout",
     "output_type": "stream",
     "text": [
      "0"
     ]
    },
    {
     "name": "stdout",
     "output_type": "stream",
     "text": [
      " "
     ]
    },
    {
     "name": "stdout",
     "output_type": "stream",
     "text": [
      "0.08757050701884897"
     ]
    },
    {
     "name": "stdout",
     "output_type": "stream",
     "text": [
      "\n"
     ]
    },
    {
     "name": "stdout",
     "output_type": "stream",
     "text": [
      "1"
     ]
    },
    {
     "name": "stdout",
     "output_type": "stream",
     "text": [
      " "
     ]
    },
    {
     "name": "stdout",
     "output_type": "stream",
     "text": [
      "0.14458517806193513"
     ]
    },
    {
     "name": "stdout",
     "output_type": "stream",
     "text": [
      "\n"
     ]
    },
    {
     "name": "stdout",
     "output_type": "stream",
     "text": [
      "2"
     ]
    },
    {
     "name": "stdout",
     "output_type": "stream",
     "text": [
      " "
     ]
    },
    {
     "name": "stdout",
     "output_type": "stream",
     "text": [
      "0.022496516962796566"
     ]
    },
    {
     "name": "stdout",
     "output_type": "stream",
     "text": [
      "\n"
     ]
    },
    {
     "name": "stdout",
     "output_type": "stream",
     "text": [
      "3"
     ]
    },
    {
     "name": "stdout",
     "output_type": "stream",
     "text": [
      " "
     ]
    },
    {
     "name": "stdout",
     "output_type": "stream",
     "text": [
      "0.011826075022232093"
     ]
    },
    {
     "name": "stdout",
     "output_type": "stream",
     "text": [
      "\n"
     ]
    },
    {
     "name": "stdout",
     "output_type": "stream",
     "text": [
      "4"
     ]
    },
    {
     "name": "stdout",
     "output_type": "stream",
     "text": [
      " "
     ]
    },
    {
     "name": "stdout",
     "output_type": "stream",
     "text": [
      "0.0075767493808374005"
     ]
    },
    {
     "name": "stdout",
     "output_type": "stream",
     "text": [
      "\n"
     ]
    },
    {
     "name": "stdout",
     "output_type": "stream",
     "text": [
      "5"
     ]
    },
    {
     "name": "stdout",
     "output_type": "stream",
     "text": [
      " "
     ]
    },
    {
     "name": "stdout",
     "output_type": "stream",
     "text": [
      "0.005298268436794483"
     ]
    },
    {
     "name": "stdout",
     "output_type": "stream",
     "text": [
      "\n"
     ]
    },
    {
     "name": "stdout",
     "output_type": "stream",
     "text": [
      "6"
     ]
    },
    {
     "name": "stdout",
     "output_type": "stream",
     "text": [
      " "
     ]
    },
    {
     "name": "stdout",
     "output_type": "stream",
     "text": [
      "0.0038627260880510434"
     ]
    },
    {
     "name": "stdout",
     "output_type": "stream",
     "text": [
      "\n"
     ]
    },
    {
     "name": "stdout",
     "output_type": "stream",
     "text": [
      "7"
     ]
    },
    {
     "name": "stdout",
     "output_type": "stream",
     "text": [
      " "
     ]
    },
    {
     "name": "stdout",
     "output_type": "stream",
     "text": [
      "0.0028737816637481907"
     ]
    },
    {
     "name": "stdout",
     "output_type": "stream",
     "text": [
      "\n"
     ]
    },
    {
     "name": "stdout",
     "output_type": "stream",
     "text": [
      "8"
     ]
    },
    {
     "name": "stdout",
     "output_type": "stream",
     "text": [
      " "
     ]
    },
    {
     "name": "stdout",
     "output_type": "stream",
     "text": [
      "0.0021584597623221288"
     ]
    },
    {
     "name": "stdout",
     "output_type": "stream",
     "text": [
      "\n"
     ]
    },
    {
     "name": "stdout",
     "output_type": "stream",
     "text": [
      "9"
     ]
    },
    {
     "name": "stdout",
     "output_type": "stream",
     "text": [
      " "
     ]
    },
    {
     "name": "stdout",
     "output_type": "stream",
     "text": [
      "0.0016284507934098574"
     ]
    },
    {
     "name": "stdout",
     "output_type": "stream",
     "text": [
      "\n"
     ]
    },
    {
     "name": "stdout",
     "output_type": "stream",
     "text": [
      "10"
     ]
    },
    {
     "name": "stdout",
     "output_type": "stream",
     "text": [
      " "
     ]
    },
    {
     "name": "stdout",
     "output_type": "stream",
     "text": [
      "0.0012315292636742186"
     ]
    },
    {
     "name": "stdout",
     "output_type": "stream",
     "text": [
      "\n"
     ]
    },
    {
     "name": "stdout",
     "output_type": "stream",
     "text": [
      "11"
     ]
    },
    {
     "name": "stdout",
     "output_type": "stream",
     "text": [
      " "
     ]
    },
    {
     "name": "stdout",
     "output_type": "stream",
     "text": [
      "0.0009331890338135742"
     ]
    },
    {
     "name": "stdout",
     "output_type": "stream",
     "text": [
      "\n"
     ]
    },
    {
     "name": "stdout",
     "output_type": "stream",
     "text": [
      "12"
     ]
    },
    {
     "name": "stdout",
     "output_type": "stream",
     "text": [
      " "
     ]
    },
    {
     "name": "stdout",
     "output_type": "stream",
     "text": [
      "0.0007086077737289733"
     ]
    },
    {
     "name": "stdout",
     "output_type": "stream",
     "text": [
      "\n"
     ]
    },
    {
     "name": "stdout",
     "output_type": "stream",
     "text": [
      "13"
     ]
    },
    {
     "name": "stdout",
     "output_type": "stream",
     "text": [
      " "
     ]
    },
    {
     "name": "stdout",
     "output_type": "stream",
     "text": [
      "0.0005394112523596966"
     ]
    },
    {
     "name": "stdout",
     "output_type": "stream",
     "text": [
      "\n"
     ]
    },
    {
     "name": "stdout",
     "output_type": "stream",
     "text": [
      "14"
     ]
    },
    {
     "name": "stdout",
     "output_type": "stream",
     "text": [
      " "
     ]
    },
    {
     "name": "stdout",
     "output_type": "stream",
     "text": [
      "0.00041186893614110563"
     ]
    },
    {
     "name": "stdout",
     "output_type": "stream",
     "text": [
      "\n"
     ]
    },
    {
     "name": "stdout",
     "output_type": "stream",
     "text": [
      "15"
     ]
    },
    {
     "name": "stdout",
     "output_type": "stream",
     "text": [
      " "
     ]
    },
    {
     "name": "stdout",
     "output_type": "stream",
     "text": [
      "0.0003156315340175151"
     ]
    },
    {
     "name": "stdout",
     "output_type": "stream",
     "text": [
      "\n"
     ]
    },
    {
     "name": "stdout",
     "output_type": "stream",
     "text": [
      "16"
     ]
    },
    {
     "name": "stdout",
     "output_type": "stream",
     "text": [
      " "
     ]
    },
    {
     "name": "stdout",
     "output_type": "stream",
     "text": [
      "0.00024290673624867017"
     ]
    },
    {
     "name": "stdout",
     "output_type": "stream",
     "text": [
      "\n"
     ]
    },
    {
     "name": "stdout",
     "output_type": "stream",
     "text": [
      "17"
     ]
    },
    {
     "name": "stdout",
     "output_type": "stream",
     "text": [
      " "
     ]
    },
    {
     "name": "stdout",
     "output_type": "stream",
     "text": [
      "0.00018780238679880098"
     ]
    },
    {
     "name": "stdout",
     "output_type": "stream",
     "text": [
      "\n"
     ]
    },
    {
     "name": "stdout",
     "output_type": "stream",
     "text": [
      "18"
     ]
    },
    {
     "name": "stdout",
     "output_type": "stream",
     "text": [
      " "
     ]
    },
    {
     "name": "stdout",
     "output_type": "stream",
     "text": [
      "0.00014592983406673624"
     ]
    },
    {
     "name": "stdout",
     "output_type": "stream",
     "text": [
      "\n"
     ]
    },
    {
     "name": "stdout",
     "output_type": "stream",
     "text": [
      "19"
     ]
    },
    {
     "name": "stdout",
     "output_type": "stream",
     "text": [
      " "
     ]
    },
    {
     "name": "stdout",
     "output_type": "stream",
     "text": [
      "0.00011401152358340062"
     ]
    },
    {
     "name": "stdout",
     "output_type": "stream",
     "text": [
      "\n"
     ]
    },
    {
     "name": "stdout",
     "output_type": "stream",
     "text": [
      "20"
     ]
    },
    {
     "name": "stdout",
     "output_type": "stream",
     "text": [
      " "
     ]
    },
    {
     "name": "stdout",
     "output_type": "stream",
     "text": [
      "8.956735422582419e-05"
     ]
    },
    {
     "name": "stdout",
     "output_type": "stream",
     "text": [
      "\n"
     ]
    },
    {
     "name": "stdout",
     "output_type": "stream",
     "text": [
      "FLEX loop converged at desired accuracy"
     ]
    },
    {
     "name": "stdout",
     "output_type": "stream",
     "text": [
      "\n"
     ]
    }
   ],
   "source": [
    "# initialize calculation\n",
    "IR_basis_set = sparse_ir.FiniteTempBasisSet(beta, wmax, eps=IR_tol)\n",
    "mesh = Mesh(IR_basis_set, nk1, nk2)\n",
    "solver = FLEXSolver(mesh, U, n, sigma_init=0, sfc_tol=sfc_tol, maxiter=maxiter, U_maxiter=U_maxiter, mix=mix)\n",
    "\n",
    "# perform FLEX loop\n",
    "solver.solve()"
   ]
  },
  {
   "cell_type": "markdown",
   "id": "6eea84e9",
   "metadata": {
    "tags": []
   },
   "source": [
    "#### Visualize results"
   ]
  },
  {
   "cell_type": "code",
   "execution_count": 6,
   "id": "2bcd38de",
   "metadata": {},
   "outputs": [
    {
     "data": {
      "image/png": "[encoded data removed]",
      "text/plain": [
       "<Figure size 432x288 with 2 Axes>"
      ]
     },
     "metadata": {
      "filenames": {
       "image/png": "/Users/hiroshi/git/papers/sparse-ir-tutorial/_build/jupyter_execute/src/FLEX_py_12_0.png"
      },
      "needs_background": "light"
     },
     "output_type": "display_data"
    }
   ],
   "source": [
    "# plot 2D k-dependence of lowest Matsubara frequency of e.g. green function\n",
    "plt.pcolormesh(2*mesh.k1.reshape(nk1,nk2), 2*mesh.k2.reshape(nk1,nk2), np.real(solver.gkio[mesh.iw0_f].reshape(mesh.nk1,mesh.nk2)), shading='auto')\n",
    "ax = plt.gca()\n",
    "ax.set_xlabel('$k_x/\\pi$')\n",
    "ax.set_xlim([0,2])\n",
    "ax.set_ylabel('$k_y/\\pi$')\n",
    "ax.set_ylim([0,2])\n",
    "ax.set_aspect('equal')\n",
    "ax.set_title('Re $G(k,i\\omega_0)$')\n",
    "plt.colorbar()\n",
    "plt.show()"
   ]
  },
  {
   "cell_type": "code",
   "execution_count": 7,
   "id": "0554ab9c",
   "metadata": {},
   "outputs": [
    {
     "data": {
      "image/png": "[encoded data removed]",
      "text/plain": [
       "<Figure size 432x288 with 2 Axes>"
      ]
     },
     "metadata": {
      "filenames": {
       "image/png": "/Users/hiroshi/git/papers/sparse-ir-tutorial/_build/jupyter_execute/src/FLEX_py_13_0.png"
      },
      "needs_background": "light"
     },
     "output_type": "display_data"
    }
   ],
   "source": [
    "# plot 2D k-dependence of lowest Matsubara frequency of e.g. chi0\n",
    "plt.pcolormesh(2*mesh.k1.reshape(nk1,nk2), 2*mesh.k2.reshape(nk1,nk2), np.real(solver.ckio[mesh.iw0_b].reshape(mesh.nk1,mesh.nk2)), shading='auto')\n",
    "ax = plt.gca()\n",
    "ax.set_xlabel('$k_x/\\pi$')\n",
    "ax.set_xlim([0,2])\n",
    "ax.set_ylabel('$k_y/\\pi$')\n",
    "ax.set_ylim([0,2])\n",
    "ax.set_aspect('equal')\n",
    "ax.set_title('Re $\\chi_0(k,i\\nu_0)$')\n",
    "plt.colorbar()\n",
    "plt.show()"
   ]
  },
  {
   "cell_type": "markdown",
   "id": "ec938eb5",
   "metadata": {},
   "source": [
    "## Linearized Eliashberg equation\n",
    "One example for which FLEX can be used is the description of superconductivity arising from spin-fluctuation-mediated pairing. While it is possible to perform FLEX calculations in the symmetry-broken state (Nambu phase), we will here focus on determining the superconducting critical temperature $T_{\\mathrm{c}}$ by solving the linearized Eliashberg equation\n",
    "\n",
    "$$\n",
    "\\begin{align}\n",
    "\\Delta^{(\\xi)}(i\\omega_n, \\boldsymbol{k}) &= \\frac{T}{N_{\\boldsymbol{k}}} \\sum_{m,\\boldsymbol{q}} V^{(\\xi)}(i\\nu_m, \\boldsymbol{q})F^{(\\xi)}(i\\omega_n - i\\nu_m, \\boldsymbol{k}-\\boldsymbol{q}) \\\\\n",
    " &= -\\frac{T}{N_{\\boldsymbol{k}}} \\sum_{m,\\boldsymbol{q}} V^{(\\xi)}(i\\nu_m, \\boldsymbol{q}) |G(i\\omega_n - i\\nu_m, \\boldsymbol{k} - \\boldsymbol{q})|^2 \\Delta^{(\\xi)}(i\\omega_n - i\\nu_m, \\boldsymbol{k}-\\boldsymbol{q})\n",
    "\\end{align}\n",
    " $$\n",
    "\n",
    "for the gap function $\\Delta$ ('order parameter') in either the spin singlet ($\\xi=\\mathrm{S}$) or spin triplet ($\\xi=\\mathrm{T}$) pairing channel. $F^{(\\xi)} = -|G|^2\\Delta^{(\\xi)}$ is the anomalous Green function. Just like the convoluted sum for the self-energy, we can compute this equation easily after Fourier transforming to\n",
    "\n",
    "$$\n",
    "\\begin{align}\n",
    "\\Delta^{(\\xi)}(\\tau, \\boldsymbol{r}) = - V^{(\\xi)}(\\tau, \\boldsymbol{r})F^{(\\xi)}(\\tau, \\boldsymbol{r})\\;.\n",
    "\\end{align}\n",
    "$$\n",
    "\n",
    "In each spin-pairing channel, the interaction is given by\n",
    "\n",
    "$$\n",
    "\\begin{align}\n",
    "    V^{(\\xi=\\mathrm{S})}(i\\nu_m, \\boldsymbol{q}) &= \\frac{3}{2}U^2\\chi_{\\mathrm{s}}(i\\nu_m, \\boldsymbol{q}) - \\frac{1}{2}U^2\\chi_{\\mathrm{c}}(i\\nu_m, \\boldsymbol{q}) + U\\,,\\\\\n",
    "    V^{(\\xi=\\mathrm{T})}(i\\nu_m, \\boldsymbol{q}) &= -\\frac{1}{2}U^2\\chi_{\\mathrm{s}}(i\\nu_m, \\boldsymbol{q}) - \\frac{1}{2}U^2\\chi_{\\mathrm{c}}(i\\nu_m, \\boldsymbol{q})\\,.\n",
    "\\end{align}\n",
    "$$\n",
    "\n",
    "The gap equation is effectively an eigenvalue problem with $\\Delta$ being the eigenvector and $\\mathcal{K}\\sim V |G|^2$ the matrix. Since we are only interested in the phase transition of the dominant symmetry pairing channel, we can solve for the largest eigenvalue $\\lambda$ via the power method.\n",
    "\n",
    "In this tutorial, we want to calculate the superconducting transition line for the dominant singlet $d\\equiv d_{x^2-y^2}$-wave symmetric gap function. We initialize the calculation with a generic function of this symmetry (constant in frequency space):\n",
    "\n",
    "$$\n",
    "\\Delta_{d}^0(\\boldsymbol{k}) = \\cos(k_x) - \\cos(k_y)\n",
    "$$"
   ]
  },
  {
   "cell_type": "markdown",
   "id": "9038b729",
   "metadata": {},
   "source": [
    "### Code implementation\n",
    "\n",
    "#### Linearized Eliashberg solver\n",
    "\n",
    "As for the FLEX loop, we implement a solver class that takes the `FLEXSolver` instance as an argument to solve the linearized Eliashberg equation."
   ]
  },
  {
   "cell_type": "code",
   "execution_count": 8,
   "id": "f8ec0d31",
   "metadata": {},
   "outputs": [],
   "source": [
    "class LinearizedGapSolver:\n",
    "    def __init__(self, FLEX_solver, maxiter=50, sfc_tol=1e-4, verbose=True):\n",
    "        \"\"\"\n",
    "        Solver class for solving the linearized gap equation using the power method.\n",
    "        It takes FLEX results as an input.\n",
    "        \"\"\"\n",
    "        \n",
    "        ## Initialize necessary quantities from FLEX loop\n",
    "        self.mesh = FLEX_solver.mesh\n",
    "        self.gkio = FLEX_solver.gkio\n",
    "        self.chi_spin = FLEX_solver.chi_spin\n",
    "        self.chi_charge = FLEX_solver.chi_charge\n",
    "        self.U = FLEX_solver.U\n",
    "        \n",
    "        self.maxiter = maxiter\n",
    "        self.sfc_tol = sfc_tol\n",
    "        self.verbose = verbose\n",
    "        \n",
    "        ## Initialize trial gap function\n",
    "        # Here we focus on a d-wave symmetric solution\n",
    "        self.delta0 = (np.cos(2*np.pi*self.mesh.k1) - np.cos(2*np.pi*self.mesh.k2)).reshape(self.mesh.nk)\n",
    "        self.delta  = np.tensordot(np.ones(len(self.mesh.iwn_f)), self.delta0, axes=0)\n",
    "        self.delta  = self.delta / np.linalg.norm(self.delta) # normalize initial guess\n",
    "        \n",
    "        ## Initialize interaction\n",
    "        self.V_singlet_calc()\n",
    "        \n",
    "        ## Initialize eigenvalue\n",
    "        self.lam = 0\n",
    "        \n",
    "    def solve(self):\n",
    "        \"\"\" Solving instance to find eigenvalue from power method \"\"\"\n",
    "        for it in range(self.maxiter):\n",
    "            lam_old = self.lam\n",
    "            delta_old = self.delta\n",
    "    \n",
    "            self.frit_calc()\n",
    "            delta = self.V_singlet * self.frit\n",
    "    \n",
    "            # Fourier transform to momentum space\n",
    "            delta = self.mesh.r_to_k(delta)\n",
    "            delta = self.mesh.tau_to_wn('F',delta)\n",
    "    \n",
    "            # calculate eigenvalue\n",
    "            self.lam = np.real( np.sum(np.conj(delta)*delta_old) )\n",
    "            self.delta = delta / np.linalg.norm(delta)\n",
    "    \n",
    "            if self.verbose:\n",
    "                print(it, self.lam, abs(self.lam-lam_old))\n",
    "            if abs(self.lam-lam_old) < self.sfc_tol:\n",
    "                break   \n",
    "    \n",
    "    #%%%%%%%%%%% Calculation steps\n",
    "    def V_singlet_calc(self):\n",
    "        \"\"\" Set up interaction in real space and imaginary time \"\"\"\n",
    "    \n",
    "        V = 3/2*self.U**2 * self.chi_spin - 1/2*self.U**2 * self.chi_charge\n",
    "        # Constant Hartree Term V ~ U needs to be treated extra, since they cannot be modeled by the IR basis.\n",
    "        # In the special case of d-wave symmetry, it can be neglected.\n",
    "    \n",
    "        # Fourier transform\n",
    "        V = self.mesh.k_to_r(V)\n",
    "        self.V_singlet = self.mesh.wn_to_tau('B', V)\n",
    "\n",
    "    def frit_calc(self):\n",
    "        \"\"\" Calculate (linearized) anomalous Green function F = |G|^2 * delta for evaluating the gap equation \"\"\"\n",
    "        self.fkio = - self.gkio*np.conj(self.gkio)*self.delta\n",
    "        \n",
    "        # Fourier transform\n",
    "        frit = self.mesh.k_to_r(self.fkio)\n",
    "        self.frit = self.mesh.wn_to_tau('F', frit)"
   ]
  },
  {
   "cell_type": "markdown",
   "id": "13c80b29",
   "metadata": {},
   "source": [
    "#### Executing the gap equation solver"
   ]
  },
  {
   "cell_type": "code",
   "execution_count": 9,
   "id": "a57fd532",
   "metadata": {
    "tags": [
     "output_scroll"
    ]
   },
   "outputs": [
    {
     "name": "stdout",
     "output_type": "stream",
     "text": [
      "0"
     ]
    },
    {
     "name": "stdout",
     "output_type": "stream",
     "text": [
      " "
     ]
    },
    {
     "name": "stdout",
     "output_type": "stream",
     "text": [
      "0.10888121424964199"
     ]
    },
    {
     "name": "stdout",
     "output_type": "stream",
     "text": [
      " "
     ]
    },
    {
     "name": "stdout",
     "output_type": "stream",
     "text": [
      "0.10888121424964199"
     ]
    },
    {
     "name": "stdout",
     "output_type": "stream",
     "text": [
      "\n"
     ]
    },
    {
     "name": "stdout",
     "output_type": "stream",
     "text": [
      "1"
     ]
    },
    {
     "name": "stdout",
     "output_type": "stream",
     "text": [
      " "
     ]
    },
    {
     "name": "stdout",
     "output_type": "stream",
     "text": [
      "0.4059012049261859"
     ]
    },
    {
     "name": "stdout",
     "output_type": "stream",
     "text": [
      " "
     ]
    },
    {
     "name": "stdout",
     "output_type": "stream",
     "text": [
      "0.29701999067654394"
     ]
    },
    {
     "name": "stdout",
     "output_type": "stream",
     "text": [
      "\n"
     ]
    },
    {
     "name": "stdout",
     "output_type": "stream",
     "text": [
      "2"
     ]
    },
    {
     "name": "stdout",
     "output_type": "stream",
     "text": [
      " "
     ]
    },
    {
     "name": "stdout",
     "output_type": "stream",
     "text": [
      "0.44947448266653917"
     ]
    },
    {
     "name": "stdout",
     "output_type": "stream",
     "text": [
      " "
     ]
    },
    {
     "name": "stdout",
     "output_type": "stream",
     "text": [
      "0.043573277740353245"
     ]
    },
    {
     "name": "stdout",
     "output_type": "stream",
     "text": [
      "\n"
     ]
    },
    {
     "name": "stdout",
     "output_type": "stream",
     "text": [
      "3"
     ]
    },
    {
     "name": "stdout",
     "output_type": "stream",
     "text": [
      " "
     ]
    },
    {
     "name": "stdout",
     "output_type": "stream",
     "text": [
      "0.4562291402541447"
     ]
    },
    {
     "name": "stdout",
     "output_type": "stream",
     "text": [
      " "
     ]
    },
    {
     "name": "stdout",
     "output_type": "stream",
     "text": [
      "0.006754657587605517"
     ]
    },
    {
     "name": "stdout",
     "output_type": "stream",
     "text": [
      "\n"
     ]
    },
    {
     "name": "stdout",
     "output_type": "stream",
     "text": [
      "4"
     ]
    },
    {
     "name": "stdout",
     "output_type": "stream",
     "text": [
      " "
     ]
    },
    {
     "name": "stdout",
     "output_type": "stream",
     "text": [
      "0.45783189851143713"
     ]
    },
    {
     "name": "stdout",
     "output_type": "stream",
     "text": [
      " "
     ]
    },
    {
     "name": "stdout",
     "output_type": "stream",
     "text": [
      "0.001602758257292447"
     ]
    },
    {
     "name": "stdout",
     "output_type": "stream",
     "text": [
      "\n"
     ]
    },
    {
     "name": "stdout",
     "output_type": "stream",
     "text": [
      "5"
     ]
    },
    {
     "name": "stdout",
     "output_type": "stream",
     "text": [
      " "
     ]
    },
    {
     "name": "stdout",
     "output_type": "stream",
     "text": [
      "0.4582113645844989"
     ]
    },
    {
     "name": "stdout",
     "output_type": "stream",
     "text": [
      " "
     ]
    },
    {
     "name": "stdout",
     "output_type": "stream",
     "text": [
      "0.0003794660730617738"
     ]
    },
    {
     "name": "stdout",
     "output_type": "stream",
     "text": [
      "\n"
     ]
    },
    {
     "name": "stdout",
     "output_type": "stream",
     "text": [
      "6"
     ]
    },
    {
     "name": "stdout",
     "output_type": "stream",
     "text": [
      " "
     ]
    },
    {
     "name": "stdout",
     "output_type": "stream",
     "text": [
      "0.45831339762103607"
     ]
    },
    {
     "name": "stdout",
     "output_type": "stream",
     "text": [
      " "
     ]
    },
    {
     "name": "stdout",
     "output_type": "stream",
     "text": [
      "0.00010203303653716356"
     ]
    },
    {
     "name": "stdout",
     "output_type": "stream",
     "text": [
      "\n"
     ]
    },
    {
     "name": "stdout",
     "output_type": "stream",
     "text": [
      "7"
     ]
    },
    {
     "name": "stdout",
     "output_type": "stream",
     "text": [
      " "
     ]
    },
    {
     "name": "stdout",
     "output_type": "stream",
     "text": [
      "0.45833990178238593"
     ]
    },
    {
     "name": "stdout",
     "output_type": "stream",
     "text": [
      " "
     ]
    },
    {
     "name": "stdout",
     "output_type": "stream",
     "text": [
      "2.6504161349860667e-05"
     ]
    },
    {
     "name": "stdout",
     "output_type": "stream",
     "text": [
      "\n"
     ]
    },
    {
     "name": "stdout",
     "output_type": "stream",
     "text": [
      "The superconducting eigenvalue at T=0.1 is lambda_d=0.458"
     ]
    },
    {
     "name": "stdout",
     "output_type": "stream",
     "text": [
      "\n"
     ]
    }
   ],
   "source": [
    "gap_solver = LinearizedGapSolver(solver, maxiter=maxiter, sfc_tol=sfc_tol)\n",
    "gap_solver.solve()\n",
    "print(\"The superconducting eigenvalue at T={} is lambda_d={:.3f}\".format(T,gap_solver.lam))"
   ]
  },
  {
   "cell_type": "markdown",
   "id": "fc6d2658",
   "metadata": {},
   "source": [
    "#### Visualize results"
   ]
  },
  {
   "cell_type": "code",
   "execution_count": 10,
   "id": "76f2d8ff",
   "metadata": {},
   "outputs": [
    {
     "data": {
      "image/png": "[encoded data removed]",
      "text/plain": [
       "<Figure size 432x288 with 2 Axes>"
      ]
     },
     "metadata": {
      "filenames": {
       "image/png": "/Users/hiroshi/git/papers/sparse-ir-tutorial/_build/jupyter_execute/src/FLEX_py_20_0.png"
      },
      "needs_background": "light"
     },
     "output_type": "display_data"
    },
    {
     "data": {
      "image/png": "[encoded data removed]",
      "text/plain": [
       "<Figure size 432x288 with 2 Axes>"
      ]
     },
     "metadata": {
      "filenames": {
       "image/png": "/Users/hiroshi/git/papers/sparse-ir-tutorial/_build/jupyter_execute/src/FLEX_py_20_1.png"
      },
      "needs_background": "light"
     },
     "output_type": "display_data"
    }
   ],
   "source": [
    "# plot 2D k-dependence of lowest Matsubara frequency of the gap vs. initial guess\n",
    "plt.figure()\n",
    "plt.pcolormesh(2*mesh.k1.reshape(nk1,nk2), 2*mesh.k2.reshape(nk1,nk2), np.real(gap_solver.delta0.reshape(nk1,nk2)) / np.linalg.norm(gap_solver.delta0), cmap='RdBu', shading='auto')\n",
    "ax = plt.gca()\n",
    "ax.set_xlabel('$k_x/\\pi$')\n",
    "ax.set_xlim([0,2])\n",
    "ax.set_ylabel('$k_y/\\pi$')\n",
    "ax.set_ylim([0,2])\n",
    "ax.set_aspect('equal')\n",
    "ax.set_title('$\\\\Delta^0_d(k)$')\n",
    "plt.colorbar()\n",
    "\n",
    "plt.figure()\n",
    "plt.pcolormesh(2*mesh.k1.reshape(nk1,nk2), 2*mesh.k2.reshape(nk1,nk2), np.real(gap_solver.delta[mesh.iw0_f].reshape(mesh.nk1,mesh.nk2)), cmap='RdBu', shading='auto')\n",
    "ax = plt.gca()\n",
    "ax.set_xlabel('$k_x/\\pi$')\n",
    "ax.set_xlim([0,2])\n",
    "ax.set_ylabel('$k_y/\\pi$')\n",
    "ax.set_ylim([0,2])\n",
    "ax.set_aspect('equal')\n",
    "ax.set_title('$\\\\Delta_d(k,i\\omega_0)$')\n",
    "plt.colorbar()\n",
    "plt.show()"
   ]
  },
  {
   "cell_type": "code",
   "execution_count": 11,
   "id": "28f6ab10",
   "metadata": {},
   "outputs": [
    {
     "data": {
      "image/png": "[encoded data removed]",
      "text/plain": [
       "<Figure size 432x288 with 2 Axes>"
      ]
     },
     "metadata": {
      "filenames": {
       "image/png": "/Users/hiroshi/git/papers/sparse-ir-tutorial/_build/jupyter_execute/src/FLEX_py_21_0.png"
      },
      "needs_background": "light"
     },
     "output_type": "display_data"
    }
   ],
   "source": [
    "# plot 2D k-dependence of lowest Matsubara frequency of the anomalous Green function\n",
    "plt.figure()\n",
    "plt.pcolormesh(2*mesh.k1.reshape(nk1,nk2), 2*mesh.k2.reshape(nk1,nk2), np.real(gap_solver.fkio[mesh.iw0_f].reshape(mesh.nk1,mesh.nk2)), cmap='RdBu', shading='auto')\n",
    "ax = plt.gca()\n",
    "ax.set_xlabel('$k_x/\\pi$')\n",
    "ax.set_xlim([0,2])\n",
    "ax.set_ylabel('$k_y/\\pi$')\n",
    "ax.set_ylim([0,2])\n",
    "ax.set_aspect('equal')\n",
    "ax.set_title('Re $F(k,i\\omega_0)$')\n",
    "plt.colorbar()\n",
    "plt.show()"
   ]
  },
  {
   "cell_type": "markdown",
   "id": "182b664e",
   "metadata": {},
   "source": [
    "## Example: Antiferromagnetic fluctuations and $d$-wave superconductivity in the square-lattice Hubbard model\n",
    "In this section, we will reproduce Figs. 3(b) and 4 of {cite:p}`Arita00` or respective Fig. 2(a) of {cite:p}`Witt21` using the SparseIR FLEX code developed above. It shows (i) the momemtum dependence of the static spin susceptibility and (ii) the temperature dependence of the superconducting eigenvalue $\\lambda_d$ (as calculated above) and the inverse maximal spin susceptibility $1/\\chi_{\\mathrm{s,max}}$, which indicates tendency towards (quasi-)magnetic ordering.\n",
    "\n",
    "In order to perform calculations for different $T$, we will initiate the IR basis with a $\\Lambda = \\beta_{\\mathrm{max}}\\omega_{\\mathrm{max}}$ that is sufficient for the lowest temperature $T_{\\mathrm{min}} = 1/\\beta_{\\mathrm{max}}$ we plan to do calculations for. Since $T$ changes, we have to recalculate the IR basis set instance for every step. We start from high $T$ and lower its value and initialize each $T$ calculation by using the previously converged solution, since it does not change drastically and speeds up convergence.\n",
    "\n",
    "You can simply execute the following two code blocks which will first perform the calculation and then generate a figure similar to those in the references above."
   ]
  },
  {
   "cell_type": "code",
   "execution_count": 12,
   "id": "e56d2a8d",
   "metadata": {
    "tags": [
     "output_scroll"
    ]
   },
   "outputs": [
    {
     "name": "stdout",
     "output_type": "stream",
     "text": [
      "Initialization..."
     ]
    },
    {
     "name": "stdout",
     "output_type": "stream",
     "text": [
      "\n"
     ]
    },
    {
     "name": "stdout",
     "output_type": "stream",
     "text": [
      "Now: T = 0.08"
     ]
    },
    {
     "name": "stdout",
     "output_type": "stream",
     "text": [
      "\n"
     ]
    },
    {
     "name": "stdout",
     "output_type": "stream",
     "text": [
      "WARNING: U is too large and the spin susceptibility denominator will diverge/turn unphysical!"
     ]
    },
    {
     "name": "stdout",
     "output_type": "stream",
     "text": [
      "\n"
     ]
    },
    {
     "name": "stdout",
     "output_type": "stream",
     "text": [
      "Initiate U renormalization loop."
     ]
    },
    {
     "name": "stdout",
     "output_type": "stream",
     "text": [
      "\n"
     ]
    },
    {
     "name": "stdout",
     "output_type": "stream",
     "text": [
      "1"
     ]
    },
    {
     "name": "stdout",
     "output_type": "stream",
     "text": [
      " "
     ]
    },
    {
     "name": "stdout",
     "output_type": "stream",
     "text": [
      "2.28714673011819"
     ]
    },
    {
     "name": "stdout",
     "output_type": "stream",
     "text": [
      " "
     ]
    },
    {
     "name": "stdout",
     "output_type": "stream",
     "text": [
      "4"
     ]
    },
    {
     "name": "stdout",
     "output_type": "stream",
     "text": [
      "\n"
     ]
    },
    {
     "name": "stdout",
     "output_type": "stream",
     "text": [
      "2"
     ]
    },
    {
     "name": "stdout",
     "output_type": "stream",
     "text": [
      " "
     ]
    },
    {
     "name": "stdout",
     "output_type": "stream",
     "text": [
      "2.485684699365735"
     ]
    },
    {
     "name": "stdout",
     "output_type": "stream",
     "text": [
      " "
     ]
    },
    {
     "name": "stdout",
     "output_type": "stream",
     "text": [
      "4"
     ]
    },
    {
     "name": "stdout",
     "output_type": "stream",
     "text": [
      "\n"
     ]
    },
    {
     "name": "stdout",
     "output_type": "stream",
     "text": [
      "3"
     ]
    },
    {
     "name": "stdout",
     "output_type": "stream",
     "text": [
      " "
     ]
    },
    {
     "name": "stdout",
     "output_type": "stream",
     "text": [
      "2.6890779957464392"
     ]
    },
    {
     "name": "stdout",
     "output_type": "stream",
     "text": [
      " "
     ]
    },
    {
     "name": "stdout",
     "output_type": "stream",
     "text": [
      "4"
     ]
    },
    {
     "name": "stdout",
     "output_type": "stream",
     "text": [
      "\n"
     ]
    },
    {
     "name": "stdout",
     "output_type": "stream",
     "text": [
      "4"
     ]
    },
    {
     "name": "stdout",
     "output_type": "stream",
     "text": [
      " "
     ]
    },
    {
     "name": "stdout",
     "output_type": "stream",
     "text": [
      "2.8952475057705755"
     ]
    },
    {
     "name": "stdout",
     "output_type": "stream",
     "text": [
      " "
     ]
    },
    {
     "name": "stdout",
     "output_type": "stream",
     "text": [
      "4"
     ]
    },
    {
     "name": "stdout",
     "output_type": "stream",
     "text": [
      "\n"
     ]
    },
    {
     "name": "stdout",
     "output_type": "stream",
     "text": [
      "5"
     ]
    },
    {
     "name": "stdout",
     "output_type": "stream",
     "text": [
      " "
     ]
    },
    {
     "name": "stdout",
     "output_type": "stream",
     "text": [
      "3.1004194299774643"
     ]
    },
    {
     "name": "stdout",
     "output_type": "stream",
     "text": [
      " "
     ]
    },
    {
     "name": "stdout",
     "output_type": "stream",
     "text": [
      "4"
     ]
    },
    {
     "name": "stdout",
     "output_type": "stream",
     "text": [
      "\n"
     ]
    },
    {
     "name": "stdout",
     "output_type": "stream",
     "text": [
      "6"
     ]
    },
    {
     "name": "stdout",
     "output_type": "stream",
     "text": [
      " "
     ]
    },
    {
     "name": "stdout",
     "output_type": "stream",
     "text": [
      "3.3068378712661173"
     ]
    },
    {
     "name": "stdout",
     "output_type": "stream",
     "text": [
      " "
     ]
    },
    {
     "name": "stdout",
     "output_type": "stream",
     "text": [
      "4"
     ]
    },
    {
     "name": "stdout",
     "output_type": "stream",
     "text": [
      "\n"
     ]
    },
    {
     "name": "stdout",
     "output_type": "stream",
     "text": [
      "7"
     ]
    },
    {
     "name": "stdout",
     "output_type": "stream",
     "text": [
      " "
     ]
    },
    {
     "name": "stdout",
     "output_type": "stream",
     "text": [
      "3.515636902892633"
     ]
    },
    {
     "name": "stdout",
     "output_type": "stream",
     "text": [
      " "
     ]
    },
    {
     "name": "stdout",
     "output_type": "stream",
     "text": [
      "4"
     ]
    },
    {
     "name": "stdout",
     "output_type": "stream",
     "text": [
      "\n"
     ]
    },
    {
     "name": "stdout",
     "output_type": "stream",
     "text": [
      "8"
     ]
    },
    {
     "name": "stdout",
     "output_type": "stream",
     "text": [
      " "
     ]
    },
    {
     "name": "stdout",
     "output_type": "stream",
     "text": [
      "3.727284321288255"
     ]
    },
    {
     "name": "stdout",
     "output_type": "stream",
     "text": [
      " "
     ]
    },
    {
     "name": "stdout",
     "output_type": "stream",
     "text": [
      "4"
     ]
    },
    {
     "name": "stdout",
     "output_type": "stream",
     "text": [
      "\n"
     ]
    },
    {
     "name": "stdout",
     "output_type": "stream",
     "text": [
      "9"
     ]
    },
    {
     "name": "stdout",
     "output_type": "stream",
     "text": [
      " "
     ]
    },
    {
     "name": "stdout",
     "output_type": "stream",
     "text": [
      "3.9417172671576335"
     ]
    },
    {
     "name": "stdout",
     "output_type": "stream",
     "text": [
      " "
     ]
    },
    {
     "name": "stdout",
     "output_type": "stream",
     "text": [
      "4"
     ]
    },
    {
     "name": "stdout",
     "output_type": "stream",
     "text": [
      "\n"
     ]
    },
    {
     "name": "stdout",
     "output_type": "stream",
     "text": [
      "Leaving U renormalization..."
     ]
    },
    {
     "name": "stdout",
     "output_type": "stream",
     "text": [
      "\n"
     ]
    },
    {
     "name": "stdout",
     "output_type": "stream",
     "text": [
      "FLEX loop converged at desired accuracy"
     ]
    },
    {
     "name": "stdout",
     "output_type": "stream",
     "text": [
      "\n"
     ]
    },
    {
     "name": "stdout",
     "output_type": "stream",
     "text": [
      "Now: T = 0.07"
     ]
    },
    {
     "name": "stdout",
     "output_type": "stream",
     "text": [
      "\n"
     ]
    },
    {
     "name": "stdout",
     "output_type": "stream",
     "text": [
      "FLEX loop converged at desired accuracy"
     ]
    },
    {
     "name": "stdout",
     "output_type": "stream",
     "text": [
      "\n"
     ]
    },
    {
     "name": "stdout",
     "output_type": "stream",
     "text": [
      "Now: T = 0.06"
     ]
    },
    {
     "name": "stdout",
     "output_type": "stream",
     "text": [
      "\n"
     ]
    },
    {
     "name": "stdout",
     "output_type": "stream",
     "text": [
      "FLEX loop converged at desired accuracy"
     ]
    },
    {
     "name": "stdout",
     "output_type": "stream",
     "text": [
      "\n"
     ]
    },
    {
     "name": "stdout",
     "output_type": "stream",
     "text": [
      "Now: T = 0.05"
     ]
    },
    {
     "name": "stdout",
     "output_type": "stream",
     "text": [
      "\n"
     ]
    },
    {
     "name": "stdout",
     "output_type": "stream",
     "text": [
      "FLEX loop converged at desired accuracy"
     ]
    },
    {
     "name": "stdout",
     "output_type": "stream",
     "text": [
      "\n"
     ]
    },
    {
     "name": "stdout",
     "output_type": "stream",
     "text": [
      "Now: T = 0.04"
     ]
    },
    {
     "name": "stdout",
     "output_type": "stream",
     "text": [
      "\n"
     ]
    },
    {
     "name": "stdout",
     "output_type": "stream",
     "text": [
      "FLEX loop converged at desired accuracy"
     ]
    },
    {
     "name": "stdout",
     "output_type": "stream",
     "text": [
      "\n"
     ]
    },
    {
     "name": "stdout",
     "output_type": "stream",
     "text": [
      "Now: T = 0.03"
     ]
    },
    {
     "name": "stdout",
     "output_type": "stream",
     "text": [
      "\n"
     ]
    },
    {
     "name": "stdout",
     "output_type": "stream",
     "text": [
      "FLEX loop converged at desired accuracy"
     ]
    },
    {
     "name": "stdout",
     "output_type": "stream",
     "text": [
      "\n"
     ]
    },
    {
     "name": "stdout",
     "output_type": "stream",
     "text": [
      "Now: T = 0.025"
     ]
    },
    {
     "name": "stdout",
     "output_type": "stream",
     "text": [
      "\n"
     ]
    },
    {
     "name": "stdout",
     "output_type": "stream",
     "text": [
      "FLEX loop converged at desired accuracy"
     ]
    },
    {
     "name": "stdout",
     "output_type": "stream",
     "text": [
      "\n"
     ]
    }
   ],
   "source": [
    "#%%%%%%%%%%%%%%% Parameter settings\n",
    "print('Initialization...')\n",
    "# system parameters\n",
    "t    = 1      # hopping amplitude\n",
    "n    = 0.85   # electron filling, here per spin per lattice site (n=1: half filling)\n",
    "U    = 4      # Hubbard interaction\n",
    "\n",
    "W    = 8*t    # bandwidth\n",
    "wmax = 10     # set wmax >= W\n",
    "T_values = np.array([0.08,0.07,0.06,0.05,0.04,0.03,0.025])   # temperature\n",
    "\n",
    "# numerical parameters\n",
    "nk1, nk2  = 64, 64    # k-mesh sufficiently dense!\n",
    "nk        = nk1*nk2\n",
    "IR_Lambda = 10**3     # dimensionless IR parameter >= w_max * beta_min = 400\n",
    "IR_tol    = 1e-8      # accuary for l-cutoff of IR basis functions\n",
    "sfc_tol   = 1e-4      # accuracy for self-consistent iteration\n",
    "it_max    = 30        # maximal number of iterations in self-consistent cycle\n",
    "mix       = 0.2       # mixing parameter for new \n",
    "U_it_max  = 50        # maximal number of iteration steps in U renormalization loop\n",
    "\n",
    "# initialize first IR basis set (no recalculation afterwrds)\n",
    "beta_init = 1/T_values[0]\n",
    "IR_basis_set = sparse_ir.FiniteTempBasisSet(beta_init, IR_Lambda/beta_init, eps=IR_tol)\n",
    "\n",
    "# set initial self_energy - will be set to previous calculation step afterwards\n",
    "sigma_init = 0\n",
    "\n",
    "# empty arrays for results\n",
    "lam_T     = np.empty((len(T_values)))\n",
    "chiSmax_T = np.empty((len(T_values)))\n",
    "\n",
    "\n",
    "#%%%%%%%%%%%%%%% Calculations for different T values\n",
    "for T_it, T in enumerate(T_values):\n",
    "    print(\"Now: T = {}\".format(T))\n",
    "    beta = 1/T\n",
    "\n",
    "    # initialize meshes\n",
    "    IR_basis_set = sparse_ir.FiniteTempBasisSet(beta, IR_Lambda/beta, eps=IR_tol, sve_result=IR_basis_set.sve_result)\n",
    "    mesh = Mesh(IR_basis_set, nk1, nk2)\n",
    "    \n",
    "    # calculate FLEX loop\n",
    "    solver = FLEXSolver(mesh, U, n, sigma_init=sigma_init, sfc_tol=sfc_tol, \n",
    "                        maxiter=maxiter, U_maxiter=U_maxiter, mix=mix, verbose=False)\n",
    "    solver.solve()\n",
    "    sigma_init = solver.sigma\n",
    "\n",
    "    # calculate linearized gap equation\n",
    "    gap_solver = LinearizedGapSolver(solver, maxiter=maxiter, sfc_tol=sfc_tol, verbose=False)\n",
    "    gap_solver.solve()\n",
    "    \n",
    "    # save data for plotting\n",
    "    lam_T[T_it] = gap_solver.lam#\n",
    "    chiSmax_T[T_it] = np.real(np.amax(solver.chi_spin))\n",
    "    \n",
    "    if T == 0.03:\n",
    "        chi_s_plt = np.real(solver.chi_spin)[mesh.iw0_b].reshape(mesh.nk1,mesh.nk2)"
   ]
  },
  {
   "cell_type": "code",
   "execution_count": 13,
   "id": "0e77c261",
   "metadata": {},
   "outputs": [
    {
     "data": {
      "image/png": "[encoded data removed]",
      "text/plain": [
       "<Figure size 720x288 with 2 Axes>"
      ]
     },
     "metadata": {
      "filenames": {
       "image/png": "/Users/hiroshi/git/papers/sparse-ir-tutorial/_build/jupyter_execute/src/FLEX_py_24_0.png"
      },
      "needs_background": "light"
     },
     "output_type": "display_data"
    }
   ],
   "source": [
    "#%%%%%%%%%%%%%%%% Plot results in a combined figure\n",
    "import matplotlib.gridspec as gridspec\n",
    "\n",
    "fig   = plt.figure(figsize=(10,4),constrained_layout=True)\n",
    "spec  = gridspec.GridSpec(ncols=2, nrows=1, figure=fig)\n",
    "f_ax1 = fig.add_subplot(spec[0, 0])\n",
    "f_ax2 = fig.add_subplot(spec[0, 1])\n",
    "\n",
    "# first panel with momentum dependence of static spin susceptibility\n",
    "k_HSP = np.concatenate((np.linspace(0,1,mesh.nk1//2),\n",
    "                        np.linspace(1,2,mesh.nk2//2),\n",
    "                        np.linspace(2,2+np.sqrt(2),mesh.nk1//2)))\n",
    "chi_s_HSP = np.concatenate((chi_s_plt[:mesh.nk1//2, 0],\n",
    "                          chi_s_plt[mesh.nk1//2, :mesh.nk2//2],\n",
    "                          [chi_s_plt[it,it] for it in range(mesh.nk1//2)][::-1]))\n",
    "\n",
    "f_ax1.plot(k_HSP, chi_s_HSP,'-')\n",
    "f_ax1.set_xlim([0,2+np.sqrt(2)])\n",
    "f_ax1.set_xticks([0,1,2,2+np.sqrt(2)])\n",
    "f_ax1.set_xticklabels(['$\\Gamma$','X','M','$\\Gamma$'])\n",
    "f_ax1.set_ylim([0,26])\n",
    "f_ax1.set_xlabel('')\n",
    "f_ax1.set_ylabel('$\\\\chi_{\\\\mathrm{s}}(i\\\\nu=0,{\\\\bf{q}})$', fontsize=14)\n",
    "f_ax1.grid()\n",
    "\n",
    "# second panel with T-dependence of lambda_d and 1/chi_s,max\n",
    "f_ax2.plot(T_values, lam_T, '-x', label='$\\lambda_d$')\n",
    "f_ax2.plot(T_values, 1/chiSmax_T, '-x', label='$1/\\chi_{\\mathrm{s},\\mathrm{max}}$')\n",
    "f_ax2.set_xlim([0.01,0.08])\n",
    "f_ax2.set_ylim([0,1])\n",
    "f_ax2.set_xlabel('$T/t$', fontsize=14)\n",
    "f_ax2.set_ylabel('$\\lambda_d$, $1/\\chi_{\\mathrm{s},\\mathrm{max}}$', fontsize=14)\n",
    "f_ax2.legend()\n",
    "f_ax2.grid()\n",
    "plt.show()"
   ]
  },
  {
   "cell_type": "code",
   "execution_count": null,
   "id": "1301079c",
   "metadata": {},
   "outputs": [],
   "source": []
  }
 ],
 "metadata": {
  "jupytext": {
   "formats": "ipynb,md:myst",
   "text_representation": {
    "extension": ".md",
    "format_name": "myst"
   }
  },
  "kernelspec": {
   "display_name": "Python 3",
   "language": "python",
   "name": "python3"
  },
  "language_info": {
   "codemirror_mode": {
    "name": "ipython",
    "version": 3
   },
   "file_extension": ".py",
   "mimetype": "text/x-python",
   "name": "python",
   "nbconvert_exporter": "python",
   "pygments_lexer": "ipython3",
   "version": "3.9.12"
  },
  "source_map": [
   11,
   69,
   74,
   82,
   86,
   105,
   111,
   179,
   184,
   346,
   350,
   362,
   366,
   380,
   392,
   429,
   437,
   509,
   513,
   519,
   523,
   549,
   562,
   571,
   634,
   672
  ]
 },
 "nbformat": 4,
 "nbformat_minor": 5
}