{
 "cells": [
  {
   "cell_type": "markdown",
   "id": "bef21f2e",
   "metadata": {},
   "source": [
    "# DMFT calculation with IPT\n",
    "Author: [Fumiya KAKIZAWA](mailto:f.kakizawa.178@ms.saitama-u.ac.jp), [Rihito SAKURAI](mailto:sakurairihito@gmail.com), [Hiroshi SHINAOKA](mailto:h.shinaoka@gmail.com)\n",
    "\n",
    "## Theory\n",
    "\n",
    "### Self-consistent equation\n",
    "We will solve the Hubbard model using the dynamical mean-field theory (DMFT) [1].\n",
    "We compute a paramagnetic soluation assuming the non-interacting semi-circular density of state\n",
    "\n",
    "$$\n",
    "    \\rho(\\omega) = \\frac{\\sqrt{4-\\omega^2}}{2\\pi}.\n",
    "$$\n",
    "\n",
    "at half filling.\n",
    "\n",
    "The self-consistent equations to be solved are\n",
    "\n",
    "$$\n",
    "    G_{\\mathrm{loc}}(\\mathrm{i}\\omega_n) = \\int d\\omega \\frac{\\rho(\\omega)}{\\mathrm{i}\\omega_n-\\omega-\\Sigma(\\mathrm{i}\\omega_n)}, \n",
    "$$\n",
    "\n",
    "$$\n",
    "    \\mathcal{G}^{-1}(\\mathrm{i}\\omega_n) = G_{\\mathrm{loc}}^{-1}(\\mathrm{i}\\omega_n) + \\Sigma(\\mathrm{i}\\omega_n),\n",
    "$$\n",
    "\n",
    "$$\n",
    "    \\Sigma(\\tau) = U^2\\mathcal{G}^2(\\tau)\\mathcal{G}(\\beta-\\tau),\n",
    "$$\n",
    "\n",
    "where $G_{\\mathrm{loc}}$ is the local Green function, $\\omega_n$ is a fermionic Matsubara frequency, $\\Sigma$ is the self-energy (excluding the Hartree term),\n",
    "$\\mathcal{G}$ is the cavity Green function,\n",
    "$U$ is the onsite-Coulomb interaction,\n",
    "$\\tau$ is imaginary time, $\\beta$ is the inverse temperature.\n",
    "Here, we compute the self-energy within the interative perturbation theory (IPT) [1].\n",
    "\n",
    "### Renormalization factors\n",
    "\n",
    "The Mott transition can be detected by monitoring the renormalization factor\n",
    "\n",
    "$$\n",
    "z = \\frac{1}{1-\\frac{\\partial \\Sigma(\\omega+\\mathrm{i}0^+)}{\\partial \\omega}}\\Big|_{\\omega=0} \\approx \\frac{1}{1 - \\frac{\\Sigma(\\mathrm{i}\\omega_1)-\\Sigma(\\mathrm{i}\\omega_0)}{\\mathrm{i}\\omega_1 - \\mathrm{i}\\omega_0 }}.\n",
    "$$\n",
    "\n",
    "In the non-interacting limit $U\\rightarrow 0$, we have $z\\rightarrow 1$. Correlation effects reduce $z$ as $z < 1$.\n",
    "\n",
    "[1] A. Georges and G. Kotliar, Phys. Rev. B 45, 6479 (1992)"
   ]
  },
  {
   "cell_type": "markdown",
   "id": "497bbd10",
   "metadata": {},
   "source": [
    "## Implmementation"
   ]
  },
  {
   "cell_type": "code",
   "execution_count": null,
   "id": "12d054c1",
   "metadata": {},
   "outputs": [],
   "source": [
    "using OMEinsum\n",
    "using FastGaussQuadrature\n",
    "using SparseIR\n",
    "using LaTeXStrings\n",
    "using Plots"
   ]
  },
  {
   "cell_type": "markdown",
   "id": "93fa4cd4",
   "metadata": {},
   "source": [
    "### Non-interacting DOS"
   ]
  },
  {
   "cell_type": "code",
   "execution_count": null,
   "id": "32686d2d",
   "metadata": {},
   "outputs": [],
   "source": [
    "\"\"\"\n",
    "Compute spectral function rho(omega)\n",
    "\"\"\"\n",
    "rho_omega(omega::Float64) = abs(omega) <= 2 ? sqrt(4 - omega^2) / (2*pi) : 0.0\n",
    "\n",
    "num_omega = 100\n",
    "omegas = collect(range(-2.5, 2.5, length=num_omega))\n",
    "rho = rho_omega.(omegas)\n",
    "p = plot(xlabel=\"\\$\\\\omega\\$\", ylabel = \"\\$\\\\rho(\\\\omega)\\$\", size=(400,300))\n",
    "plot!(omegas, rho, label=nothing)"
   ]
  },
  {
   "cell_type": "markdown",
   "id": "50c1766d",
   "metadata": {},
   "source": [
    "### Self-consistent equation"
   ]
  },
  {
   "cell_type": "code",
   "execution_count": null,
   "id": "27c1cd1d",
   "metadata": {},
   "outputs": [],
   "source": [
    "\"\"\"\n",
    "Gauss-Legendre quadrature rule of degree `deg` for the interval [xmin, xmax]\n",
    "\"\"\"\n",
    "function _gausslegendre(deg::Int, xmin::Float64, xmax::Float64)\n",
    "    @assert xmin < xmax\n",
    "    x, w = gausslegendre(deg)\n",
    "    dx = xmax - xmin\n",
    "    w_ = 0.5 * dx * w\n",
    "    x_ = (0.5 * dx) * (x .+ 1) .+ xmin\n",
    "    return x_, w_\n",
    "end\n",
    ";"
   ]
  },
  {
   "cell_type": "code",
   "execution_count": null,
   "id": "049b36c8",
   "metadata": {},
   "outputs": [],
   "source": [
    "\"\"\"\n",
    "Solver\n",
    "\"\"\"\n",
    "struct IPTSolver\n",
    "    U::Float64\n",
    "    basis::FiniteTempBasis{LogisticKernel, Float64}\n",
    "    beta::Float64\n",
    "    rho_omega::Function\n",
    "    omega_range::Tuple{Float64,Float64}\n",
    "    quad_rule::Tuple{Vector{Float64}, Vector{Float64}}\n",
    "    smpl_matsu::MatsubaraSampling64\n",
    "    smpl_tau::TauSampling64\n",
    "\n",
    "    function IPTSolver(U::Float64, basis, rho::Function,\n",
    "        omega_range::Tuple{Float64,Float64}, deg_leggaus::Int64=100)\n",
    "\n",
    "        quad_rule = _gausslegendre(deg_leggaus, omega_range...)\n",
    "        smpl_matsu = MatsubaraSampling(basis)\n",
    "        smpl_tau = TauSampling(basis)\n",
    "\n",
    "        new(U, basis, SparseIR.getbeta(basis), rho_omega, omega_range, quad_rule, smpl_matsu, smpl_tau)\n",
    "    end\n",
    "end\n",
    ";"
   ]
  },
  {
   "cell_type": "code",
   "execution_count": null,
   "id": "4eb1ef62",
   "metadata": {},
   "outputs": [],
   "source": [
    "\"\"\" Solve Dyason equation: Compute G_loc(iv) from Sigma_iv \"\"\"\n",
    "function compute_gloc_iv(solver::IPTSolver, sigma_iv::Vector{Complex{Float64}})\n",
    "    iv = 1im .* solver.smpl_matsu.sampling_points .* π / solver.beta\n",
    "    newaxis = [CartesianIndex()]\n",
    "    gloc_iv = ein\"q,q,wq->w\"(\n",
    "            solver.quad_rule[2],\n",
    "            solver.rho_omega.(solver.quad_rule[1]),\n",
    "            1 ./ ((iv .- sigma_iv)[:, newaxis] .- solver.quad_rule[1][newaxis, :])\n",
    "        )\n",
    "    return gloc_iv\n",
    "end\n",
    "\n",
    "\"\"\" Compute IPT Sigma(iv) from mathcal{G}(iv)\"\"\"\n",
    "function compute_sigma_iv(solver::IPTSolver, g0_iv::Vector{ComplexF64})\n",
    "    g0_IR = fit(solver.smpl_matsu, g0_iv, dim=1)\n",
    "    g0_tau = evaluate(solver.smpl_tau, g0_IR)\n",
    "    sigma_tau = (solver.U)^2 .* (g0_tau).^2 .* g0_tau[end:-1:1]\n",
    "    sigma_IR = fit(solver.smpl_tau, sigma_tau)\n",
    "    return evaluate(solver.smpl_matsu, sigma_IR, dim=1)\n",
    "end\n",
    "\n",
    "\"\"\" Perform one self-consistent loop \"\"\"\n",
    "function onestep(solver::IPTSolver, sigma_iv::Vector{Complex{Float64}})\n",
    "    gloc_iv = compute_gloc_iv(solver, sigma_iv)\n",
    "    g0_iv = 1 ./ ((1 ./gloc_iv) .+ sigma_iv)\n",
    "    return compute_sigma_iv(solver, g0_iv)\n",
    "end\n",
    ";"
   ]
  },
  {
   "cell_type": "markdown",
   "id": "f9c90488",
   "metadata": {},
   "source": [
    "### Computation of renormalization factors"
   ]
  },
  {
   "cell_type": "code",
   "execution_count": null,
   "id": "d2dcde26",
   "metadata": {},
   "outputs": [],
   "source": [
    "function renormalization_factor(solver::IPTSolver, sigma_iv0::Union{Nothing,Vector{ComplexF64}}, nitr::Int, mixing::Float64)\n",
    "    # Initialize sigma_iv\n",
    "    if isnothing(sigma_iv0)\n",
    "        sigma_iv = zeros(ComplexF64,length(solver.smpl_matsu.sampling_points))\n",
    "    else\n",
    "        sigma_iv = copy(sigma_iv0)\n",
    "    end\n",
    "\n",
    "    # mixing sigma_iv with new_sigma_iv\n",
    "    for i in 1:nitr\n",
    "        new_sigma_iv = onestep(solver,sigma_iv)\n",
    "        rdiff = maximum(abs.(new_sigma_iv .- sigma_iv)) / maximum(abs.(sigma_iv))\n",
    "        if rdiff < 1e-5\n",
    "            break\n",
    "        end\n",
    "        sigma_iv = mixing .* new_sigma_iv .+ (1-mixing) .* sigma_iv\n",
    "    end\n",
    "\n",
    "    center = Int(length(sigma_iv)/2) + 1 # julia \n",
    "    delta_sigma_iv = imag(sigma_iv[center]-sigma_iv[center-1])\n",
    "    delta_sampling_points = solver.smpl_matsu.sampling_points[center] - solver.smpl_matsu.sampling_points[center-1] \n",
    "    inv_z = 1 - delta_sigma_iv/delta_sampling_points\n",
    "\n",
    "    return 1/inv_z, sigma_iv\n",
    "end\n",
    ";"
   ]
  },
  {
   "cell_type": "code",
   "execution_count": null,
   "id": "938ace4d",
   "metadata": {},
   "outputs": [],
   "source": [
    "function sweepU(basis::FiniteTempBasis{LogisticKernel, Float64}, D::Float64, U_range::Vector{Float64}, rho_omega::Function, omega_range::Tuple{Float64, Float64}, nitr::Int, mixing::Float64)\n",
    "    Z = Float64[]\n",
    "    sigma_history = []\n",
    "    for iu in U_range\n",
    "        solver = IPTSolver(iu, basis, rho_omega, omega_range)\n",
    "        sigma_iv0 = length(sigma_history) > 0 ? sigma_history[end][1] : nothing\n",
    "        z, sigma_ = renormalization_factor(solver, sigma_iv0, nitr, mixing)\n",
    "        push!(sigma_history, (sigma_,solver.smpl_matsu.sampling_points))\n",
    "        if abs(z) > 1e-10\n",
    "            push!(Z, z)\n",
    "        else\n",
    "            break\n",
    "        end\n",
    "    end\n",
    "\n",
    "    return Z, sigma_history\n",
    "end\n",
    "\n",
    "# Setup parameters\n",
    "D = 2.0\n",
    "temp = 0.1 / D\n",
    "beta = 1 / temp\n",
    "wmax = 10.0 * D\n",
    "lambda = beta * wmax\n",
    "eps = 1e-7\n",
    "wmax = lambda / beta\n",
    "basis = FiniteTempBasis(fermion, beta, wmax, eps)\n",
    "\n",
    "# Perform a sweep by increasing U\n",
    "num_U = 20\n",
    "U_min = 5 / D\n",
    "U_max = 6.5 / D\n",
    "U_range = 2 .* collect(range(U_min, U_max, num_U))\n",
    "omega_range = (-2.0, 2.0)\n",
    "nitr = 1000\n",
    "mixing = 0.1\n",
    "Z, sigma_history = sweepU(basis, D, U_range, rho_omega, omega_range, nitr, mixing);"
   ]
  },
  {
   "cell_type": "markdown",
   "id": "e143aa3c",
   "metadata": {},
   "source": [
    "### Visualization"
   ]
  },
  {
   "cell_type": "code",
   "execution_count": null,
   "id": "2a0f28f2",
   "metadata": {},
   "outputs": [],
   "source": [
    "sigma = imag.(sigma_history[begin][1])\n",
    "v = sigma_history[begin][2]*pi*beta\n",
    "p1 = plot(xlabel=\"\\$\\\\nu\\$\", ylabel = \"\\$\\\\mathrm{Im}\\\\ \\\\Sigma(\\\\mathrm{i}\\\\nu)\\$\",\n",
    "        title=latexstring(\"U=$(U_range[begin]),T=0.05\"), size=(400,500))\n",
    "plot!(v, sigma, marker=:circle, label=nothing)\n",
    "\n",
    "sigma = imag.(sigma_history[end][1])\n",
    "v = sigma_history[end][2]*pi*beta\n",
    "p2 = plot(xlabel=\"\\$\\\\nu\\$\", ylabel = \"\\$\\\\mathrm{Im}\\\\ \\\\Sigma(\\\\mathrm{i}\\\\nu)\\$\",\n",
    "        title=latexstring(\"U=$(U_range[end]),T=0.05\"), size=(400,500))\n",
    "plot!(v, sigma, marker=:circle, label=nothing)\n",
    "\n",
    "plot(p1,p2,layout=(2,1))"
   ]
  },
  {
   "cell_type": "code",
   "execution_count": null,
   "id": "162b6d9f",
   "metadata": {},
   "outputs": [],
   "source": [
    "p = plot(xlabel=\"\\$U\\$\", ylabel = \"\\$z=(1-\\\\frac{\\\\partial \\\\Sigma}{\\\\partial \\\\omega})^{-1}\\$\",\n",
    "        title=latexstring(\"T=0.05\"), size=(400,300))\n",
    "plot!(U_range, Z, marker=:circle, label=nothing)"
   ]
  },
  {
   "cell_type": "code",
   "execution_count": null,
   "id": "f51a383a",
   "metadata": {},
   "outputs": [],
   "source": []
  }
 ],
 "metadata": {
  "jupytext": {
   "formats": "ipynb,md:myst"
  },
  "kernelspec": {
   "display_name": "Julia 1.7",
   "language": "julia",
   "name": "julia-1.7"
  }
 },
 "nbformat": 4,
 "nbformat_minor": 5
}
