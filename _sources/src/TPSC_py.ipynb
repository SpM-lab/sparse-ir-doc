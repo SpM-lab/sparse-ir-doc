{
 "cells": [
  {
   "cell_type": "markdown",
   "id": "69769c95",
   "metadata": {},
   "source": [
    "# TPSC approximation\n",
    "Author: [Niklas Witt](mailto:niklas.witt@physik.uni-hamburg.de)\n",
    "\n",
    "## Theory of TPSC\n",
    "\n",
    "The Two-Particle Self-Consistent (TPSC) approximation is a non-perturbative semi-analytical method that was first introduced by Vilk and Tremblay {cite:p}`Vilk1997`. TPSC can be used to study magnetic fluctuations, while it also obeys the Mermin-Wagner theorem in two dimensions, i.e., a phase transtition at finite temperatures is prohibited. In addition, the TPSC method satisfies several conservation laws, sum rules and the Pauli principle (actually, it is constructed in a way to fulfill these, since they are used to determine model parameters self-consistently). TPSC is applicable in the weak to intermediate coupling regime, but it breaks down in the strong coupling regime and it cannot describe the Mott transition unlike other non-perturbative methods like Dynamical Mean-Field Theory (DMFT).\n",
    "\n",
    "For a (pedagogical) review, please have a look at {cite:p}`Allen2004,Trembley2012` for the single-orbital case implemented here and {cite:p}`Zantout2021` for the more complex multi-orbital theory.\n",
    "\n",
    "\n",
    "#### Set of TPSC equations\n",
    "We review the set of equations that need to be solved in the TPSC approximation assuming a one-band Hubbard model with interaction $U$ (it is not so easy to extend TPSC to models with more parameters, since sum rules to determine the additional parameters self-consistently need to be found) in the paramagnetic phase (SU(2) symmetric), i.e., $n = \\langle n\\rangle = 2n_{\\sigma}$ for the electron filling $n$. TPSC is constructed in a way to fulfill certain sum rules and the Pauli principle in the form $\\langle n^2\\rangle = \\langle n\\rangle$. The control quantitites are spin and charge correlation function (susceptibilities) which are evaluated in a Random-Phase-Approximation (RPA) like fashion\n",
    "\n",
    "$$ \\chi_{\\mathrm{sp}}^{\\mathrm{RPA}}(i\\nu_m, \\boldsymbol{q}) = \\frac{\\chi_0(i\\nu_m, \\boldsymbol{q})}{1-U\\chi_0(i\\nu_m, \\boldsymbol{q})}\\;,\\quad \\chi_{\\mathrm{ch}}^{\\mathrm{RPA}}(i\\nu_m, \\boldsymbol{q}) = \\frac{\\chi_0(i\\nu_m, \\boldsymbol{q})}{1+U\\chi_0(i\\nu_m, \\boldsymbol{q})} $$\n",
    "\n",
    "with the irreducible susceptibility (\"bubble diagram\")\n",
    "\n",
    "$$ \\chi_0(i\\nu_m, \\boldsymbol{q}) = - \\frac{T}{N_{\\boldsymbol{k}}} \\sum_{n,\\boldsymbol{k}} G(i\\omega_n + i\\nu_m, \\boldsymbol{k} + \\boldsymbol{q})G(i\\omega_n, \\boldsymbol{k})\\;,$$\n",
    "\n",
    "where $i\\nu_m = 2n\\pi T$ [$i\\omega_n=(2n+1)\\pi T$] and $\\boldsymbol{q}$ [$\\boldsymbol{k}$] are bosonic [fermionic] Matsubara frequencies and momentum at temperature $T$, $N_{\\boldsymbol{k}}$ denotes the number of $\\boldsymbol{k}$-points, and $G_0(i\\omega_n,\\boldsymbol{k}) = [i\\omega_n - (\\varepsilon_{\\boldsymbol{k}}-\\mu)]^{-1}$ is the bare (non-interacting) Green function with with single-particle dispersion $\\varepsilon_{\\boldsymbol{k}}$ and chemical potential $\\mu$. Please note that sometimes a factor of 2 is included in the definition of $\\chi_0$ leading to slightly different factors in all equations given here. The convolution sum to calculate $\\chi_0$ can be easily evaluated by Fourier transforming to imaginary time and real space, resulting in a simple multiplication\n",
    "\n",
    "$$ \\chi_0(\\tau, \\boldsymbol{r}) = - G(\\tau, \\boldsymbol{r})G(-\\tau,-\\boldsymbol{r}) = G(\\tau, \\boldsymbol{r})G(\\beta-\\tau,\\boldsymbol{r})\\;.$$\n",
    "\n",
    "In our practical implementation, we will perform this step using the `sparse-ir` package. A similar calculation is necessary to set the chemical potential $\\mu$ for fixed electron density $n$, as \n",
    "\n",
    "$$ n = 2n_{\\sigma} = 2 - \\frac{2}{N_{\\boldsymbol{k}}} \\sum_{\\boldsymbol{k}} G(\\tau=0^+, \\boldsymbol{k}) $$\n",
    "\n",
    "with a factor 2 from spin degeneracy and $0^+ = \\lim_{\\eta\\to 0+} \\eta$ needs to be solved by using some root finding algorithm like bisection method or Brent's method. The Fourier transformation to $\\tau=0^+$ can be easily performed with the `sparse-ir` package.\n",
    "\n",
    "The above RPA definition of spin and charge susceptibility violate the Pauli principle. In TPSC, we overcome this problem by introducing two effective, renormalized interactions (\"irreducible vertices\") $U_{\\mathrm{sp}}$ and $U_{\\mathrm{ch}}$ that enter spin and charge correlation functions as \n",
    "\n",
    "$$ \\chi_{\\mathrm{sp}}(i\\nu_m, \\boldsymbol{q}) = \\frac{\\chi_0(i\\nu_m, \\boldsymbol{q})}{1-U_{\\mathrm{sp}}\\chi_0(i\\nu_m, \\boldsymbol{q})}\\;,\\quad \\chi_{\\mathrm{ch}}(i\\nu_m, \\boldsymbol{q}) = \\frac{\\chi_0(i\\nu_m, \\boldsymbol{q})}{1+U_{\\mathrm{ch}}\\chi_0(i\\nu_m, \\boldsymbol{q})}\\,. $$\n",
    "\n",
    "These two effetive interactions are determined by the two local sum rules \n",
    "\n",
    "$$\n",
    "\\begin{align}\n",
    "    2 \\frac{T}{N_{\\boldsymbol{k}}} \\sum_{m,\\boldsymbol{q}} \\chi_{\\mathrm{sp}} &= \\left\\langle (n_{\\uparrow} - n_{\\downarrow})^2\\right\\rangle = n - 2\\langle n_{\\uparrow}n_{\\downarrow}\\rangle\\;,\\\\\n",
    "    2 \\frac{T}{N_{\\boldsymbol{k}}} \\sum_{m,\\boldsymbol{q}} \\chi_{\\mathrm{ch}} &= \\left\\langle (n_{\\uparrow} + n_{\\downarrow})^2\\right\\rangle - \\left\\langle n_{\\uparrow} + n_{\\downarrow}\\right\\rangle^2 =  n + 2\\langle n_{\\uparrow}n_{\\downarrow}\\rangle - n^2\\;.\n",
    "\\end{align}\n",
    "$$\n",
    "\n",
    "Both sum rules can be exactly derived from the Pauli principle ($\\langle n^2\\rangle = \\langle n\\rangle$). In principle, we could now determine $U_{\\mathrm{sp}}$ and $U_{\\mathrm{ch}}$ from local-spin and local-charge sum rule if we knew the double occupancy $\\langle n_{\\uparrow}n_{\\downarrow}\\rangle$. TPSC makes the ansatz\n",
    "\n",
    "$$ U_{\\mathrm{sp}}\\langle n_{\\uparrow}\\rangle\\langle n_{\\downarrow}\\rangle = U_{\\mathrm{sp}}\\frac{n^2}{4} = U\\langle n_{\\uparrow}n_{\\downarrow}\\rangle\\;,$$ \n",
    "\n",
    "which reproduces Kanamori-Brueckner type screening. The four equations above form a set of self-consistent equations for either $U_{\\mathrm{sp}}$ or equivalently $\\langle n_{\\uparrow}n_{\\downarrow}\\rangle$. In practice, we treat $U_{\\mathrm{sp}}$ as the parameter to be determined self-consistently by inserting the ansatz in the local-spin sum rule. Effectively, we then need to find the root of the function\n",
    "\n",
    "$$ f(U_{\\mathrm{sp}}) = 2\\frac{T}{N_{\\boldsymbol{k}}} \\sum_{m,\\boldsymbol{q}}\\chi_{\\mathrm{sp}}(U_{\\mathrm{sp}}) - n + \\frac{U_{\\mathrm{sp}}}{2U}n^2\\;. $$\n",
    "\n",
    "Afterwards we can calculate the double occupancy $\\langle n_{\\uparrow}n_{\\downarrow}\\rangle = \\frac{U_{\\mathrm{sp}}}{4U} n^2$ and then perform a similar root finding for $U_{\\mathrm{ch}}$ from the function \n",
    "\n",
    "$$ g(U_{\\mathrm{ch}}) = 2 \\frac{T}{N_{\\boldsymbol{k}}} \\sum_{m,\\boldsymbol{q}} \\chi_{\\mathrm{ch}}(U_{\\mathrm{ch}}) - n - 2\\langle n_{\\uparrow}n_{\\downarrow}\\rangle^2 + n^2\\;. $$\n",
    "\n",
    "In TPSC, a self-energy $\\Sigma$ can be derived that is calculated from the interaction {cite:p}`Moukouri2000`\n",
    "\n",
    "$$ V(i\\nu_m, \\boldsymbol{q}) = \\frac{U}{4} \\left(3 U_{\\mathrm{sp}} \\chi_{\\mathrm{s}}(i\\nu_m, \\boldsymbol{q}) + U_{\\mathrm{ch}} \\chi_{\\mathrm{ch}}(i\\nu_m, \\boldsymbol{q})\\right) + U\\;. $$\n",
    "\n",
    "The self-energy itself is given by a convolution in $(i\\omega_n, \\boldsymbol{k})$ space\n",
    "\n",
    "$$ \\Sigma(i\\omega_n, \\boldsymbol{k}) = \\frac{T}{N_{\\boldsymbol{k}}} \\sum_{m,\\boldsymbol{q}} V(i\\nu_m, \\boldsymbol{q}) G(i\\omega_n - i\\nu_m, \\boldsymbol{k} - \\boldsymbol{q}) $$\n",
    "\n",
    "which Fourier transformed to $(\\tau,\\boldsymbol{r})$ space takes the form\n",
    "\n",
    "$$ \\Sigma(\\tau, \\boldsymbol{r}) = V(\\tau, \\boldsymbol{r}) G(\\tau, \\boldsymbol{r})\\;. $$ \n",
    "\n",
    "The interacting Green function is determined by the Dyson equation\n",
    "\n",
    "$$\n",
    "\\begin{align}\n",
    "G(i\\omega_n,\\boldsymbol{k}) &= [G_0^{-1}(i\\omega_n,\\boldsymbol{k}) - \\Sigma(i\\omega_n,\\boldsymbol{k})]^{-1} \\\\\n",
    "& = [i\\omega_n - (\\varepsilon_{\\boldsymbol{k}}-\\mu)) - \\Sigma(i\\omega_n,\\boldsymbol{k})]^{-1}.\n",
    "\\end{align}\n",
    "$$\n",
    "\n",
    "\n",
    "\n",
    "#### Practical implementation\n",
    "When implementing the TPSC, a few points need to be treated carefully which we discuss in the following.\n",
    "\n",
    "* The constant Hartree term $V_{\\mathrm{H}} = U$ in the interaction $V$ and respective self-energy term $\\Sigma_H = U n_{\\sigma} = U\\frac{n}{2}$ can be absorbed into the definition of the chemical potential $\\mu$.\n",
    "* An upper bound for the renormalized spin vertex $U_{\\mathrm{sp}}$ exists. Since the denominator spin susceptibility $\\chi_{\\mathrm{sp}}$ should not diverge, the upper bound is given by the RPA critical interaction value $U_{\\mathrm{crit}} = 1/\\mathrm{max}\\{\\chi^0\\}$. Mathematically, the function $f(U_{\\mathrm{sp}}) = 2\\sum \\chi_{\\mathrm{sp}}(U_{\\mathrm{sp}}) - n + \\frac{U_{\\mathrm{sp}}}{2U}n^2$, from which $U_{\\mathrm{sp}}$ is determined, turns unstable for $U_{\\mathrm{sp}} \\geq U_{\\mathrm{crit}}$ (try plotting $f(U_{\\mathrm{sp}})$!). At this point, TPSC is not applicable and, e.g., the temperature $T$ is too low or the (unrenormalized) interaction $U$ too large.\n",
    "* An internal accuracy check $\\frac{1}{2}\\mathrm{Tr}(\\Sigma G) = U \\langle n_{\\uparrow} n_{\\downarrow}\\rangle$ can be employed to test the validity of TPSC."
   ]
  },
  {
   "cell_type": "markdown",
   "id": "30ca3b26",
   "metadata": {},
   "source": [
    "## Code implementation\n",
    "We are implementing TPSC for the simple case of a square lattice model with dispersion $\\varepsilon_{\\boldsymbol{k}} = -2t\\,[\\cos(k_x) + \\cos(k_y)]$ with nearest-neighbor hopping $t$ which sets the energy scale of our system (bandwidth $W = 8t$). First, we load all necessary basic modules that we are going to need in implementing TPSC and visualizing results:"
   ]
  },
  {
   "cell_type": "code",
   "execution_count": 1,
   "id": "d3f9a8a2",
   "metadata": {},
   "outputs": [],
   "source": [
    "import numpy as np\n",
    "import scipy as sc\n",
    "import scipy.optimize\n",
    "from warnings import warn\n",
    "import sparse_ir\n",
    "%matplotlib inline\n",
    "import matplotlib.pyplot as plt"
   ]
  },
  {
   "cell_type": "markdown",
   "id": "b3cfba5d",
   "metadata": {},
   "source": [
    "#### Parameter setting"
   ]
  },
  {
   "cell_type": "code",
   "execution_count": 2,
   "id": "450fbbff",
   "metadata": {},
   "outputs": [],
   "source": [
    "### System parameters\n",
    "t    = 1      # hopping amplitude\n",
    "W    = 8*t    # bandwidth\n",
    "wmax = 10     # set wmax >= W\n",
    "\n",
    "T    = 0.1    # temperature\n",
    "beta = 1/T    # inverse temperature\n",
    "n    = 0.85   # electron filling, here per spin per lattice site (n=1: half filling)\n",
    "U    = 4      # Hubbard interaction\n",
    "\n",
    "### Numerical parameters\n",
    "nk1, nk2  = 24, 24    # number of k_points along one repiprocal crystal lattice direction k1 = kx, k2 = ky\n",
    "nk        = nk1*nk2\n",
    "IR_tol    = 1e-10     # accuary for l-cutoff of IR basis functions"
   ]
  },
  {
   "cell_type": "markdown",
   "id": "265e7acd",
   "metadata": {},
   "source": [
    "#### Generating meshes\n",
    "We need to generate a $\\boldsymbol{k}$-mesh as well as set up the IR basis functions on a sparse $\\tau$ and $i\\omega_n$ grid. Then we can calculate the dispersion on this mesh.\n",
    "In addition, we set calculation routines to Fourier transform $k\\leftrightarrow r$ and $\\tau\\leftrightarrow i\\omega_n$ (via IR basis)."
   ]
  },
  {
   "cell_type": "code",
   "execution_count": 3,
   "id": "020ebb9f",
   "metadata": {},
   "outputs": [],
   "source": [
    "#### Initiate fermionic and bosonic IR basis objects\n",
    "IR_basis_set = sparse_ir.FiniteTempBasisSet(beta, wmax, eps=IR_tol)\n",
    "\n",
    "class Mesh:\n",
    "    \"\"\"\n",
    "    Holding class for k-mesh and sparsely sampled imaginary time 'tau' / Matsubara frequency 'iw_n' grids.\n",
    "    Additionally it defines the Fourier transform routines 'r <-> k'  and 'tau <-> l <-> wn'.\n",
    "    \"\"\"\n",
    "    def __init__(self,IR_basis_set,nk1,nk2):\n",
    "        self.IR_basis_set = IR_basis_set\n",
    "\n",
    "        # generate k-mesh and dispersion\n",
    "        self.nk1, self.nk2, self.nk = nk1, nk2, nk1*nk2\n",
    "        self.k1, self.k2 = np.meshgrid(np.arange(self.nk1)/self.nk1, np.arange(self.nk2)/self.nk2)\n",
    "        self.ek = -2*t*( np.cos(2*np.pi*self.k1) + np.cos(2*np.pi*self.k2) ).reshape(nk)\n",
    "\n",
    "        # lowest Matsubara frequency index\n",
    "        self.iw0_f = np.where(self.IR_basis_set.wn_f == 1)[0][0]\n",
    "        self.iw0_b = np.where(self.IR_basis_set.wn_b == 0)[0][0]\n",
    "\n",
    "        ### Generate a frequency-momentum grid for iw_n and ek (in preparation for calculating the Green function)\n",
    "        # frequency mesh (for Green function)\n",
    "        self.iwn_f = 1j * self.IR_basis_set.wn_f * np.pi * T\n",
    "        self.iwn_f_ = np.tensordot(self.iwn_f, np.ones(nk), axes=0)\n",
    "\n",
    "        # ek mesh\n",
    "        self.ek_ = np.tensordot(np.ones(len(self.iwn_f)), self.ek, axes=0)\n",
    "\n",
    "    def smpl_obj(self, statistics):\n",
    "        \"\"\" Return sampling object for given statistic \"\"\"\n",
    "        smpl_tau = {'F': self.IR_basis_set.smpl_tau_f, 'B': self.IR_basis_set.smpl_tau_b}[statistics]\n",
    "        smpl_wn  = {'F': self.IR_basis_set.smpl_wn_f,  'B': self.IR_basis_set.smpl_wn_b }[statistics]\n",
    "        return smpl_tau, smpl_wn\n",
    "\n",
    "    \n",
    "    def tau_to_wn(self, statistics, obj_tau):\n",
    "        \"\"\" Fourier transform from tau to iw_n via IR basis \"\"\"\n",
    "        smpl_tau, smpl_wn = self.smpl_obj(statistics)\n",
    "\n",
    "        obj_tau = obj_tau.reshape((smpl_tau.tau.size, self.nk1, self.nk2))\n",
    "        obj_l   = smpl_tau.fit(obj_tau, axis=0)\n",
    "        obj_wn  = smpl_wn.evaluate(obj_l, axis=0).reshape((smpl_wn.wn.size, self.nk))\n",
    "        return obj_wn\n",
    "\n",
    "    def wn_to_tau(self, statistics, obj_wn):\n",
    "        \"\"\" Fourier transform from tau to iw_n via IR basis \"\"\"\n",
    "        smpl_tau, smpl_wn = self.smpl_obj(statistics)\n",
    "\n",
    "        obj_wn  = obj_wn.reshape((smpl_wn.wn.size, self.nk1, self.nk2))\n",
    "        obj_l   = smpl_wn.fit(obj_wn, axis=0)\n",
    "        obj_tau = smpl_tau.evaluate(obj_l, axis=0).reshape((smpl_tau.tau.size, self.nk))\n",
    "        return obj_tau\n",
    "\n",
    "    \n",
    "    def k_to_r(self,obj_k):\n",
    "        \"\"\" Fourier transform from k-space to real space \"\"\"\n",
    "        obj_k = obj_k.reshape(-1, self.nk1, self.nk2)\n",
    "        obj_r = np.fft.fftn(obj_k,axes=(1,2))\n",
    "        obj_r = obj_r.reshape(-1, self.nk)\n",
    "        return obj_r\n",
    "\n",
    "    def r_to_k(self,obj_r):\n",
    "        \"\"\" Fourier transform from real space to k-space \"\"\"\n",
    "        obj_r = obj_r.reshape(-1, self.nk1, self.nk2)\n",
    "        obj_k = np.fft.ifftn(obj_r,axes=(1,2))/self.nk\n",
    "        obj_k = obj_k.reshape(-1, self.nk)\n",
    "        return obj_k"
   ]
  },
  {
   "cell_type": "markdown",
   "id": "ed3892b0",
   "metadata": {},
   "source": [
    "#### TPSC solver\n",
    "We wrap the calculation steps of TPSC (i.e. determining $U_{\\mathrm{sp}},U_{\\mathrm{ch}}$) in a Solver class. We use the `Mesh` class defined above to perform calculation steps."
   ]
  },
  {
   "cell_type": "code",
   "execution_count": 4,
   "id": "a77b80b4",
   "metadata": {},
   "outputs": [],
   "source": [
    "class TPSCSolver:\n",
    "    def __init__(self, mesh, U, n, U_sfc_tol=1e-12, verbose=True):\n",
    "        \"\"\"\n",
    "        Solver class to calculate the TPSC method.\n",
    "        After initializing the Solver by `solver = TPSCSolver(mesh, U, n, **kwargs)` it \n",
    "        can be run by `solver.solve()`.\n",
    "        \"\"\"\n",
    "        ## set internal parameters for the solve \n",
    "        self.U = U\n",
    "        self.n = n\n",
    "        self.mesh = mesh\n",
    "        self.U_sfc_tol = U_sfc_tol\n",
    "        self.verbose = verbose\n",
    "        \n",
    "        ## set initial Green function and irreducible susceptibility\n",
    "        # NOT running the TPSCSolver.solve instance corresponds to staying on RPA level\n",
    "        self.sigma = 0\n",
    "        \n",
    "        self.mu = 0\n",
    "        self.mu_calc()\n",
    "        \n",
    "        self.gkio_calc(self.mu)\n",
    "        self.grit_calc()\n",
    "        self.ckio_calc()\n",
    "        \n",
    "        # determine critical U_crit = 1/max(chi0) as an upper bound to U_sp\n",
    "        self.U_crit = 1/np.amax(self.ckio.real)\n",
    "    \n",
    "    \n",
    "    #%%%%%%%%%%% Solving instance\n",
    "    def solve(self):\n",
    "        \"\"\"\n",
    "        Determine spin and charge vertex self-consistently from sum rules and calculate self-energy.\n",
    "        \"\"\"\n",
    "        # determine spin vertex U_sp\n",
    "        self.spin_vertex_calc()\n",
    "        \n",
    "        # set double occupancy from Kanamori-Bruckner screening\n",
    "        self.docc_calc()\n",
    " \n",
    "        # determine charge vertex U_ch\n",
    "        self.charge_vertex_calc()\n",
    "        \n",
    "        # set spin and charge susceptibility\n",
    "        self.chi_spin   = self.RPA_term_calc( self.U_sp)\n",
    "        self.chi_charge = self.RPA_term_calc(-self.U_ch)\n",
    "\n",
    "        # calculate interaction, self-energy and interacting Green function\n",
    "        self.V_calc()\n",
    "        self.sigma_calc()\n",
    "        self.mu_calc()\n",
    "        self.gkio_calc(self.mu)\n",
    "    \n",
    "    #%%%%%%%%%%% Calculation steps for self.energy\n",
    "    def gkio_calc(self, mu):\n",
    "        \"\"\" Calculate Green function G(iw,k) \"\"\"\n",
    "        self.gkio = (self.mesh.iwn_f_ - (self.mesh.ek_ - mu) - self.sigma)**(-1)\n",
    "\n",
    "    def grit_calc(self):\n",
    "        \"\"\" Calculate real space Green function G(tau,r) [for calculating chi0 and sigma] \"\"\"\n",
    "        # Fourier transform\n",
    "        grit = self.mesh.k_to_r(self.gkio)\n",
    "        self.grit = self.mesh.wn_to_tau('F', grit)\n",
    "\n",
    "    def ckio_calc(self):\n",
    "        \"\"\" Calculate irreducible susciptibility chi0(iv,q) \"\"\"\n",
    "        ckio = self.grit * self.grit[::-1, :]\n",
    "\n",
    "        # Fourier transform\n",
    "        ckio = self.mesh.r_to_k(ckio)\n",
    "        self.ckio = self.mesh.tau_to_wn('B', ckio)\n",
    "\n",
    "    def V_calc(self):\n",
    "        \"\"\" Calculate interaction V(tau,r) from RPA-like spin and charge susceptibility \"\"\"\n",
    "        V = self.U/4 * (3*self.U_sp*self.chi_spin + self.U_ch*self.chi_charge)\n",
    "        # Constant Hartree Term V ~ U needs to be treated extra, since they cannot be modeled by the IR basis.\n",
    "        # In the single-band case, the Hartree term can be absorbed into the chemical potential.\n",
    "\n",
    "        # Fourier transform\n",
    "        V = self.mesh.k_to_r(V)\n",
    "        self.V = self.mesh.wn_to_tau('B', V)\n",
    "\n",
    "    def sigma_calc(self):\n",
    "        \"\"\" Calculate self-energy Sigma(iwn,k) \"\"\"\n",
    "        sigma = self.V * self.grit\n",
    "    \n",
    "        # Fourier transform\n",
    "        sigma = self.mesh.r_to_k(sigma)\n",
    "        self.sigma = self.mesh.tau_to_wn('F', sigma)\n",
    "\n",
    "\n",
    "    #%%%%%%%%%%% Determining spin and charge vertex\n",
    "    def RPA_term_calc(self, U):\n",
    "        \"\"\" Set RPA-like susceptibility \"\"\"\n",
    "        chi_RPA = self.ckio / (1 - U*self.ckio)\n",
    "        return chi_RPA     \n",
    "    \n",
    "    def chi_qtrace_calc(self, U):\n",
    "        \"\"\" Calculate (iv_m, q) trace of chi_RPA term \"\"\"\n",
    "        # chi_qtrace = sum_(m,q) chi(iv_m,q)\n",
    "        chi_RPA = self.RPA_term_calc(U)\n",
    "        chi_trace = np.sum(chi_RPA, axis=1)/self.mesh.nk\n",
    "        chi_trace_l  = self.mesh.IR_basis_set.smpl_wn_b.fit(chi_trace)\n",
    "        chi_trace = self.mesh.IR_basis_set.basis_b.u(0)@chi_trace_l\n",
    "        return chi_trace.real\n",
    "    \n",
    "    def docc_calc(self):\n",
    "        \"\"\" Calculate double occupancy from Kanamori-Bruckner type screening \"\"\"\n",
    "        self.docc = 0.25 * self.U_sp/self.U * self.n**2\n",
    "    \n",
    "    def spin_vertex_calc(self):\n",
    "        \"\"\" Determine self-consistently from sum rule \"\"\"\n",
    "        # interval [U_a, U_b] for root finding\n",
    "        U_a = 0\n",
    "        U_b = np.floor(self.U_crit*100)/100\n",
    "        \n",
    "        chi_trace = self.chi_qtrace_calc\n",
    "        sfc_eq = lambda U_sp : 2*chi_trace(U_sp) - self.n + 0.5*(U_sp/self.U)*self.n**2\n",
    "\n",
    "        if sfc_eq(U_b) > 0:        \n",
    "            self.U_sp = sc.optimize.brentq(sfc_eq, U_a, U_b, rtol = self.U_sfc_tol)\n",
    "        else:\n",
    "            warn(\"System underwent phase transition, U^sp > U_crit = {}! U is too large or T too low for given doping.\".format(self.U_crit))\n",
    "    \n",
    "    def charge_vertex_calc(self):\n",
    "        \"\"\" Determine self-consistently from sum rule \"\"\"\n",
    "        # interval [U_a, U_b] for root finding\n",
    "        U_a = 0\n",
    "        U_b = 100\n",
    "        \n",
    "        chi_trace = self.chi_qtrace_calc\n",
    "        sfc_eq = lambda U_ch : 2*chi_trace(-U_ch) - self.n + (1 - 2*self.docc)*self.n**2\n",
    "\n",
    "        self.U_ch = sc.optimize.brentq(sfc_eq, U_a, U_b, rtol = self.U_sfc_tol)\n",
    "\n",
    "        \n",
    "    #%%%%%%%%%%% Setting chemical potential mu\n",
    "    def calc_electron_density(self, mu):\n",
    "        \"\"\" Calculate chemical potential mu from Green function \"\"\"\n",
    "        self.gkio_calc(mu)\n",
    "        gio  = np.sum(self.gkio,axis=1)/self.mesh.nk\n",
    "        g_l  = self.mesh.IR_basis_set.smpl_wn_f.fit(gio)\n",
    "        g_tau0 = self.mesh.IR_basis_set.basis_f.u(0)@g_l\n",
    "    \n",
    "        n  = 1 + np.real(g_tau0)\n",
    "        n  = 2*n #for spin\n",
    "        return n\n",
    "\n",
    "    def mu_calc(self):\n",
    "        \"\"\" Find chemical potential for a given filling n0 via brentq root finding algorithm \"\"\"\n",
    "        n_calc = self.calc_electron_density\n",
    "        n0 = self.n\n",
    "        f  = lambda mu : n_calc(mu) - n0\n",
    "\n",
    "        self.mu = sc.optimize.brentq(f, np.amax(self.mesh.ek)*3, np.amin(self.mesh.ek)*3)"
   ]
  },
  {
   "cell_type": "markdown",
   "id": "88d2c6c2",
   "metadata": {},
   "source": [
    "### Execute TPSC solver"
   ]
  },
  {
   "cell_type": "code",
   "execution_count": 5,
   "id": "8b1d9343",
   "metadata": {
    "tags": [
     "output_scroll"
    ]
   },
   "outputs": [],
   "source": [
    "# initialize calculation\n",
    "IR_basis_set = sparse_ir.FiniteTempBasisSet(beta, wmax, eps=IR_tol)\n",
    "mesh = Mesh(IR_basis_set, nk1, nk2)\n",
    "solver = TPSCSolver(mesh, U, n)\n",
    "\n",
    "# perform TPSC calculations\n",
    "solver.solve()"
   ]
  },
  {
   "cell_type": "markdown",
   "id": "1e47d8dc",
   "metadata": {
    "tags": []
   },
   "source": [
    "#### Visualize results"
   ]
  },
  {
   "cell_type": "code",
   "execution_count": 6,
   "id": "5c7897d6",
   "metadata": {},
   "outputs": [
    {
     "data": {
      "image/png": "[encoded data removed]",
      "text/plain": [
       "<Figure size 432x288 with 2 Axes>"
      ]
     },
     "metadata": {
      "filenames": {
       "image/png": "/home/runner/work/sparse-ir-tutorial/sparse-ir-tutorial/_build/jupyter_execute/src/TPSC_py_12_0.png"
      },
      "needs_background": "light"
     },
     "output_type": "display_data"
    }
   ],
   "source": [
    "# plot 2D k-dependence of lowest Matsubara frequency of e.g. green function\n",
    "plt.pcolormesh(2*mesh.k1.reshape(nk1,nk2), 2*mesh.k2.reshape(nk1,nk2), np.real(solver.gkio[mesh.iw0_f].reshape(mesh.nk1,mesh.nk2)), shading='auto')\n",
    "ax = plt.gca()\n",
    "ax.set_xlabel('$k_x/\\pi$')\n",
    "ax.set_xlim([0,2])\n",
    "ax.set_ylabel('$k_y/\\pi$')\n",
    "ax.set_ylim([0,2])\n",
    "ax.set_aspect('equal')\n",
    "plt.colorbar()\n",
    "plt.show()"
   ]
  },
  {
   "cell_type": "code",
   "execution_count": 7,
   "id": "d0d73563",
   "metadata": {},
   "outputs": [
    {
     "data": {
      "image/png": "[encoded data removed]",
      "text/plain": [
       "<Figure size 432x288 with 2 Axes>"
      ]
     },
     "metadata": {
      "filenames": {
       "image/png": "/home/runner/work/sparse-ir-tutorial/sparse-ir-tutorial/_build/jupyter_execute/src/TPSC_py_13_0.png"
      },
      "needs_background": "light"
     },
     "output_type": "display_data"
    }
   ],
   "source": [
    "# plot 2D k-dependence of lowest Matsubara frequency of e.g. self-energy\n",
    "plt.pcolormesh(2*mesh.k1.reshape(nk1,nk2), 2*mesh.k2.reshape(nk1,nk2), np.imag(solver.sigma[mesh.iw0_f].reshape(mesh.nk1,mesh.nk2)), shading='auto')\n",
    "ax = plt.gca()\n",
    "ax.set_xlabel('$k_x/\\pi$')\n",
    "ax.set_xlim([0,2])\n",
    "ax.set_ylabel('$k_y/\\pi$')\n",
    "ax.set_ylim([0,2])\n",
    "ax.set_aspect('equal')\n",
    "plt.colorbar()\n",
    "plt.show()"
   ]
  },
  {
   "cell_type": "code",
   "execution_count": 8,
   "id": "90ffdd68",
   "metadata": {},
   "outputs": [
    {
     "data": {
      "image/png": "[encoded data removed]",
      "text/plain": [
       "<Figure size 432x288 with 2 Axes>"
      ]
     },
     "metadata": {
      "filenames": {
       "image/png": "/home/runner/work/sparse-ir-tutorial/sparse-ir-tutorial/_build/jupyter_execute/src/TPSC_py_14_0.png"
      },
      "needs_background": "light"
     },
     "output_type": "display_data"
    }
   ],
   "source": [
    "# plot 2D k-dependence of lowest Matsubara frequency of e.g. chi_spin\n",
    "plt.pcolormesh(2*mesh.k1.reshape(nk1,nk2), 2*mesh.k2.reshape(nk1,nk2), np.real(solver.chi_spin[mesh.iw0_b].reshape(mesh.nk1,mesh.nk2)), shading='auto')\n",
    "ax = plt.gca()\n",
    "ax.set_xlabel('$k_x/\\pi$')\n",
    "ax.set_xlim([0,2])\n",
    "ax.set_ylabel('$k_y/\\pi$')\n",
    "ax.set_ylim([0,2])\n",
    "ax.set_aspect('equal')\n",
    "plt.colorbar()\n",
    "plt.show()"
   ]
  },
  {
   "cell_type": "markdown",
   "id": "2e3027f1",
   "metadata": {},
   "source": [
    "## Example: Interaction dependent renormalization\n",
    "As a simple example demonstration of our SparseIR TPSC code developed above, we will reproduce Fig. 2 of {cite:p}`Vilk97`. It shows the $U$ dependence of renormalized/effective spin and charge interactions $U_{\\mathrm{sp}}$ and $U_{\\mathrm{ch}}$ (irreducible vertices) at half filling $n=1$ and $T>T_{\\mathrm{crit}}$ for all considered $U$ (i.e. $U_{\\mathrm{sp}}<U_{\\mathrm{crit}}$ is ensured).\n",
    "\n",
    "You can simply execute the following two code blocks which will first perform the calculatn and then generate a figure like in the reference above."
   ]
  },
  {
   "cell_type": "code",
   "execution_count": 9,
   "id": "043b4926",
   "metadata": {
    "tags": []
   },
   "outputs": [
    {
     "name": "stdout",
     "output_type": "stream",
     "text": [
      "Initialization...\n"
     ]
    },
    {
     "name": "stdout",
     "output_type": "stream",
     "text": [
      "Start TPSC loop...\n"
     ]
    },
    {
     "name": "stdout",
     "output_type": "stream",
     "text": [
      "Finished. Plotting now.\n"
     ]
    },
    {
     "data": {
      "text/plain": [
       "<matplotlib.legend.Legend at 0x7fa1a52de940>"
      ]
     },
     "execution_count": 9,
     "metadata": {},
     "output_type": "execute_result"
    },
    {
     "data": {
      "image/png": "[encoded data removed]",
      "text/plain": [
       "<Figure size 432x288 with 1 Axes>"
      ]
     },
     "metadata": {
      "filenames": {
       "image/png": "/home/runner/work/sparse-ir-tutorial/sparse-ir-tutorial/_build/jupyter_execute/src/TPSC_py_16_4.png"
      },
      "needs_background": "light"
     },
     "output_type": "display_data"
    }
   ],
   "source": [
    "#%%%%%%%%%%%%%%% Parameter settings\n",
    "print('Initialization...')\n",
    "# system parameters\n",
    "t = 1         # hopping amplitude\n",
    "n = 1         # electron filling, here per spin per lattice site (n=1: half filling)\n",
    "T = 0.4       # temperature\n",
    "beta =1/T\n",
    "U_array = np.linspace(1e-10,5,51)  # Hubbard interaction\n",
    "\n",
    "W    = 8*t    # bandwidth\n",
    "wmax = 10     # set wmax >= W\n",
    "\n",
    "# numerical parameters\n",
    "nk1, nk2  = 24, 24    # k-mesh sufficiently dense!\n",
    "nk        = nk1*nk2\n",
    "IR_tol    = 1e-8      # accuary for l-cutoff of IR basis functions\n",
    "\n",
    "\n",
    "# initialize meshes\n",
    "IR_basis_set = sparse_ir.FiniteTempBasisSet(beta, wmax, eps=IR_tol)\n",
    "mesh = Mesh(IR_basis_set, nk1, nk2)\n",
    "\n",
    "# set initial self_energy - will be set to previous calculation step afterwards\n",
    "sigma_init = 0\n",
    "\n",
    "# empty arrays for results later\n",
    "U_sp_array = np.empty((len(U_array)))\n",
    "U_ch_array = np.empty((len(U_array)))\n",
    "\n",
    "\n",
    "#%%%%%%%%%%%%%%% Calculations for different U values\n",
    "print(\"Start TPSC loop...\")\n",
    "for U_it, U in enumerate(U_array):\n",
    "    #print(\"Now: U = {:.1f}\".format(U))\n",
    "    \n",
    "    # TPSC solver\n",
    "    solver = TPSCSolver(mesh, U, n, verbose=False)\n",
    "    solver.solve()\n",
    "    \n",
    "    # save data for plotting\n",
    "    U_sp_array[U_it] = solver.U_sp\n",
    "    U_ch_array[U_it] = solver.U_ch\n",
    "print(\"Finished. Plotting now.\")\n",
    "\n",
    "\n",
    "#%%%%%%%%%%%%%%%% Plot results\n",
    "plt.plot(U_array, U_ch_array, '-', label='$U_{\\mathrm{ch}}$')\n",
    "plt.plot(U_array, U_sp_array, '-', label='$U_{\\mathrm{sp}}$')\n",
    "ax = plt.gca()\n",
    "ax.set_xlabel('$U$', fontsize=12)\n",
    "ax.set_xlim([0,5])\n",
    "ax.set_ylabel('Interaction', fontsize=12)\n",
    "ax.set_ylim([0,20])\n",
    "ax.legend(frameon=False, fontsize=12)"
   ]
  },
  {
   "cell_type": "code",
   "execution_count": null,
   "id": "17e07511",
   "metadata": {},
   "outputs": [],
   "source": []
  }
 ],
 "metadata": {
  "jupytext": {
   "formats": "ipynb,md:myst",
   "text_representation": {
    "extension": ".md",
    "format_name": "myst"
   }
  },
  "kernelspec": {
   "display_name": "Python 3",
   "language": "python",
   "name": "python3"
  },
  "language_info": {
   "codemirror_mode": {
    "name": "ipython",
    "version": 3
   },
   "file_extension": ".py",
   "mimetype": "text/x-python",
   "name": "python",
   "nbconvert_exporter": "python",
   "pygments_lexer": "ipython3",
   "version": "3.8.12"
  },
  "source_map": [
   11,
   97,
   102,
   110,
   114,
   129,
   135,
   203,
   208,
   364,
   368,
   380,
   384,
   397,
   410,
   421,
   428,
   487
  ]
 },
 "nbformat": 4,
 "nbformat_minor": 5
}