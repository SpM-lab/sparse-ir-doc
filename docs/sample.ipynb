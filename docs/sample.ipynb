{
 "cells": [
  {
   "cell_type": "markdown",
   "metadata": {},
   "source": [
    "# Sample"
   ]
  },
  {
   "cell_type": "markdown",
   "metadata": {},
   "source": [
    "## Note\n",
    "* When buiding a book, jupyter notebooks are executed in a working directory and the results are cached. The original notebooks remain intact.\n",
    "* Output in your notebook will be removed automatically when commiting."
   ]
  },
  {
   "cell_type": "code",
   "execution_count": null,
   "metadata": {},
   "outputs": [],
   "source": [
    "# Common imports\n",
    "import numpy as np\n",
    "import matplotlib.pyplot as plt\n",
    "import sparse_ir"
   ]
  },
  {
   "cell_type": "code",
   "execution_count": null,
   "metadata": {},
   "outputs": [],
   "source": [
    "beta = 10.0\n",
    "wmax = 1.0\n",
    "basis = sparse_ir.FiniteTempBasis(\"F\", beta, wmax)\n",
    "# Alternatively, construct fermion & boson bases using the logistic kernel\n",
    "bases = sparse_ir.finite_temp_bases(beta, wmax)"
   ]
  },
  {
   "cell_type": "code",
   "execution_count": null,
   "metadata": {},
   "outputs": [],
   "source": [
    "print(basis.size)"
   ]
  },
  {
   "cell_type": "code",
   "execution_count": null,
   "metadata": {},
   "outputs": [],
   "source": [
    "tau = np.linspace(0, beta, 1000)\n",
    "plt.plot(tau, basis.u[-1](tau))\n",
    "plt.show() # This removes text `matplotlib.lines*` from the output cell."
   ]
  },
  {
   "cell_type": "code",
   "execution_count": null,
   "metadata": {},
   "outputs": [],
   "source": [
    "print(basis.s)"
   ]
  },
  {
   "cell_type": "markdown",
   "metadata": {},
   "source": [
    "## Citation using bibtex\n",
    "How to `` {cite:p}`Li:2020eu` `` results in {cite:p}`Li:2020eu`.\n",
    "The bib file `references.bib` is located in the top directory of the repository.\n",
    "Do not forget to add a list of references in the bottom of the page using the `{bibliography}` directive.\n",
    "\n",
    "\n",
    "Jupyter Book uses [MathJax](http://docs.mathjax.org/) for typesetting math in your HTML book build.\n",
    "This allows you to have LaTeX-style mathematics in your online content.\n",
    "This page shows you a few ways to control this.\n",
    "\n",
    ":::{seealso}\n",
    "For more information about citation,\n",
    "see the [official document](https://jupyterbook.org/tutorials/references.html?highlight=bibtex).\n",
    ":::"
   ]
  },
  {
   "cell_type": "markdown",
   "metadata": {},
   "source": [
    "## In-line math\n",
    "\n",
    "To insert in-line math use the `$` symbol within a Markdown cell.\n",
    "For example, the text `$this_{is}^{inline}$` will produce: $this_{is}^{inline}$."
   ]
  },
  {
   "cell_type": "markdown",
   "metadata": {},
   "source": [
    "## Math blocks\n",
    "\n",
    "You can also include math blocks for separate equations. This allows you to focus attention\n",
    "on more complex or longer equations, as well as link to them in your pages. To use a block\n",
    "equation, wrap the equation in either `$$` or `\\begin` statements.\n",
    "\n",
    "For example,\n",
    "\n",
    "```latex\n",
    "$$\n",
    "  \\int_0^\\infty \\frac{x^3}{e^x-1}\\,dx = \\frac{\\pi^4}{15}\n",
    "$$\n",
    "```\n",
    "\n",
    "results in:\n",
    "\n",
    "$$\n",
    "  \\int_0^\\infty \\frac{x^3}{e^x-1}\\,dx = \\frac{\\pi^4}{15}\n",
    "$$\n",
    "\n",
    "$$\n",
    "  \\int_0^\\infty \\frac{x^3}{e^x-1}\\,dx = \\frac{\\pi^4}{15}\n",
    "$$\n",
    "\n",
    "+++\n",
    "\n",
    "(md_sample:latex)=\n",
    "### Latex-style math\n",
    "\n",
    "You can use LaTeX-style math blocks.\n",
    "\n",
    "```latex\n",
    "\\begin{gather*}\n",
    "a_1=b_1+c_1\\\\\n",
    "a_2=b_2+c_2-d_2+e_2\n",
    "\\end{gather*}\n",
    "\n",
    "\\begin{align}\n",
    "a_{11}& =b_{11}&\n",
    "  a_{12}& =b_{12}\\\\\n",
    "a_{21}& =b_{21}&\n",
    "  a_{22}& =b_{22}+c_{22}\n",
    "\\end{align}\n",
    "```\n",
    "\n",
    "which results in:\n",
    "\n",
    "\\begin{gather*}\n",
    "a_1=b_1+c_1\\\\\n",
    "a_2=b_2+c_2-d_2+e_2\n",
    "\\end{gather*}\n",
    "\n",
    "\\begin{align}\n",
    "a_{11}& =b_{11}&\n",
    "  a_{12}& =b_{12}\\\\\n",
    "a_{21}& =b_{21}&\n",
    "  a_{22}& =b_{22}+c_{22}\n",
    "\\end{align}\n",
    "\n",
    ":::{seealso}\n",
    "The MyST guides to [dollar math syntax](myst-parser:syntax/math), [LaTeX math syntax](myst-parser:syntax/amsmath), and [how MyST-Parser works with MathJax](myst-parser:syntax/mathjax).\n",
    "\n",
    "For advanced use, also see how to [define MathJax TeX Macros](sphinx/tex-macros).\n",
    ":::"
   ]
  },
  {
   "cell_type": "markdown",
   "metadata": {},
   "source": [
    "\n",
    "```{bibliography}\n",
    "```"
   ]
  }
 ],
 "metadata": {
  "interpreter": {
   "hash": "b0fa6594d8f4cbf19f97940f81e996739fb7646882a419484c72d19e05852a7e"
  },
  "kernelspec": {
   "display_name": "Python 3 (ipykernel)",
   "language": "python",
   "name": "python3"
  },
  "language_info": {
   "codemirror_mode": {
    "name": "ipython",
    "version": 3
   },
   "file_extension": ".py",
   "mimetype": "text/x-python",
   "name": "python",
   "nbconvert_exporter": "python",
   "pygments_lexer": "ipython3",
   "version": "3.9.10"
  }
 },
 "nbformat": 4,
 "nbformat_minor": 4
}
